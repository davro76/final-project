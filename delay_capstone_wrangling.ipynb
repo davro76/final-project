{
  "cells": [
    {
      "cell_type": "markdown",
      "metadata": {
        "id": "view-in-github",
        "colab_type": "text"
      },
      "source": [
        "<a href=\"https://colab.research.google.com/github/davro76/final-project/blob/main/delay_capstone_wrangling.ipynb\" target=\"_parent\"><img src=\"https://colab.research.google.com/assets/colab-badge.svg\" alt=\"Open In Colab\"/></a>"
      ]
    },
    {
      "cell_type": "markdown",
      "id": "04bebb83",
      "metadata": {
        "id": "04bebb83"
      },
      "source": [
        "# Libraries and Fly Data"
      ]
    },
    {
      "cell_type": "code",
      "execution_count": 11,
      "id": "706ffa3f",
      "metadata": {
        "id": "706ffa3f"
      },
      "outputs": [],
      "source": [
        "# import required librairies and dependencies\n",
        "import pandas as pd\n",
        "from os import listdir\n",
        "from os import getcwd\n",
        "import datetime as dt\n",
        "import plotly.express as px\n",
        "import plotly.graph_objs as go\n",
        "from os.path import isfile, join\n",
        "import numpy as np\n",
        "import matplotlib.pyplot as plt\n",
        "from PIL import Image\n",
        "import seaborn as sns\n",
        "import glob\n",
        "pd.set_option('display.max_columns',100)\n",
        "import plotly.io as pio\n",
        "pio.renderers.default = \"colab\"\n",
        "%matplotlib inline"
      ]
    },
    {
      "cell_type": "code",
      "execution_count": 12,
      "id": "80f01c29",
      "metadata": {
        "colab": {
          "base_uri": "https://localhost:8080/",
          "height": 17
        },
        "id": "80f01c29",
        "outputId": "e10e9477-8291-4bf6-9f23-17492f94129b"
      },
      "outputs": [
        {
          "output_type": "display_data",
          "data": {
            "text/html": [
              "        <script type=\"text/javascript\">\n",
              "        window.PlotlyConfig = {MathJaxConfig: 'local'};\n",
              "        if (window.MathJax && window.MathJax.Hub && window.MathJax.Hub.Config) {window.MathJax.Hub.Config({SVG: {font: \"STIX-Web\"}});}\n",
              "        if (typeof require !== 'undefined') {\n",
              "        require.undef(\"plotly\");\n",
              "        requirejs.config({\n",
              "            paths: {\n",
              "                'plotly': ['https://cdn.plot.ly/plotly-2.18.2.min']\n",
              "            }\n",
              "        });\n",
              "        require(['plotly'], function(Plotly) {\n",
              "            window._Plotly = Plotly;\n",
              "        });\n",
              "        }\n",
              "        </script>\n",
              "        "
            ]
          },
          "metadata": {}
        },
        {
          "output_type": "display_data",
          "data": {
            "text/html": [
              "        <script type=\"text/javascript\">\n",
              "        window.PlotlyConfig = {MathJaxConfig: 'local'};\n",
              "        if (window.MathJax && window.MathJax.Hub && window.MathJax.Hub.Config) {window.MathJax.Hub.Config({SVG: {font: \"STIX-Web\"}});}\n",
              "        if (typeof require !== 'undefined') {\n",
              "        require.undef(\"plotly\");\n",
              "        requirejs.config({\n",
              "            paths: {\n",
              "                'plotly': ['https://cdn.plot.ly/plotly-2.18.2.min']\n",
              "            }\n",
              "        });\n",
              "        require(['plotly'], function(Plotly) {\n",
              "            window._Plotly = Plotly;\n",
              "        });\n",
              "        }\n",
              "        </script>\n",
              "        "
            ]
          },
          "metadata": {}
        }
      ],
      "source": [
        "# Make Plotly work in our Jupyter Notebook\n",
        "import cufflinks as cf\n",
        "from plotly.offline import download_plotlyjs, init_notebook_mode, plot, iplot\n",
        "init_notebook_mode(connected=True)\n",
        "# Use Plotly locally\n",
        "cf.go_offline()"
      ]
    },
    {
      "cell_type": "code",
      "execution_count": 13,
      "id": "3ae68d16",
      "metadata": {
        "id": "3ae68d16"
      },
      "outputs": [],
      "source": [
        "# Set the Environment\n",
        "# Ignore Warnings\n",
        "import warnings\n",
        "warnings.simplefilter(action='ignore', category=FutureWarning)"
      ]
    },
    {
      "cell_type": "code",
      "source": [],
      "metadata": {
        "id": "nVdis14YkVx8"
      },
      "id": "nVdis14YkVx8",
      "execution_count": 13,
      "outputs": []
    },
    {
      "cell_type": "code",
      "source": [
        "from google.colab import drive\n",
        "drive.mount('/content/drive')"
      ],
      "metadata": {
        "colab": {
          "base_uri": "https://localhost:8080/"
        },
        "id": "FvNH848oI78E",
        "outputId": "1a441e77-ff79-4278-f48a-1ccf4a13fda7"
      },
      "id": "FvNH848oI78E",
      "execution_count": 14,
      "outputs": [
        {
          "output_type": "stream",
          "name": "stdout",
          "text": [
            "Drive already mounted at /content/drive; to attempt to forcibly remount, call drive.mount(\"/content/drive\", force_remount=True).\n"
          ]
        }
      ]
    },
    {
      "cell_type": "code",
      "source": [
        "import pandas as pd"
      ],
      "metadata": {
        "id": "D5Q0wBitJmxv"
      },
      "id": "D5Q0wBitJmxv",
      "execution_count": 15,
      "outputs": []
    },
    {
      "cell_type": "code",
      "source": [
        "# string variable \"file_path\" which contains the file path to the csv file\n",
        "file_path = '/content/drive/MyDrive/airline_final'\n",
        "\n",
        "# using the \"pd.read_csv()\" method to read the contents of the csv file located at \"file_path\" and stores it in the DataFrame \"df\"\n",
        "airline_final = pd.read_csv(file_path)\n",
        "\n",
        "# using the \"drop()\" method to remove the column with the label \"Unnamed: 0\"\n",
        "airline_final = airline_final.drop('Unnamed: 0', axis=1)\n",
        "\n",
        "\n",
        "# Display the first two rows of the df DataFrame\n",
        "airline_final.head(2)\n"
      ],
      "metadata": {
        "colab": {
          "base_uri": "https://localhost:8080/",
          "height": 211
        },
        "id": "B8l_1o3YxJQr",
        "outputId": "6d8f140b-5e3d-4b76-cd1f-f9a90fb42ae4"
      },
      "id": "B8l_1o3YxJQr",
      "execution_count": 16,
      "outputs": [
        {
          "output_type": "execute_result",
          "data": {
            "text/plain": [
              "  mkt_ccode dep_airport cancel_code arr_airport day_week_name month__name  \\\n",
              "0        DL         BNA           0         MSP           Mon         Jan   \n",
              "1        DL         STL           0         MSP           Sun         Jan   \n",
              "\n",
              "     route  mkt_fl_no        date  dep_delay_time_actual  \\\n",
              "0  BNA-MSP       3975  2022-01-24                     36   \n",
              "1  STL-MSP       3714  2022-01-23                     32   \n",
              "\n",
              "   arr_delay_time_actual  mins_late_delay_code_e_carrier  \\\n",
              "0                     50                              36   \n",
              "1                     42                               0   \n",
              "\n",
              "   mins_late_delay_code_f_weather  mins_late_delay_code_g_nas  \\\n",
              "0                               0                          14   \n",
              "1                               0                          10   \n",
              "\n",
              "   mins_late_delay_code_h_security  mins_late_delay_code_i_late_arr_flight  \\\n",
              "0                                0                                       0   \n",
              "1                                0                                      32   \n",
              "\n",
              "   delay  \n",
              "0      1  \n",
              "1      1  "
            ],
            "text/html": [
              "\n",
              "  <div id=\"df-387f0cd8-5d9e-4ea4-96c4-27f74a95a216\">\n",
              "    <div class=\"colab-df-container\">\n",
              "      <div>\n",
              "<style scoped>\n",
              "    .dataframe tbody tr th:only-of-type {\n",
              "        vertical-align: middle;\n",
              "    }\n",
              "\n",
              "    .dataframe tbody tr th {\n",
              "        vertical-align: top;\n",
              "    }\n",
              "\n",
              "    .dataframe thead th {\n",
              "        text-align: right;\n",
              "    }\n",
              "</style>\n",
              "<table border=\"1\" class=\"dataframe\">\n",
              "  <thead>\n",
              "    <tr style=\"text-align: right;\">\n",
              "      <th></th>\n",
              "      <th>mkt_ccode</th>\n",
              "      <th>dep_airport</th>\n",
              "      <th>cancel_code</th>\n",
              "      <th>arr_airport</th>\n",
              "      <th>day_week_name</th>\n",
              "      <th>month__name</th>\n",
              "      <th>route</th>\n",
              "      <th>mkt_fl_no</th>\n",
              "      <th>date</th>\n",
              "      <th>dep_delay_time_actual</th>\n",
              "      <th>arr_delay_time_actual</th>\n",
              "      <th>mins_late_delay_code_e_carrier</th>\n",
              "      <th>mins_late_delay_code_f_weather</th>\n",
              "      <th>mins_late_delay_code_g_nas</th>\n",
              "      <th>mins_late_delay_code_h_security</th>\n",
              "      <th>mins_late_delay_code_i_late_arr_flight</th>\n",
              "      <th>delay</th>\n",
              "    </tr>\n",
              "  </thead>\n",
              "  <tbody>\n",
              "    <tr>\n",
              "      <th>0</th>\n",
              "      <td>DL</td>\n",
              "      <td>BNA</td>\n",
              "      <td>0</td>\n",
              "      <td>MSP</td>\n",
              "      <td>Mon</td>\n",
              "      <td>Jan</td>\n",
              "      <td>BNA-MSP</td>\n",
              "      <td>3975</td>\n",
              "      <td>2022-01-24</td>\n",
              "      <td>36</td>\n",
              "      <td>50</td>\n",
              "      <td>36</td>\n",
              "      <td>0</td>\n",
              "      <td>14</td>\n",
              "      <td>0</td>\n",
              "      <td>0</td>\n",
              "      <td>1</td>\n",
              "    </tr>\n",
              "    <tr>\n",
              "      <th>1</th>\n",
              "      <td>DL</td>\n",
              "      <td>STL</td>\n",
              "      <td>0</td>\n",
              "      <td>MSP</td>\n",
              "      <td>Sun</td>\n",
              "      <td>Jan</td>\n",
              "      <td>STL-MSP</td>\n",
              "      <td>3714</td>\n",
              "      <td>2022-01-23</td>\n",
              "      <td>32</td>\n",
              "      <td>42</td>\n",
              "      <td>0</td>\n",
              "      <td>0</td>\n",
              "      <td>10</td>\n",
              "      <td>0</td>\n",
              "      <td>32</td>\n",
              "      <td>1</td>\n",
              "    </tr>\n",
              "  </tbody>\n",
              "</table>\n",
              "</div>\n",
              "      <button class=\"colab-df-convert\" onclick=\"convertToInteractive('df-387f0cd8-5d9e-4ea4-96c4-27f74a95a216')\"\n",
              "              title=\"Convert this dataframe to an interactive table.\"\n",
              "              style=\"display:none;\">\n",
              "        \n",
              "  <svg xmlns=\"http://www.w3.org/2000/svg\" height=\"24px\"viewBox=\"0 0 24 24\"\n",
              "       width=\"24px\">\n",
              "    <path d=\"M0 0h24v24H0V0z\" fill=\"none\"/>\n",
              "    <path d=\"M18.56 5.44l.94 2.06.94-2.06 2.06-.94-2.06-.94-.94-2.06-.94 2.06-2.06.94zm-11 1L8.5 8.5l.94-2.06 2.06-.94-2.06-.94L8.5 2.5l-.94 2.06-2.06.94zm10 10l.94 2.06.94-2.06 2.06-.94-2.06-.94-.94-2.06-.94 2.06-2.06.94z\"/><path d=\"M17.41 7.96l-1.37-1.37c-.4-.4-.92-.59-1.43-.59-.52 0-1.04.2-1.43.59L10.3 9.45l-7.72 7.72c-.78.78-.78 2.05 0 2.83L4 21.41c.39.39.9.59 1.41.59.51 0 1.02-.2 1.41-.59l7.78-7.78 2.81-2.81c.8-.78.8-2.07 0-2.86zM5.41 20L4 18.59l7.72-7.72 1.47 1.35L5.41 20z\"/>\n",
              "  </svg>\n",
              "      </button>\n",
              "      \n",
              "  <style>\n",
              "    .colab-df-container {\n",
              "      display:flex;\n",
              "      flex-wrap:wrap;\n",
              "      gap: 12px;\n",
              "    }\n",
              "\n",
              "    .colab-df-convert {\n",
              "      background-color: #E8F0FE;\n",
              "      border: none;\n",
              "      border-radius: 50%;\n",
              "      cursor: pointer;\n",
              "      display: none;\n",
              "      fill: #1967D2;\n",
              "      height: 32px;\n",
              "      padding: 0 0 0 0;\n",
              "      width: 32px;\n",
              "    }\n",
              "\n",
              "    .colab-df-convert:hover {\n",
              "      background-color: #E2EBFA;\n",
              "      box-shadow: 0px 1px 2px rgba(60, 64, 67, 0.3), 0px 1px 3px 1px rgba(60, 64, 67, 0.15);\n",
              "      fill: #174EA6;\n",
              "    }\n",
              "\n",
              "    [theme=dark] .colab-df-convert {\n",
              "      background-color: #3B4455;\n",
              "      fill: #D2E3FC;\n",
              "    }\n",
              "\n",
              "    [theme=dark] .colab-df-convert:hover {\n",
              "      background-color: #434B5C;\n",
              "      box-shadow: 0px 1px 3px 1px rgba(0, 0, 0, 0.15);\n",
              "      filter: drop-shadow(0px 1px 2px rgba(0, 0, 0, 0.3));\n",
              "      fill: #FFFFFF;\n",
              "    }\n",
              "  </style>\n",
              "\n",
              "      <script>\n",
              "        const buttonEl =\n",
              "          document.querySelector('#df-387f0cd8-5d9e-4ea4-96c4-27f74a95a216 button.colab-df-convert');\n",
              "        buttonEl.style.display =\n",
              "          google.colab.kernel.accessAllowed ? 'block' : 'none';\n",
              "\n",
              "        async function convertToInteractive(key) {\n",
              "          const element = document.querySelector('#df-387f0cd8-5d9e-4ea4-96c4-27f74a95a216');\n",
              "          const dataTable =\n",
              "            await google.colab.kernel.invokeFunction('convertToInteractive',\n",
              "                                                     [key], {});\n",
              "          if (!dataTable) return;\n",
              "\n",
              "          const docLinkHtml = 'Like what you see? Visit the ' +\n",
              "            '<a target=\"_blank\" href=https://colab.research.google.com/notebooks/data_table.ipynb>data table notebook</a>'\n",
              "            + ' to learn more about interactive tables.';\n",
              "          element.innerHTML = '';\n",
              "          dataTable['output_type'] = 'display_data';\n",
              "          await google.colab.output.renderOutput(dataTable, element);\n",
              "          const docLink = document.createElement('div');\n",
              "          docLink.innerHTML = docLinkHtml;\n",
              "          element.appendChild(docLink);\n",
              "        }\n",
              "      </script>\n",
              "    </div>\n",
              "  </div>\n",
              "  "
            ]
          },
          "metadata": {},
          "execution_count": 16
        }
      ]
    },
    {
      "cell_type": "markdown",
      "id": "0fcbc4e3",
      "metadata": {
        "id": "0fcbc4e3"
      },
      "source": [
        "# Data Vizualization "
      ]
    },
    {
      "cell_type": "markdown",
      "id": "d9726b35",
      "metadata": {
        "id": "d9726b35"
      },
      "source": [
        "### Which routes are most prone to delays?"
      ]
    },
    {
      "cell_type": "code",
      "execution_count": 20,
      "id": "69c9b6a6",
      "metadata": {
        "scrolled": true,
        "colab": {
          "base_uri": "https://localhost:8080/",
          "height": 542
        },
        "id": "69c9b6a6",
        "outputId": "52a8e8cd-4194-48b3-ef8e-ed3bf4ee02ef"
      },
      "outputs": [
        {
          "output_type": "display_data",
          "data": {
            "application/vnd.plotly.v1+json": {
              "data": [
                {
                  "alignmentgroup": "True",
                  "hovertemplate": "route=%{x}<br>arr_delay_time_actual=%{y}<extra></extra>",
                  "legendgroup": "CVG-CLE",
                  "marker": {
                    "color": "#636efa",
                    "pattern": {
                      "shape": ""
                    }
                  },
                  "name": "CVG-CLE",
                  "offsetgroup": "CVG-CLE",
                  "orientation": "v",
                  "showlegend": true,
                  "textposition": "auto",
                  "x": [
                    "CVG-CLE"
                  ],
                  "xaxis": "x",
                  "y": [
                    817
                  ],
                  "yaxis": "y",
                  "type": "bar"
                },
                {
                  "alignmentgroup": "True",
                  "hovertemplate": "route=%{x}<br>arr_delay_time_actual=%{y}<extra></extra>",
                  "legendgroup": "ONT-BUR",
                  "marker": {
                    "color": "#EF553B",
                    "pattern": {
                      "shape": ""
                    }
                  },
                  "name": "ONT-BUR",
                  "offsetgroup": "ONT-BUR",
                  "orientation": "v",
                  "showlegend": true,
                  "textposition": "auto",
                  "x": [
                    "ONT-BUR"
                  ],
                  "xaxis": "x",
                  "y": [
                    675
                  ],
                  "yaxis": "y",
                  "type": "bar"
                },
                {
                  "alignmentgroup": "True",
                  "hovertemplate": "route=%{x}<br>arr_delay_time_actual=%{y}<extra></extra>",
                  "legendgroup": "DAB-DTW",
                  "marker": {
                    "color": "#00cc96",
                    "pattern": {
                      "shape": ""
                    }
                  },
                  "name": "DAB-DTW",
                  "offsetgroup": "DAB-DTW",
                  "orientation": "v",
                  "showlegend": true,
                  "textposition": "auto",
                  "x": [
                    "DAB-DTW"
                  ],
                  "xaxis": "x",
                  "y": [
                    227
                  ],
                  "yaxis": "y",
                  "type": "bar"
                },
                {
                  "alignmentgroup": "True",
                  "hovertemplate": "route=%{x}<br>arr_delay_time_actual=%{y}<extra></extra>",
                  "legendgroup": "BIL-IFP",
                  "marker": {
                    "color": "#ab63fa",
                    "pattern": {
                      "shape": ""
                    }
                  },
                  "name": "BIL-IFP",
                  "offsetgroup": "BIL-IFP",
                  "orientation": "v",
                  "showlegend": true,
                  "textposition": "auto",
                  "x": [
                    "BIL-IFP"
                  ],
                  "xaxis": "x",
                  "y": [
                    222
                  ],
                  "yaxis": "y",
                  "type": "bar"
                },
                {
                  "alignmentgroup": "True",
                  "hovertemplate": "route=%{x}<br>arr_delay_time_actual=%{y}<extra></extra>",
                  "legendgroup": "PHL-EGE",
                  "marker": {
                    "color": "#FFA15A",
                    "pattern": {
                      "shape": ""
                    }
                  },
                  "name": "PHL-EGE",
                  "offsetgroup": "PHL-EGE",
                  "orientation": "v",
                  "showlegend": true,
                  "textposition": "auto",
                  "x": [
                    "PHL-EGE"
                  ],
                  "xaxis": "x",
                  "y": [
                    215
                  ],
                  "yaxis": "y",
                  "type": "bar"
                },
                {
                  "alignmentgroup": "True",
                  "hovertemplate": "route=%{x}<br>arr_delay_time_actual=%{y}<extra></extra>",
                  "legendgroup": "EGE-PHL",
                  "marker": {
                    "color": "#19d3f3",
                    "pattern": {
                      "shape": ""
                    }
                  },
                  "name": "EGE-PHL",
                  "offsetgroup": "EGE-PHL",
                  "orientation": "v",
                  "showlegend": true,
                  "textposition": "auto",
                  "x": [
                    "EGE-PHL"
                  ],
                  "xaxis": "x",
                  "y": [
                    193
                  ],
                  "yaxis": "y",
                  "type": "bar"
                },
                {
                  "alignmentgroup": "True",
                  "hovertemplate": "route=%{x}<br>arr_delay_time_actual=%{y}<extra></extra>",
                  "legendgroup": "MIA-HSV",
                  "marker": {
                    "color": "#FF6692",
                    "pattern": {
                      "shape": ""
                    }
                  },
                  "name": "MIA-HSV",
                  "offsetgroup": "MIA-HSV",
                  "orientation": "v",
                  "showlegend": true,
                  "textposition": "auto",
                  "x": [
                    "MIA-HSV"
                  ],
                  "xaxis": "x",
                  "y": [
                    122.867
                  ],
                  "yaxis": "y",
                  "type": "bar"
                },
                {
                  "alignmentgroup": "True",
                  "hovertemplate": "route=%{x}<br>arr_delay_time_actual=%{y}<extra></extra>",
                  "legendgroup": "EGE-LGA",
                  "marker": {
                    "color": "#B6E880",
                    "pattern": {
                      "shape": ""
                    }
                  },
                  "name": "EGE-LGA",
                  "offsetgroup": "EGE-LGA",
                  "orientation": "v",
                  "showlegend": true,
                  "textposition": "auto",
                  "x": [
                    "EGE-LGA"
                  ],
                  "xaxis": "x",
                  "y": [
                    116.625
                  ],
                  "yaxis": "y",
                  "type": "bar"
                },
                {
                  "alignmentgroup": "True",
                  "hovertemplate": "route=%{x}<br>arr_delay_time_actual=%{y}<extra></extra>",
                  "legendgroup": "HDN-FLL",
                  "marker": {
                    "color": "#FF97FF",
                    "pattern": {
                      "shape": ""
                    }
                  },
                  "name": "HDN-FLL",
                  "offsetgroup": "HDN-FLL",
                  "orientation": "v",
                  "showlegend": true,
                  "textposition": "auto",
                  "x": [
                    "HDN-FLL"
                  ],
                  "xaxis": "x",
                  "y": [
                    108.5
                  ],
                  "yaxis": "y",
                  "type": "bar"
                },
                {
                  "alignmentgroup": "True",
                  "hovertemplate": "route=%{x}<br>arr_delay_time_actual=%{y}<extra></extra>",
                  "legendgroup": "MSP-RIC",
                  "marker": {
                    "color": "#FECB52",
                    "pattern": {
                      "shape": ""
                    }
                  },
                  "name": "MSP-RIC",
                  "offsetgroup": "MSP-RIC",
                  "orientation": "v",
                  "showlegend": true,
                  "textposition": "auto",
                  "x": [
                    "MSP-RIC"
                  ],
                  "xaxis": "x",
                  "y": [
                    107
                  ],
                  "yaxis": "y",
                  "type": "bar"
                }
              ],
              "layout": {
                "template": {
                  "data": {
                    "histogram2dcontour": [
                      {
                        "type": "histogram2dcontour",
                        "colorbar": {
                          "outlinewidth": 0,
                          "ticks": ""
                        },
                        "colorscale": [
                          [
                            0,
                            "#0d0887"
                          ],
                          [
                            0.1111111111111111,
                            "#46039f"
                          ],
                          [
                            0.2222222222222222,
                            "#7201a8"
                          ],
                          [
                            0.3333333333333333,
                            "#9c179e"
                          ],
                          [
                            0.4444444444444444,
                            "#bd3786"
                          ],
                          [
                            0.5555555555555556,
                            "#d8576b"
                          ],
                          [
                            0.6666666666666666,
                            "#ed7953"
                          ],
                          [
                            0.7777777777777778,
                            "#fb9f3a"
                          ],
                          [
                            0.8888888888888888,
                            "#fdca26"
                          ],
                          [
                            1,
                            "#f0f921"
                          ]
                        ]
                      }
                    ],
                    "choropleth": [
                      {
                        "type": "choropleth",
                        "colorbar": {
                          "outlinewidth": 0,
                          "ticks": ""
                        }
                      }
                    ],
                    "histogram2d": [
                      {
                        "type": "histogram2d",
                        "colorbar": {
                          "outlinewidth": 0,
                          "ticks": ""
                        },
                        "colorscale": [
                          [
                            0,
                            "#0d0887"
                          ],
                          [
                            0.1111111111111111,
                            "#46039f"
                          ],
                          [
                            0.2222222222222222,
                            "#7201a8"
                          ],
                          [
                            0.3333333333333333,
                            "#9c179e"
                          ],
                          [
                            0.4444444444444444,
                            "#bd3786"
                          ],
                          [
                            0.5555555555555556,
                            "#d8576b"
                          ],
                          [
                            0.6666666666666666,
                            "#ed7953"
                          ],
                          [
                            0.7777777777777778,
                            "#fb9f3a"
                          ],
                          [
                            0.8888888888888888,
                            "#fdca26"
                          ],
                          [
                            1,
                            "#f0f921"
                          ]
                        ]
                      }
                    ],
                    "heatmap": [
                      {
                        "type": "heatmap",
                        "colorbar": {
                          "outlinewidth": 0,
                          "ticks": ""
                        },
                        "colorscale": [
                          [
                            0,
                            "#0d0887"
                          ],
                          [
                            0.1111111111111111,
                            "#46039f"
                          ],
                          [
                            0.2222222222222222,
                            "#7201a8"
                          ],
                          [
                            0.3333333333333333,
                            "#9c179e"
                          ],
                          [
                            0.4444444444444444,
                            "#bd3786"
                          ],
                          [
                            0.5555555555555556,
                            "#d8576b"
                          ],
                          [
                            0.6666666666666666,
                            "#ed7953"
                          ],
                          [
                            0.7777777777777778,
                            "#fb9f3a"
                          ],
                          [
                            0.8888888888888888,
                            "#fdca26"
                          ],
                          [
                            1,
                            "#f0f921"
                          ]
                        ]
                      }
                    ],
                    "heatmapgl": [
                      {
                        "type": "heatmapgl",
                        "colorbar": {
                          "outlinewidth": 0,
                          "ticks": ""
                        },
                        "colorscale": [
                          [
                            0,
                            "#0d0887"
                          ],
                          [
                            0.1111111111111111,
                            "#46039f"
                          ],
                          [
                            0.2222222222222222,
                            "#7201a8"
                          ],
                          [
                            0.3333333333333333,
                            "#9c179e"
                          ],
                          [
                            0.4444444444444444,
                            "#bd3786"
                          ],
                          [
                            0.5555555555555556,
                            "#d8576b"
                          ],
                          [
                            0.6666666666666666,
                            "#ed7953"
                          ],
                          [
                            0.7777777777777778,
                            "#fb9f3a"
                          ],
                          [
                            0.8888888888888888,
                            "#fdca26"
                          ],
                          [
                            1,
                            "#f0f921"
                          ]
                        ]
                      }
                    ],
                    "contourcarpet": [
                      {
                        "type": "contourcarpet",
                        "colorbar": {
                          "outlinewidth": 0,
                          "ticks": ""
                        }
                      }
                    ],
                    "contour": [
                      {
                        "type": "contour",
                        "colorbar": {
                          "outlinewidth": 0,
                          "ticks": ""
                        },
                        "colorscale": [
                          [
                            0,
                            "#0d0887"
                          ],
                          [
                            0.1111111111111111,
                            "#46039f"
                          ],
                          [
                            0.2222222222222222,
                            "#7201a8"
                          ],
                          [
                            0.3333333333333333,
                            "#9c179e"
                          ],
                          [
                            0.4444444444444444,
                            "#bd3786"
                          ],
                          [
                            0.5555555555555556,
                            "#d8576b"
                          ],
                          [
                            0.6666666666666666,
                            "#ed7953"
                          ],
                          [
                            0.7777777777777778,
                            "#fb9f3a"
                          ],
                          [
                            0.8888888888888888,
                            "#fdca26"
                          ],
                          [
                            1,
                            "#f0f921"
                          ]
                        ]
                      }
                    ],
                    "surface": [
                      {
                        "type": "surface",
                        "colorbar": {
                          "outlinewidth": 0,
                          "ticks": ""
                        },
                        "colorscale": [
                          [
                            0,
                            "#0d0887"
                          ],
                          [
                            0.1111111111111111,
                            "#46039f"
                          ],
                          [
                            0.2222222222222222,
                            "#7201a8"
                          ],
                          [
                            0.3333333333333333,
                            "#9c179e"
                          ],
                          [
                            0.4444444444444444,
                            "#bd3786"
                          ],
                          [
                            0.5555555555555556,
                            "#d8576b"
                          ],
                          [
                            0.6666666666666666,
                            "#ed7953"
                          ],
                          [
                            0.7777777777777778,
                            "#fb9f3a"
                          ],
                          [
                            0.8888888888888888,
                            "#fdca26"
                          ],
                          [
                            1,
                            "#f0f921"
                          ]
                        ]
                      }
                    ],
                    "mesh3d": [
                      {
                        "type": "mesh3d",
                        "colorbar": {
                          "outlinewidth": 0,
                          "ticks": ""
                        }
                      }
                    ],
                    "scatter": [
                      {
                        "fillpattern": {
                          "fillmode": "overlay",
                          "size": 10,
                          "solidity": 0.2
                        },
                        "type": "scatter"
                      }
                    ],
                    "parcoords": [
                      {
                        "type": "parcoords",
                        "line": {
                          "colorbar": {
                            "outlinewidth": 0,
                            "ticks": ""
                          }
                        }
                      }
                    ],
                    "scatterpolargl": [
                      {
                        "type": "scatterpolargl",
                        "marker": {
                          "colorbar": {
                            "outlinewidth": 0,
                            "ticks": ""
                          }
                        }
                      }
                    ],
                    "bar": [
                      {
                        "error_x": {
                          "color": "#2a3f5f"
                        },
                        "error_y": {
                          "color": "#2a3f5f"
                        },
                        "marker": {
                          "line": {
                            "color": "#E5ECF6",
                            "width": 0.5
                          },
                          "pattern": {
                            "fillmode": "overlay",
                            "size": 10,
                            "solidity": 0.2
                          }
                        },
                        "type": "bar"
                      }
                    ],
                    "scattergeo": [
                      {
                        "type": "scattergeo",
                        "marker": {
                          "colorbar": {
                            "outlinewidth": 0,
                            "ticks": ""
                          }
                        }
                      }
                    ],
                    "scatterpolar": [
                      {
                        "type": "scatterpolar",
                        "marker": {
                          "colorbar": {
                            "outlinewidth": 0,
                            "ticks": ""
                          }
                        }
                      }
                    ],
                    "histogram": [
                      {
                        "marker": {
                          "pattern": {
                            "fillmode": "overlay",
                            "size": 10,
                            "solidity": 0.2
                          }
                        },
                        "type": "histogram"
                      }
                    ],
                    "scattergl": [
                      {
                        "type": "scattergl",
                        "marker": {
                          "colorbar": {
                            "outlinewidth": 0,
                            "ticks": ""
                          }
                        }
                      }
                    ],
                    "scatter3d": [
                      {
                        "type": "scatter3d",
                        "line": {
                          "colorbar": {
                            "outlinewidth": 0,
                            "ticks": ""
                          }
                        },
                        "marker": {
                          "colorbar": {
                            "outlinewidth": 0,
                            "ticks": ""
                          }
                        }
                      }
                    ],
                    "scattermapbox": [
                      {
                        "type": "scattermapbox",
                        "marker": {
                          "colorbar": {
                            "outlinewidth": 0,
                            "ticks": ""
                          }
                        }
                      }
                    ],
                    "scatterternary": [
                      {
                        "type": "scatterternary",
                        "marker": {
                          "colorbar": {
                            "outlinewidth": 0,
                            "ticks": ""
                          }
                        }
                      }
                    ],
                    "scattercarpet": [
                      {
                        "type": "scattercarpet",
                        "marker": {
                          "colorbar": {
                            "outlinewidth": 0,
                            "ticks": ""
                          }
                        }
                      }
                    ],
                    "carpet": [
                      {
                        "aaxis": {
                          "endlinecolor": "#2a3f5f",
                          "gridcolor": "white",
                          "linecolor": "white",
                          "minorgridcolor": "white",
                          "startlinecolor": "#2a3f5f"
                        },
                        "baxis": {
                          "endlinecolor": "#2a3f5f",
                          "gridcolor": "white",
                          "linecolor": "white",
                          "minorgridcolor": "white",
                          "startlinecolor": "#2a3f5f"
                        },
                        "type": "carpet"
                      }
                    ],
                    "table": [
                      {
                        "cells": {
                          "fill": {
                            "color": "#EBF0F8"
                          },
                          "line": {
                            "color": "white"
                          }
                        },
                        "header": {
                          "fill": {
                            "color": "#C8D4E3"
                          },
                          "line": {
                            "color": "white"
                          }
                        },
                        "type": "table"
                      }
                    ],
                    "barpolar": [
                      {
                        "marker": {
                          "line": {
                            "color": "#E5ECF6",
                            "width": 0.5
                          },
                          "pattern": {
                            "fillmode": "overlay",
                            "size": 10,
                            "solidity": 0.2
                          }
                        },
                        "type": "barpolar"
                      }
                    ],
                    "pie": [
                      {
                        "automargin": true,
                        "type": "pie"
                      }
                    ]
                  },
                  "layout": {
                    "autotypenumbers": "strict",
                    "colorway": [
                      "#636efa",
                      "#EF553B",
                      "#00cc96",
                      "#ab63fa",
                      "#FFA15A",
                      "#19d3f3",
                      "#FF6692",
                      "#B6E880",
                      "#FF97FF",
                      "#FECB52"
                    ],
                    "font": {
                      "color": "#2a3f5f"
                    },
                    "hovermode": "closest",
                    "hoverlabel": {
                      "align": "left"
                    },
                    "paper_bgcolor": "white",
                    "plot_bgcolor": "#E5ECF6",
                    "polar": {
                      "bgcolor": "#E5ECF6",
                      "angularaxis": {
                        "gridcolor": "white",
                        "linecolor": "white",
                        "ticks": ""
                      },
                      "radialaxis": {
                        "gridcolor": "white",
                        "linecolor": "white",
                        "ticks": ""
                      }
                    },
                    "ternary": {
                      "bgcolor": "#E5ECF6",
                      "aaxis": {
                        "gridcolor": "white",
                        "linecolor": "white",
                        "ticks": ""
                      },
                      "baxis": {
                        "gridcolor": "white",
                        "linecolor": "white",
                        "ticks": ""
                      },
                      "caxis": {
                        "gridcolor": "white",
                        "linecolor": "white",
                        "ticks": ""
                      }
                    },
                    "coloraxis": {
                      "colorbar": {
                        "outlinewidth": 0,
                        "ticks": ""
                      }
                    },
                    "colorscale": {
                      "sequential": [
                        [
                          0,
                          "#0d0887"
                        ],
                        [
                          0.1111111111111111,
                          "#46039f"
                        ],
                        [
                          0.2222222222222222,
                          "#7201a8"
                        ],
                        [
                          0.3333333333333333,
                          "#9c179e"
                        ],
                        [
                          0.4444444444444444,
                          "#bd3786"
                        ],
                        [
                          0.5555555555555556,
                          "#d8576b"
                        ],
                        [
                          0.6666666666666666,
                          "#ed7953"
                        ],
                        [
                          0.7777777777777778,
                          "#fb9f3a"
                        ],
                        [
                          0.8888888888888888,
                          "#fdca26"
                        ],
                        [
                          1,
                          "#f0f921"
                        ]
                      ],
                      "sequentialminus": [
                        [
                          0,
                          "#0d0887"
                        ],
                        [
                          0.1111111111111111,
                          "#46039f"
                        ],
                        [
                          0.2222222222222222,
                          "#7201a8"
                        ],
                        [
                          0.3333333333333333,
                          "#9c179e"
                        ],
                        [
                          0.4444444444444444,
                          "#bd3786"
                        ],
                        [
                          0.5555555555555556,
                          "#d8576b"
                        ],
                        [
                          0.6666666666666666,
                          "#ed7953"
                        ],
                        [
                          0.7777777777777778,
                          "#fb9f3a"
                        ],
                        [
                          0.8888888888888888,
                          "#fdca26"
                        ],
                        [
                          1,
                          "#f0f921"
                        ]
                      ],
                      "diverging": [
                        [
                          0,
                          "#8e0152"
                        ],
                        [
                          0.1,
                          "#c51b7d"
                        ],
                        [
                          0.2,
                          "#de77ae"
                        ],
                        [
                          0.3,
                          "#f1b6da"
                        ],
                        [
                          0.4,
                          "#fde0ef"
                        ],
                        [
                          0.5,
                          "#f7f7f7"
                        ],
                        [
                          0.6,
                          "#e6f5d0"
                        ],
                        [
                          0.7,
                          "#b8e186"
                        ],
                        [
                          0.8,
                          "#7fbc41"
                        ],
                        [
                          0.9,
                          "#4d9221"
                        ],
                        [
                          1,
                          "#276419"
                        ]
                      ]
                    },
                    "xaxis": {
                      "gridcolor": "white",
                      "linecolor": "white",
                      "ticks": "",
                      "title": {
                        "standoff": 15
                      },
                      "zerolinecolor": "white",
                      "automargin": true,
                      "zerolinewidth": 2
                    },
                    "yaxis": {
                      "gridcolor": "white",
                      "linecolor": "white",
                      "ticks": "",
                      "title": {
                        "standoff": 15
                      },
                      "zerolinecolor": "white",
                      "automargin": true,
                      "zerolinewidth": 2
                    },
                    "scene": {
                      "xaxis": {
                        "backgroundcolor": "#E5ECF6",
                        "gridcolor": "white",
                        "linecolor": "white",
                        "showbackground": true,
                        "ticks": "",
                        "zerolinecolor": "white",
                        "gridwidth": 2
                      },
                      "yaxis": {
                        "backgroundcolor": "#E5ECF6",
                        "gridcolor": "white",
                        "linecolor": "white",
                        "showbackground": true,
                        "ticks": "",
                        "zerolinecolor": "white",
                        "gridwidth": 2
                      },
                      "zaxis": {
                        "backgroundcolor": "#E5ECF6",
                        "gridcolor": "white",
                        "linecolor": "white",
                        "showbackground": true,
                        "ticks": "",
                        "zerolinecolor": "white",
                        "gridwidth": 2
                      }
                    },
                    "shapedefaults": {
                      "line": {
                        "color": "#2a3f5f"
                      }
                    },
                    "annotationdefaults": {
                      "arrowcolor": "#2a3f5f",
                      "arrowhead": 0,
                      "arrowwidth": 1
                    },
                    "geo": {
                      "bgcolor": "white",
                      "landcolor": "#E5ECF6",
                      "subunitcolor": "white",
                      "showland": true,
                      "showlakes": true,
                      "lakecolor": "white"
                    },
                    "title": {
                      "x": 0.05
                    },
                    "mapbox": {
                      "style": "light"
                    }
                  }
                },
                "xaxis": {
                  "anchor": "y",
                  "domain": [
                    0,
                    1
                  ],
                  "title": {
                    "text": "Route"
                  },
                  "categoryorder": "array",
                  "categoryarray": [
                    "CVG-CLE",
                    "ONT-BUR",
                    "DAB-DTW",
                    "BIL-IFP",
                    "PHL-EGE",
                    "EGE-PHL",
                    "MIA-HSV",
                    "EGE-LGA",
                    "HDN-FLL",
                    "MSP-RIC"
                  ]
                },
                "yaxis": {
                  "anchor": "x",
                  "domain": [
                    0,
                    1
                  ],
                  "title": {
                    "text": "Mean Delay (minutes)"
                  }
                },
                "legend": {
                  "title": {
                    "text": "route"
                  },
                  "tracegroupgap": 0
                },
                "title": {
                  "text": "Top 10 Routes with Highest Mean Delays"
                },
                "barmode": "relative"
              },
              "config": {
                "plotlyServerURL": "https://plot.ly"
              }
            },
            "text/html": [
              "<div>                            <div id=\"778bdfbb-1df7-4ded-a05f-7bea53ecb1ae\" class=\"plotly-graph-div\" style=\"height:525px; width:100%;\"></div>            <script type=\"text/javascript\">                require([\"plotly\"], function(Plotly) {                    window.PLOTLYENV=window.PLOTLYENV || {};                                    if (document.getElementById(\"778bdfbb-1df7-4ded-a05f-7bea53ecb1ae\")) {                    Plotly.newPlot(                        \"778bdfbb-1df7-4ded-a05f-7bea53ecb1ae\",                        [{\"alignmentgroup\":\"True\",\"hovertemplate\":\"route=%{x}<br>arr_delay_time_actual=%{y}<extra></extra>\",\"legendgroup\":\"CVG-CLE\",\"marker\":{\"color\":\"#636efa\",\"pattern\":{\"shape\":\"\"}},\"name\":\"CVG-CLE\",\"offsetgroup\":\"CVG-CLE\",\"orientation\":\"v\",\"showlegend\":true,\"textposition\":\"auto\",\"x\":[\"CVG-CLE\"],\"xaxis\":\"x\",\"y\":[817.0],\"yaxis\":\"y\",\"type\":\"bar\"},{\"alignmentgroup\":\"True\",\"hovertemplate\":\"route=%{x}<br>arr_delay_time_actual=%{y}<extra></extra>\",\"legendgroup\":\"ONT-BUR\",\"marker\":{\"color\":\"#EF553B\",\"pattern\":{\"shape\":\"\"}},\"name\":\"ONT-BUR\",\"offsetgroup\":\"ONT-BUR\",\"orientation\":\"v\",\"showlegend\":true,\"textposition\":\"auto\",\"x\":[\"ONT-BUR\"],\"xaxis\":\"x\",\"y\":[675.0],\"yaxis\":\"y\",\"type\":\"bar\"},{\"alignmentgroup\":\"True\",\"hovertemplate\":\"route=%{x}<br>arr_delay_time_actual=%{y}<extra></extra>\",\"legendgroup\":\"DAB-DTW\",\"marker\":{\"color\":\"#00cc96\",\"pattern\":{\"shape\":\"\"}},\"name\":\"DAB-DTW\",\"offsetgroup\":\"DAB-DTW\",\"orientation\":\"v\",\"showlegend\":true,\"textposition\":\"auto\",\"x\":[\"DAB-DTW\"],\"xaxis\":\"x\",\"y\":[227.0],\"yaxis\":\"y\",\"type\":\"bar\"},{\"alignmentgroup\":\"True\",\"hovertemplate\":\"route=%{x}<br>arr_delay_time_actual=%{y}<extra></extra>\",\"legendgroup\":\"BIL-IFP\",\"marker\":{\"color\":\"#ab63fa\",\"pattern\":{\"shape\":\"\"}},\"name\":\"BIL-IFP\",\"offsetgroup\":\"BIL-IFP\",\"orientation\":\"v\",\"showlegend\":true,\"textposition\":\"auto\",\"x\":[\"BIL-IFP\"],\"xaxis\":\"x\",\"y\":[222.0],\"yaxis\":\"y\",\"type\":\"bar\"},{\"alignmentgroup\":\"True\",\"hovertemplate\":\"route=%{x}<br>arr_delay_time_actual=%{y}<extra></extra>\",\"legendgroup\":\"PHL-EGE\",\"marker\":{\"color\":\"#FFA15A\",\"pattern\":{\"shape\":\"\"}},\"name\":\"PHL-EGE\",\"offsetgroup\":\"PHL-EGE\",\"orientation\":\"v\",\"showlegend\":true,\"textposition\":\"auto\",\"x\":[\"PHL-EGE\"],\"xaxis\":\"x\",\"y\":[215.0],\"yaxis\":\"y\",\"type\":\"bar\"},{\"alignmentgroup\":\"True\",\"hovertemplate\":\"route=%{x}<br>arr_delay_time_actual=%{y}<extra></extra>\",\"legendgroup\":\"EGE-PHL\",\"marker\":{\"color\":\"#19d3f3\",\"pattern\":{\"shape\":\"\"}},\"name\":\"EGE-PHL\",\"offsetgroup\":\"EGE-PHL\",\"orientation\":\"v\",\"showlegend\":true,\"textposition\":\"auto\",\"x\":[\"EGE-PHL\"],\"xaxis\":\"x\",\"y\":[193.0],\"yaxis\":\"y\",\"type\":\"bar\"},{\"alignmentgroup\":\"True\",\"hovertemplate\":\"route=%{x}<br>arr_delay_time_actual=%{y}<extra></extra>\",\"legendgroup\":\"MIA-HSV\",\"marker\":{\"color\":\"#FF6692\",\"pattern\":{\"shape\":\"\"}},\"name\":\"MIA-HSV\",\"offsetgroup\":\"MIA-HSV\",\"orientation\":\"v\",\"showlegend\":true,\"textposition\":\"auto\",\"x\":[\"MIA-HSV\"],\"xaxis\":\"x\",\"y\":[122.867],\"yaxis\":\"y\",\"type\":\"bar\"},{\"alignmentgroup\":\"True\",\"hovertemplate\":\"route=%{x}<br>arr_delay_time_actual=%{y}<extra></extra>\",\"legendgroup\":\"EGE-LGA\",\"marker\":{\"color\":\"#B6E880\",\"pattern\":{\"shape\":\"\"}},\"name\":\"EGE-LGA\",\"offsetgroup\":\"EGE-LGA\",\"orientation\":\"v\",\"showlegend\":true,\"textposition\":\"auto\",\"x\":[\"EGE-LGA\"],\"xaxis\":\"x\",\"y\":[116.625],\"yaxis\":\"y\",\"type\":\"bar\"},{\"alignmentgroup\":\"True\",\"hovertemplate\":\"route=%{x}<br>arr_delay_time_actual=%{y}<extra></extra>\",\"legendgroup\":\"HDN-FLL\",\"marker\":{\"color\":\"#FF97FF\",\"pattern\":{\"shape\":\"\"}},\"name\":\"HDN-FLL\",\"offsetgroup\":\"HDN-FLL\",\"orientation\":\"v\",\"showlegend\":true,\"textposition\":\"auto\",\"x\":[\"HDN-FLL\"],\"xaxis\":\"x\",\"y\":[108.5],\"yaxis\":\"y\",\"type\":\"bar\"},{\"alignmentgroup\":\"True\",\"hovertemplate\":\"route=%{x}<br>arr_delay_time_actual=%{y}<extra></extra>\",\"legendgroup\":\"MSP-RIC\",\"marker\":{\"color\":\"#FECB52\",\"pattern\":{\"shape\":\"\"}},\"name\":\"MSP-RIC\",\"offsetgroup\":\"MSP-RIC\",\"orientation\":\"v\",\"showlegend\":true,\"textposition\":\"auto\",\"x\":[\"MSP-RIC\"],\"xaxis\":\"x\",\"y\":[107.0],\"yaxis\":\"y\",\"type\":\"bar\"}],                        {\"template\":{\"data\":{\"histogram2dcontour\":[{\"type\":\"histogram2dcontour\",\"colorbar\":{\"outlinewidth\":0,\"ticks\":\"\"},\"colorscale\":[[0.0,\"#0d0887\"],[0.1111111111111111,\"#46039f\"],[0.2222222222222222,\"#7201a8\"],[0.3333333333333333,\"#9c179e\"],[0.4444444444444444,\"#bd3786\"],[0.5555555555555556,\"#d8576b\"],[0.6666666666666666,\"#ed7953\"],[0.7777777777777778,\"#fb9f3a\"],[0.8888888888888888,\"#fdca26\"],[1.0,\"#f0f921\"]]}],\"choropleth\":[{\"type\":\"choropleth\",\"colorbar\":{\"outlinewidth\":0,\"ticks\":\"\"}}],\"histogram2d\":[{\"type\":\"histogram2d\",\"colorbar\":{\"outlinewidth\":0,\"ticks\":\"\"},\"colorscale\":[[0.0,\"#0d0887\"],[0.1111111111111111,\"#46039f\"],[0.2222222222222222,\"#7201a8\"],[0.3333333333333333,\"#9c179e\"],[0.4444444444444444,\"#bd3786\"],[0.5555555555555556,\"#d8576b\"],[0.6666666666666666,\"#ed7953\"],[0.7777777777777778,\"#fb9f3a\"],[0.8888888888888888,\"#fdca26\"],[1.0,\"#f0f921\"]]}],\"heatmap\":[{\"type\":\"heatmap\",\"colorbar\":{\"outlinewidth\":0,\"ticks\":\"\"},\"colorscale\":[[0.0,\"#0d0887\"],[0.1111111111111111,\"#46039f\"],[0.2222222222222222,\"#7201a8\"],[0.3333333333333333,\"#9c179e\"],[0.4444444444444444,\"#bd3786\"],[0.5555555555555556,\"#d8576b\"],[0.6666666666666666,\"#ed7953\"],[0.7777777777777778,\"#fb9f3a\"],[0.8888888888888888,\"#fdca26\"],[1.0,\"#f0f921\"]]}],\"heatmapgl\":[{\"type\":\"heatmapgl\",\"colorbar\":{\"outlinewidth\":0,\"ticks\":\"\"},\"colorscale\":[[0.0,\"#0d0887\"],[0.1111111111111111,\"#46039f\"],[0.2222222222222222,\"#7201a8\"],[0.3333333333333333,\"#9c179e\"],[0.4444444444444444,\"#bd3786\"],[0.5555555555555556,\"#d8576b\"],[0.6666666666666666,\"#ed7953\"],[0.7777777777777778,\"#fb9f3a\"],[0.8888888888888888,\"#fdca26\"],[1.0,\"#f0f921\"]]}],\"contourcarpet\":[{\"type\":\"contourcarpet\",\"colorbar\":{\"outlinewidth\":0,\"ticks\":\"\"}}],\"contour\":[{\"type\":\"contour\",\"colorbar\":{\"outlinewidth\":0,\"ticks\":\"\"},\"colorscale\":[[0.0,\"#0d0887\"],[0.1111111111111111,\"#46039f\"],[0.2222222222222222,\"#7201a8\"],[0.3333333333333333,\"#9c179e\"],[0.4444444444444444,\"#bd3786\"],[0.5555555555555556,\"#d8576b\"],[0.6666666666666666,\"#ed7953\"],[0.7777777777777778,\"#fb9f3a\"],[0.8888888888888888,\"#fdca26\"],[1.0,\"#f0f921\"]]}],\"surface\":[{\"type\":\"surface\",\"colorbar\":{\"outlinewidth\":0,\"ticks\":\"\"},\"colorscale\":[[0.0,\"#0d0887\"],[0.1111111111111111,\"#46039f\"],[0.2222222222222222,\"#7201a8\"],[0.3333333333333333,\"#9c179e\"],[0.4444444444444444,\"#bd3786\"],[0.5555555555555556,\"#d8576b\"],[0.6666666666666666,\"#ed7953\"],[0.7777777777777778,\"#fb9f3a\"],[0.8888888888888888,\"#fdca26\"],[1.0,\"#f0f921\"]]}],\"mesh3d\":[{\"type\":\"mesh3d\",\"colorbar\":{\"outlinewidth\":0,\"ticks\":\"\"}}],\"scatter\":[{\"fillpattern\":{\"fillmode\":\"overlay\",\"size\":10,\"solidity\":0.2},\"type\":\"scatter\"}],\"parcoords\":[{\"type\":\"parcoords\",\"line\":{\"colorbar\":{\"outlinewidth\":0,\"ticks\":\"\"}}}],\"scatterpolargl\":[{\"type\":\"scatterpolargl\",\"marker\":{\"colorbar\":{\"outlinewidth\":0,\"ticks\":\"\"}}}],\"bar\":[{\"error_x\":{\"color\":\"#2a3f5f\"},\"error_y\":{\"color\":\"#2a3f5f\"},\"marker\":{\"line\":{\"color\":\"#E5ECF6\",\"width\":0.5},\"pattern\":{\"fillmode\":\"overlay\",\"size\":10,\"solidity\":0.2}},\"type\":\"bar\"}],\"scattergeo\":[{\"type\":\"scattergeo\",\"marker\":{\"colorbar\":{\"outlinewidth\":0,\"ticks\":\"\"}}}],\"scatterpolar\":[{\"type\":\"scatterpolar\",\"marker\":{\"colorbar\":{\"outlinewidth\":0,\"ticks\":\"\"}}}],\"histogram\":[{\"marker\":{\"pattern\":{\"fillmode\":\"overlay\",\"size\":10,\"solidity\":0.2}},\"type\":\"histogram\"}],\"scattergl\":[{\"type\":\"scattergl\",\"marker\":{\"colorbar\":{\"outlinewidth\":0,\"ticks\":\"\"}}}],\"scatter3d\":[{\"type\":\"scatter3d\",\"line\":{\"colorbar\":{\"outlinewidth\":0,\"ticks\":\"\"}},\"marker\":{\"colorbar\":{\"outlinewidth\":0,\"ticks\":\"\"}}}],\"scattermapbox\":[{\"type\":\"scattermapbox\",\"marker\":{\"colorbar\":{\"outlinewidth\":0,\"ticks\":\"\"}}}],\"scatterternary\":[{\"type\":\"scatterternary\",\"marker\":{\"colorbar\":{\"outlinewidth\":0,\"ticks\":\"\"}}}],\"scattercarpet\":[{\"type\":\"scattercarpet\",\"marker\":{\"colorbar\":{\"outlinewidth\":0,\"ticks\":\"\"}}}],\"carpet\":[{\"aaxis\":{\"endlinecolor\":\"#2a3f5f\",\"gridcolor\":\"white\",\"linecolor\":\"white\",\"minorgridcolor\":\"white\",\"startlinecolor\":\"#2a3f5f\"},\"baxis\":{\"endlinecolor\":\"#2a3f5f\",\"gridcolor\":\"white\",\"linecolor\":\"white\",\"minorgridcolor\":\"white\",\"startlinecolor\":\"#2a3f5f\"},\"type\":\"carpet\"}],\"table\":[{\"cells\":{\"fill\":{\"color\":\"#EBF0F8\"},\"line\":{\"color\":\"white\"}},\"header\":{\"fill\":{\"color\":\"#C8D4E3\"},\"line\":{\"color\":\"white\"}},\"type\":\"table\"}],\"barpolar\":[{\"marker\":{\"line\":{\"color\":\"#E5ECF6\",\"width\":0.5},\"pattern\":{\"fillmode\":\"overlay\",\"size\":10,\"solidity\":0.2}},\"type\":\"barpolar\"}],\"pie\":[{\"automargin\":true,\"type\":\"pie\"}]},\"layout\":{\"autotypenumbers\":\"strict\",\"colorway\":[\"#636efa\",\"#EF553B\",\"#00cc96\",\"#ab63fa\",\"#FFA15A\",\"#19d3f3\",\"#FF6692\",\"#B6E880\",\"#FF97FF\",\"#FECB52\"],\"font\":{\"color\":\"#2a3f5f\"},\"hovermode\":\"closest\",\"hoverlabel\":{\"align\":\"left\"},\"paper_bgcolor\":\"white\",\"plot_bgcolor\":\"#E5ECF6\",\"polar\":{\"bgcolor\":\"#E5ECF6\",\"angularaxis\":{\"gridcolor\":\"white\",\"linecolor\":\"white\",\"ticks\":\"\"},\"radialaxis\":{\"gridcolor\":\"white\",\"linecolor\":\"white\",\"ticks\":\"\"}},\"ternary\":{\"bgcolor\":\"#E5ECF6\",\"aaxis\":{\"gridcolor\":\"white\",\"linecolor\":\"white\",\"ticks\":\"\"},\"baxis\":{\"gridcolor\":\"white\",\"linecolor\":\"white\",\"ticks\":\"\"},\"caxis\":{\"gridcolor\":\"white\",\"linecolor\":\"white\",\"ticks\":\"\"}},\"coloraxis\":{\"colorbar\":{\"outlinewidth\":0,\"ticks\":\"\"}},\"colorscale\":{\"sequential\":[[0.0,\"#0d0887\"],[0.1111111111111111,\"#46039f\"],[0.2222222222222222,\"#7201a8\"],[0.3333333333333333,\"#9c179e\"],[0.4444444444444444,\"#bd3786\"],[0.5555555555555556,\"#d8576b\"],[0.6666666666666666,\"#ed7953\"],[0.7777777777777778,\"#fb9f3a\"],[0.8888888888888888,\"#fdca26\"],[1.0,\"#f0f921\"]],\"sequentialminus\":[[0.0,\"#0d0887\"],[0.1111111111111111,\"#46039f\"],[0.2222222222222222,\"#7201a8\"],[0.3333333333333333,\"#9c179e\"],[0.4444444444444444,\"#bd3786\"],[0.5555555555555556,\"#d8576b\"],[0.6666666666666666,\"#ed7953\"],[0.7777777777777778,\"#fb9f3a\"],[0.8888888888888888,\"#fdca26\"],[1.0,\"#f0f921\"]],\"diverging\":[[0,\"#8e0152\"],[0.1,\"#c51b7d\"],[0.2,\"#de77ae\"],[0.3,\"#f1b6da\"],[0.4,\"#fde0ef\"],[0.5,\"#f7f7f7\"],[0.6,\"#e6f5d0\"],[0.7,\"#b8e186\"],[0.8,\"#7fbc41\"],[0.9,\"#4d9221\"],[1,\"#276419\"]]},\"xaxis\":{\"gridcolor\":\"white\",\"linecolor\":\"white\",\"ticks\":\"\",\"title\":{\"standoff\":15},\"zerolinecolor\":\"white\",\"automargin\":true,\"zerolinewidth\":2},\"yaxis\":{\"gridcolor\":\"white\",\"linecolor\":\"white\",\"ticks\":\"\",\"title\":{\"standoff\":15},\"zerolinecolor\":\"white\",\"automargin\":true,\"zerolinewidth\":2},\"scene\":{\"xaxis\":{\"backgroundcolor\":\"#E5ECF6\",\"gridcolor\":\"white\",\"linecolor\":\"white\",\"showbackground\":true,\"ticks\":\"\",\"zerolinecolor\":\"white\",\"gridwidth\":2},\"yaxis\":{\"backgroundcolor\":\"#E5ECF6\",\"gridcolor\":\"white\",\"linecolor\":\"white\",\"showbackground\":true,\"ticks\":\"\",\"zerolinecolor\":\"white\",\"gridwidth\":2},\"zaxis\":{\"backgroundcolor\":\"#E5ECF6\",\"gridcolor\":\"white\",\"linecolor\":\"white\",\"showbackground\":true,\"ticks\":\"\",\"zerolinecolor\":\"white\",\"gridwidth\":2}},\"shapedefaults\":{\"line\":{\"color\":\"#2a3f5f\"}},\"annotationdefaults\":{\"arrowcolor\":\"#2a3f5f\",\"arrowhead\":0,\"arrowwidth\":1},\"geo\":{\"bgcolor\":\"white\",\"landcolor\":\"#E5ECF6\",\"subunitcolor\":\"white\",\"showland\":true,\"showlakes\":true,\"lakecolor\":\"white\"},\"title\":{\"x\":0.05},\"mapbox\":{\"style\":\"light\"}}},\"xaxis\":{\"anchor\":\"y\",\"domain\":[0.0,1.0],\"title\":{\"text\":\"Route\"},\"categoryorder\":\"array\",\"categoryarray\":[\"CVG-CLE\",\"ONT-BUR\",\"DAB-DTW\",\"BIL-IFP\",\"PHL-EGE\",\"EGE-PHL\",\"MIA-HSV\",\"EGE-LGA\",\"HDN-FLL\",\"MSP-RIC\"]},\"yaxis\":{\"anchor\":\"x\",\"domain\":[0.0,1.0],\"title\":{\"text\":\"Mean Delay (minutes)\"}},\"legend\":{\"title\":{\"text\":\"route\"},\"tracegroupgap\":0},\"title\":{\"text\":\"Top 10 Routes with Highest Mean Delays\"},\"barmode\":\"relative\"},                        {\"responsive\": true}                    ).then(function(){\n",
              "                            \n",
              "var gd = document.getElementById('778bdfbb-1df7-4ded-a05f-7bea53ecb1ae');\n",
              "var x = new MutationObserver(function (mutations, observer) {{\n",
              "        var display = window.getComputedStyle(gd).display;\n",
              "        if (!display || display === 'none') {{\n",
              "            console.log([gd, 'removed!']);\n",
              "            Plotly.purge(gd);\n",
              "            observer.disconnect();\n",
              "        }}\n",
              "}});\n",
              "\n",
              "// Listen for the removal of the full notebook cells\n",
              "var notebookContainer = gd.closest('#notebook-container');\n",
              "if (notebookContainer) {{\n",
              "    x.observe(notebookContainer, {childList: true});\n",
              "}}\n",
              "\n",
              "// Listen for the clearing of the current output cell\n",
              "var outputEl = gd.closest('.output');\n",
              "if (outputEl) {{\n",
              "    x.observe(outputEl, {childList: true});\n",
              "}}\n",
              "\n",
              "                        })                };                });            </script>        </div>"
            ]
          },
          "metadata": {}
        }
      ],
      "source": [
        "import pandas as pd\n",
        "import plotly.express as px\n",
        "\n",
        "# Use your dataset as a DataFrame\n",
        "df = airline_final\n",
        "\n",
        "# Calculate the mean delay for each route\n",
        "mean_route_delays = df.groupby('route')['arr_delay_time_actual'].mean().reset_index().round(3)\n",
        "\n",
        "# Sort the routes by mean delay in descending order and select the top 10\n",
        "top_delayed_routes = mean_route_delays.sort_values(by='arr_delay_time_actual', ascending=False).head(10)\n",
        "\n",
        "# Create a bar chart using Plotly Express\n",
        "fig = px.bar(top_delayed_routes, x='route', y='arr_delay_time_actual',color = 'route',title='Top 10 Routes with Highest Mean Delays')\n",
        "fig.update_layout(xaxis_title='Route', yaxis_title='Mean Delay (minutes)')\n",
        "fig.show()\n"
      ]
    },
    {
      "cell_type": "markdown",
      "id": "710d22bb",
      "metadata": {
        "id": "710d22bb"
      },
      "source": [
        "### What are the primary causes of departure delay time?"
      ]
    },
    {
      "cell_type": "code",
      "execution_count": 18,
      "id": "5a32e14a",
      "metadata": {
        "scrolled": true,
        "colab": {
          "base_uri": "https://localhost:8080/",
          "height": 542
        },
        "id": "5a32e14a",
        "outputId": "11d9a03a-7ecb-4298-de59-dde897e2a0e2"
      },
      "outputs": [
        {
          "output_type": "display_data",
          "data": {
            "application/vnd.plotly.v1+json": {
              "data": [
                {
                  "domain": {
                    "x": [
                      0,
                      1
                    ],
                    "y": [
                      0,
                      1
                    ]
                  },
                  "hovertemplate": "cause=%{label}<br>mean_delays=%{value}<extra></extra>",
                  "labels": [
                    "mins_late_delay_code_e_carrier",
                    "mins_late_delay_code_i_late_arr_flight",
                    "mins_late_delay_code_g_nas",
                    "mins_late_delay_code_f_weather",
                    "mins_late_delay_code_h_security"
                  ],
                  "legendgroup": "",
                  "name": "",
                  "showlegend": true,
                  "values": [
                    4.47,
                    3.828,
                    1.698,
                    0.482,
                    0.02
                  ],
                  "type": "pie"
                }
              ],
              "layout": {
                "template": {
                  "data": {
                    "histogram2dcontour": [
                      {
                        "type": "histogram2dcontour",
                        "colorbar": {
                          "outlinewidth": 0,
                          "ticks": ""
                        },
                        "colorscale": [
                          [
                            0,
                            "#0d0887"
                          ],
                          [
                            0.1111111111111111,
                            "#46039f"
                          ],
                          [
                            0.2222222222222222,
                            "#7201a8"
                          ],
                          [
                            0.3333333333333333,
                            "#9c179e"
                          ],
                          [
                            0.4444444444444444,
                            "#bd3786"
                          ],
                          [
                            0.5555555555555556,
                            "#d8576b"
                          ],
                          [
                            0.6666666666666666,
                            "#ed7953"
                          ],
                          [
                            0.7777777777777778,
                            "#fb9f3a"
                          ],
                          [
                            0.8888888888888888,
                            "#fdca26"
                          ],
                          [
                            1,
                            "#f0f921"
                          ]
                        ]
                      }
                    ],
                    "choropleth": [
                      {
                        "type": "choropleth",
                        "colorbar": {
                          "outlinewidth": 0,
                          "ticks": ""
                        }
                      }
                    ],
                    "histogram2d": [
                      {
                        "type": "histogram2d",
                        "colorbar": {
                          "outlinewidth": 0,
                          "ticks": ""
                        },
                        "colorscale": [
                          [
                            0,
                            "#0d0887"
                          ],
                          [
                            0.1111111111111111,
                            "#46039f"
                          ],
                          [
                            0.2222222222222222,
                            "#7201a8"
                          ],
                          [
                            0.3333333333333333,
                            "#9c179e"
                          ],
                          [
                            0.4444444444444444,
                            "#bd3786"
                          ],
                          [
                            0.5555555555555556,
                            "#d8576b"
                          ],
                          [
                            0.6666666666666666,
                            "#ed7953"
                          ],
                          [
                            0.7777777777777778,
                            "#fb9f3a"
                          ],
                          [
                            0.8888888888888888,
                            "#fdca26"
                          ],
                          [
                            1,
                            "#f0f921"
                          ]
                        ]
                      }
                    ],
                    "heatmap": [
                      {
                        "type": "heatmap",
                        "colorbar": {
                          "outlinewidth": 0,
                          "ticks": ""
                        },
                        "colorscale": [
                          [
                            0,
                            "#0d0887"
                          ],
                          [
                            0.1111111111111111,
                            "#46039f"
                          ],
                          [
                            0.2222222222222222,
                            "#7201a8"
                          ],
                          [
                            0.3333333333333333,
                            "#9c179e"
                          ],
                          [
                            0.4444444444444444,
                            "#bd3786"
                          ],
                          [
                            0.5555555555555556,
                            "#d8576b"
                          ],
                          [
                            0.6666666666666666,
                            "#ed7953"
                          ],
                          [
                            0.7777777777777778,
                            "#fb9f3a"
                          ],
                          [
                            0.8888888888888888,
                            "#fdca26"
                          ],
                          [
                            1,
                            "#f0f921"
                          ]
                        ]
                      }
                    ],
                    "heatmapgl": [
                      {
                        "type": "heatmapgl",
                        "colorbar": {
                          "outlinewidth": 0,
                          "ticks": ""
                        },
                        "colorscale": [
                          [
                            0,
                            "#0d0887"
                          ],
                          [
                            0.1111111111111111,
                            "#46039f"
                          ],
                          [
                            0.2222222222222222,
                            "#7201a8"
                          ],
                          [
                            0.3333333333333333,
                            "#9c179e"
                          ],
                          [
                            0.4444444444444444,
                            "#bd3786"
                          ],
                          [
                            0.5555555555555556,
                            "#d8576b"
                          ],
                          [
                            0.6666666666666666,
                            "#ed7953"
                          ],
                          [
                            0.7777777777777778,
                            "#fb9f3a"
                          ],
                          [
                            0.8888888888888888,
                            "#fdca26"
                          ],
                          [
                            1,
                            "#f0f921"
                          ]
                        ]
                      }
                    ],
                    "contourcarpet": [
                      {
                        "type": "contourcarpet",
                        "colorbar": {
                          "outlinewidth": 0,
                          "ticks": ""
                        }
                      }
                    ],
                    "contour": [
                      {
                        "type": "contour",
                        "colorbar": {
                          "outlinewidth": 0,
                          "ticks": ""
                        },
                        "colorscale": [
                          [
                            0,
                            "#0d0887"
                          ],
                          [
                            0.1111111111111111,
                            "#46039f"
                          ],
                          [
                            0.2222222222222222,
                            "#7201a8"
                          ],
                          [
                            0.3333333333333333,
                            "#9c179e"
                          ],
                          [
                            0.4444444444444444,
                            "#bd3786"
                          ],
                          [
                            0.5555555555555556,
                            "#d8576b"
                          ],
                          [
                            0.6666666666666666,
                            "#ed7953"
                          ],
                          [
                            0.7777777777777778,
                            "#fb9f3a"
                          ],
                          [
                            0.8888888888888888,
                            "#fdca26"
                          ],
                          [
                            1,
                            "#f0f921"
                          ]
                        ]
                      }
                    ],
                    "surface": [
                      {
                        "type": "surface",
                        "colorbar": {
                          "outlinewidth": 0,
                          "ticks": ""
                        },
                        "colorscale": [
                          [
                            0,
                            "#0d0887"
                          ],
                          [
                            0.1111111111111111,
                            "#46039f"
                          ],
                          [
                            0.2222222222222222,
                            "#7201a8"
                          ],
                          [
                            0.3333333333333333,
                            "#9c179e"
                          ],
                          [
                            0.4444444444444444,
                            "#bd3786"
                          ],
                          [
                            0.5555555555555556,
                            "#d8576b"
                          ],
                          [
                            0.6666666666666666,
                            "#ed7953"
                          ],
                          [
                            0.7777777777777778,
                            "#fb9f3a"
                          ],
                          [
                            0.8888888888888888,
                            "#fdca26"
                          ],
                          [
                            1,
                            "#f0f921"
                          ]
                        ]
                      }
                    ],
                    "mesh3d": [
                      {
                        "type": "mesh3d",
                        "colorbar": {
                          "outlinewidth": 0,
                          "ticks": ""
                        }
                      }
                    ],
                    "scatter": [
                      {
                        "fillpattern": {
                          "fillmode": "overlay",
                          "size": 10,
                          "solidity": 0.2
                        },
                        "type": "scatter"
                      }
                    ],
                    "parcoords": [
                      {
                        "type": "parcoords",
                        "line": {
                          "colorbar": {
                            "outlinewidth": 0,
                            "ticks": ""
                          }
                        }
                      }
                    ],
                    "scatterpolargl": [
                      {
                        "type": "scatterpolargl",
                        "marker": {
                          "colorbar": {
                            "outlinewidth": 0,
                            "ticks": ""
                          }
                        }
                      }
                    ],
                    "bar": [
                      {
                        "error_x": {
                          "color": "#2a3f5f"
                        },
                        "error_y": {
                          "color": "#2a3f5f"
                        },
                        "marker": {
                          "line": {
                            "color": "#E5ECF6",
                            "width": 0.5
                          },
                          "pattern": {
                            "fillmode": "overlay",
                            "size": 10,
                            "solidity": 0.2
                          }
                        },
                        "type": "bar"
                      }
                    ],
                    "scattergeo": [
                      {
                        "type": "scattergeo",
                        "marker": {
                          "colorbar": {
                            "outlinewidth": 0,
                            "ticks": ""
                          }
                        }
                      }
                    ],
                    "scatterpolar": [
                      {
                        "type": "scatterpolar",
                        "marker": {
                          "colorbar": {
                            "outlinewidth": 0,
                            "ticks": ""
                          }
                        }
                      }
                    ],
                    "histogram": [
                      {
                        "marker": {
                          "pattern": {
                            "fillmode": "overlay",
                            "size": 10,
                            "solidity": 0.2
                          }
                        },
                        "type": "histogram"
                      }
                    ],
                    "scattergl": [
                      {
                        "type": "scattergl",
                        "marker": {
                          "colorbar": {
                            "outlinewidth": 0,
                            "ticks": ""
                          }
                        }
                      }
                    ],
                    "scatter3d": [
                      {
                        "type": "scatter3d",
                        "line": {
                          "colorbar": {
                            "outlinewidth": 0,
                            "ticks": ""
                          }
                        },
                        "marker": {
                          "colorbar": {
                            "outlinewidth": 0,
                            "ticks": ""
                          }
                        }
                      }
                    ],
                    "scattermapbox": [
                      {
                        "type": "scattermapbox",
                        "marker": {
                          "colorbar": {
                            "outlinewidth": 0,
                            "ticks": ""
                          }
                        }
                      }
                    ],
                    "scatterternary": [
                      {
                        "type": "scatterternary",
                        "marker": {
                          "colorbar": {
                            "outlinewidth": 0,
                            "ticks": ""
                          }
                        }
                      }
                    ],
                    "scattercarpet": [
                      {
                        "type": "scattercarpet",
                        "marker": {
                          "colorbar": {
                            "outlinewidth": 0,
                            "ticks": ""
                          }
                        }
                      }
                    ],
                    "carpet": [
                      {
                        "aaxis": {
                          "endlinecolor": "#2a3f5f",
                          "gridcolor": "white",
                          "linecolor": "white",
                          "minorgridcolor": "white",
                          "startlinecolor": "#2a3f5f"
                        },
                        "baxis": {
                          "endlinecolor": "#2a3f5f",
                          "gridcolor": "white",
                          "linecolor": "white",
                          "minorgridcolor": "white",
                          "startlinecolor": "#2a3f5f"
                        },
                        "type": "carpet"
                      }
                    ],
                    "table": [
                      {
                        "cells": {
                          "fill": {
                            "color": "#EBF0F8"
                          },
                          "line": {
                            "color": "white"
                          }
                        },
                        "header": {
                          "fill": {
                            "color": "#C8D4E3"
                          },
                          "line": {
                            "color": "white"
                          }
                        },
                        "type": "table"
                      }
                    ],
                    "barpolar": [
                      {
                        "marker": {
                          "line": {
                            "color": "#E5ECF6",
                            "width": 0.5
                          },
                          "pattern": {
                            "fillmode": "overlay",
                            "size": 10,
                            "solidity": 0.2
                          }
                        },
                        "type": "barpolar"
                      }
                    ],
                    "pie": [
                      {
                        "automargin": true,
                        "type": "pie"
                      }
                    ]
                  },
                  "layout": {
                    "autotypenumbers": "strict",
                    "colorway": [
                      "#636efa",
                      "#EF553B",
                      "#00cc96",
                      "#ab63fa",
                      "#FFA15A",
                      "#19d3f3",
                      "#FF6692",
                      "#B6E880",
                      "#FF97FF",
                      "#FECB52"
                    ],
                    "font": {
                      "color": "#2a3f5f"
                    },
                    "hovermode": "closest",
                    "hoverlabel": {
                      "align": "left"
                    },
                    "paper_bgcolor": "white",
                    "plot_bgcolor": "#E5ECF6",
                    "polar": {
                      "bgcolor": "#E5ECF6",
                      "angularaxis": {
                        "gridcolor": "white",
                        "linecolor": "white",
                        "ticks": ""
                      },
                      "radialaxis": {
                        "gridcolor": "white",
                        "linecolor": "white",
                        "ticks": ""
                      }
                    },
                    "ternary": {
                      "bgcolor": "#E5ECF6",
                      "aaxis": {
                        "gridcolor": "white",
                        "linecolor": "white",
                        "ticks": ""
                      },
                      "baxis": {
                        "gridcolor": "white",
                        "linecolor": "white",
                        "ticks": ""
                      },
                      "caxis": {
                        "gridcolor": "white",
                        "linecolor": "white",
                        "ticks": ""
                      }
                    },
                    "coloraxis": {
                      "colorbar": {
                        "outlinewidth": 0,
                        "ticks": ""
                      }
                    },
                    "colorscale": {
                      "sequential": [
                        [
                          0,
                          "#0d0887"
                        ],
                        [
                          0.1111111111111111,
                          "#46039f"
                        ],
                        [
                          0.2222222222222222,
                          "#7201a8"
                        ],
                        [
                          0.3333333333333333,
                          "#9c179e"
                        ],
                        [
                          0.4444444444444444,
                          "#bd3786"
                        ],
                        [
                          0.5555555555555556,
                          "#d8576b"
                        ],
                        [
                          0.6666666666666666,
                          "#ed7953"
                        ],
                        [
                          0.7777777777777778,
                          "#fb9f3a"
                        ],
                        [
                          0.8888888888888888,
                          "#fdca26"
                        ],
                        [
                          1,
                          "#f0f921"
                        ]
                      ],
                      "sequentialminus": [
                        [
                          0,
                          "#0d0887"
                        ],
                        [
                          0.1111111111111111,
                          "#46039f"
                        ],
                        [
                          0.2222222222222222,
                          "#7201a8"
                        ],
                        [
                          0.3333333333333333,
                          "#9c179e"
                        ],
                        [
                          0.4444444444444444,
                          "#bd3786"
                        ],
                        [
                          0.5555555555555556,
                          "#d8576b"
                        ],
                        [
                          0.6666666666666666,
                          "#ed7953"
                        ],
                        [
                          0.7777777777777778,
                          "#fb9f3a"
                        ],
                        [
                          0.8888888888888888,
                          "#fdca26"
                        ],
                        [
                          1,
                          "#f0f921"
                        ]
                      ],
                      "diverging": [
                        [
                          0,
                          "#8e0152"
                        ],
                        [
                          0.1,
                          "#c51b7d"
                        ],
                        [
                          0.2,
                          "#de77ae"
                        ],
                        [
                          0.3,
                          "#f1b6da"
                        ],
                        [
                          0.4,
                          "#fde0ef"
                        ],
                        [
                          0.5,
                          "#f7f7f7"
                        ],
                        [
                          0.6,
                          "#e6f5d0"
                        ],
                        [
                          0.7,
                          "#b8e186"
                        ],
                        [
                          0.8,
                          "#7fbc41"
                        ],
                        [
                          0.9,
                          "#4d9221"
                        ],
                        [
                          1,
                          "#276419"
                        ]
                      ]
                    },
                    "xaxis": {
                      "gridcolor": "white",
                      "linecolor": "white",
                      "ticks": "",
                      "title": {
                        "standoff": 15
                      },
                      "zerolinecolor": "white",
                      "automargin": true,
                      "zerolinewidth": 2
                    },
                    "yaxis": {
                      "gridcolor": "white",
                      "linecolor": "white",
                      "ticks": "",
                      "title": {
                        "standoff": 15
                      },
                      "zerolinecolor": "white",
                      "automargin": true,
                      "zerolinewidth": 2
                    },
                    "scene": {
                      "xaxis": {
                        "backgroundcolor": "#E5ECF6",
                        "gridcolor": "white",
                        "linecolor": "white",
                        "showbackground": true,
                        "ticks": "",
                        "zerolinecolor": "white",
                        "gridwidth": 2
                      },
                      "yaxis": {
                        "backgroundcolor": "#E5ECF6",
                        "gridcolor": "white",
                        "linecolor": "white",
                        "showbackground": true,
                        "ticks": "",
                        "zerolinecolor": "white",
                        "gridwidth": 2
                      },
                      "zaxis": {
                        "backgroundcolor": "#E5ECF6",
                        "gridcolor": "white",
                        "linecolor": "white",
                        "showbackground": true,
                        "ticks": "",
                        "zerolinecolor": "white",
                        "gridwidth": 2
                      }
                    },
                    "shapedefaults": {
                      "line": {
                        "color": "#2a3f5f"
                      }
                    },
                    "annotationdefaults": {
                      "arrowcolor": "#2a3f5f",
                      "arrowhead": 0,
                      "arrowwidth": 1
                    },
                    "geo": {
                      "bgcolor": "white",
                      "landcolor": "#E5ECF6",
                      "subunitcolor": "white",
                      "showland": true,
                      "showlakes": true,
                      "lakecolor": "white"
                    },
                    "title": {
                      "x": 0.05
                    },
                    "mapbox": {
                      "style": "light"
                    }
                  }
                },
                "legend": {
                  "tracegroupgap": 0
                },
                "title": {
                  "text": "Primary Causes of Flight Delays (Mean Delays) on Tue"
                }
              },
              "config": {
                "plotlyServerURL": "https://plot.ly"
              }
            },
            "text/html": [
              "<div>                            <div id=\"a3f0a8db-c810-42fb-8215-f33076356b5d\" class=\"plotly-graph-div\" style=\"height:525px; width:100%;\"></div>            <script type=\"text/javascript\">                require([\"plotly\"], function(Plotly) {                    window.PLOTLYENV=window.PLOTLYENV || {};                                    if (document.getElementById(\"a3f0a8db-c810-42fb-8215-f33076356b5d\")) {                    Plotly.newPlot(                        \"a3f0a8db-c810-42fb-8215-f33076356b5d\",                        [{\"domain\":{\"x\":[0.0,1.0],\"y\":[0.0,1.0]},\"hovertemplate\":\"cause=%{label}<br>mean_delays=%{value}<extra></extra>\",\"labels\":[\"mins_late_delay_code_e_carrier\",\"mins_late_delay_code_i_late_arr_flight\",\"mins_late_delay_code_g_nas\",\"mins_late_delay_code_f_weather\",\"mins_late_delay_code_h_security\"],\"legendgroup\":\"\",\"name\":\"\",\"showlegend\":true,\"values\":[4.47,3.828,1.698,0.482,0.02],\"type\":\"pie\"}],                        {\"template\":{\"data\":{\"histogram2dcontour\":[{\"type\":\"histogram2dcontour\",\"colorbar\":{\"outlinewidth\":0,\"ticks\":\"\"},\"colorscale\":[[0.0,\"#0d0887\"],[0.1111111111111111,\"#46039f\"],[0.2222222222222222,\"#7201a8\"],[0.3333333333333333,\"#9c179e\"],[0.4444444444444444,\"#bd3786\"],[0.5555555555555556,\"#d8576b\"],[0.6666666666666666,\"#ed7953\"],[0.7777777777777778,\"#fb9f3a\"],[0.8888888888888888,\"#fdca26\"],[1.0,\"#f0f921\"]]}],\"choropleth\":[{\"type\":\"choropleth\",\"colorbar\":{\"outlinewidth\":0,\"ticks\":\"\"}}],\"histogram2d\":[{\"type\":\"histogram2d\",\"colorbar\":{\"outlinewidth\":0,\"ticks\":\"\"},\"colorscale\":[[0.0,\"#0d0887\"],[0.1111111111111111,\"#46039f\"],[0.2222222222222222,\"#7201a8\"],[0.3333333333333333,\"#9c179e\"],[0.4444444444444444,\"#bd3786\"],[0.5555555555555556,\"#d8576b\"],[0.6666666666666666,\"#ed7953\"],[0.7777777777777778,\"#fb9f3a\"],[0.8888888888888888,\"#fdca26\"],[1.0,\"#f0f921\"]]}],\"heatmap\":[{\"type\":\"heatmap\",\"colorbar\":{\"outlinewidth\":0,\"ticks\":\"\"},\"colorscale\":[[0.0,\"#0d0887\"],[0.1111111111111111,\"#46039f\"],[0.2222222222222222,\"#7201a8\"],[0.3333333333333333,\"#9c179e\"],[0.4444444444444444,\"#bd3786\"],[0.5555555555555556,\"#d8576b\"],[0.6666666666666666,\"#ed7953\"],[0.7777777777777778,\"#fb9f3a\"],[0.8888888888888888,\"#fdca26\"],[1.0,\"#f0f921\"]]}],\"heatmapgl\":[{\"type\":\"heatmapgl\",\"colorbar\":{\"outlinewidth\":0,\"ticks\":\"\"},\"colorscale\":[[0.0,\"#0d0887\"],[0.1111111111111111,\"#46039f\"],[0.2222222222222222,\"#7201a8\"],[0.3333333333333333,\"#9c179e\"],[0.4444444444444444,\"#bd3786\"],[0.5555555555555556,\"#d8576b\"],[0.6666666666666666,\"#ed7953\"],[0.7777777777777778,\"#fb9f3a\"],[0.8888888888888888,\"#fdca26\"],[1.0,\"#f0f921\"]]}],\"contourcarpet\":[{\"type\":\"contourcarpet\",\"colorbar\":{\"outlinewidth\":0,\"ticks\":\"\"}}],\"contour\":[{\"type\":\"contour\",\"colorbar\":{\"outlinewidth\":0,\"ticks\":\"\"},\"colorscale\":[[0.0,\"#0d0887\"],[0.1111111111111111,\"#46039f\"],[0.2222222222222222,\"#7201a8\"],[0.3333333333333333,\"#9c179e\"],[0.4444444444444444,\"#bd3786\"],[0.5555555555555556,\"#d8576b\"],[0.6666666666666666,\"#ed7953\"],[0.7777777777777778,\"#fb9f3a\"],[0.8888888888888888,\"#fdca26\"],[1.0,\"#f0f921\"]]}],\"surface\":[{\"type\":\"surface\",\"colorbar\":{\"outlinewidth\":0,\"ticks\":\"\"},\"colorscale\":[[0.0,\"#0d0887\"],[0.1111111111111111,\"#46039f\"],[0.2222222222222222,\"#7201a8\"],[0.3333333333333333,\"#9c179e\"],[0.4444444444444444,\"#bd3786\"],[0.5555555555555556,\"#d8576b\"],[0.6666666666666666,\"#ed7953\"],[0.7777777777777778,\"#fb9f3a\"],[0.8888888888888888,\"#fdca26\"],[1.0,\"#f0f921\"]]}],\"mesh3d\":[{\"type\":\"mesh3d\",\"colorbar\":{\"outlinewidth\":0,\"ticks\":\"\"}}],\"scatter\":[{\"fillpattern\":{\"fillmode\":\"overlay\",\"size\":10,\"solidity\":0.2},\"type\":\"scatter\"}],\"parcoords\":[{\"type\":\"parcoords\",\"line\":{\"colorbar\":{\"outlinewidth\":0,\"ticks\":\"\"}}}],\"scatterpolargl\":[{\"type\":\"scatterpolargl\",\"marker\":{\"colorbar\":{\"outlinewidth\":0,\"ticks\":\"\"}}}],\"bar\":[{\"error_x\":{\"color\":\"#2a3f5f\"},\"error_y\":{\"color\":\"#2a3f5f\"},\"marker\":{\"line\":{\"color\":\"#E5ECF6\",\"width\":0.5},\"pattern\":{\"fillmode\":\"overlay\",\"size\":10,\"solidity\":0.2}},\"type\":\"bar\"}],\"scattergeo\":[{\"type\":\"scattergeo\",\"marker\":{\"colorbar\":{\"outlinewidth\":0,\"ticks\":\"\"}}}],\"scatterpolar\":[{\"type\":\"scatterpolar\",\"marker\":{\"colorbar\":{\"outlinewidth\":0,\"ticks\":\"\"}}}],\"histogram\":[{\"marker\":{\"pattern\":{\"fillmode\":\"overlay\",\"size\":10,\"solidity\":0.2}},\"type\":\"histogram\"}],\"scattergl\":[{\"type\":\"scattergl\",\"marker\":{\"colorbar\":{\"outlinewidth\":0,\"ticks\":\"\"}}}],\"scatter3d\":[{\"type\":\"scatter3d\",\"line\":{\"colorbar\":{\"outlinewidth\":0,\"ticks\":\"\"}},\"marker\":{\"colorbar\":{\"outlinewidth\":0,\"ticks\":\"\"}}}],\"scattermapbox\":[{\"type\":\"scattermapbox\",\"marker\":{\"colorbar\":{\"outlinewidth\":0,\"ticks\":\"\"}}}],\"scatterternary\":[{\"type\":\"scatterternary\",\"marker\":{\"colorbar\":{\"outlinewidth\":0,\"ticks\":\"\"}}}],\"scattercarpet\":[{\"type\":\"scattercarpet\",\"marker\":{\"colorbar\":{\"outlinewidth\":0,\"ticks\":\"\"}}}],\"carpet\":[{\"aaxis\":{\"endlinecolor\":\"#2a3f5f\",\"gridcolor\":\"white\",\"linecolor\":\"white\",\"minorgridcolor\":\"white\",\"startlinecolor\":\"#2a3f5f\"},\"baxis\":{\"endlinecolor\":\"#2a3f5f\",\"gridcolor\":\"white\",\"linecolor\":\"white\",\"minorgridcolor\":\"white\",\"startlinecolor\":\"#2a3f5f\"},\"type\":\"carpet\"}],\"table\":[{\"cells\":{\"fill\":{\"color\":\"#EBF0F8\"},\"line\":{\"color\":\"white\"}},\"header\":{\"fill\":{\"color\":\"#C8D4E3\"},\"line\":{\"color\":\"white\"}},\"type\":\"table\"}],\"barpolar\":[{\"marker\":{\"line\":{\"color\":\"#E5ECF6\",\"width\":0.5},\"pattern\":{\"fillmode\":\"overlay\",\"size\":10,\"solidity\":0.2}},\"type\":\"barpolar\"}],\"pie\":[{\"automargin\":true,\"type\":\"pie\"}]},\"layout\":{\"autotypenumbers\":\"strict\",\"colorway\":[\"#636efa\",\"#EF553B\",\"#00cc96\",\"#ab63fa\",\"#FFA15A\",\"#19d3f3\",\"#FF6692\",\"#B6E880\",\"#FF97FF\",\"#FECB52\"],\"font\":{\"color\":\"#2a3f5f\"},\"hovermode\":\"closest\",\"hoverlabel\":{\"align\":\"left\"},\"paper_bgcolor\":\"white\",\"plot_bgcolor\":\"#E5ECF6\",\"polar\":{\"bgcolor\":\"#E5ECF6\",\"angularaxis\":{\"gridcolor\":\"white\",\"linecolor\":\"white\",\"ticks\":\"\"},\"radialaxis\":{\"gridcolor\":\"white\",\"linecolor\":\"white\",\"ticks\":\"\"}},\"ternary\":{\"bgcolor\":\"#E5ECF6\",\"aaxis\":{\"gridcolor\":\"white\",\"linecolor\":\"white\",\"ticks\":\"\"},\"baxis\":{\"gridcolor\":\"white\",\"linecolor\":\"white\",\"ticks\":\"\"},\"caxis\":{\"gridcolor\":\"white\",\"linecolor\":\"white\",\"ticks\":\"\"}},\"coloraxis\":{\"colorbar\":{\"outlinewidth\":0,\"ticks\":\"\"}},\"colorscale\":{\"sequential\":[[0.0,\"#0d0887\"],[0.1111111111111111,\"#46039f\"],[0.2222222222222222,\"#7201a8\"],[0.3333333333333333,\"#9c179e\"],[0.4444444444444444,\"#bd3786\"],[0.5555555555555556,\"#d8576b\"],[0.6666666666666666,\"#ed7953\"],[0.7777777777777778,\"#fb9f3a\"],[0.8888888888888888,\"#fdca26\"],[1.0,\"#f0f921\"]],\"sequentialminus\":[[0.0,\"#0d0887\"],[0.1111111111111111,\"#46039f\"],[0.2222222222222222,\"#7201a8\"],[0.3333333333333333,\"#9c179e\"],[0.4444444444444444,\"#bd3786\"],[0.5555555555555556,\"#d8576b\"],[0.6666666666666666,\"#ed7953\"],[0.7777777777777778,\"#fb9f3a\"],[0.8888888888888888,\"#fdca26\"],[1.0,\"#f0f921\"]],\"diverging\":[[0,\"#8e0152\"],[0.1,\"#c51b7d\"],[0.2,\"#de77ae\"],[0.3,\"#f1b6da\"],[0.4,\"#fde0ef\"],[0.5,\"#f7f7f7\"],[0.6,\"#e6f5d0\"],[0.7,\"#b8e186\"],[0.8,\"#7fbc41\"],[0.9,\"#4d9221\"],[1,\"#276419\"]]},\"xaxis\":{\"gridcolor\":\"white\",\"linecolor\":\"white\",\"ticks\":\"\",\"title\":{\"standoff\":15},\"zerolinecolor\":\"white\",\"automargin\":true,\"zerolinewidth\":2},\"yaxis\":{\"gridcolor\":\"white\",\"linecolor\":\"white\",\"ticks\":\"\",\"title\":{\"standoff\":15},\"zerolinecolor\":\"white\",\"automargin\":true,\"zerolinewidth\":2},\"scene\":{\"xaxis\":{\"backgroundcolor\":\"#E5ECF6\",\"gridcolor\":\"white\",\"linecolor\":\"white\",\"showbackground\":true,\"ticks\":\"\",\"zerolinecolor\":\"white\",\"gridwidth\":2},\"yaxis\":{\"backgroundcolor\":\"#E5ECF6\",\"gridcolor\":\"white\",\"linecolor\":\"white\",\"showbackground\":true,\"ticks\":\"\",\"zerolinecolor\":\"white\",\"gridwidth\":2},\"zaxis\":{\"backgroundcolor\":\"#E5ECF6\",\"gridcolor\":\"white\",\"linecolor\":\"white\",\"showbackground\":true,\"ticks\":\"\",\"zerolinecolor\":\"white\",\"gridwidth\":2}},\"shapedefaults\":{\"line\":{\"color\":\"#2a3f5f\"}},\"annotationdefaults\":{\"arrowcolor\":\"#2a3f5f\",\"arrowhead\":0,\"arrowwidth\":1},\"geo\":{\"bgcolor\":\"white\",\"landcolor\":\"#E5ECF6\",\"subunitcolor\":\"white\",\"showland\":true,\"showlakes\":true,\"lakecolor\":\"white\"},\"title\":{\"x\":0.05},\"mapbox\":{\"style\":\"light\"}}},\"legend\":{\"tracegroupgap\":0},\"title\":{\"text\":\"Primary Causes of Flight Delays (Mean Delays) on Tue\"}},                        {\"responsive\": true}                    ).then(function(){\n",
              "                            \n",
              "var gd = document.getElementById('a3f0a8db-c810-42fb-8215-f33076356b5d');\n",
              "var x = new MutationObserver(function (mutations, observer) {{\n",
              "        var display = window.getComputedStyle(gd).display;\n",
              "        if (!display || display === 'none') {{\n",
              "            console.log([gd, 'removed!']);\n",
              "            Plotly.purge(gd);\n",
              "            observer.disconnect();\n",
              "        }}\n",
              "}});\n",
              "\n",
              "// Listen for the removal of the full notebook cells\n",
              "var notebookContainer = gd.closest('#notebook-container');\n",
              "if (notebookContainer) {{\n",
              "    x.observe(notebookContainer, {childList: true});\n",
              "}}\n",
              "\n",
              "// Listen for the clearing of the current output cell\n",
              "var outputEl = gd.closest('.output');\n",
              "if (outputEl) {{\n",
              "    x.observe(outputEl, {childList: true});\n",
              "}}\n",
              "\n",
              "                        })                };                });            </script>        </div>"
            ]
          },
          "metadata": {}
        }
      ],
      "source": [
        "import pandas as pd\n",
        "import plotly.express as px\n",
        "\n",
        "# Use your dataset as a DataFrame\n",
        "df = airline_final\n",
        "\n",
        "def generate_pie_chart(day):\n",
        "    # Filter the dataset based on the given day\n",
        "    filtered_df = df[df['day_week_name'] == day]\n",
        "\n",
        "    # Calculate the mean delays for each cause and round to three decimal places\n",
        "    causes = ['mins_late_delay_code_e_carrier', 'mins_late_delay_code_f_weather', 'mins_late_delay_code_g_nas', 'mins_late_delay_code_h_security', 'mins_late_delay_code_i_late_arr_flight']\n",
        "    mean_delays = filtered_df[causes].mean().round(3)\n",
        "\n",
        "    # Create a new DataFrame for the pie chart\n",
        "    delay_data = pd.DataFrame({'cause': causes, 'mean_delays': mean_delays}).sort_values(by='mean_delays', ascending=False)\n",
        "\n",
        "    # Create a pie chart using Plotly Express\n",
        "    fig = px.pie(delay_data, values='mean_delays', names='cause', title=f'Primary Causes of Flight Delays (Mean Delays) on {day}')\n",
        "    fig.show()\n",
        "\n",
        "# Generate the pie chart for a specific day, e.g., 'Mon' for Monday\n",
        "generate_pie_chart('Tue')\n"
      ]
    },
    {
      "cell_type": "markdown",
      "id": "de7a741d",
      "metadata": {
        "id": "de7a741d"
      },
      "source": [
        "### Airports with the Highest Average Delays"
      ]
    },
    {
      "cell_type": "code",
      "execution_count": 19,
      "id": "bac2cc38",
      "metadata": {
        "colab": {
          "base_uri": "https://localhost:8080/",
          "height": 407
        },
        "id": "bac2cc38",
        "outputId": "ac1cff5e-d7df-4df8-9304-97e280b3c740"
      },
      "outputs": [
        {
          "output_type": "error",
          "ename": "FileNotFoundError",
          "evalue": "ignored",
          "traceback": [
            "\u001b[0;31m---------------------------------------------------------------------------\u001b[0m",
            "\u001b[0;31mFileNotFoundError\u001b[0m                         Traceback (most recent call last)",
            "\u001b[0;32m<ipython-input-19-054f8534336b>\u001b[0m in \u001b[0;36m<cell line: 5>\u001b[0;34m()\u001b[0m\n\u001b[1;32m      3\u001b[0m \u001b[0;34m\u001b[0m\u001b[0m\n\u001b[1;32m      4\u001b[0m \u001b[0;31m# Read the CSV file\u001b[0m\u001b[0;34m\u001b[0m\u001b[0;34m\u001b[0m\u001b[0m\n\u001b[0;32m----> 5\u001b[0;31m \u001b[0mdf\u001b[0m \u001b[0;34m=\u001b[0m \u001b[0mpd\u001b[0m\u001b[0;34m.\u001b[0m\u001b[0mread_csv\u001b[0m\u001b[0;34m(\u001b[0m\u001b[0;34m'airline_geo_df.csv'\u001b[0m\u001b[0;34m)\u001b[0m\u001b[0;34m\u001b[0m\u001b[0;34m\u001b[0m\u001b[0m\n\u001b[0m\u001b[1;32m      6\u001b[0m \u001b[0;34m\u001b[0m\u001b[0m\n\u001b[1;32m      7\u001b[0m \u001b[0;31m# Add the 'average_delay' column to the DataFrame\u001b[0m\u001b[0;34m\u001b[0m\u001b[0;34m\u001b[0m\u001b[0m\n",
            "\u001b[0;32m/usr/local/lib/python3.9/dist-packages/pandas/util/_decorators.py\u001b[0m in \u001b[0;36mwrapper\u001b[0;34m(*args, **kwargs)\u001b[0m\n\u001b[1;32m    209\u001b[0m                 \u001b[0;32melse\u001b[0m\u001b[0;34m:\u001b[0m\u001b[0;34m\u001b[0m\u001b[0;34m\u001b[0m\u001b[0m\n\u001b[1;32m    210\u001b[0m                     \u001b[0mkwargs\u001b[0m\u001b[0;34m[\u001b[0m\u001b[0mnew_arg_name\u001b[0m\u001b[0;34m]\u001b[0m \u001b[0;34m=\u001b[0m \u001b[0mnew_arg_value\u001b[0m\u001b[0;34m\u001b[0m\u001b[0;34m\u001b[0m\u001b[0m\n\u001b[0;32m--> 211\u001b[0;31m             \u001b[0;32mreturn\u001b[0m \u001b[0mfunc\u001b[0m\u001b[0;34m(\u001b[0m\u001b[0;34m*\u001b[0m\u001b[0margs\u001b[0m\u001b[0;34m,\u001b[0m \u001b[0;34m**\u001b[0m\u001b[0mkwargs\u001b[0m\u001b[0;34m)\u001b[0m\u001b[0;34m\u001b[0m\u001b[0;34m\u001b[0m\u001b[0m\n\u001b[0m\u001b[1;32m    212\u001b[0m \u001b[0;34m\u001b[0m\u001b[0m\n\u001b[1;32m    213\u001b[0m         \u001b[0;32mreturn\u001b[0m \u001b[0mcast\u001b[0m\u001b[0;34m(\u001b[0m\u001b[0mF\u001b[0m\u001b[0;34m,\u001b[0m \u001b[0mwrapper\u001b[0m\u001b[0;34m)\u001b[0m\u001b[0;34m\u001b[0m\u001b[0;34m\u001b[0m\u001b[0m\n",
            "\u001b[0;32m/usr/local/lib/python3.9/dist-packages/pandas/util/_decorators.py\u001b[0m in \u001b[0;36mwrapper\u001b[0;34m(*args, **kwargs)\u001b[0m\n\u001b[1;32m    329\u001b[0m                     \u001b[0mstacklevel\u001b[0m\u001b[0;34m=\u001b[0m\u001b[0mfind_stack_level\u001b[0m\u001b[0;34m(\u001b[0m\u001b[0;34m)\u001b[0m\u001b[0;34m,\u001b[0m\u001b[0;34m\u001b[0m\u001b[0;34m\u001b[0m\u001b[0m\n\u001b[1;32m    330\u001b[0m                 )\n\u001b[0;32m--> 331\u001b[0;31m             \u001b[0;32mreturn\u001b[0m \u001b[0mfunc\u001b[0m\u001b[0;34m(\u001b[0m\u001b[0;34m*\u001b[0m\u001b[0margs\u001b[0m\u001b[0;34m,\u001b[0m \u001b[0;34m**\u001b[0m\u001b[0mkwargs\u001b[0m\u001b[0;34m)\u001b[0m\u001b[0;34m\u001b[0m\u001b[0;34m\u001b[0m\u001b[0m\n\u001b[0m\u001b[1;32m    332\u001b[0m \u001b[0;34m\u001b[0m\u001b[0m\n\u001b[1;32m    333\u001b[0m         \u001b[0;31m# error: \"Callable[[VarArg(Any), KwArg(Any)], Any]\" has no\u001b[0m\u001b[0;34m\u001b[0m\u001b[0;34m\u001b[0m\u001b[0m\n",
            "\u001b[0;32m/usr/local/lib/python3.9/dist-packages/pandas/io/parsers/readers.py\u001b[0m in \u001b[0;36mread_csv\u001b[0;34m(filepath_or_buffer, sep, delimiter, header, names, index_col, usecols, squeeze, prefix, mangle_dupe_cols, dtype, engine, converters, true_values, false_values, skipinitialspace, skiprows, skipfooter, nrows, na_values, keep_default_na, na_filter, verbose, skip_blank_lines, parse_dates, infer_datetime_format, keep_date_col, date_parser, dayfirst, cache_dates, iterator, chunksize, compression, thousands, decimal, lineterminator, quotechar, quoting, doublequote, escapechar, comment, encoding, encoding_errors, dialect, error_bad_lines, warn_bad_lines, on_bad_lines, delim_whitespace, low_memory, memory_map, float_precision, storage_options)\u001b[0m\n\u001b[1;32m    948\u001b[0m     \u001b[0mkwds\u001b[0m\u001b[0;34m.\u001b[0m\u001b[0mupdate\u001b[0m\u001b[0;34m(\u001b[0m\u001b[0mkwds_defaults\u001b[0m\u001b[0;34m)\u001b[0m\u001b[0;34m\u001b[0m\u001b[0;34m\u001b[0m\u001b[0m\n\u001b[1;32m    949\u001b[0m \u001b[0;34m\u001b[0m\u001b[0m\n\u001b[0;32m--> 950\u001b[0;31m     \u001b[0;32mreturn\u001b[0m \u001b[0m_read\u001b[0m\u001b[0;34m(\u001b[0m\u001b[0mfilepath_or_buffer\u001b[0m\u001b[0;34m,\u001b[0m \u001b[0mkwds\u001b[0m\u001b[0;34m)\u001b[0m\u001b[0;34m\u001b[0m\u001b[0;34m\u001b[0m\u001b[0m\n\u001b[0m\u001b[1;32m    951\u001b[0m \u001b[0;34m\u001b[0m\u001b[0m\n\u001b[1;32m    952\u001b[0m \u001b[0;34m\u001b[0m\u001b[0m\n",
            "\u001b[0;32m/usr/local/lib/python3.9/dist-packages/pandas/io/parsers/readers.py\u001b[0m in \u001b[0;36m_read\u001b[0;34m(filepath_or_buffer, kwds)\u001b[0m\n\u001b[1;32m    603\u001b[0m \u001b[0;34m\u001b[0m\u001b[0m\n\u001b[1;32m    604\u001b[0m     \u001b[0;31m# Create the parser.\u001b[0m\u001b[0;34m\u001b[0m\u001b[0;34m\u001b[0m\u001b[0m\n\u001b[0;32m--> 605\u001b[0;31m     \u001b[0mparser\u001b[0m \u001b[0;34m=\u001b[0m \u001b[0mTextFileReader\u001b[0m\u001b[0;34m(\u001b[0m\u001b[0mfilepath_or_buffer\u001b[0m\u001b[0;34m,\u001b[0m \u001b[0;34m**\u001b[0m\u001b[0mkwds\u001b[0m\u001b[0;34m)\u001b[0m\u001b[0;34m\u001b[0m\u001b[0;34m\u001b[0m\u001b[0m\n\u001b[0m\u001b[1;32m    606\u001b[0m \u001b[0;34m\u001b[0m\u001b[0m\n\u001b[1;32m    607\u001b[0m     \u001b[0;32mif\u001b[0m \u001b[0mchunksize\u001b[0m \u001b[0;32mor\u001b[0m \u001b[0miterator\u001b[0m\u001b[0;34m:\u001b[0m\u001b[0;34m\u001b[0m\u001b[0;34m\u001b[0m\u001b[0m\n",
            "\u001b[0;32m/usr/local/lib/python3.9/dist-packages/pandas/io/parsers/readers.py\u001b[0m in \u001b[0;36m__init__\u001b[0;34m(self, f, engine, **kwds)\u001b[0m\n\u001b[1;32m   1440\u001b[0m \u001b[0;34m\u001b[0m\u001b[0m\n\u001b[1;32m   1441\u001b[0m         \u001b[0mself\u001b[0m\u001b[0;34m.\u001b[0m\u001b[0mhandles\u001b[0m\u001b[0;34m:\u001b[0m \u001b[0mIOHandles\u001b[0m \u001b[0;34m|\u001b[0m \u001b[0;32mNone\u001b[0m \u001b[0;34m=\u001b[0m \u001b[0;32mNone\u001b[0m\u001b[0;34m\u001b[0m\u001b[0;34m\u001b[0m\u001b[0m\n\u001b[0;32m-> 1442\u001b[0;31m         \u001b[0mself\u001b[0m\u001b[0;34m.\u001b[0m\u001b[0m_engine\u001b[0m \u001b[0;34m=\u001b[0m \u001b[0mself\u001b[0m\u001b[0;34m.\u001b[0m\u001b[0m_make_engine\u001b[0m\u001b[0;34m(\u001b[0m\u001b[0mf\u001b[0m\u001b[0;34m,\u001b[0m \u001b[0mself\u001b[0m\u001b[0;34m.\u001b[0m\u001b[0mengine\u001b[0m\u001b[0;34m)\u001b[0m\u001b[0;34m\u001b[0m\u001b[0;34m\u001b[0m\u001b[0m\n\u001b[0m\u001b[1;32m   1443\u001b[0m \u001b[0;34m\u001b[0m\u001b[0m\n\u001b[1;32m   1444\u001b[0m     \u001b[0;32mdef\u001b[0m \u001b[0mclose\u001b[0m\u001b[0;34m(\u001b[0m\u001b[0mself\u001b[0m\u001b[0;34m)\u001b[0m \u001b[0;34m->\u001b[0m \u001b[0;32mNone\u001b[0m\u001b[0;34m:\u001b[0m\u001b[0;34m\u001b[0m\u001b[0;34m\u001b[0m\u001b[0m\n",
            "\u001b[0;32m/usr/local/lib/python3.9/dist-packages/pandas/io/parsers/readers.py\u001b[0m in \u001b[0;36m_make_engine\u001b[0;34m(self, f, engine)\u001b[0m\n\u001b[1;32m   1733\u001b[0m                 \u001b[0;32mif\u001b[0m \u001b[0;34m\"b\"\u001b[0m \u001b[0;32mnot\u001b[0m \u001b[0;32min\u001b[0m \u001b[0mmode\u001b[0m\u001b[0;34m:\u001b[0m\u001b[0;34m\u001b[0m\u001b[0;34m\u001b[0m\u001b[0m\n\u001b[1;32m   1734\u001b[0m                     \u001b[0mmode\u001b[0m \u001b[0;34m+=\u001b[0m \u001b[0;34m\"b\"\u001b[0m\u001b[0;34m\u001b[0m\u001b[0;34m\u001b[0m\u001b[0m\n\u001b[0;32m-> 1735\u001b[0;31m             self.handles = get_handle(\n\u001b[0m\u001b[1;32m   1736\u001b[0m                 \u001b[0mf\u001b[0m\u001b[0;34m,\u001b[0m\u001b[0;34m\u001b[0m\u001b[0;34m\u001b[0m\u001b[0m\n\u001b[1;32m   1737\u001b[0m                 \u001b[0mmode\u001b[0m\u001b[0;34m,\u001b[0m\u001b[0;34m\u001b[0m\u001b[0;34m\u001b[0m\u001b[0m\n",
            "\u001b[0;32m/usr/local/lib/python3.9/dist-packages/pandas/io/common.py\u001b[0m in \u001b[0;36mget_handle\u001b[0;34m(path_or_buf, mode, encoding, compression, memory_map, is_text, errors, storage_options)\u001b[0m\n\u001b[1;32m    854\u001b[0m         \u001b[0;32mif\u001b[0m \u001b[0mioargs\u001b[0m\u001b[0;34m.\u001b[0m\u001b[0mencoding\u001b[0m \u001b[0;32mand\u001b[0m \u001b[0;34m\"b\"\u001b[0m \u001b[0;32mnot\u001b[0m \u001b[0;32min\u001b[0m \u001b[0mioargs\u001b[0m\u001b[0;34m.\u001b[0m\u001b[0mmode\u001b[0m\u001b[0;34m:\u001b[0m\u001b[0;34m\u001b[0m\u001b[0;34m\u001b[0m\u001b[0m\n\u001b[1;32m    855\u001b[0m             \u001b[0;31m# Encoding\u001b[0m\u001b[0;34m\u001b[0m\u001b[0;34m\u001b[0m\u001b[0m\n\u001b[0;32m--> 856\u001b[0;31m             handle = open(\n\u001b[0m\u001b[1;32m    857\u001b[0m                 \u001b[0mhandle\u001b[0m\u001b[0;34m,\u001b[0m\u001b[0;34m\u001b[0m\u001b[0;34m\u001b[0m\u001b[0m\n\u001b[1;32m    858\u001b[0m                 \u001b[0mioargs\u001b[0m\u001b[0;34m.\u001b[0m\u001b[0mmode\u001b[0m\u001b[0;34m,\u001b[0m\u001b[0;34m\u001b[0m\u001b[0;34m\u001b[0m\u001b[0m\n",
            "\u001b[0;31mFileNotFoundError\u001b[0m: [Errno 2] No such file or directory: 'airline_geo_df.csv'"
          ]
        }
      ],
      "source": [
        "import pandas as pd\n",
        "import plotly.express as px\n",
        "\n",
        "# Read the CSV file\n",
        "df = pd.read_csv('airline_geo_df.csv')\n",
        "\n",
        "# Add the 'average_delay' column to the DataFrame\n",
        "df['average_delay'] = airline_final['arr_delay_time_actual']\n",
        "\n",
        "# Sort the DataFrame by the 'average_delay' column\n",
        "df1 = df.sort_values(by='average_delay', ascending=False).head(25)\n",
        "\n",
        "# Create the map\n",
        "fig = px.scatter_mapbox(df1,\n",
        "                        lon=df1['longitude'],\n",
        "                        lat=df1['latitude'],\n",
        "                        zoom=1,\n",
        "                        color=df1['dept_airport'],\n",
        "                        size=df1['average_delay'],\n",
        "                        title='Top 25 Airports with the Highest Average Delays')\n",
        "fig.update_layout(mapbox_style='open-street-map')\n",
        "fig.update_layout(margin={'r': 0, 't': 50, 'l': 0, 'b': 10})\n",
        "fig.show()\n"
      ]
    },
    {
      "cell_type": "markdown",
      "id": "707f2afd",
      "metadata": {
        "id": "707f2afd"
      },
      "source": [
        "### Arrival Delay Time by Airline Across the Months"
      ]
    },
    {
      "cell_type": "code",
      "execution_count": 21,
      "id": "d150cda9",
      "metadata": {
        "colab": {
          "base_uri": "https://localhost:8080/",
          "height": 542
        },
        "id": "d150cda9",
        "outputId": "ed452ef3-ca63-4284-e78f-dc7733675bb3"
      },
      "outputs": [
        {
          "output_type": "display_data",
          "data": {
            "application/vnd.plotly.v1+json": {
              "data": [
                {
                  "hovertemplate": "mkt_ccode=AA<br>month=%{x}<br>mean_arr_delay=%{y}<extra></extra>",
                  "legendgroup": "AA",
                  "line": {
                    "color": "rgb(102, 197, 204)",
                    "dash": "solid"
                  },
                  "marker": {
                    "symbol": "circle"
                  },
                  "mode": "lines",
                  "name": "AA",
                  "orientation": "v",
                  "showlegend": true,
                  "x": [
                    "January",
                    "February",
                    "March",
                    "April",
                    "May",
                    "June",
                    "July",
                    "August",
                    "September",
                    "October"
                  ],
                  "xaxis": "x",
                  "y": [
                    2.2786990564143745,
                    7.086162923348568,
                    4.723707004853278,
                    6.364336492890995,
                    8.822027197975965,
                    14.864651110980061,
                    13.538090633578424,
                    11.066884005315632,
                    4.184592317276625,
                    4.798891273736449
                  ],
                  "yaxis": "y",
                  "type": "scatter"
                },
                {
                  "hovertemplate": "mkt_ccode=AS<br>month=%{x}<br>mean_arr_delay=%{y}<extra></extra>",
                  "legendgroup": "AS",
                  "line": {
                    "color": "rgb(246, 207, 113)",
                    "dash": "solid"
                  },
                  "marker": {
                    "symbol": "circle"
                  },
                  "mode": "lines",
                  "name": "AS",
                  "orientation": "v",
                  "showlegend": true,
                  "x": [
                    "January",
                    "February",
                    "March",
                    "April",
                    "May",
                    "June",
                    "July",
                    "August",
                    "September",
                    "October"
                  ],
                  "xaxis": "x",
                  "y": [
                    6.575545145091167,
                    0.6017646841658361,
                    1.7995412259462216,
                    5.550683161004431,
                    3.7093175074183975,
                    5.900685033065449,
                    2.784124460595049,
                    2.9149758177603524,
                    2.2071549647604605,
                    -0.9551076054143539
                  ],
                  "yaxis": "y",
                  "type": "scatter"
                },
                {
                  "hovertemplate": "mkt_ccode=B6<br>month=%{x}<br>mean_arr_delay=%{y}<extra></extra>",
                  "legendgroup": "B6",
                  "line": {
                    "color": "rgb(248, 156, 116)",
                    "dash": "solid"
                  },
                  "marker": {
                    "symbol": "circle"
                  },
                  "mode": "lines",
                  "name": "B6",
                  "orientation": "v",
                  "showlegend": true,
                  "x": [
                    "January",
                    "February",
                    "March",
                    "April",
                    "May",
                    "June",
                    "July",
                    "August",
                    "September",
                    "October"
                  ],
                  "xaxis": "x",
                  "y": [
                    17.30836302268892,
                    20.09159823120657,
                    18.16279576452133,
                    28.06085083467959,
                    13.005889331412591,
                    23.873610655161094,
                    17.370315301526215,
                    18.10692640692641,
                    12.928390226534336,
                    9.579411638761615
                  ],
                  "yaxis": "y",
                  "type": "scatter"
                },
                {
                  "hovertemplate": "mkt_ccode=DL<br>month=%{x}<br>mean_arr_delay=%{y}<extra></extra>",
                  "legendgroup": "DL",
                  "line": {
                    "color": "rgb(220, 176, 242)",
                    "dash": "solid"
                  },
                  "marker": {
                    "symbol": "circle"
                  },
                  "mode": "lines",
                  "name": "DL",
                  "orientation": "v",
                  "showlegend": true,
                  "x": [
                    "January",
                    "February",
                    "March",
                    "April",
                    "May",
                    "June",
                    "July",
                    "August",
                    "September",
                    "October"
                  ],
                  "xaxis": "x",
                  "y": [
                    2.8314849097301247,
                    1.78898753305629,
                    5.419073279339163,
                    5.451214298633606,
                    5.853504943931945,
                    6.732924839851988,
                    6.306819517469969,
                    3.859145390685294,
                    -2.376121066906271,
                    -1.4341460171843579
                  ],
                  "yaxis": "y",
                  "type": "scatter"
                },
                {
                  "hovertemplate": "mkt_ccode=F9<br>month=%{x}<br>mean_arr_delay=%{y}<extra></extra>",
                  "legendgroup": "F9",
                  "line": {
                    "color": "rgb(135, 197, 95)",
                    "dash": "solid"
                  },
                  "marker": {
                    "symbol": "circle"
                  },
                  "mode": "lines",
                  "name": "F9",
                  "orientation": "v",
                  "showlegend": true,
                  "x": [
                    "January",
                    "February",
                    "March",
                    "April",
                    "May",
                    "June",
                    "July",
                    "August",
                    "September",
                    "October"
                  ],
                  "xaxis": "x",
                  "y": [
                    10.752886452363153,
                    13.322432845207079,
                    24.060847996279357,
                    24.620011472588708,
                    19.22621864647421,
                    14.245856798069187,
                    12.31324478178368,
                    15.872460073479793,
                    12.662226169330966,
                    13.945117752375706
                  ],
                  "yaxis": "y",
                  "type": "scatter"
                },
                {
                  "hovertemplate": "mkt_ccode=G4<br>month=%{x}<br>mean_arr_delay=%{y}<extra></extra>",
                  "legendgroup": "G4",
                  "line": {
                    "color": "rgb(158, 185, 243)",
                    "dash": "solid"
                  },
                  "marker": {
                    "symbol": "circle"
                  },
                  "mode": "lines",
                  "name": "G4",
                  "orientation": "v",
                  "showlegend": true,
                  "x": [
                    "January",
                    "February",
                    "March",
                    "April",
                    "May",
                    "June",
                    "July",
                    "August",
                    "September",
                    "October"
                  ],
                  "xaxis": "x",
                  "y": [
                    11.496786779894423,
                    12.94880073800738,
                    22.14796872344042,
                    22.547239612976664,
                    17.579710144927535,
                    23.27923544743701,
                    25.999758706667738,
                    19.238310708898943,
                    10.127547384922332,
                    11.42316258351893
                  ],
                  "yaxis": "y",
                  "type": "scatter"
                },
                {
                  "hovertemplate": "mkt_ccode=HA<br>month=%{x}<br>mean_arr_delay=%{y}<extra></extra>",
                  "legendgroup": "HA",
                  "line": {
                    "color": "rgb(254, 136, 177)",
                    "dash": "solid"
                  },
                  "marker": {
                    "symbol": "circle"
                  },
                  "mode": "lines",
                  "name": "HA",
                  "orientation": "v",
                  "showlegend": true,
                  "x": [
                    "January",
                    "February",
                    "March",
                    "April",
                    "May",
                    "June",
                    "July",
                    "August",
                    "September",
                    "October"
                  ],
                  "xaxis": "x",
                  "y": [
                    7.02202868852459,
                    1.2646468699839486,
                    2.8272591113330003,
                    4.896328293736501,
                    2.3949459631277814,
                    6.782691695832008,
                    7.012437074326325,
                    8.779091188210009,
                    4.0966677664137245,
                    18.867689357622243
                  ],
                  "yaxis": "y",
                  "type": "scatter"
                },
                {
                  "hovertemplate": "mkt_ccode=NK<br>month=%{x}<br>mean_arr_delay=%{y}<extra></extra>",
                  "legendgroup": "NK",
                  "line": {
                    "color": "rgb(201, 219, 116)",
                    "dash": "solid"
                  },
                  "marker": {
                    "symbol": "circle"
                  },
                  "mode": "lines",
                  "name": "NK",
                  "orientation": "v",
                  "showlegend": true,
                  "x": [
                    "January",
                    "February",
                    "March",
                    "April",
                    "May",
                    "June",
                    "July",
                    "August",
                    "September",
                    "October"
                  ],
                  "xaxis": "x",
                  "y": [
                    8.450666514754472,
                    11.669914519696336,
                    15.846277812435018,
                    19.856484211654962,
                    13.698779401749698,
                    9.461977903530046,
                    6.151660478547854,
                    3.5497165619733413,
                    4.263280822938926,
                    3.135056527653985
                  ],
                  "yaxis": "y",
                  "type": "scatter"
                },
                {
                  "hovertemplate": "mkt_ccode=UA<br>month=%{x}<br>mean_arr_delay=%{y}<extra></extra>",
                  "legendgroup": "UA",
                  "line": {
                    "color": "rgb(139, 224, 164)",
                    "dash": "solid"
                  },
                  "marker": {
                    "symbol": "circle"
                  },
                  "mode": "lines",
                  "name": "UA",
                  "orientation": "v",
                  "showlegend": true,
                  "x": [
                    "January",
                    "February",
                    "March",
                    "April",
                    "May",
                    "June",
                    "July",
                    "August",
                    "September",
                    "October"
                  ],
                  "xaxis": "x",
                  "y": [
                    7.144530491828734,
                    5.5363093693226055,
                    6.723155268400767,
                    4.942176578844485,
                    8.03658383082788,
                    9.021376539019064,
                    6.94307048329312,
                    7.103821503112244,
                    -0.5901464248261934,
                    -0.9125851987038623
                  ],
                  "yaxis": "y",
                  "type": "scatter"
                },
                {
                  "hovertemplate": "mkt_ccode=WN<br>month=%{x}<br>mean_arr_delay=%{y}<extra></extra>",
                  "legendgroup": "WN",
                  "line": {
                    "color": "rgb(180, 151, 231)",
                    "dash": "solid"
                  },
                  "marker": {
                    "symbol": "circle"
                  },
                  "mode": "lines",
                  "name": "WN",
                  "orientation": "v",
                  "showlegend": true,
                  "x": [
                    "January",
                    "February",
                    "March",
                    "April",
                    "May",
                    "June",
                    "July",
                    "August",
                    "September",
                    "October"
                  ],
                  "xaxis": "x",
                  "y": [
                    1.1487335276489183,
                    0.0970153355686253,
                    9.063970304666409,
                    10.773605619298365,
                    5.453460708896849,
                    10.016639339831714,
                    12.576898272292183,
                    13.257668918066432,
                    5.12255137443288,
                    2.7459921043597664
                  ],
                  "yaxis": "y",
                  "type": "scatter"
                }
              ],
              "layout": {
                "template": {
                  "data": {
                    "histogram2dcontour": [
                      {
                        "type": "histogram2dcontour",
                        "colorbar": {
                          "outlinewidth": 0,
                          "ticks": ""
                        },
                        "colorscale": [
                          [
                            0,
                            "#0d0887"
                          ],
                          [
                            0.1111111111111111,
                            "#46039f"
                          ],
                          [
                            0.2222222222222222,
                            "#7201a8"
                          ],
                          [
                            0.3333333333333333,
                            "#9c179e"
                          ],
                          [
                            0.4444444444444444,
                            "#bd3786"
                          ],
                          [
                            0.5555555555555556,
                            "#d8576b"
                          ],
                          [
                            0.6666666666666666,
                            "#ed7953"
                          ],
                          [
                            0.7777777777777778,
                            "#fb9f3a"
                          ],
                          [
                            0.8888888888888888,
                            "#fdca26"
                          ],
                          [
                            1,
                            "#f0f921"
                          ]
                        ]
                      }
                    ],
                    "choropleth": [
                      {
                        "type": "choropleth",
                        "colorbar": {
                          "outlinewidth": 0,
                          "ticks": ""
                        }
                      }
                    ],
                    "histogram2d": [
                      {
                        "type": "histogram2d",
                        "colorbar": {
                          "outlinewidth": 0,
                          "ticks": ""
                        },
                        "colorscale": [
                          [
                            0,
                            "#0d0887"
                          ],
                          [
                            0.1111111111111111,
                            "#46039f"
                          ],
                          [
                            0.2222222222222222,
                            "#7201a8"
                          ],
                          [
                            0.3333333333333333,
                            "#9c179e"
                          ],
                          [
                            0.4444444444444444,
                            "#bd3786"
                          ],
                          [
                            0.5555555555555556,
                            "#d8576b"
                          ],
                          [
                            0.6666666666666666,
                            "#ed7953"
                          ],
                          [
                            0.7777777777777778,
                            "#fb9f3a"
                          ],
                          [
                            0.8888888888888888,
                            "#fdca26"
                          ],
                          [
                            1,
                            "#f0f921"
                          ]
                        ]
                      }
                    ],
                    "heatmap": [
                      {
                        "type": "heatmap",
                        "colorbar": {
                          "outlinewidth": 0,
                          "ticks": ""
                        },
                        "colorscale": [
                          [
                            0,
                            "#0d0887"
                          ],
                          [
                            0.1111111111111111,
                            "#46039f"
                          ],
                          [
                            0.2222222222222222,
                            "#7201a8"
                          ],
                          [
                            0.3333333333333333,
                            "#9c179e"
                          ],
                          [
                            0.4444444444444444,
                            "#bd3786"
                          ],
                          [
                            0.5555555555555556,
                            "#d8576b"
                          ],
                          [
                            0.6666666666666666,
                            "#ed7953"
                          ],
                          [
                            0.7777777777777778,
                            "#fb9f3a"
                          ],
                          [
                            0.8888888888888888,
                            "#fdca26"
                          ],
                          [
                            1,
                            "#f0f921"
                          ]
                        ]
                      }
                    ],
                    "heatmapgl": [
                      {
                        "type": "heatmapgl",
                        "colorbar": {
                          "outlinewidth": 0,
                          "ticks": ""
                        },
                        "colorscale": [
                          [
                            0,
                            "#0d0887"
                          ],
                          [
                            0.1111111111111111,
                            "#46039f"
                          ],
                          [
                            0.2222222222222222,
                            "#7201a8"
                          ],
                          [
                            0.3333333333333333,
                            "#9c179e"
                          ],
                          [
                            0.4444444444444444,
                            "#bd3786"
                          ],
                          [
                            0.5555555555555556,
                            "#d8576b"
                          ],
                          [
                            0.6666666666666666,
                            "#ed7953"
                          ],
                          [
                            0.7777777777777778,
                            "#fb9f3a"
                          ],
                          [
                            0.8888888888888888,
                            "#fdca26"
                          ],
                          [
                            1,
                            "#f0f921"
                          ]
                        ]
                      }
                    ],
                    "contourcarpet": [
                      {
                        "type": "contourcarpet",
                        "colorbar": {
                          "outlinewidth": 0,
                          "ticks": ""
                        }
                      }
                    ],
                    "contour": [
                      {
                        "type": "contour",
                        "colorbar": {
                          "outlinewidth": 0,
                          "ticks": ""
                        },
                        "colorscale": [
                          [
                            0,
                            "#0d0887"
                          ],
                          [
                            0.1111111111111111,
                            "#46039f"
                          ],
                          [
                            0.2222222222222222,
                            "#7201a8"
                          ],
                          [
                            0.3333333333333333,
                            "#9c179e"
                          ],
                          [
                            0.4444444444444444,
                            "#bd3786"
                          ],
                          [
                            0.5555555555555556,
                            "#d8576b"
                          ],
                          [
                            0.6666666666666666,
                            "#ed7953"
                          ],
                          [
                            0.7777777777777778,
                            "#fb9f3a"
                          ],
                          [
                            0.8888888888888888,
                            "#fdca26"
                          ],
                          [
                            1,
                            "#f0f921"
                          ]
                        ]
                      }
                    ],
                    "surface": [
                      {
                        "type": "surface",
                        "colorbar": {
                          "outlinewidth": 0,
                          "ticks": ""
                        },
                        "colorscale": [
                          [
                            0,
                            "#0d0887"
                          ],
                          [
                            0.1111111111111111,
                            "#46039f"
                          ],
                          [
                            0.2222222222222222,
                            "#7201a8"
                          ],
                          [
                            0.3333333333333333,
                            "#9c179e"
                          ],
                          [
                            0.4444444444444444,
                            "#bd3786"
                          ],
                          [
                            0.5555555555555556,
                            "#d8576b"
                          ],
                          [
                            0.6666666666666666,
                            "#ed7953"
                          ],
                          [
                            0.7777777777777778,
                            "#fb9f3a"
                          ],
                          [
                            0.8888888888888888,
                            "#fdca26"
                          ],
                          [
                            1,
                            "#f0f921"
                          ]
                        ]
                      }
                    ],
                    "mesh3d": [
                      {
                        "type": "mesh3d",
                        "colorbar": {
                          "outlinewidth": 0,
                          "ticks": ""
                        }
                      }
                    ],
                    "scatter": [
                      {
                        "fillpattern": {
                          "fillmode": "overlay",
                          "size": 10,
                          "solidity": 0.2
                        },
                        "type": "scatter"
                      }
                    ],
                    "parcoords": [
                      {
                        "type": "parcoords",
                        "line": {
                          "colorbar": {
                            "outlinewidth": 0,
                            "ticks": ""
                          }
                        }
                      }
                    ],
                    "scatterpolargl": [
                      {
                        "type": "scatterpolargl",
                        "marker": {
                          "colorbar": {
                            "outlinewidth": 0,
                            "ticks": ""
                          }
                        }
                      }
                    ],
                    "bar": [
                      {
                        "error_x": {
                          "color": "#2a3f5f"
                        },
                        "error_y": {
                          "color": "#2a3f5f"
                        },
                        "marker": {
                          "line": {
                            "color": "#E5ECF6",
                            "width": 0.5
                          },
                          "pattern": {
                            "fillmode": "overlay",
                            "size": 10,
                            "solidity": 0.2
                          }
                        },
                        "type": "bar"
                      }
                    ],
                    "scattergeo": [
                      {
                        "type": "scattergeo",
                        "marker": {
                          "colorbar": {
                            "outlinewidth": 0,
                            "ticks": ""
                          }
                        }
                      }
                    ],
                    "scatterpolar": [
                      {
                        "type": "scatterpolar",
                        "marker": {
                          "colorbar": {
                            "outlinewidth": 0,
                            "ticks": ""
                          }
                        }
                      }
                    ],
                    "histogram": [
                      {
                        "marker": {
                          "pattern": {
                            "fillmode": "overlay",
                            "size": 10,
                            "solidity": 0.2
                          }
                        },
                        "type": "histogram"
                      }
                    ],
                    "scattergl": [
                      {
                        "type": "scattergl",
                        "marker": {
                          "colorbar": {
                            "outlinewidth": 0,
                            "ticks": ""
                          }
                        }
                      }
                    ],
                    "scatter3d": [
                      {
                        "type": "scatter3d",
                        "line": {
                          "colorbar": {
                            "outlinewidth": 0,
                            "ticks": ""
                          }
                        },
                        "marker": {
                          "colorbar": {
                            "outlinewidth": 0,
                            "ticks": ""
                          }
                        }
                      }
                    ],
                    "scattermapbox": [
                      {
                        "type": "scattermapbox",
                        "marker": {
                          "colorbar": {
                            "outlinewidth": 0,
                            "ticks": ""
                          }
                        }
                      }
                    ],
                    "scatterternary": [
                      {
                        "type": "scatterternary",
                        "marker": {
                          "colorbar": {
                            "outlinewidth": 0,
                            "ticks": ""
                          }
                        }
                      }
                    ],
                    "scattercarpet": [
                      {
                        "type": "scattercarpet",
                        "marker": {
                          "colorbar": {
                            "outlinewidth": 0,
                            "ticks": ""
                          }
                        }
                      }
                    ],
                    "carpet": [
                      {
                        "aaxis": {
                          "endlinecolor": "#2a3f5f",
                          "gridcolor": "white",
                          "linecolor": "white",
                          "minorgridcolor": "white",
                          "startlinecolor": "#2a3f5f"
                        },
                        "baxis": {
                          "endlinecolor": "#2a3f5f",
                          "gridcolor": "white",
                          "linecolor": "white",
                          "minorgridcolor": "white",
                          "startlinecolor": "#2a3f5f"
                        },
                        "type": "carpet"
                      }
                    ],
                    "table": [
                      {
                        "cells": {
                          "fill": {
                            "color": "#EBF0F8"
                          },
                          "line": {
                            "color": "white"
                          }
                        },
                        "header": {
                          "fill": {
                            "color": "#C8D4E3"
                          },
                          "line": {
                            "color": "white"
                          }
                        },
                        "type": "table"
                      }
                    ],
                    "barpolar": [
                      {
                        "marker": {
                          "line": {
                            "color": "#E5ECF6",
                            "width": 0.5
                          },
                          "pattern": {
                            "fillmode": "overlay",
                            "size": 10,
                            "solidity": 0.2
                          }
                        },
                        "type": "barpolar"
                      }
                    ],
                    "pie": [
                      {
                        "automargin": true,
                        "type": "pie"
                      }
                    ]
                  },
                  "layout": {
                    "autotypenumbers": "strict",
                    "colorway": [
                      "#636efa",
                      "#EF553B",
                      "#00cc96",
                      "#ab63fa",
                      "#FFA15A",
                      "#19d3f3",
                      "#FF6692",
                      "#B6E880",
                      "#FF97FF",
                      "#FECB52"
                    ],
                    "font": {
                      "color": "#2a3f5f"
                    },
                    "hovermode": "closest",
                    "hoverlabel": {
                      "align": "left"
                    },
                    "paper_bgcolor": "white",
                    "plot_bgcolor": "#E5ECF6",
                    "polar": {
                      "bgcolor": "#E5ECF6",
                      "angularaxis": {
                        "gridcolor": "white",
                        "linecolor": "white",
                        "ticks": ""
                      },
                      "radialaxis": {
                        "gridcolor": "white",
                        "linecolor": "white",
                        "ticks": ""
                      }
                    },
                    "ternary": {
                      "bgcolor": "#E5ECF6",
                      "aaxis": {
                        "gridcolor": "white",
                        "linecolor": "white",
                        "ticks": ""
                      },
                      "baxis": {
                        "gridcolor": "white",
                        "linecolor": "white",
                        "ticks": ""
                      },
                      "caxis": {
                        "gridcolor": "white",
                        "linecolor": "white",
                        "ticks": ""
                      }
                    },
                    "coloraxis": {
                      "colorbar": {
                        "outlinewidth": 0,
                        "ticks": ""
                      }
                    },
                    "colorscale": {
                      "sequential": [
                        [
                          0,
                          "#0d0887"
                        ],
                        [
                          0.1111111111111111,
                          "#46039f"
                        ],
                        [
                          0.2222222222222222,
                          "#7201a8"
                        ],
                        [
                          0.3333333333333333,
                          "#9c179e"
                        ],
                        [
                          0.4444444444444444,
                          "#bd3786"
                        ],
                        [
                          0.5555555555555556,
                          "#d8576b"
                        ],
                        [
                          0.6666666666666666,
                          "#ed7953"
                        ],
                        [
                          0.7777777777777778,
                          "#fb9f3a"
                        ],
                        [
                          0.8888888888888888,
                          "#fdca26"
                        ],
                        [
                          1,
                          "#f0f921"
                        ]
                      ],
                      "sequentialminus": [
                        [
                          0,
                          "#0d0887"
                        ],
                        [
                          0.1111111111111111,
                          "#46039f"
                        ],
                        [
                          0.2222222222222222,
                          "#7201a8"
                        ],
                        [
                          0.3333333333333333,
                          "#9c179e"
                        ],
                        [
                          0.4444444444444444,
                          "#bd3786"
                        ],
                        [
                          0.5555555555555556,
                          "#d8576b"
                        ],
                        [
                          0.6666666666666666,
                          "#ed7953"
                        ],
                        [
                          0.7777777777777778,
                          "#fb9f3a"
                        ],
                        [
                          0.8888888888888888,
                          "#fdca26"
                        ],
                        [
                          1,
                          "#f0f921"
                        ]
                      ],
                      "diverging": [
                        [
                          0,
                          "#8e0152"
                        ],
                        [
                          0.1,
                          "#c51b7d"
                        ],
                        [
                          0.2,
                          "#de77ae"
                        ],
                        [
                          0.3,
                          "#f1b6da"
                        ],
                        [
                          0.4,
                          "#fde0ef"
                        ],
                        [
                          0.5,
                          "#f7f7f7"
                        ],
                        [
                          0.6,
                          "#e6f5d0"
                        ],
                        [
                          0.7,
                          "#b8e186"
                        ],
                        [
                          0.8,
                          "#7fbc41"
                        ],
                        [
                          0.9,
                          "#4d9221"
                        ],
                        [
                          1,
                          "#276419"
                        ]
                      ]
                    },
                    "xaxis": {
                      "gridcolor": "white",
                      "linecolor": "white",
                      "ticks": "",
                      "title": {
                        "standoff": 15
                      },
                      "zerolinecolor": "white",
                      "automargin": true,
                      "zerolinewidth": 2
                    },
                    "yaxis": {
                      "gridcolor": "white",
                      "linecolor": "white",
                      "ticks": "",
                      "title": {
                        "standoff": 15
                      },
                      "zerolinecolor": "white",
                      "automargin": true,
                      "zerolinewidth": 2
                    },
                    "scene": {
                      "xaxis": {
                        "backgroundcolor": "#E5ECF6",
                        "gridcolor": "white",
                        "linecolor": "white",
                        "showbackground": true,
                        "ticks": "",
                        "zerolinecolor": "white",
                        "gridwidth": 2
                      },
                      "yaxis": {
                        "backgroundcolor": "#E5ECF6",
                        "gridcolor": "white",
                        "linecolor": "white",
                        "showbackground": true,
                        "ticks": "",
                        "zerolinecolor": "white",
                        "gridwidth": 2
                      },
                      "zaxis": {
                        "backgroundcolor": "#E5ECF6",
                        "gridcolor": "white",
                        "linecolor": "white",
                        "showbackground": true,
                        "ticks": "",
                        "zerolinecolor": "white",
                        "gridwidth": 2
                      }
                    },
                    "shapedefaults": {
                      "line": {
                        "color": "#2a3f5f"
                      }
                    },
                    "annotationdefaults": {
                      "arrowcolor": "#2a3f5f",
                      "arrowhead": 0,
                      "arrowwidth": 1
                    },
                    "geo": {
                      "bgcolor": "white",
                      "landcolor": "#E5ECF6",
                      "subunitcolor": "white",
                      "showland": true,
                      "showlakes": true,
                      "lakecolor": "white"
                    },
                    "title": {
                      "x": 0.05
                    },
                    "mapbox": {
                      "style": "light"
                    }
                  }
                },
                "xaxis": {
                  "anchor": "y",
                  "domain": [
                    0,
                    1
                  ],
                  "title": {
                    "text": "Month"
                  }
                },
                "yaxis": {
                  "anchor": "x",
                  "domain": [
                    0,
                    1
                  ],
                  "title": {
                    "text": "Mean Arrival Delay Time (minutes)"
                  }
                },
                "legend": {
                  "title": {
                    "text": "mkt_ccode"
                  },
                  "tracegroupgap": 0
                },
                "title": {
                  "text": "Arrival Delay Time by Month and Airline"
                }
              },
              "config": {
                "plotlyServerURL": "https://plot.ly"
              }
            },
            "text/html": [
              "<div>                            <div id=\"48585193-f79c-4408-b4a8-b4de9c5f2f92\" class=\"plotly-graph-div\" style=\"height:525px; width:100%;\"></div>            <script type=\"text/javascript\">                require([\"plotly\"], function(Plotly) {                    window.PLOTLYENV=window.PLOTLYENV || {};                                    if (document.getElementById(\"48585193-f79c-4408-b4a8-b4de9c5f2f92\")) {                    Plotly.newPlot(                        \"48585193-f79c-4408-b4a8-b4de9c5f2f92\",                        [{\"hovertemplate\":\"mkt_ccode=AA<br>month=%{x}<br>mean_arr_delay=%{y}<extra></extra>\",\"legendgroup\":\"AA\",\"line\":{\"color\":\"rgb(102, 197, 204)\",\"dash\":\"solid\"},\"marker\":{\"symbol\":\"circle\"},\"mode\":\"lines\",\"name\":\"AA\",\"orientation\":\"v\",\"showlegend\":true,\"x\":[\"January\",\"February\",\"March\",\"April\",\"May\",\"June\",\"July\",\"August\",\"September\",\"October\"],\"xaxis\":\"x\",\"y\":[2.2786990564143745,7.086162923348568,4.723707004853278,6.364336492890995,8.822027197975965,14.864651110980061,13.538090633578424,11.066884005315632,4.184592317276625,4.798891273736449],\"yaxis\":\"y\",\"type\":\"scatter\"},{\"hovertemplate\":\"mkt_ccode=AS<br>month=%{x}<br>mean_arr_delay=%{y}<extra></extra>\",\"legendgroup\":\"AS\",\"line\":{\"color\":\"rgb(246, 207, 113)\",\"dash\":\"solid\"},\"marker\":{\"symbol\":\"circle\"},\"mode\":\"lines\",\"name\":\"AS\",\"orientation\":\"v\",\"showlegend\":true,\"x\":[\"January\",\"February\",\"March\",\"April\",\"May\",\"June\",\"July\",\"August\",\"September\",\"October\"],\"xaxis\":\"x\",\"y\":[6.575545145091167,0.6017646841658361,1.7995412259462216,5.550683161004431,3.7093175074183975,5.900685033065449,2.784124460595049,2.9149758177603524,2.2071549647604605,-0.9551076054143539],\"yaxis\":\"y\",\"type\":\"scatter\"},{\"hovertemplate\":\"mkt_ccode=B6<br>month=%{x}<br>mean_arr_delay=%{y}<extra></extra>\",\"legendgroup\":\"B6\",\"line\":{\"color\":\"rgb(248, 156, 116)\",\"dash\":\"solid\"},\"marker\":{\"symbol\":\"circle\"},\"mode\":\"lines\",\"name\":\"B6\",\"orientation\":\"v\",\"showlegend\":true,\"x\":[\"January\",\"February\",\"March\",\"April\",\"May\",\"June\",\"July\",\"August\",\"September\",\"October\"],\"xaxis\":\"x\",\"y\":[17.30836302268892,20.09159823120657,18.16279576452133,28.06085083467959,13.005889331412591,23.873610655161094,17.370315301526215,18.10692640692641,12.928390226534336,9.579411638761615],\"yaxis\":\"y\",\"type\":\"scatter\"},{\"hovertemplate\":\"mkt_ccode=DL<br>month=%{x}<br>mean_arr_delay=%{y}<extra></extra>\",\"legendgroup\":\"DL\",\"line\":{\"color\":\"rgb(220, 176, 242)\",\"dash\":\"solid\"},\"marker\":{\"symbol\":\"circle\"},\"mode\":\"lines\",\"name\":\"DL\",\"orientation\":\"v\",\"showlegend\":true,\"x\":[\"January\",\"February\",\"March\",\"April\",\"May\",\"June\",\"July\",\"August\",\"September\",\"October\"],\"xaxis\":\"x\",\"y\":[2.8314849097301247,1.78898753305629,5.419073279339163,5.451214298633606,5.853504943931945,6.732924839851988,6.306819517469969,3.859145390685294,-2.376121066906271,-1.4341460171843579],\"yaxis\":\"y\",\"type\":\"scatter\"},{\"hovertemplate\":\"mkt_ccode=F9<br>month=%{x}<br>mean_arr_delay=%{y}<extra></extra>\",\"legendgroup\":\"F9\",\"line\":{\"color\":\"rgb(135, 197, 95)\",\"dash\":\"solid\"},\"marker\":{\"symbol\":\"circle\"},\"mode\":\"lines\",\"name\":\"F9\",\"orientation\":\"v\",\"showlegend\":true,\"x\":[\"January\",\"February\",\"March\",\"April\",\"May\",\"June\",\"July\",\"August\",\"September\",\"October\"],\"xaxis\":\"x\",\"y\":[10.752886452363153,13.322432845207079,24.060847996279357,24.620011472588708,19.22621864647421,14.245856798069187,12.31324478178368,15.872460073479793,12.662226169330966,13.945117752375706],\"yaxis\":\"y\",\"type\":\"scatter\"},{\"hovertemplate\":\"mkt_ccode=G4<br>month=%{x}<br>mean_arr_delay=%{y}<extra></extra>\",\"legendgroup\":\"G4\",\"line\":{\"color\":\"rgb(158, 185, 243)\",\"dash\":\"solid\"},\"marker\":{\"symbol\":\"circle\"},\"mode\":\"lines\",\"name\":\"G4\",\"orientation\":\"v\",\"showlegend\":true,\"x\":[\"January\",\"February\",\"March\",\"April\",\"May\",\"June\",\"July\",\"August\",\"September\",\"October\"],\"xaxis\":\"x\",\"y\":[11.496786779894423,12.94880073800738,22.14796872344042,22.547239612976664,17.579710144927535,23.27923544743701,25.999758706667738,19.238310708898943,10.127547384922332,11.42316258351893],\"yaxis\":\"y\",\"type\":\"scatter\"},{\"hovertemplate\":\"mkt_ccode=HA<br>month=%{x}<br>mean_arr_delay=%{y}<extra></extra>\",\"legendgroup\":\"HA\",\"line\":{\"color\":\"rgb(254, 136, 177)\",\"dash\":\"solid\"},\"marker\":{\"symbol\":\"circle\"},\"mode\":\"lines\",\"name\":\"HA\",\"orientation\":\"v\",\"showlegend\":true,\"x\":[\"January\",\"February\",\"March\",\"April\",\"May\",\"June\",\"July\",\"August\",\"September\",\"October\"],\"xaxis\":\"x\",\"y\":[7.02202868852459,1.2646468699839486,2.8272591113330003,4.896328293736501,2.3949459631277814,6.782691695832008,7.012437074326325,8.779091188210009,4.0966677664137245,18.867689357622243],\"yaxis\":\"y\",\"type\":\"scatter\"},{\"hovertemplate\":\"mkt_ccode=NK<br>month=%{x}<br>mean_arr_delay=%{y}<extra></extra>\",\"legendgroup\":\"NK\",\"line\":{\"color\":\"rgb(201, 219, 116)\",\"dash\":\"solid\"},\"marker\":{\"symbol\":\"circle\"},\"mode\":\"lines\",\"name\":\"NK\",\"orientation\":\"v\",\"showlegend\":true,\"x\":[\"January\",\"February\",\"March\",\"April\",\"May\",\"June\",\"July\",\"August\",\"September\",\"October\"],\"xaxis\":\"x\",\"y\":[8.450666514754472,11.669914519696336,15.846277812435018,19.856484211654962,13.698779401749698,9.461977903530046,6.151660478547854,3.5497165619733413,4.263280822938926,3.135056527653985],\"yaxis\":\"y\",\"type\":\"scatter\"},{\"hovertemplate\":\"mkt_ccode=UA<br>month=%{x}<br>mean_arr_delay=%{y}<extra></extra>\",\"legendgroup\":\"UA\",\"line\":{\"color\":\"rgb(139, 224, 164)\",\"dash\":\"solid\"},\"marker\":{\"symbol\":\"circle\"},\"mode\":\"lines\",\"name\":\"UA\",\"orientation\":\"v\",\"showlegend\":true,\"x\":[\"January\",\"February\",\"March\",\"April\",\"May\",\"June\",\"July\",\"August\",\"September\",\"October\"],\"xaxis\":\"x\",\"y\":[7.144530491828734,5.5363093693226055,6.723155268400767,4.942176578844485,8.03658383082788,9.021376539019064,6.94307048329312,7.103821503112244,-0.5901464248261934,-0.9125851987038623],\"yaxis\":\"y\",\"type\":\"scatter\"},{\"hovertemplate\":\"mkt_ccode=WN<br>month=%{x}<br>mean_arr_delay=%{y}<extra></extra>\",\"legendgroup\":\"WN\",\"line\":{\"color\":\"rgb(180, 151, 231)\",\"dash\":\"solid\"},\"marker\":{\"symbol\":\"circle\"},\"mode\":\"lines\",\"name\":\"WN\",\"orientation\":\"v\",\"showlegend\":true,\"x\":[\"January\",\"February\",\"March\",\"April\",\"May\",\"June\",\"July\",\"August\",\"September\",\"October\"],\"xaxis\":\"x\",\"y\":[1.1487335276489183,0.0970153355686253,9.063970304666409,10.773605619298365,5.453460708896849,10.016639339831714,12.576898272292183,13.257668918066432,5.12255137443288,2.7459921043597664],\"yaxis\":\"y\",\"type\":\"scatter\"}],                        {\"template\":{\"data\":{\"histogram2dcontour\":[{\"type\":\"histogram2dcontour\",\"colorbar\":{\"outlinewidth\":0,\"ticks\":\"\"},\"colorscale\":[[0.0,\"#0d0887\"],[0.1111111111111111,\"#46039f\"],[0.2222222222222222,\"#7201a8\"],[0.3333333333333333,\"#9c179e\"],[0.4444444444444444,\"#bd3786\"],[0.5555555555555556,\"#d8576b\"],[0.6666666666666666,\"#ed7953\"],[0.7777777777777778,\"#fb9f3a\"],[0.8888888888888888,\"#fdca26\"],[1.0,\"#f0f921\"]]}],\"choropleth\":[{\"type\":\"choropleth\",\"colorbar\":{\"outlinewidth\":0,\"ticks\":\"\"}}],\"histogram2d\":[{\"type\":\"histogram2d\",\"colorbar\":{\"outlinewidth\":0,\"ticks\":\"\"},\"colorscale\":[[0.0,\"#0d0887\"],[0.1111111111111111,\"#46039f\"],[0.2222222222222222,\"#7201a8\"],[0.3333333333333333,\"#9c179e\"],[0.4444444444444444,\"#bd3786\"],[0.5555555555555556,\"#d8576b\"],[0.6666666666666666,\"#ed7953\"],[0.7777777777777778,\"#fb9f3a\"],[0.8888888888888888,\"#fdca26\"],[1.0,\"#f0f921\"]]}],\"heatmap\":[{\"type\":\"heatmap\",\"colorbar\":{\"outlinewidth\":0,\"ticks\":\"\"},\"colorscale\":[[0.0,\"#0d0887\"],[0.1111111111111111,\"#46039f\"],[0.2222222222222222,\"#7201a8\"],[0.3333333333333333,\"#9c179e\"],[0.4444444444444444,\"#bd3786\"],[0.5555555555555556,\"#d8576b\"],[0.6666666666666666,\"#ed7953\"],[0.7777777777777778,\"#fb9f3a\"],[0.8888888888888888,\"#fdca26\"],[1.0,\"#f0f921\"]]}],\"heatmapgl\":[{\"type\":\"heatmapgl\",\"colorbar\":{\"outlinewidth\":0,\"ticks\":\"\"},\"colorscale\":[[0.0,\"#0d0887\"],[0.1111111111111111,\"#46039f\"],[0.2222222222222222,\"#7201a8\"],[0.3333333333333333,\"#9c179e\"],[0.4444444444444444,\"#bd3786\"],[0.5555555555555556,\"#d8576b\"],[0.6666666666666666,\"#ed7953\"],[0.7777777777777778,\"#fb9f3a\"],[0.8888888888888888,\"#fdca26\"],[1.0,\"#f0f921\"]]}],\"contourcarpet\":[{\"type\":\"contourcarpet\",\"colorbar\":{\"outlinewidth\":0,\"ticks\":\"\"}}],\"contour\":[{\"type\":\"contour\",\"colorbar\":{\"outlinewidth\":0,\"ticks\":\"\"},\"colorscale\":[[0.0,\"#0d0887\"],[0.1111111111111111,\"#46039f\"],[0.2222222222222222,\"#7201a8\"],[0.3333333333333333,\"#9c179e\"],[0.4444444444444444,\"#bd3786\"],[0.5555555555555556,\"#d8576b\"],[0.6666666666666666,\"#ed7953\"],[0.7777777777777778,\"#fb9f3a\"],[0.8888888888888888,\"#fdca26\"],[1.0,\"#f0f921\"]]}],\"surface\":[{\"type\":\"surface\",\"colorbar\":{\"outlinewidth\":0,\"ticks\":\"\"},\"colorscale\":[[0.0,\"#0d0887\"],[0.1111111111111111,\"#46039f\"],[0.2222222222222222,\"#7201a8\"],[0.3333333333333333,\"#9c179e\"],[0.4444444444444444,\"#bd3786\"],[0.5555555555555556,\"#d8576b\"],[0.6666666666666666,\"#ed7953\"],[0.7777777777777778,\"#fb9f3a\"],[0.8888888888888888,\"#fdca26\"],[1.0,\"#f0f921\"]]}],\"mesh3d\":[{\"type\":\"mesh3d\",\"colorbar\":{\"outlinewidth\":0,\"ticks\":\"\"}}],\"scatter\":[{\"fillpattern\":{\"fillmode\":\"overlay\",\"size\":10,\"solidity\":0.2},\"type\":\"scatter\"}],\"parcoords\":[{\"type\":\"parcoords\",\"line\":{\"colorbar\":{\"outlinewidth\":0,\"ticks\":\"\"}}}],\"scatterpolargl\":[{\"type\":\"scatterpolargl\",\"marker\":{\"colorbar\":{\"outlinewidth\":0,\"ticks\":\"\"}}}],\"bar\":[{\"error_x\":{\"color\":\"#2a3f5f\"},\"error_y\":{\"color\":\"#2a3f5f\"},\"marker\":{\"line\":{\"color\":\"#E5ECF6\",\"width\":0.5},\"pattern\":{\"fillmode\":\"overlay\",\"size\":10,\"solidity\":0.2}},\"type\":\"bar\"}],\"scattergeo\":[{\"type\":\"scattergeo\",\"marker\":{\"colorbar\":{\"outlinewidth\":0,\"ticks\":\"\"}}}],\"scatterpolar\":[{\"type\":\"scatterpolar\",\"marker\":{\"colorbar\":{\"outlinewidth\":0,\"ticks\":\"\"}}}],\"histogram\":[{\"marker\":{\"pattern\":{\"fillmode\":\"overlay\",\"size\":10,\"solidity\":0.2}},\"type\":\"histogram\"}],\"scattergl\":[{\"type\":\"scattergl\",\"marker\":{\"colorbar\":{\"outlinewidth\":0,\"ticks\":\"\"}}}],\"scatter3d\":[{\"type\":\"scatter3d\",\"line\":{\"colorbar\":{\"outlinewidth\":0,\"ticks\":\"\"}},\"marker\":{\"colorbar\":{\"outlinewidth\":0,\"ticks\":\"\"}}}],\"scattermapbox\":[{\"type\":\"scattermapbox\",\"marker\":{\"colorbar\":{\"outlinewidth\":0,\"ticks\":\"\"}}}],\"scatterternary\":[{\"type\":\"scatterternary\",\"marker\":{\"colorbar\":{\"outlinewidth\":0,\"ticks\":\"\"}}}],\"scattercarpet\":[{\"type\":\"scattercarpet\",\"marker\":{\"colorbar\":{\"outlinewidth\":0,\"ticks\":\"\"}}}],\"carpet\":[{\"aaxis\":{\"endlinecolor\":\"#2a3f5f\",\"gridcolor\":\"white\",\"linecolor\":\"white\",\"minorgridcolor\":\"white\",\"startlinecolor\":\"#2a3f5f\"},\"baxis\":{\"endlinecolor\":\"#2a3f5f\",\"gridcolor\":\"white\",\"linecolor\":\"white\",\"minorgridcolor\":\"white\",\"startlinecolor\":\"#2a3f5f\"},\"type\":\"carpet\"}],\"table\":[{\"cells\":{\"fill\":{\"color\":\"#EBF0F8\"},\"line\":{\"color\":\"white\"}},\"header\":{\"fill\":{\"color\":\"#C8D4E3\"},\"line\":{\"color\":\"white\"}},\"type\":\"table\"}],\"barpolar\":[{\"marker\":{\"line\":{\"color\":\"#E5ECF6\",\"width\":0.5},\"pattern\":{\"fillmode\":\"overlay\",\"size\":10,\"solidity\":0.2}},\"type\":\"barpolar\"}],\"pie\":[{\"automargin\":true,\"type\":\"pie\"}]},\"layout\":{\"autotypenumbers\":\"strict\",\"colorway\":[\"#636efa\",\"#EF553B\",\"#00cc96\",\"#ab63fa\",\"#FFA15A\",\"#19d3f3\",\"#FF6692\",\"#B6E880\",\"#FF97FF\",\"#FECB52\"],\"font\":{\"color\":\"#2a3f5f\"},\"hovermode\":\"closest\",\"hoverlabel\":{\"align\":\"left\"},\"paper_bgcolor\":\"white\",\"plot_bgcolor\":\"#E5ECF6\",\"polar\":{\"bgcolor\":\"#E5ECF6\",\"angularaxis\":{\"gridcolor\":\"white\",\"linecolor\":\"white\",\"ticks\":\"\"},\"radialaxis\":{\"gridcolor\":\"white\",\"linecolor\":\"white\",\"ticks\":\"\"}},\"ternary\":{\"bgcolor\":\"#E5ECF6\",\"aaxis\":{\"gridcolor\":\"white\",\"linecolor\":\"white\",\"ticks\":\"\"},\"baxis\":{\"gridcolor\":\"white\",\"linecolor\":\"white\",\"ticks\":\"\"},\"caxis\":{\"gridcolor\":\"white\",\"linecolor\":\"white\",\"ticks\":\"\"}},\"coloraxis\":{\"colorbar\":{\"outlinewidth\":0,\"ticks\":\"\"}},\"colorscale\":{\"sequential\":[[0.0,\"#0d0887\"],[0.1111111111111111,\"#46039f\"],[0.2222222222222222,\"#7201a8\"],[0.3333333333333333,\"#9c179e\"],[0.4444444444444444,\"#bd3786\"],[0.5555555555555556,\"#d8576b\"],[0.6666666666666666,\"#ed7953\"],[0.7777777777777778,\"#fb9f3a\"],[0.8888888888888888,\"#fdca26\"],[1.0,\"#f0f921\"]],\"sequentialminus\":[[0.0,\"#0d0887\"],[0.1111111111111111,\"#46039f\"],[0.2222222222222222,\"#7201a8\"],[0.3333333333333333,\"#9c179e\"],[0.4444444444444444,\"#bd3786\"],[0.5555555555555556,\"#d8576b\"],[0.6666666666666666,\"#ed7953\"],[0.7777777777777778,\"#fb9f3a\"],[0.8888888888888888,\"#fdca26\"],[1.0,\"#f0f921\"]],\"diverging\":[[0,\"#8e0152\"],[0.1,\"#c51b7d\"],[0.2,\"#de77ae\"],[0.3,\"#f1b6da\"],[0.4,\"#fde0ef\"],[0.5,\"#f7f7f7\"],[0.6,\"#e6f5d0\"],[0.7,\"#b8e186\"],[0.8,\"#7fbc41\"],[0.9,\"#4d9221\"],[1,\"#276419\"]]},\"xaxis\":{\"gridcolor\":\"white\",\"linecolor\":\"white\",\"ticks\":\"\",\"title\":{\"standoff\":15},\"zerolinecolor\":\"white\",\"automargin\":true,\"zerolinewidth\":2},\"yaxis\":{\"gridcolor\":\"white\",\"linecolor\":\"white\",\"ticks\":\"\",\"title\":{\"standoff\":15},\"zerolinecolor\":\"white\",\"automargin\":true,\"zerolinewidth\":2},\"scene\":{\"xaxis\":{\"backgroundcolor\":\"#E5ECF6\",\"gridcolor\":\"white\",\"linecolor\":\"white\",\"showbackground\":true,\"ticks\":\"\",\"zerolinecolor\":\"white\",\"gridwidth\":2},\"yaxis\":{\"backgroundcolor\":\"#E5ECF6\",\"gridcolor\":\"white\",\"linecolor\":\"white\",\"showbackground\":true,\"ticks\":\"\",\"zerolinecolor\":\"white\",\"gridwidth\":2},\"zaxis\":{\"backgroundcolor\":\"#E5ECF6\",\"gridcolor\":\"white\",\"linecolor\":\"white\",\"showbackground\":true,\"ticks\":\"\",\"zerolinecolor\":\"white\",\"gridwidth\":2}},\"shapedefaults\":{\"line\":{\"color\":\"#2a3f5f\"}},\"annotationdefaults\":{\"arrowcolor\":\"#2a3f5f\",\"arrowhead\":0,\"arrowwidth\":1},\"geo\":{\"bgcolor\":\"white\",\"landcolor\":\"#E5ECF6\",\"subunitcolor\":\"white\",\"showland\":true,\"showlakes\":true,\"lakecolor\":\"white\"},\"title\":{\"x\":0.05},\"mapbox\":{\"style\":\"light\"}}},\"xaxis\":{\"anchor\":\"y\",\"domain\":[0.0,1.0],\"title\":{\"text\":\"Month\"}},\"yaxis\":{\"anchor\":\"x\",\"domain\":[0.0,1.0],\"title\":{\"text\":\"Mean Arrival Delay Time (minutes)\"}},\"legend\":{\"title\":{\"text\":\"mkt_ccode\"},\"tracegroupgap\":0},\"title\":{\"text\":\"Arrival Delay Time by Month and Airline\"}},                        {\"responsive\": true}                    ).then(function(){\n",
              "                            \n",
              "var gd = document.getElementById('48585193-f79c-4408-b4a8-b4de9c5f2f92');\n",
              "var x = new MutationObserver(function (mutations, observer) {{\n",
              "        var display = window.getComputedStyle(gd).display;\n",
              "        if (!display || display === 'none') {{\n",
              "            console.log([gd, 'removed!']);\n",
              "            Plotly.purge(gd);\n",
              "            observer.disconnect();\n",
              "        }}\n",
              "}});\n",
              "\n",
              "// Listen for the removal of the full notebook cells\n",
              "var notebookContainer = gd.closest('#notebook-container');\n",
              "if (notebookContainer) {{\n",
              "    x.observe(notebookContainer, {childList: true});\n",
              "}}\n",
              "\n",
              "// Listen for the clearing of the current output cell\n",
              "var outputEl = gd.closest('.output');\n",
              "if (outputEl) {{\n",
              "    x.observe(outputEl, {childList: true});\n",
              "}}\n",
              "\n",
              "                        })                };                });            </script>        </div>"
            ]
          },
          "metadata": {}
        }
      ],
      "source": [
        "import pandas as pd\n",
        "import plotly.express as px\n",
        "\n",
        "# Use the provided dataset as a DataFrame\n",
        "df = airline_final\n",
        "\n",
        "# Convert the 'date' column to a datetime object\n",
        "df['date'] = pd.to_datetime(df['date'])\n",
        "\n",
        "# Group the dataset by month and mkt_ccode, and calculate the mean of arr_delay_time_actual\n",
        "monthly_mean_delays = df.groupby([df['date'].dt.month_name(), 'mkt_ccode'])['arr_delay_time_actual'].mean().reset_index()\n",
        "\n",
        "# Rename the columns for clarity\n",
        "monthly_mean_delays.columns = ['month', 'mkt_ccode', 'mean_arr_delay']\n",
        "\n",
        "# Create a custom mapping for the month names\n",
        "month_order = {'January': 1, 'February': 2, 'March': 3, 'April': 4, 'May': 5, 'June': 6,\n",
        "               'July': 7, 'August': 8, 'September': 9, 'October': 10, 'November': 11, 'December': 12}\n",
        "\n",
        "# Sort the DataFrame according to the custom month mapping\n",
        "monthly_mean_delays['month_order'] = monthly_mean_delays['month'].map(month_order)\n",
        "monthly_mean_delays = monthly_mean_delays.sort_values(['month_order', 'mkt_ccode']).drop('month_order', axis=1)\n",
        "\n",
        "# Define a custom color sequence\n",
        "color_sequence = px.colors.qualitative.Pastel\n",
        "\n",
        "# Create a line chart using Plotly Express with the custom color sequence\n",
        "fig = px.line(monthly_mean_delays, x='month', y='mean_arr_delay', color='mkt_ccode', title='Arrival Delay Time by Month and Airline', color_discrete_sequence=color_sequence)\n",
        "fig.update_layout(xaxis_title='Month', yaxis_title='Mean Arrival Delay Time (minutes)')\n",
        "fig.show()\n"
      ]
    },
    {
      "cell_type": "markdown",
      "id": "2e05191f",
      "metadata": {
        "id": "2e05191f"
      },
      "source": [
        "# Machine Learning Model"
      ]
    },
    {
      "cell_type": "code",
      "source": [
        "airline_final.columns"
      ],
      "metadata": {
        "colab": {
          "base_uri": "https://localhost:8080/"
        },
        "id": "ieCtnKw1UuET",
        "outputId": "d8d7eb61-894c-4d5e-94f0-0edd7e0b67db"
      },
      "id": "ieCtnKw1UuET",
      "execution_count": 22,
      "outputs": [
        {
          "output_type": "execute_result",
          "data": {
            "text/plain": [
              "Index(['mkt_ccode', 'dep_airport', 'cancel_code', 'arr_airport',\n",
              "       'day_week_name', 'month__name', 'route', 'mkt_fl_no', 'date',\n",
              "       'dep_delay_time_actual', 'arr_delay_time_actual',\n",
              "       'mins_late_delay_code_e_carrier', 'mins_late_delay_code_f_weather',\n",
              "       'mins_late_delay_code_g_nas', 'mins_late_delay_code_h_security',\n",
              "       'mins_late_delay_code_i_late_arr_flight', 'delay'],\n",
              "      dtype='object')"
            ]
          },
          "metadata": {},
          "execution_count": 22
        }
      ]
    },
    {
      "cell_type": "code",
      "source": [
        "features_selection= ['mkt_ccode', 'dep_airport','day_week_name', 'month__name','mkt_fl_no','delay']\n",
        "NN_data = airline_final[features_selection]\n",
        "NN_data.head(2)"
      ],
      "metadata": {
        "colab": {
          "base_uri": "https://localhost:8080/",
          "height": 112
        },
        "id": "7raZtJf9WewR",
        "outputId": "4804cfe7-b7c9-4837-c7e9-78a7ca29ca68"
      },
      "id": "7raZtJf9WewR",
      "execution_count": 26,
      "outputs": [
        {
          "output_type": "execute_result",
          "data": {
            "text/plain": [
              "  mkt_ccode dep_airport day_week_name month__name  mkt_fl_no  delay\n",
              "0        DL         BNA           Mon         Jan       3975      1\n",
              "1        DL         STL           Sun         Jan       3714      1"
            ],
            "text/html": [
              "\n",
              "  <div id=\"df-78d3648e-018e-42fe-95a9-e77e14473922\">\n",
              "    <div class=\"colab-df-container\">\n",
              "      <div>\n",
              "<style scoped>\n",
              "    .dataframe tbody tr th:only-of-type {\n",
              "        vertical-align: middle;\n",
              "    }\n",
              "\n",
              "    .dataframe tbody tr th {\n",
              "        vertical-align: top;\n",
              "    }\n",
              "\n",
              "    .dataframe thead th {\n",
              "        text-align: right;\n",
              "    }\n",
              "</style>\n",
              "<table border=\"1\" class=\"dataframe\">\n",
              "  <thead>\n",
              "    <tr style=\"text-align: right;\">\n",
              "      <th></th>\n",
              "      <th>mkt_ccode</th>\n",
              "      <th>dep_airport</th>\n",
              "      <th>day_week_name</th>\n",
              "      <th>month__name</th>\n",
              "      <th>mkt_fl_no</th>\n",
              "      <th>delay</th>\n",
              "    </tr>\n",
              "  </thead>\n",
              "  <tbody>\n",
              "    <tr>\n",
              "      <th>0</th>\n",
              "      <td>DL</td>\n",
              "      <td>BNA</td>\n",
              "      <td>Mon</td>\n",
              "      <td>Jan</td>\n",
              "      <td>3975</td>\n",
              "      <td>1</td>\n",
              "    </tr>\n",
              "    <tr>\n",
              "      <th>1</th>\n",
              "      <td>DL</td>\n",
              "      <td>STL</td>\n",
              "      <td>Sun</td>\n",
              "      <td>Jan</td>\n",
              "      <td>3714</td>\n",
              "      <td>1</td>\n",
              "    </tr>\n",
              "  </tbody>\n",
              "</table>\n",
              "</div>\n",
              "      <button class=\"colab-df-convert\" onclick=\"convertToInteractive('df-78d3648e-018e-42fe-95a9-e77e14473922')\"\n",
              "              title=\"Convert this dataframe to an interactive table.\"\n",
              "              style=\"display:none;\">\n",
              "        \n",
              "  <svg xmlns=\"http://www.w3.org/2000/svg\" height=\"24px\"viewBox=\"0 0 24 24\"\n",
              "       width=\"24px\">\n",
              "    <path d=\"M0 0h24v24H0V0z\" fill=\"none\"/>\n",
              "    <path d=\"M18.56 5.44l.94 2.06.94-2.06 2.06-.94-2.06-.94-.94-2.06-.94 2.06-2.06.94zm-11 1L8.5 8.5l.94-2.06 2.06-.94-2.06-.94L8.5 2.5l-.94 2.06-2.06.94zm10 10l.94 2.06.94-2.06 2.06-.94-2.06-.94-.94-2.06-.94 2.06-2.06.94z\"/><path d=\"M17.41 7.96l-1.37-1.37c-.4-.4-.92-.59-1.43-.59-.52 0-1.04.2-1.43.59L10.3 9.45l-7.72 7.72c-.78.78-.78 2.05 0 2.83L4 21.41c.39.39.9.59 1.41.59.51 0 1.02-.2 1.41-.59l7.78-7.78 2.81-2.81c.8-.78.8-2.07 0-2.86zM5.41 20L4 18.59l7.72-7.72 1.47 1.35L5.41 20z\"/>\n",
              "  </svg>\n",
              "      </button>\n",
              "      \n",
              "  <style>\n",
              "    .colab-df-container {\n",
              "      display:flex;\n",
              "      flex-wrap:wrap;\n",
              "      gap: 12px;\n",
              "    }\n",
              "\n",
              "    .colab-df-convert {\n",
              "      background-color: #E8F0FE;\n",
              "      border: none;\n",
              "      border-radius: 50%;\n",
              "      cursor: pointer;\n",
              "      display: none;\n",
              "      fill: #1967D2;\n",
              "      height: 32px;\n",
              "      padding: 0 0 0 0;\n",
              "      width: 32px;\n",
              "    }\n",
              "\n",
              "    .colab-df-convert:hover {\n",
              "      background-color: #E2EBFA;\n",
              "      box-shadow: 0px 1px 2px rgba(60, 64, 67, 0.3), 0px 1px 3px 1px rgba(60, 64, 67, 0.15);\n",
              "      fill: #174EA6;\n",
              "    }\n",
              "\n",
              "    [theme=dark] .colab-df-convert {\n",
              "      background-color: #3B4455;\n",
              "      fill: #D2E3FC;\n",
              "    }\n",
              "\n",
              "    [theme=dark] .colab-df-convert:hover {\n",
              "      background-color: #434B5C;\n",
              "      box-shadow: 0px 1px 3px 1px rgba(0, 0, 0, 0.15);\n",
              "      filter: drop-shadow(0px 1px 2px rgba(0, 0, 0, 0.3));\n",
              "      fill: #FFFFFF;\n",
              "    }\n",
              "  </style>\n",
              "\n",
              "      <script>\n",
              "        const buttonEl =\n",
              "          document.querySelector('#df-78d3648e-018e-42fe-95a9-e77e14473922 button.colab-df-convert');\n",
              "        buttonEl.style.display =\n",
              "          google.colab.kernel.accessAllowed ? 'block' : 'none';\n",
              "\n",
              "        async function convertToInteractive(key) {\n",
              "          const element = document.querySelector('#df-78d3648e-018e-42fe-95a9-e77e14473922');\n",
              "          const dataTable =\n",
              "            await google.colab.kernel.invokeFunction('convertToInteractive',\n",
              "                                                     [key], {});\n",
              "          if (!dataTable) return;\n",
              "\n",
              "          const docLinkHtml = 'Like what you see? Visit the ' +\n",
              "            '<a target=\"_blank\" href=https://colab.research.google.com/notebooks/data_table.ipynb>data table notebook</a>'\n",
              "            + ' to learn more about interactive tables.';\n",
              "          element.innerHTML = '';\n",
              "          dataTable['output_type'] = 'display_data';\n",
              "          await google.colab.output.renderOutput(dataTable, element);\n",
              "          const docLink = document.createElement('div');\n",
              "          docLink.innerHTML = docLinkHtml;\n",
              "          element.appendChild(docLink);\n",
              "        }\n",
              "      </script>\n",
              "    </div>\n",
              "  </div>\n",
              "  "
            ]
          },
          "metadata": {},
          "execution_count": 26
        }
      ]
    },
    {
      "cell_type": "code",
      "execution_count": 27,
      "id": "a9212aae",
      "metadata": {
        "colab": {
          "base_uri": "https://localhost:8080/"
        },
        "id": "a9212aae",
        "outputId": "c367d245-0371-46bd-afe6-031796b64fe9"
      },
      "outputs": [
        {
          "output_type": "stream",
          "name": "stdout",
          "text": [
            "Epoch 1/50\n",
            "146678/146678 [==============================] - 369s 3ms/step - loss: 0.6416 - accuracy: 0.6441\n",
            "Epoch 2/50\n",
            "146678/146678 [==============================] - 345s 2ms/step - loss: 0.6390 - accuracy: 0.6454\n",
            "Epoch 3/50\n",
            "146678/146678 [==============================] - 332s 2ms/step - loss: 0.6385 - accuracy: 0.6458\n",
            "Epoch 4/50\n",
            "146678/146678 [==============================] - 309s 2ms/step - loss: 0.6382 - accuracy: 0.6461\n",
            "Epoch 5/50\n",
            "146678/146678 [==============================] - 317s 2ms/step - loss: 0.6380 - accuracy: 0.6463\n",
            "Epoch 6/50\n",
            "146678/146678 [==============================] - 323s 2ms/step - loss: 0.6378 - accuracy: 0.6464\n",
            "Epoch 7/50\n",
            "146678/146678 [==============================] - 379s 3ms/step - loss: 0.6377 - accuracy: 0.6465\n",
            "Epoch 8/50\n",
            "146678/146678 [==============================] - 370s 3ms/step - loss: 0.6375 - accuracy: 0.6466\n",
            "Epoch 9/50\n",
            "146678/146678 [==============================] - 374s 3ms/step - loss: 0.6374 - accuracy: 0.6467\n",
            "Epoch 10/50\n",
            "146678/146678 [==============================] - 385s 3ms/step - loss: 0.6373 - accuracy: 0.6466\n",
            "Epoch 11/50\n",
            "146678/146678 [==============================] - 380s 3ms/step - loss: 0.6373 - accuracy: 0.6468\n",
            "Epoch 12/50\n",
            "146678/146678 [==============================] - 376s 3ms/step - loss: 0.6372 - accuracy: 0.6468\n",
            "Epoch 13/50\n",
            "146678/146678 [==============================] - 376s 3ms/step - loss: 0.6372 - accuracy: 0.6469\n",
            "Epoch 14/50\n",
            "146678/146678 [==============================] - 393s 3ms/step - loss: 0.6371 - accuracy: 0.6469\n",
            "Epoch 15/50\n",
            "146678/146678 [==============================] - 379s 3ms/step - loss: 0.6371 - accuracy: 0.6469\n",
            "Epoch 16/50\n",
            "146678/146678 [==============================] - 376s 3ms/step - loss: 0.6371 - accuracy: 0.6469\n",
            "Epoch 17/50\n",
            "146678/146678 [==============================] - 357s 2ms/step - loss: 0.6370 - accuracy: 0.6469\n",
            "Epoch 18/50\n",
            "146678/146678 [==============================] - 355s 2ms/step - loss: 0.6370 - accuracy: 0.6469\n",
            "Epoch 19/50\n",
            "146678/146678 [==============================] - 370s 3ms/step - loss: 0.6370 - accuracy: 0.6470\n",
            "Epoch 20/50\n",
            "146678/146678 [==============================] - 356s 2ms/step - loss: 0.6370 - accuracy: 0.6470\n",
            "Epoch 21/50\n",
            "146678/146678 [==============================] - 338s 2ms/step - loss: 0.6370 - accuracy: 0.6469\n",
            "Epoch 22/50\n",
            "146678/146678 [==============================] - 348s 2ms/step - loss: 0.6369 - accuracy: 0.6471\n",
            "Epoch 23/50\n",
            "146678/146678 [==============================] - 341s 2ms/step - loss: 0.6369 - accuracy: 0.6472\n",
            "Epoch 24/50\n",
            "146678/146678 [==============================] - 345s 2ms/step - loss: 0.6369 - accuracy: 0.6471\n",
            "Epoch 25/50\n",
            "146678/146678 [==============================] - 317s 2ms/step - loss: 0.6368 - accuracy: 0.6470\n",
            "Epoch 26/50\n",
            "146678/146678 [==============================] - 338s 2ms/step - loss: 0.6368 - accuracy: 0.6471\n",
            "Epoch 27/50\n",
            "146678/146678 [==============================] - 335s 2ms/step - loss: 0.6368 - accuracy: 0.6472\n",
            "Epoch 28/50\n",
            "146678/146678 [==============================] - 343s 2ms/step - loss: 0.6368 - accuracy: 0.6471\n",
            "Epoch 29/50\n",
            "146678/146678 [==============================] - 340s 2ms/step - loss: 0.6368 - accuracy: 0.6472\n",
            "Epoch 30/50\n",
            "146678/146678 [==============================] - 347s 2ms/step - loss: 0.6368 - accuracy: 0.6473\n",
            "Epoch 31/50\n",
            "146678/146678 [==============================] - 354s 2ms/step - loss: 0.6367 - accuracy: 0.6473\n",
            "Epoch 32/50\n",
            "146678/146678 [==============================] - 348s 2ms/step - loss: 0.6367 - accuracy: 0.6473\n",
            "Epoch 33/50\n",
            "146678/146678 [==============================] - 344s 2ms/step - loss: 0.6367 - accuracy: 0.6473\n",
            "Epoch 34/50\n",
            "146678/146678 [==============================] - 356s 2ms/step - loss: 0.6367 - accuracy: 0.6473\n",
            "Epoch 35/50\n",
            "146678/146678 [==============================] - 322s 2ms/step - loss: 0.6367 - accuracy: 0.6474\n",
            "Epoch 36/50\n",
            "146678/146678 [==============================] - 376s 3ms/step - loss: 0.6367 - accuracy: 0.6474\n",
            "Epoch 37/50\n",
            "146678/146678 [==============================] - 360s 2ms/step - loss: 0.6367 - accuracy: 0.6475\n",
            "Epoch 38/50\n",
            "146678/146678 [==============================] - 342s 2ms/step - loss: 0.6367 - accuracy: 0.6474\n",
            "Epoch 39/50\n",
            "146678/146678 [==============================] - 307s 2ms/step - loss: 0.6366 - accuracy: 0.6474\n",
            "Epoch 40/50\n",
            "146678/146678 [==============================] - 315s 2ms/step - loss: 0.6366 - accuracy: 0.6477\n",
            "Epoch 41/50\n",
            "146678/146678 [==============================] - 292s 2ms/step - loss: 0.6365 - accuracy: 0.6476\n",
            "Epoch 42/50\n",
            "146678/146678 [==============================] - 292s 2ms/step - loss: 0.6365 - accuracy: 0.6479\n",
            "Epoch 43/50\n",
            "146678/146678 [==============================] - 297s 2ms/step - loss: 0.6364 - accuracy: 0.6479\n",
            "Epoch 44/50\n",
            "146678/146678 [==============================] - 296s 2ms/step - loss: 0.6364 - accuracy: 0.6479\n",
            "Epoch 45/50\n",
            "146678/146678 [==============================] - 303s 2ms/step - loss: 0.6364 - accuracy: 0.6480\n",
            "Epoch 46/50\n",
            "146678/146678 [==============================] - 303s 2ms/step - loss: 0.6364 - accuracy: 0.6480\n",
            "Epoch 47/50\n",
            "146678/146678 [==============================] - 301s 2ms/step - loss: 0.6363 - accuracy: 0.6479\n",
            "Epoch 48/50\n",
            "146678/146678 [==============================] - 302s 2ms/step - loss: 0.6363 - accuracy: 0.6480\n",
            "Epoch 49/50\n",
            "146678/146678 [==============================] - 305s 2ms/step - loss: 0.6363 - accuracy: 0.6480\n",
            "Epoch 50/50\n",
            "146678/146678 [==============================] - 305s 2ms/step - loss: 0.6363 - accuracy: 0.6480\n",
            "36670/36670 [==============================] - 61s 2ms/step - loss: 0.6360 - accuracy: 0.6483\n",
            "Test accuracy:  0.6482509970664978\n"
          ]
        }
      ],
      "source": [
        "import pandas as pd\n",
        "import numpy as np\n",
        "from sklearn.preprocessing import LabelEncoder, StandardScaler\n",
        "from sklearn.model_selection import train_test_split\n",
        "import tensorflow as tf\n",
        "from tensorflow.keras.models import Sequential\n",
        "from tensorflow.keras.layers import Dense\n",
        "\n",
        "\n",
        "# Load the dataset\n",
        "data = NN_data\n",
        "\n",
        "df = pd.DataFrame(data)\n",
        "\n",
        "# Preprocess the data\n",
        "le = LabelEncoder()\n",
        "df['mkt_ccode'] = le.fit_transform(df['mkt_ccode'])\n",
        "df['dep_airport'] = le.fit_transform(df['dep_airport'])\n",
        "df['month__name'] = le.fit_transform(df['month__name'])\n",
        "df['day_week_name'] = le.fit_transform(df['day_week_name'])\n",
        "\n",
        "# Split the data into training and testing sets\n",
        "X = df.drop('delay', axis=1)\n",
        "y = df['delay']\n",
        "X_train, X_test, y_train, y_test = train_test_split(X, y, test_size=0.2, random_state=42)\n",
        "\n",
        "# Scale the data\n",
        "scaler = StandardScaler()\n",
        "X_train = scaler.fit_transform(X_train)\n",
        "X_test = scaler.transform(X_test)\n",
        "\n",
        "# Create and train the neural network model\n",
        "model = Sequential()\n",
        "model.add(Dense(64, activation='relu', input_shape=(X_train.shape[1],)))\n",
        "model.add(Dense(32, activation='relu'))\n",
        "model.add(Dense(1, activation='sigmoid'))\n",
        "\n",
        "model.compile(optimizer='adam', loss='binary_crossentropy', metrics=['accuracy'])\n",
        "model.fit(X_train, y_train, epochs=50, batch_size=32, verbose=1)\n",
        "\n",
        "# Evaluate the model\n",
        "test_loss, test_acc = model.evaluate(X_test, y_test)\n",
        "print(\"Test accuracy: \", test_acc)\n"
      ]
    },
    {
      "cell_type": "code",
      "execution_count": null,
      "id": "5b14883d",
      "metadata": {
        "id": "5b14883d"
      },
      "outputs": [],
      "source": []
    },
    {
      "cell_type": "code",
      "execution_count": null,
      "id": "f410a97e",
      "metadata": {
        "id": "f410a97e"
      },
      "outputs": [],
      "source": []
    }
  ],
  "metadata": {
    "kernelspec": {
      "display_name": "Python 3 (ipykernel)",
      "language": "python",
      "name": "python3"
    },
    "language_info": {
      "codemirror_mode": {
        "name": "ipython",
        "version": 3
      },
      "file_extension": ".py",
      "mimetype": "text/x-python",
      "name": "python",
      "nbconvert_exporter": "python",
      "pygments_lexer": "ipython3",
      "version": "3.9.13"
    },
    "colab": {
      "provenance": [],
      "include_colab_link": true
    }
  },
  "nbformat": 4,
  "nbformat_minor": 5
}