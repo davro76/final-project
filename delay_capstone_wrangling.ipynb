{
 "cells": [
  {
   "cell_type": "markdown",
   "id": "04bebb83",
   "metadata": {},
   "source": [
    "# Libraries and Fly Data"
   ]
  },
  {
   "cell_type": "code",
   "execution_count": 1,
   "id": "706ffa3f",
   "metadata": {},
   "outputs": [],
   "source": [
    "# import required librairies and dependencies\n",
    "import pandas as pd\n",
    "from os import listdir\n",
    "from os import getcwd\n",
    "import datetime as dt\n",
    "import plotly.express as px\n",
    "import plotly.graph_objs as go\n",
    "from os.path import isfile, join\n",
    "import numpy as np\n",
    "import matplotlib.pyplot as plt\n",
    "from PIL import Image\n",
    "import seaborn as sns\n",
    "import glob\n",
    "pd.set_option('display.max_columns',100)\n",
    "%matplotlib inline"
   ]
  },
  {
   "cell_type": "code",
   "execution_count": 2,
   "id": "80f01c29",
   "metadata": {},
   "outputs": [
    {
     "data": {
      "text/html": [
       "        <script type=\"text/javascript\">\n",
       "        window.PlotlyConfig = {MathJaxConfig: 'local'};\n",
       "        if (window.MathJax && window.MathJax.Hub && window.MathJax.Hub.Config) {window.MathJax.Hub.Config({SVG: {font: \"STIX-Web\"}});}\n",
       "        if (typeof require !== 'undefined') {\n",
       "        require.undef(\"plotly\");\n",
       "        requirejs.config({\n",
       "            paths: {\n",
       "                'plotly': ['https://cdn.plot.ly/plotly-2.18.2.min']\n",
       "            }\n",
       "        });\n",
       "        require(['plotly'], function(Plotly) {\n",
       "            window._Plotly = Plotly;\n",
       "        });\n",
       "        }\n",
       "        </script>\n",
       "        "
      ]
     },
     "metadata": {},
     "output_type": "display_data"
    },
    {
     "data": {
      "text/html": [
       "        <script type=\"text/javascript\">\n",
       "        window.PlotlyConfig = {MathJaxConfig: 'local'};\n",
       "        if (window.MathJax && window.MathJax.Hub && window.MathJax.Hub.Config) {window.MathJax.Hub.Config({SVG: {font: \"STIX-Web\"}});}\n",
       "        if (typeof require !== 'undefined') {\n",
       "        require.undef(\"plotly\");\n",
       "        requirejs.config({\n",
       "            paths: {\n",
       "                'plotly': ['https://cdn.plot.ly/plotly-2.18.2.min']\n",
       "            }\n",
       "        });\n",
       "        require(['plotly'], function(Plotly) {\n",
       "            window._Plotly = Plotly;\n",
       "        });\n",
       "        }\n",
       "        </script>\n",
       "        "
      ]
     },
     "metadata": {},
     "output_type": "display_data"
    }
   ],
   "source": [
    "# Make Plotly work in our Jupyter Notebook\n",
    "import cufflinks as cf\n",
    "from plotly.offline import download_plotlyjs, init_notebook_mode, plot, iplot\n",
    "init_notebook_mode(connected=True)\n",
    "# Use Plotly locally\n",
    "cf.go_offline()"
   ]
  },
  {
   "cell_type": "code",
   "execution_count": 3,
   "id": "3ae68d16",
   "metadata": {},
   "outputs": [],
   "source": [
    "# Set the Environment\n",
    "# Ignore Warnings\n",
    "import warnings\n",
    "warnings.simplefilter(action='ignore', category=FutureWarning)"
   ]
  },
  {
   "cell_type": "code",
   "execution_count": 4,
   "id": "03256c45",
   "metadata": {},
   "outputs": [],
   "source": [
    "# Retrieve and display all asc files using glob function\n",
    "from glob import glob\n",
    "raw_data = glob('ontime*')"
   ]
  },
  {
   "cell_type": "code",
   "execution_count": 5,
   "id": "220632c6",
   "metadata": {},
   "outputs": [
    {
     "data": {
      "text/plain": [
       "['ontime.td.202201.asc',\n",
       " 'ontime.td.202202.asc',\n",
       " 'ontime.td.202203.asc',\n",
       " 'ontime.td.202204.asc',\n",
       " 'ontime.td.202205 (1).asc',\n",
       " 'ontime.td.202206.asc',\n",
       " 'ontime.td.202207.asc',\n",
       " 'ontime.td.202208.asc',\n",
       " 'ontime.td.202209.asc',\n",
       " 'ontime.td.202210.asc']"
      ]
     },
     "execution_count": 5,
     "metadata": {},
     "output_type": "execute_result"
    }
   ],
   "source": [
    "# Display and sort the list of files\n",
    "raw_data.sort()\n",
    "raw_data"
   ]
  },
  {
   "cell_type": "code",
   "execution_count": 6,
   "id": "3c72115f",
   "metadata": {},
   "outputs": [
    {
     "data": {
      "text/html": [
       "<div>\n",
       "<style scoped>\n",
       "    .dataframe tbody tr th:only-of-type {\n",
       "        vertical-align: middle;\n",
       "    }\n",
       "\n",
       "    .dataframe tbody tr th {\n",
       "        vertical-align: top;\n",
       "    }\n",
       "\n",
       "    .dataframe thead th {\n",
       "        text-align: right;\n",
       "    }\n",
       "</style>\n",
       "<table border=\"1\" class=\"dataframe\">\n",
       "  <thead>\n",
       "    <tr style=\"text-align: right;\">\n",
       "      <th></th>\n",
       "      <th>0</th>\n",
       "      <th>1</th>\n",
       "      <th>2</th>\n",
       "      <th>3</th>\n",
       "      <th>4</th>\n",
       "      <th>5</th>\n",
       "      <th>6</th>\n",
       "      <th>7</th>\n",
       "      <th>8</th>\n",
       "      <th>9</th>\n",
       "      <th>10</th>\n",
       "      <th>11</th>\n",
       "      <th>12</th>\n",
       "      <th>13</th>\n",
       "      <th>14</th>\n",
       "      <th>15</th>\n",
       "      <th>16</th>\n",
       "      <th>17</th>\n",
       "      <th>18</th>\n",
       "      <th>19</th>\n",
       "      <th>20</th>\n",
       "      <th>21</th>\n",
       "      <th>22</th>\n",
       "      <th>23</th>\n",
       "      <th>24</th>\n",
       "      <th>25</th>\n",
       "      <th>26</th>\n",
       "      <th>27</th>\n",
       "      <th>28</th>\n",
       "      <th>29</th>\n",
       "      <th>30</th>\n",
       "      <th>31</th>\n",
       "      <th>32</th>\n",
       "      <th>33</th>\n",
       "      <th>34</th>\n",
       "      <th>35</th>\n",
       "      <th>36</th>\n",
       "      <th>37</th>\n",
       "      <th>38</th>\n",
       "      <th>39</th>\n",
       "      <th>40</th>\n",
       "      <th>41</th>\n",
       "      <th>42</th>\n",
       "      <th>43</th>\n",
       "      <th>44</th>\n",
       "      <th>45</th>\n",
       "      <th>46</th>\n",
       "      <th>47</th>\n",
       "      <th>48</th>\n",
       "      <th>49</th>\n",
       "      <th>50</th>\n",
       "      <th>51</th>\n",
       "      <th>52</th>\n",
       "      <th>53</th>\n",
       "      <th>54</th>\n",
       "      <th>55</th>\n",
       "      <th>56</th>\n",
       "      <th>57</th>\n",
       "      <th>58</th>\n",
       "      <th>59</th>\n",
       "      <th>60</th>\n",
       "      <th>61</th>\n",
       "      <th>62</th>\n",
       "      <th>63</th>\n",
       "      <th>64</th>\n",
       "      <th>65</th>\n",
       "      <th>66</th>\n",
       "      <th>67</th>\n",
       "      <th>68</th>\n",
       "      <th>69</th>\n",
       "      <th>70</th>\n",
       "    </tr>\n",
       "  </thead>\n",
       "  <tbody>\n",
       "    <tr>\n",
       "      <th>0</th>\n",
       "      <td>DL</td>\n",
       "      <td>3975</td>\n",
       "      <td>OO</td>\n",
       "      <td>3975.0</td>\n",
       "      <td>9E</td>\n",
       "      <td>5540</td>\n",
       "      <td>BNA</td>\n",
       "      <td>MSP</td>\n",
       "      <td>20220124</td>\n",
       "      <td>1</td>\n",
       "      <td>1445</td>\n",
       "      <td>1445</td>\n",
       "      <td>1521</td>\n",
       "      <td>1701</td>\n",
       "      <td>1701</td>\n",
       "      <td>1751</td>\n",
       "      <td>0</td>\n",
       "      <td>0</td>\n",
       "      <td>136</td>\n",
       "      <td>150</td>\n",
       "      <td>36</td>\n",
       "      <td>50</td>\n",
       "      <td>14</td>\n",
       "      <td>1532</td>\n",
       "      <td>1722</td>\n",
       "      <td>N902XJ</td>\n",
       "      <td>11</td>\n",
       "      <td>29</td>\n",
       "      <td>110</td>\n",
       "      <td>NaN</td>\n",
       "      <td>36</td>\n",
       "      <td>0</td>\n",
       "      <td>14</td>\n",
       "      <td>0</td>\n",
       "      <td>0</td>\n",
       "      <td>0</td>\n",
       "      <td>0</td>\n",
       "      <td>0</td>\n",
       "      <td>0</td>\n",
       "      <td>NaN</td>\n",
       "      <td>0</td>\n",
       "      <td>0</td>\n",
       "      <td>0</td>\n",
       "      <td>0</td>\n",
       "      <td>NaN</td>\n",
       "      <td>NaN</td>\n",
       "      <td>0</td>\n",
       "      <td>0</td>\n",
       "      <td>0</td>\n",
       "      <td>0</td>\n",
       "      <td>NaN</td>\n",
       "      <td>NaN</td>\n",
       "      <td>0</td>\n",
       "      <td>0</td>\n",
       "      <td>0</td>\n",
       "      <td>0</td>\n",
       "      <td>NaN</td>\n",
       "      <td>NaN</td>\n",
       "      <td>0</td>\n",
       "      <td>0</td>\n",
       "      <td>0</td>\n",
       "      <td>0</td>\n",
       "      <td>NaN</td>\n",
       "      <td>NaN</td>\n",
       "      <td>0</td>\n",
       "      <td>0</td>\n",
       "      <td>0</td>\n",
       "      <td>0</td>\n",
       "      <td>NaN</td>\n",
       "      <td>FORM-3A</td>\n",
       "      <td>N</td>\n",
       "    </tr>\n",
       "    <tr>\n",
       "      <th>1</th>\n",
       "      <td>DL</td>\n",
       "      <td>3714</td>\n",
       "      <td>OO</td>\n",
       "      <td>3714.0</td>\n",
       "      <td>9E</td>\n",
       "      <td>5539</td>\n",
       "      <td>STL</td>\n",
       "      <td>MSP</td>\n",
       "      <td>20220123</td>\n",
       "      <td>7</td>\n",
       "      <td>1121</td>\n",
       "      <td>1121</td>\n",
       "      <td>1153</td>\n",
       "      <td>1254</td>\n",
       "      <td>1254</td>\n",
       "      <td>1336</td>\n",
       "      <td>0</td>\n",
       "      <td>0</td>\n",
       "      <td>93</td>\n",
       "      <td>103</td>\n",
       "      <td>32</td>\n",
       "      <td>42</td>\n",
       "      <td>10</td>\n",
       "      <td>1207</td>\n",
       "      <td>1327</td>\n",
       "      <td>N153PQ</td>\n",
       "      <td>14</td>\n",
       "      <td>9</td>\n",
       "      <td>80</td>\n",
       "      <td>NaN</td>\n",
       "      <td>0</td>\n",
       "      <td>0</td>\n",
       "      <td>10</td>\n",
       "      <td>0</td>\n",
       "      <td>32</td>\n",
       "      <td>0</td>\n",
       "      <td>0</td>\n",
       "      <td>0</td>\n",
       "      <td>0</td>\n",
       "      <td>NaN</td>\n",
       "      <td>0</td>\n",
       "      <td>0</td>\n",
       "      <td>0</td>\n",
       "      <td>0</td>\n",
       "      <td>NaN</td>\n",
       "      <td>NaN</td>\n",
       "      <td>0</td>\n",
       "      <td>0</td>\n",
       "      <td>0</td>\n",
       "      <td>0</td>\n",
       "      <td>NaN</td>\n",
       "      <td>NaN</td>\n",
       "      <td>0</td>\n",
       "      <td>0</td>\n",
       "      <td>0</td>\n",
       "      <td>0</td>\n",
       "      <td>NaN</td>\n",
       "      <td>NaN</td>\n",
       "      <td>0</td>\n",
       "      <td>0</td>\n",
       "      <td>0</td>\n",
       "      <td>0</td>\n",
       "      <td>NaN</td>\n",
       "      <td>NaN</td>\n",
       "      <td>0</td>\n",
       "      <td>0</td>\n",
       "      <td>0</td>\n",
       "      <td>0</td>\n",
       "      <td>NaN</td>\n",
       "      <td>FORM-3A</td>\n",
       "      <td>N</td>\n",
       "    </tr>\n",
       "  </tbody>\n",
       "</table>\n",
       "</div>"
      ],
      "text/plain": [
       "   0     1   2       3   4     5    6    7         8   9     10    11    12  \\\n",
       "0  DL  3975  OO  3975.0  9E  5540  BNA  MSP  20220124   1  1445  1445  1521   \n",
       "1  DL  3714  OO  3714.0  9E  5539  STL  MSP  20220123   7  1121  1121  1153   \n",
       "\n",
       "     13    14    15  16  17   18   19  20  21  22    23    24      25  26  27  \\\n",
       "0  1701  1701  1751   0   0  136  150  36  50  14  1532  1722  N902XJ  11  29   \n",
       "1  1254  1254  1336   0   0   93  103  32  42  10  1207  1327  N153PQ  14   9   \n",
       "\n",
       "    28   29  30  31  32  33  34  35  36  37  38   39  40  41  42  43   44  \\\n",
       "0  110  NaN  36   0  14   0   0   0   0   0   0  NaN   0   0   0   0  NaN   \n",
       "1   80  NaN   0   0  10   0  32   0   0   0   0  NaN   0   0   0   0  NaN   \n",
       "\n",
       "    45  46  47  48  49   50   51  52  53  54  55  56  57  58  59  60  61  62  \\\n",
       "0  NaN   0   0   0   0  NaN  NaN   0   0   0   0 NaN NaN   0   0   0   0 NaN   \n",
       "1  NaN   0   0   0   0  NaN  NaN   0   0   0   0 NaN NaN   0   0   0   0 NaN   \n",
       "\n",
       "   63  64  65  66  67  68       69 70  \n",
       "0 NaN   0   0   0   0 NaN  FORM-3A  N  \n",
       "1 NaN   0   0   0   0 NaN  FORM-3A  N  "
      ]
     },
     "execution_count": 6,
     "metadata": {},
     "output_type": "execute_result"
    }
   ],
   "source": [
    "# Merge all asc files into one airline file\n",
    "airlinedf = pd.concat((pd.read_table(file, delimiter='|',header = None, low_memory = False, encoding='ISO-8859-1') for file in raw_data),ignore_index=True)\n",
    "airlinedf.head(2)"
   ]
  },
  {
   "cell_type": "code",
   "execution_count": 7,
   "id": "358ec2e5",
   "metadata": {
    "scrolled": true
   },
   "outputs": [
    {
     "data": {
      "text/html": [
       "<div>\n",
       "<style scoped>\n",
       "    .dataframe tbody tr th:only-of-type {\n",
       "        vertical-align: middle;\n",
       "    }\n",
       "\n",
       "    .dataframe tbody tr th {\n",
       "        vertical-align: top;\n",
       "    }\n",
       "\n",
       "    .dataframe thead th {\n",
       "        text-align: right;\n",
       "    }\n",
       "</style>\n",
       "<table border=\"1\" class=\"dataframe\">\n",
       "  <thead>\n",
       "    <tr style=\"text-align: right;\">\n",
       "      <th></th>\n",
       "      <th>Field</th>\n",
       "      <th>Field Description</th>\n",
       "      <th>Data Type</th>\n",
       "      <th>Length</th>\n",
       "      <th>Comments</th>\n",
       "    </tr>\n",
       "  </thead>\n",
       "  <tbody>\n",
       "    <tr>\n",
       "      <th>0</th>\n",
       "      <td>A1</td>\n",
       "      <td>Marketing Carrier code</td>\n",
       "      <td>Character</td>\n",
       "      <td>2</td>\n",
       "      <td>Two letter IATA code</td>\n",
       "    </tr>\n",
       "    <tr>\n",
       "      <th>1</th>\n",
       "      <td>B1</td>\n",
       "      <td>Marketing Carrier Flight number</td>\n",
       "      <td>Character</td>\n",
       "      <td>Max length of 4</td>\n",
       "      <td>NaN</td>\n",
       "    </tr>\n",
       "    <tr>\n",
       "      <th>2</th>\n",
       "      <td>A2</td>\n",
       "      <td>Scheduled Operating Carrier Code</td>\n",
       "      <td>Character</td>\n",
       "      <td>2</td>\n",
       "      <td>Two letter IATA code</td>\n",
       "    </tr>\n",
       "    <tr>\n",
       "      <th>3</th>\n",
       "      <td>B2</td>\n",
       "      <td>Scheduled Operating Carrier Flight number</td>\n",
       "      <td>Character</td>\n",
       "      <td>Max length of 4</td>\n",
       "      <td>NaN</td>\n",
       "    </tr>\n",
       "    <tr>\n",
       "      <th>4</th>\n",
       "      <td>A3</td>\n",
       "      <td>Actual Operating Carrier Code</td>\n",
       "      <td>Character</td>\n",
       "      <td>2</td>\n",
       "      <td>Two letter IATA code</td>\n",
       "    </tr>\n",
       "    <tr>\n",
       "      <th>...</th>\n",
       "      <td>...</td>\n",
       "      <td>...</td>\n",
       "      <td>...</td>\n",
       "      <td>...</td>\n",
       "      <td>...</td>\n",
       "    </tr>\n",
       "    <tr>\n",
       "      <th>61</th>\n",
       "      <td>BF</td>\n",
       "      <td>Wheels-on time at diverted airport</td>\n",
       "      <td>Num</td>\n",
       "      <td>4</td>\n",
       "      <td>Local time 24 hour clock</td>\n",
       "    </tr>\n",
       "    <tr>\n",
       "      <th>62</th>\n",
       "      <td>BG</td>\n",
       "      <td>Total ground time away from gate at diverted a...</td>\n",
       "      <td>Num</td>\n",
       "      <td>Max length of 4</td>\n",
       "      <td>In minutes</td>\n",
       "    </tr>\n",
       "    <tr>\n",
       "      <th>63</th>\n",
       "      <td>BH</td>\n",
       "      <td>Longest ground time away from gate at diverted...</td>\n",
       "      <td>Num</td>\n",
       "      <td>Max length of 4</td>\n",
       "      <td>In minutes</td>\n",
       "    </tr>\n",
       "    <tr>\n",
       "      <th>64</th>\n",
       "      <td>BI</td>\n",
       "      <td>Wheels-off time (actual) at diverted airport</td>\n",
       "      <td>Num</td>\n",
       "      <td>4</td>\n",
       "      <td>Local time 24 hour clock</td>\n",
       "    </tr>\n",
       "    <tr>\n",
       "      <th>65</th>\n",
       "      <td>BJ</td>\n",
       "      <td>Aircraft tail number</td>\n",
       "      <td>Character</td>\n",
       "      <td>6</td>\n",
       "      <td>NaN</td>\n",
       "    </tr>\n",
       "  </tbody>\n",
       "</table>\n",
       "<p>66 rows × 5 columns</p>\n",
       "</div>"
      ],
      "text/plain": [
       "   Field                                  Field Description  Data Type  \\\n",
       "0     A1                             Marketing Carrier code  Character   \n",
       "1     B1                    Marketing Carrier Flight number  Character   \n",
       "2     A2                   Scheduled Operating Carrier Code  Character   \n",
       "3     B2          Scheduled Operating Carrier Flight number  Character   \n",
       "4     A3                      Actual Operating Carrier Code  Character   \n",
       "..   ...                                                ...        ...   \n",
       "61    BF                 Wheels-on time at diverted airport        Num   \n",
       "62    BG  Total ground time away from gate at diverted a...        Num   \n",
       "63    BH  Longest ground time away from gate at diverted...        Num   \n",
       "64    BI       Wheels-off time (actual) at diverted airport        Num   \n",
       "65    BJ                               Aircraft tail number  Character   \n",
       "\n",
       "             Length                  Comments  \n",
       "0                 2      Two letter IATA code  \n",
       "1   Max length of 4                       NaN  \n",
       "2                 2      Two letter IATA code  \n",
       "3   Max length of 4                       NaN  \n",
       "4                 2      Two letter IATA code  \n",
       "..              ...                       ...  \n",
       "61                4  Local time 24 hour clock  \n",
       "62  Max length of 4                In minutes  \n",
       "63  Max length of 4                In minutes  \n",
       "64                4  Local time 24 hour clock  \n",
       "65                6                       NaN  \n",
       "\n",
       "[66 rows x 5 columns]"
      ]
     },
     "execution_count": 7,
     "metadata": {},
     "output_type": "execute_result"
    }
   ],
   "source": [
    "# Read the html page that contains features titles\n",
    "columns_labels = pd.read_html('https://esubmit.rita.dot.gov/On-Time-Form3A.aspx')[3]\n",
    "columns_labels"
   ]
  },
  {
   "cell_type": "markdown",
   "id": "0c534cd1",
   "metadata": {},
   "source": [
    "# Data Wrangling "
   ]
  },
  {
   "cell_type": "code",
   "execution_count": 8,
   "id": "e9f3a4d0",
   "metadata": {},
   "outputs": [
    {
     "data": {
      "text/html": [
       "<div>\n",
       "<style scoped>\n",
       "    .dataframe tbody tr th:only-of-type {\n",
       "        vertical-align: middle;\n",
       "    }\n",
       "\n",
       "    .dataframe tbody tr th {\n",
       "        vertical-align: top;\n",
       "    }\n",
       "\n",
       "    .dataframe thead th {\n",
       "        text-align: right;\n",
       "    }\n",
       "</style>\n",
       "<table border=\"1\" class=\"dataframe\">\n",
       "  <thead>\n",
       "    <tr style=\"text-align: right;\">\n",
       "      <th></th>\n",
       "      <th>0</th>\n",
       "      <th>1</th>\n",
       "      <th>6</th>\n",
       "      <th>7</th>\n",
       "      <th>8</th>\n",
       "      <th>9</th>\n",
       "      <th>10</th>\n",
       "      <th>12</th>\n",
       "      <th>13</th>\n",
       "      <th>15</th>\n",
       "      <th>18</th>\n",
       "      <th>19</th>\n",
       "      <th>20</th>\n",
       "      <th>21</th>\n",
       "      <th>22</th>\n",
       "      <th>23</th>\n",
       "      <th>24</th>\n",
       "      <th>25</th>\n",
       "      <th>29</th>\n",
       "      <th>30</th>\n",
       "      <th>31</th>\n",
       "      <th>32</th>\n",
       "      <th>33</th>\n",
       "      <th>34</th>\n",
       "      <th>35</th>\n",
       "      <th>36</th>\n",
       "      <th>37</th>\n",
       "      <th>38</th>\n",
       "    </tr>\n",
       "  </thead>\n",
       "  <tbody>\n",
       "    <tr>\n",
       "      <th>0</th>\n",
       "      <td>DL</td>\n",
       "      <td>3975</td>\n",
       "      <td>BNA</td>\n",
       "      <td>MSP</td>\n",
       "      <td>20220124</td>\n",
       "      <td>1</td>\n",
       "      <td>1445</td>\n",
       "      <td>1521</td>\n",
       "      <td>1701</td>\n",
       "      <td>1751</td>\n",
       "      <td>136</td>\n",
       "      <td>150</td>\n",
       "      <td>36</td>\n",
       "      <td>50</td>\n",
       "      <td>14</td>\n",
       "      <td>1532</td>\n",
       "      <td>1722</td>\n",
       "      <td>N902XJ</td>\n",
       "      <td>NaN</td>\n",
       "      <td>36</td>\n",
       "      <td>0</td>\n",
       "      <td>14</td>\n",
       "      <td>0</td>\n",
       "      <td>0</td>\n",
       "      <td>0</td>\n",
       "      <td>0</td>\n",
       "      <td>0</td>\n",
       "      <td>0</td>\n",
       "    </tr>\n",
       "    <tr>\n",
       "      <th>1</th>\n",
       "      <td>DL</td>\n",
       "      <td>3714</td>\n",
       "      <td>STL</td>\n",
       "      <td>MSP</td>\n",
       "      <td>20220123</td>\n",
       "      <td>7</td>\n",
       "      <td>1121</td>\n",
       "      <td>1153</td>\n",
       "      <td>1254</td>\n",
       "      <td>1336</td>\n",
       "      <td>93</td>\n",
       "      <td>103</td>\n",
       "      <td>32</td>\n",
       "      <td>42</td>\n",
       "      <td>10</td>\n",
       "      <td>1207</td>\n",
       "      <td>1327</td>\n",
       "      <td>N153PQ</td>\n",
       "      <td>NaN</td>\n",
       "      <td>0</td>\n",
       "      <td>0</td>\n",
       "      <td>10</td>\n",
       "      <td>0</td>\n",
       "      <td>32</td>\n",
       "      <td>0</td>\n",
       "      <td>0</td>\n",
       "      <td>0</td>\n",
       "      <td>0</td>\n",
       "    </tr>\n",
       "  </tbody>\n",
       "</table>\n",
       "</div>"
      ],
      "text/plain": [
       "   0     1    6    7         8   9     10    12    13    15   18   19  20  21  \\\n",
       "0  DL  3975  BNA  MSP  20220124   1  1445  1521  1701  1751  136  150  36  50   \n",
       "1  DL  3714  STL  MSP  20220123   7  1121  1153  1254  1336   93  103  32  42   \n",
       "\n",
       "   22    23    24      25   29  30  31  32  33  34  35  36  37  38  \n",
       "0  14  1532  1722  N902XJ  NaN  36   0  14   0   0   0   0   0   0  \n",
       "1  10  1207  1327  N153PQ  NaN   0   0  10   0  32   0   0   0   0  "
      ]
     },
     "execution_count": 8,
     "metadata": {},
     "output_type": "execute_result"
    }
   ],
   "source": [
    "# Drop some columns\n",
    "airline_df = airlinedf.drop(columns=[2,3,4,5,11,14,16,17,26,27,28,39,40,41,42,43,44,45,46,47,48,49,50,51,52,53,54,55,56,57,58,59,60,61,62,63,64,65,66,67,68,69,70],axis=1)\n",
    "airline_df.head(2)"
   ]
  },
  {
   "cell_type": "code",
   "execution_count": 9,
   "id": "f28c3ce1",
   "metadata": {},
   "outputs": [
    {
     "data": {
      "text/html": [
       "<div>\n",
       "<style scoped>\n",
       "    .dataframe tbody tr th:only-of-type {\n",
       "        vertical-align: middle;\n",
       "    }\n",
       "\n",
       "    .dataframe tbody tr th {\n",
       "        vertical-align: top;\n",
       "    }\n",
       "\n",
       "    .dataframe thead th {\n",
       "        text-align: right;\n",
       "    }\n",
       "</style>\n",
       "<table border=\"1\" class=\"dataframe\">\n",
       "  <thead>\n",
       "    <tr style=\"text-align: right;\">\n",
       "      <th></th>\n",
       "      <th>0</th>\n",
       "      <th>1</th>\n",
       "      <th>2</th>\n",
       "      <th>3</th>\n",
       "      <th>4</th>\n",
       "      <th>5</th>\n",
       "      <th>6</th>\n",
       "      <th>7</th>\n",
       "      <th>8</th>\n",
       "      <th>9</th>\n",
       "      <th>10</th>\n",
       "      <th>11</th>\n",
       "      <th>12</th>\n",
       "      <th>13</th>\n",
       "      <th>14</th>\n",
       "      <th>15</th>\n",
       "      <th>16</th>\n",
       "      <th>17</th>\n",
       "      <th>18</th>\n",
       "      <th>19</th>\n",
       "      <th>20</th>\n",
       "      <th>21</th>\n",
       "      <th>22</th>\n",
       "      <th>23</th>\n",
       "      <th>24</th>\n",
       "      <th>25</th>\n",
       "      <th>26</th>\n",
       "      <th>27</th>\n",
       "    </tr>\n",
       "  </thead>\n",
       "  <tbody>\n",
       "    <tr>\n",
       "      <th>0</th>\n",
       "      <td>DL</td>\n",
       "      <td>3975</td>\n",
       "      <td>BNA</td>\n",
       "      <td>MSP</td>\n",
       "      <td>20220124</td>\n",
       "      <td>1</td>\n",
       "      <td>1445</td>\n",
       "      <td>1521</td>\n",
       "      <td>1701</td>\n",
       "      <td>1751</td>\n",
       "      <td>136</td>\n",
       "      <td>150</td>\n",
       "      <td>36</td>\n",
       "      <td>50</td>\n",
       "      <td>14</td>\n",
       "      <td>1532</td>\n",
       "      <td>1722</td>\n",
       "      <td>N902XJ</td>\n",
       "      <td>NaN</td>\n",
       "      <td>36</td>\n",
       "      <td>0</td>\n",
       "      <td>14</td>\n",
       "      <td>0</td>\n",
       "      <td>0</td>\n",
       "      <td>0</td>\n",
       "      <td>0</td>\n",
       "      <td>0</td>\n",
       "      <td>0</td>\n",
       "    </tr>\n",
       "    <tr>\n",
       "      <th>1</th>\n",
       "      <td>DL</td>\n",
       "      <td>3714</td>\n",
       "      <td>STL</td>\n",
       "      <td>MSP</td>\n",
       "      <td>20220123</td>\n",
       "      <td>7</td>\n",
       "      <td>1121</td>\n",
       "      <td>1153</td>\n",
       "      <td>1254</td>\n",
       "      <td>1336</td>\n",
       "      <td>93</td>\n",
       "      <td>103</td>\n",
       "      <td>32</td>\n",
       "      <td>42</td>\n",
       "      <td>10</td>\n",
       "      <td>1207</td>\n",
       "      <td>1327</td>\n",
       "      <td>N153PQ</td>\n",
       "      <td>NaN</td>\n",
       "      <td>0</td>\n",
       "      <td>0</td>\n",
       "      <td>10</td>\n",
       "      <td>0</td>\n",
       "      <td>32</td>\n",
       "      <td>0</td>\n",
       "      <td>0</td>\n",
       "      <td>0</td>\n",
       "      <td>0</td>\n",
       "    </tr>\n",
       "  </tbody>\n",
       "</table>\n",
       "</div>"
      ],
      "text/plain": [
       "   0     1    2    3         4   5     6     7     8     9    10   11  12  13  \\\n",
       "0  DL  3975  BNA  MSP  20220124   1  1445  1521  1701  1751  136  150  36  50   \n",
       "1  DL  3714  STL  MSP  20220123   7  1121  1153  1254  1336   93  103  32  42   \n",
       "\n",
       "   14    15    16      17   18  19  20  21  22  23  24  25  26  27  \n",
       "0  14  1532  1722  N902XJ  NaN  36   0  14   0   0   0   0   0   0  \n",
       "1  10  1207  1327  N153PQ  NaN   0   0  10   0  32   0   0   0   0  "
      ]
     },
     "execution_count": 9,
     "metadata": {},
     "output_type": "execute_result"
    }
   ],
   "source": [
    "# Reindex columns\n",
    "columns=[]\n",
    "for i in range(28):\n",
    "    columns.append(i)\n",
    "airline_df.columns = columns\n",
    "airline_df.head(2)"
   ]
  },
  {
   "cell_type": "code",
   "execution_count": 10,
   "id": "0856d303",
   "metadata": {},
   "outputs": [
    {
     "name": "stdout",
     "output_type": "stream",
     "text": [
      "Columns and Rows: \n",
      " (5867108, 28)\n"
     ]
    }
   ],
   "source": [
    "# airline_df's Size \n",
    "print(\"Columns and Rows: \\n\", airline_df.shape)"
   ]
  },
  {
   "cell_type": "code",
   "execution_count": 11,
   "id": "c3bf5b0d",
   "metadata": {},
   "outputs": [
    {
     "data": {
      "text/plain": [
       "{0: 'Mkt_Ccode',\n",
       " 1: 'Mkt_Fl_No',\n",
       " 2: 'Dep_Airport',\n",
       " 3: 'Arr_Airport',\n",
       " 4: 'Date',\n",
       " 5: 'Day_Week',\n",
       " 6: 'Sched_Dep_Time_OAG',\n",
       " 7: 'Gate_Dep_Time_Actual',\n",
       " 8: 'Sched_Arr_Time_OAG',\n",
       " 9: 'Gate_Arr_Time_Actual',\n",
       " 10: 'Sched_Elapsed_Time_CRS',\n",
       " 11: 'Actual_Gate_Gate_Time',\n",
       " 12: 'Dep_Delay_Time_Actual',\n",
       " 13: 'Arr_Delay_Time_Actual',\n",
       " 14: 'Elapsed_Time_Diff_Actual',\n",
       " 15: 'Wheels_Off_Time_Actual',\n",
       " 16: 'Wheels_On_Time_Actual',\n",
       " 17: 'Tail_Number',\n",
       " 18: 'Cancel_Code',\n",
       " 19: 'Mins_Late_Delay_Code_E_Carrier',\n",
       " 20: 'Mins_Late_Delay_Code_F_Weather',\n",
       " 21: 'Mins_Late_Delay_Code_G_NAS',\n",
       " 22: 'Mins_Late_Delay_Code_H_Security',\n",
       " 23: 'Mins_Late_Delay_Code_I_Late_Arr_Flight',\n",
       " 24: 'First_Gate_Dep_Time',\n",
       " 25: 'Total_Ground_Away_From_Gate',\n",
       " 26: 'Longest_Ground_Time_Away_From_Gate',\n",
       " 27: 'No_Landings_At_Div_Airport'}"
      ]
     },
     "execution_count": 11,
     "metadata": {},
     "output_type": "execute_result"
    }
   ],
   "source": [
    "# Read feature titles\n",
    "headers = pd.read_csv('headers_mapping.csv').to_dict()['Field']\n",
    "headers"
   ]
  },
  {
   "cell_type": "code",
   "execution_count": 12,
   "id": "d3077375",
   "metadata": {},
   "outputs": [
    {
     "data": {
      "text/html": [
       "<div>\n",
       "<style scoped>\n",
       "    .dataframe tbody tr th:only-of-type {\n",
       "        vertical-align: middle;\n",
       "    }\n",
       "\n",
       "    .dataframe tbody tr th {\n",
       "        vertical-align: top;\n",
       "    }\n",
       "\n",
       "    .dataframe thead th {\n",
       "        text-align: right;\n",
       "    }\n",
       "</style>\n",
       "<table border=\"1\" class=\"dataframe\">\n",
       "  <thead>\n",
       "    <tr style=\"text-align: right;\">\n",
       "      <th></th>\n",
       "      <th>Mkt_Ccode</th>\n",
       "      <th>Mkt_Fl_No</th>\n",
       "      <th>Dep_Airport</th>\n",
       "      <th>Arr_Airport</th>\n",
       "      <th>Date</th>\n",
       "      <th>Day_Week</th>\n",
       "      <th>Sched_Dep_Time_OAG</th>\n",
       "      <th>Gate_Dep_Time_Actual</th>\n",
       "      <th>Sched_Arr_Time_OAG</th>\n",
       "      <th>Gate_Arr_Time_Actual</th>\n",
       "      <th>Sched_Elapsed_Time_CRS</th>\n",
       "      <th>Actual_Gate_Gate_Time</th>\n",
       "      <th>Dep_Delay_Time_Actual</th>\n",
       "      <th>Arr_Delay_Time_Actual</th>\n",
       "      <th>Elapsed_Time_Diff_Actual</th>\n",
       "      <th>Wheels_Off_Time_Actual</th>\n",
       "      <th>Wheels_On_Time_Actual</th>\n",
       "      <th>Tail_Number</th>\n",
       "      <th>Cancel_Code</th>\n",
       "      <th>Mins_Late_Delay_Code_E_Carrier</th>\n",
       "      <th>Mins_Late_Delay_Code_F_Weather</th>\n",
       "      <th>Mins_Late_Delay_Code_G_NAS</th>\n",
       "      <th>Mins_Late_Delay_Code_H_Security</th>\n",
       "      <th>Mins_Late_Delay_Code_I_Late_Arr_Flight</th>\n",
       "      <th>First_Gate_Dep_Time</th>\n",
       "      <th>Total_Ground_Away_From_Gate</th>\n",
       "      <th>Longest_Ground_Time_Away_From_Gate</th>\n",
       "      <th>No_Landings_At_Div_Airport</th>\n",
       "    </tr>\n",
       "  </thead>\n",
       "  <tbody>\n",
       "    <tr>\n",
       "      <th>0</th>\n",
       "      <td>DL</td>\n",
       "      <td>3975</td>\n",
       "      <td>BNA</td>\n",
       "      <td>MSP</td>\n",
       "      <td>20220124</td>\n",
       "      <td>1</td>\n",
       "      <td>1445</td>\n",
       "      <td>1521</td>\n",
       "      <td>1701</td>\n",
       "      <td>1751</td>\n",
       "      <td>136</td>\n",
       "      <td>150</td>\n",
       "      <td>36</td>\n",
       "      <td>50</td>\n",
       "      <td>14</td>\n",
       "      <td>1532</td>\n",
       "      <td>1722</td>\n",
       "      <td>N902XJ</td>\n",
       "      <td>NaN</td>\n",
       "      <td>36</td>\n",
       "      <td>0</td>\n",
       "      <td>14</td>\n",
       "      <td>0</td>\n",
       "      <td>0</td>\n",
       "      <td>0</td>\n",
       "      <td>0</td>\n",
       "      <td>0</td>\n",
       "      <td>0</td>\n",
       "    </tr>\n",
       "    <tr>\n",
       "      <th>1</th>\n",
       "      <td>DL</td>\n",
       "      <td>3714</td>\n",
       "      <td>STL</td>\n",
       "      <td>MSP</td>\n",
       "      <td>20220123</td>\n",
       "      <td>7</td>\n",
       "      <td>1121</td>\n",
       "      <td>1153</td>\n",
       "      <td>1254</td>\n",
       "      <td>1336</td>\n",
       "      <td>93</td>\n",
       "      <td>103</td>\n",
       "      <td>32</td>\n",
       "      <td>42</td>\n",
       "      <td>10</td>\n",
       "      <td>1207</td>\n",
       "      <td>1327</td>\n",
       "      <td>N153PQ</td>\n",
       "      <td>NaN</td>\n",
       "      <td>0</td>\n",
       "      <td>0</td>\n",
       "      <td>10</td>\n",
       "      <td>0</td>\n",
       "      <td>32</td>\n",
       "      <td>0</td>\n",
       "      <td>0</td>\n",
       "      <td>0</td>\n",
       "      <td>0</td>\n",
       "    </tr>\n",
       "  </tbody>\n",
       "</table>\n",
       "</div>"
      ],
      "text/plain": [
       "  Mkt_Ccode  Mkt_Fl_No Dep_Airport Arr_Airport      Date  Day_Week  \\\n",
       "0        DL       3975         BNA         MSP  20220124         1   \n",
       "1        DL       3714         STL         MSP  20220123         7   \n",
       "\n",
       "   Sched_Dep_Time_OAG  Gate_Dep_Time_Actual  Sched_Arr_Time_OAG  \\\n",
       "0                1445                  1521                1701   \n",
       "1                1121                  1153                1254   \n",
       "\n",
       "   Gate_Arr_Time_Actual  Sched_Elapsed_Time_CRS  Actual_Gate_Gate_Time  \\\n",
       "0                  1751                     136                    150   \n",
       "1                  1336                      93                    103   \n",
       "\n",
       "   Dep_Delay_Time_Actual  Arr_Delay_Time_Actual  Elapsed_Time_Diff_Actual  \\\n",
       "0                     36                     50                        14   \n",
       "1                     32                     42                        10   \n",
       "\n",
       "   Wheels_Off_Time_Actual  Wheels_On_Time_Actual Tail_Number Cancel_Code  \\\n",
       "0                    1532                   1722      N902XJ         NaN   \n",
       "1                    1207                   1327      N153PQ         NaN   \n",
       "\n",
       "   Mins_Late_Delay_Code_E_Carrier  Mins_Late_Delay_Code_F_Weather  \\\n",
       "0                              36                               0   \n",
       "1                               0                               0   \n",
       "\n",
       "   Mins_Late_Delay_Code_G_NAS  Mins_Late_Delay_Code_H_Security  \\\n",
       "0                          14                                0   \n",
       "1                          10                                0   \n",
       "\n",
       "   Mins_Late_Delay_Code_I_Late_Arr_Flight  First_Gate_Dep_Time  \\\n",
       "0                                       0                    0   \n",
       "1                                      32                    0   \n",
       "\n",
       "   Total_Ground_Away_From_Gate  Longest_Ground_Time_Away_From_Gate  \\\n",
       "0                            0                                   0   \n",
       "1                            0                                   0   \n",
       "\n",
       "   No_Landings_At_Div_Airport  \n",
       "0                           0  \n",
       "1                           0  "
      ]
     },
     "execution_count": 12,
     "metadata": {},
     "output_type": "execute_result"
    }
   ],
   "source": [
    "# Rename airline_df columns \n",
    "airline_df1 = airline_df.rename(headers, axis=1) \n",
    "airline_df1.head(2)"
   ]
  },
  {
   "cell_type": "code",
   "execution_count": 13,
   "id": "a175d632",
   "metadata": {},
   "outputs": [
    {
     "name": "stdout",
     "output_type": "stream",
     "text": [
      "General Information: \n",
      "\n",
      "<class 'pandas.core.frame.DataFrame'>\n",
      "RangeIndex: 5867108 entries, 0 to 5867107\n",
      "Data columns (total 28 columns):\n",
      " #   Column                                  Dtype \n",
      "---  ------                                  ----- \n",
      " 0   Mkt_Ccode                               object\n",
      " 1   Mkt_Fl_No                               int64 \n",
      " 2   Dep_Airport                             object\n",
      " 3   Arr_Airport                             object\n",
      " 4   Date                                    int64 \n",
      " 5   Day_Week                                int64 \n",
      " 6   Sched_Dep_Time_OAG                      int64 \n",
      " 7   Gate_Dep_Time_Actual                    int64 \n",
      " 8   Sched_Arr_Time_OAG                      int64 \n",
      " 9   Gate_Arr_Time_Actual                    int64 \n",
      " 10  Sched_Elapsed_Time_CRS                  int64 \n",
      " 11  Actual_Gate_Gate_Time                   int64 \n",
      " 12  Dep_Delay_Time_Actual                   int64 \n",
      " 13  Arr_Delay_Time_Actual                   int64 \n",
      " 14  Elapsed_Time_Diff_Actual                int64 \n",
      " 15  Wheels_Off_Time_Actual                  int64 \n",
      " 16  Wheels_On_Time_Actual                   int64 \n",
      " 17  Tail_Number                             object\n",
      " 18  Cancel_Code                             object\n",
      " 19  Mins_Late_Delay_Code_E_Carrier          int64 \n",
      " 20  Mins_Late_Delay_Code_F_Weather          int64 \n",
      " 21  Mins_Late_Delay_Code_G_NAS              int64 \n",
      " 22  Mins_Late_Delay_Code_H_Security         int64 \n",
      " 23  Mins_Late_Delay_Code_I_Late_Arr_Flight  int64 \n",
      " 24  First_Gate_Dep_Time                     int64 \n",
      " 25  Total_Ground_Away_From_Gate             int64 \n",
      " 26  Longest_Ground_Time_Away_From_Gate      int64 \n",
      " 27  No_Landings_At_Div_Airport              int64 \n",
      "dtypes: int64(23), object(5)\n",
      "memory usage: 1.2+ GB\n"
     ]
    }
   ],
   "source": [
    "# Dataset Overview\n",
    "print(\"General Information: \\n\")\n",
    "airline_df1.info()"
   ]
  },
  {
   "cell_type": "code",
   "execution_count": 14,
   "id": "34996b35",
   "metadata": {},
   "outputs": [
    {
     "data": {
      "text/html": [
       "<div>\n",
       "<style scoped>\n",
       "    .dataframe tbody tr th:only-of-type {\n",
       "        vertical-align: middle;\n",
       "    }\n",
       "\n",
       "    .dataframe tbody tr th {\n",
       "        vertical-align: top;\n",
       "    }\n",
       "\n",
       "    .dataframe thead th {\n",
       "        text-align: right;\n",
       "    }\n",
       "</style>\n",
       "<table border=\"1\" class=\"dataframe\">\n",
       "  <thead>\n",
       "    <tr style=\"text-align: right;\">\n",
       "      <th></th>\n",
       "      <th>mkt_ccode</th>\n",
       "      <th>mkt_fl_no</th>\n",
       "      <th>dep_airport</th>\n",
       "      <th>arr_airport</th>\n",
       "      <th>date</th>\n",
       "      <th>day_week</th>\n",
       "      <th>sched_dep_time_oag</th>\n",
       "      <th>gate_dep_time_actual</th>\n",
       "      <th>sched_arr_time_oag</th>\n",
       "      <th>gate_arr_time_actual</th>\n",
       "      <th>sched_elapsed_time_crs</th>\n",
       "      <th>actual_gate_gate_time</th>\n",
       "      <th>dep_delay_time_actual</th>\n",
       "      <th>arr_delay_time_actual</th>\n",
       "      <th>elapsed_time_diff_actual</th>\n",
       "      <th>wheels_off_time_actual</th>\n",
       "      <th>wheels_on_time_actual</th>\n",
       "      <th>tail_number</th>\n",
       "      <th>cancel_code</th>\n",
       "      <th>mins_late_delay_code_e_carrier</th>\n",
       "      <th>mins_late_delay_code_f_weather</th>\n",
       "      <th>mins_late_delay_code_g_nas</th>\n",
       "      <th>mins_late_delay_code_h_security</th>\n",
       "      <th>mins_late_delay_code_i_late_arr_flight</th>\n",
       "      <th>first_gate_dep_time</th>\n",
       "      <th>total_ground_away_from_gate</th>\n",
       "      <th>longest_ground_time_away_from_gate</th>\n",
       "      <th>no_landings_at_div_airport</th>\n",
       "    </tr>\n",
       "  </thead>\n",
       "  <tbody>\n",
       "    <tr>\n",
       "      <th>0</th>\n",
       "      <td>DL</td>\n",
       "      <td>3975</td>\n",
       "      <td>BNA</td>\n",
       "      <td>MSP</td>\n",
       "      <td>20220124</td>\n",
       "      <td>1</td>\n",
       "      <td>1445</td>\n",
       "      <td>1521</td>\n",
       "      <td>1701</td>\n",
       "      <td>1751</td>\n",
       "      <td>136</td>\n",
       "      <td>150</td>\n",
       "      <td>36</td>\n",
       "      <td>50</td>\n",
       "      <td>14</td>\n",
       "      <td>1532</td>\n",
       "      <td>1722</td>\n",
       "      <td>N902XJ</td>\n",
       "      <td>NaN</td>\n",
       "      <td>36</td>\n",
       "      <td>0</td>\n",
       "      <td>14</td>\n",
       "      <td>0</td>\n",
       "      <td>0</td>\n",
       "      <td>0</td>\n",
       "      <td>0</td>\n",
       "      <td>0</td>\n",
       "      <td>0</td>\n",
       "    </tr>\n",
       "    <tr>\n",
       "      <th>1</th>\n",
       "      <td>DL</td>\n",
       "      <td>3714</td>\n",
       "      <td>STL</td>\n",
       "      <td>MSP</td>\n",
       "      <td>20220123</td>\n",
       "      <td>7</td>\n",
       "      <td>1121</td>\n",
       "      <td>1153</td>\n",
       "      <td>1254</td>\n",
       "      <td>1336</td>\n",
       "      <td>93</td>\n",
       "      <td>103</td>\n",
       "      <td>32</td>\n",
       "      <td>42</td>\n",
       "      <td>10</td>\n",
       "      <td>1207</td>\n",
       "      <td>1327</td>\n",
       "      <td>N153PQ</td>\n",
       "      <td>NaN</td>\n",
       "      <td>0</td>\n",
       "      <td>0</td>\n",
       "      <td>10</td>\n",
       "      <td>0</td>\n",
       "      <td>32</td>\n",
       "      <td>0</td>\n",
       "      <td>0</td>\n",
       "      <td>0</td>\n",
       "      <td>0</td>\n",
       "    </tr>\n",
       "  </tbody>\n",
       "</table>\n",
       "</div>"
      ],
      "text/plain": [
       "  mkt_ccode  mkt_fl_no dep_airport arr_airport      date  day_week  \\\n",
       "0        DL       3975         BNA         MSP  20220124         1   \n",
       "1        DL       3714         STL         MSP  20220123         7   \n",
       "\n",
       "   sched_dep_time_oag  gate_dep_time_actual  sched_arr_time_oag  \\\n",
       "0                1445                  1521                1701   \n",
       "1                1121                  1153                1254   \n",
       "\n",
       "   gate_arr_time_actual  sched_elapsed_time_crs  actual_gate_gate_time  \\\n",
       "0                  1751                     136                    150   \n",
       "1                  1336                      93                    103   \n",
       "\n",
       "   dep_delay_time_actual  arr_delay_time_actual  elapsed_time_diff_actual  \\\n",
       "0                     36                     50                        14   \n",
       "1                     32                     42                        10   \n",
       "\n",
       "   wheels_off_time_actual  wheels_on_time_actual tail_number cancel_code  \\\n",
       "0                    1532                   1722      N902XJ         NaN   \n",
       "1                    1207                   1327      N153PQ         NaN   \n",
       "\n",
       "   mins_late_delay_code_e_carrier  mins_late_delay_code_f_weather  \\\n",
       "0                              36                               0   \n",
       "1                               0                               0   \n",
       "\n",
       "   mins_late_delay_code_g_nas  mins_late_delay_code_h_security  \\\n",
       "0                          14                                0   \n",
       "1                          10                                0   \n",
       "\n",
       "   mins_late_delay_code_i_late_arr_flight  first_gate_dep_time  \\\n",
       "0                                       0                    0   \n",
       "1                                      32                    0   \n",
       "\n",
       "   total_ground_away_from_gate  longest_ground_time_away_from_gate  \\\n",
       "0                            0                                   0   \n",
       "1                            0                                   0   \n",
       "\n",
       "   no_landings_at_div_airport  \n",
       "0                           0  \n",
       "1                           0  "
      ]
     },
     "execution_count": 14,
     "metadata": {},
     "output_type": "execute_result"
    }
   ],
   "source": [
    "# Convert feature titles from upper to lower case \n",
    "airline_df1.columns = airline_df1.columns.str.lower()\n",
    "airline_df1.head(2)"
   ]
  },
  {
   "cell_type": "code",
   "execution_count": 15,
   "id": "783dbbd6",
   "metadata": {},
   "outputs": [
    {
     "data": {
      "text/plain": [
       "Index(['mkt_ccode', 'mkt_fl_no', 'dep_airport', 'arr_airport', 'date',\n",
       "       'day_week', 'sched_dep_time_oag', 'gate_dep_time_actual',\n",
       "       'sched_arr_time_oag', 'gate_arr_time_actual', 'sched_elapsed_time_crs',\n",
       "       'actual_gate_gate_time', 'dep_delay_time_actual',\n",
       "       'arr_delay_time_actual', 'elapsed_time_diff_actual',\n",
       "       'wheels_off_time_actual', 'wheels_on_time_actual', 'tail_number',\n",
       "       'cancel_code', 'mins_late_delay_code_e_carrier',\n",
       "       'mins_late_delay_code_f_weather', 'mins_late_delay_code_g_nas',\n",
       "       'mins_late_delay_code_h_security',\n",
       "       'mins_late_delay_code_i_late_arr_flight', 'first_gate_dep_time',\n",
       "       'total_ground_away_from_gate', 'longest_ground_time_away_from_gate',\n",
       "       'no_landings_at_div_airport'],\n",
       "      dtype='object')"
      ]
     },
     "execution_count": 15,
     "metadata": {},
     "output_type": "execute_result"
    }
   ],
   "source": [
    "# Display all feature names\n",
    "airline_df1.columns "
   ]
  },
  {
   "cell_type": "code",
   "execution_count": 16,
   "id": "605d4200",
   "metadata": {
    "scrolled": true
   },
   "outputs": [
    {
     "data": {
      "text/html": [
       "<div>\n",
       "<style scoped>\n",
       "    .dataframe tbody tr th:only-of-type {\n",
       "        vertical-align: middle;\n",
       "    }\n",
       "\n",
       "    .dataframe tbody tr th {\n",
       "        vertical-align: top;\n",
       "    }\n",
       "\n",
       "    .dataframe thead th {\n",
       "        text-align: right;\n",
       "    }\n",
       "</style>\n",
       "<table border=\"1\" class=\"dataframe\">\n",
       "  <thead>\n",
       "    <tr style=\"text-align: right;\">\n",
       "      <th></th>\n",
       "      <th>mkt_ccode</th>\n",
       "      <th>mkt_fl_no</th>\n",
       "      <th>dep_airport</th>\n",
       "      <th>cancel_code</th>\n",
       "      <th>arr_airport</th>\n",
       "      <th>date</th>\n",
       "      <th>day_week</th>\n",
       "      <th>dep_delay_time_actual</th>\n",
       "      <th>arr_delay_time_actual</th>\n",
       "      <th>mins_late_delay_code_e_carrier</th>\n",
       "      <th>mins_late_delay_code_f_weather</th>\n",
       "      <th>mins_late_delay_code_g_nas</th>\n",
       "      <th>mins_late_delay_code_h_security</th>\n",
       "      <th>mins_late_delay_code_i_late_arr_flight</th>\n",
       "    </tr>\n",
       "  </thead>\n",
       "  <tbody>\n",
       "    <tr>\n",
       "      <th>0</th>\n",
       "      <td>DL</td>\n",
       "      <td>3975</td>\n",
       "      <td>BNA</td>\n",
       "      <td>NaN</td>\n",
       "      <td>MSP</td>\n",
       "      <td>20220124</td>\n",
       "      <td>1</td>\n",
       "      <td>36</td>\n",
       "      <td>50</td>\n",
       "      <td>36</td>\n",
       "      <td>0</td>\n",
       "      <td>14</td>\n",
       "      <td>0</td>\n",
       "      <td>0</td>\n",
       "    </tr>\n",
       "    <tr>\n",
       "      <th>1</th>\n",
       "      <td>DL</td>\n",
       "      <td>3714</td>\n",
       "      <td>STL</td>\n",
       "      <td>NaN</td>\n",
       "      <td>MSP</td>\n",
       "      <td>20220123</td>\n",
       "      <td>7</td>\n",
       "      <td>32</td>\n",
       "      <td>42</td>\n",
       "      <td>0</td>\n",
       "      <td>0</td>\n",
       "      <td>10</td>\n",
       "      <td>0</td>\n",
       "      <td>32</td>\n",
       "    </tr>\n",
       "  </tbody>\n",
       "</table>\n",
       "</div>"
      ],
      "text/plain": [
       "  mkt_ccode  mkt_fl_no dep_airport cancel_code arr_airport      date  \\\n",
       "0        DL       3975         BNA         NaN         MSP  20220124   \n",
       "1        DL       3714         STL         NaN         MSP  20220123   \n",
       "\n",
       "   day_week  dep_delay_time_actual  arr_delay_time_actual  \\\n",
       "0         1                     36                     50   \n",
       "1         7                     32                     42   \n",
       "\n",
       "   mins_late_delay_code_e_carrier  mins_late_delay_code_f_weather  \\\n",
       "0                              36                               0   \n",
       "1                               0                               0   \n",
       "\n",
       "   mins_late_delay_code_g_nas  mins_late_delay_code_h_security  \\\n",
       "0                          14                                0   \n",
       "1                          10                                0   \n",
       "\n",
       "   mins_late_delay_code_i_late_arr_flight  \n",
       "0                                       0  \n",
       "1                                      32  "
      ]
     },
     "execution_count": 16,
     "metadata": {},
     "output_type": "execute_result"
    }
   ],
   "source": [
    "# Select features to use in the data analysis process \n",
    "airline_data = airline_df1[['mkt_ccode', 'mkt_fl_no', 'dep_airport', 'cancel_code' ,'arr_airport', 'date',\n",
    "       'day_week','dep_delay_time_actual','arr_delay_time_actual','mins_late_delay_code_e_carrier',\n",
    "       'mins_late_delay_code_f_weather', 'mins_late_delay_code_g_nas','mins_late_delay_code_h_security','mins_late_delay_code_i_late_arr_flight']]\n",
    "\n",
    "airline_data.head(2)"
   ]
  },
  {
   "cell_type": "code",
   "execution_count": 17,
   "id": "2d36fbe6",
   "metadata": {},
   "outputs": [
    {
     "data": {
      "text/plain": [
       "B    83859\n",
       "A    53206\n",
       "C    14622\n",
       "D      152\n",
       "Name: cancel_code, dtype: int64"
      ]
     },
     "execution_count": 17,
     "metadata": {},
     "output_type": "execute_result"
    }
   ],
   "source": [
    "# Different options for Cancel Code\n",
    "airline_data['cancel_code'].value_counts()"
   ]
  },
  {
   "cell_type": "code",
   "execution_count": 18,
   "id": "c8a2eaf5",
   "metadata": {},
   "outputs": [
    {
     "data": {
      "text/plain": [
       "mkt_ccode                                 True\n",
       "mkt_fl_no                                 True\n",
       "dep_airport                               True\n",
       "cancel_code                               True\n",
       "arr_airport                               True\n",
       "date                                      True\n",
       "day_week                                  True\n",
       "dep_delay_time_actual                     True\n",
       "arr_delay_time_actual                     True\n",
       "mins_late_delay_code_e_carrier            True\n",
       "mins_late_delay_code_f_weather            True\n",
       "mins_late_delay_code_g_nas                True\n",
       "mins_late_delay_code_h_security           True\n",
       "mins_late_delay_code_i_late_arr_flight    True\n",
       "dtype: bool"
      ]
     },
     "execution_count": 18,
     "metadata": {},
     "output_type": "execute_result"
    }
   ],
   "source": [
    "# Find and drop columns that contain only 0 as value\n",
    "airline_data1 = (airline_data !=0).any(axis=0) # Retrieve column that has nonzero entries\n",
    "airline_data1"
   ]
  },
  {
   "cell_type": "code",
   "execution_count": 19,
   "id": "f11f53e2",
   "metadata": {
    "scrolled": true
   },
   "outputs": [],
   "source": [
    "# Convert date feature from integer to object \n",
    "airline_data['date'] = airline_data.loc[:,'date'].astype(object)"
   ]
  },
  {
   "cell_type": "code",
   "execution_count": 20,
   "id": "241b2ef7",
   "metadata": {},
   "outputs": [
    {
     "data": {
      "text/html": [
       "<div>\n",
       "<style scoped>\n",
       "    .dataframe tbody tr th:only-of-type {\n",
       "        vertical-align: middle;\n",
       "    }\n",
       "\n",
       "    .dataframe tbody tr th {\n",
       "        vertical-align: top;\n",
       "    }\n",
       "\n",
       "    .dataframe thead th {\n",
       "        text-align: right;\n",
       "    }\n",
       "</style>\n",
       "<table border=\"1\" class=\"dataframe\">\n",
       "  <thead>\n",
       "    <tr style=\"text-align: right;\">\n",
       "      <th></th>\n",
       "      <th>mkt_ccode</th>\n",
       "      <th>mkt_fl_no</th>\n",
       "      <th>dep_airport</th>\n",
       "      <th>cancel_code</th>\n",
       "      <th>arr_airport</th>\n",
       "      <th>date</th>\n",
       "      <th>day_week</th>\n",
       "      <th>dep_delay_time_actual</th>\n",
       "      <th>arr_delay_time_actual</th>\n",
       "      <th>mins_late_delay_code_e_carrier</th>\n",
       "      <th>mins_late_delay_code_f_weather</th>\n",
       "      <th>mins_late_delay_code_g_nas</th>\n",
       "      <th>mins_late_delay_code_h_security</th>\n",
       "      <th>mins_late_delay_code_i_late_arr_flight</th>\n",
       "    </tr>\n",
       "  </thead>\n",
       "  <tbody>\n",
       "    <tr>\n",
       "      <th>0</th>\n",
       "      <td>DL</td>\n",
       "      <td>3975</td>\n",
       "      <td>BNA</td>\n",
       "      <td>NaN</td>\n",
       "      <td>MSP</td>\n",
       "      <td>20220124</td>\n",
       "      <td>1</td>\n",
       "      <td>36</td>\n",
       "      <td>50</td>\n",
       "      <td>36</td>\n",
       "      <td>0</td>\n",
       "      <td>14</td>\n",
       "      <td>0</td>\n",
       "      <td>0</td>\n",
       "    </tr>\n",
       "  </tbody>\n",
       "</table>\n",
       "</div>"
      ],
      "text/plain": [
       "  mkt_ccode  mkt_fl_no dep_airport cancel_code arr_airport      date  \\\n",
       "0        DL       3975         BNA         NaN         MSP  20220124   \n",
       "\n",
       "   day_week  dep_delay_time_actual  arr_delay_time_actual  \\\n",
       "0         1                     36                     50   \n",
       "\n",
       "   mins_late_delay_code_e_carrier  mins_late_delay_code_f_weather  \\\n",
       "0                              36                               0   \n",
       "\n",
       "   mins_late_delay_code_g_nas  mins_late_delay_code_h_security  \\\n",
       "0                          14                                0   \n",
       "\n",
       "   mins_late_delay_code_i_late_arr_flight  \n",
       "0                                       0  "
      ]
     },
     "execution_count": 20,
     "metadata": {},
     "output_type": "execute_result"
    }
   ],
   "source": [
    "airline_data.head(1)"
   ]
  },
  {
   "cell_type": "code",
   "execution_count": 21,
   "id": "97f9e787",
   "metadata": {},
   "outputs": [
    {
     "data": {
      "text/plain": [
       "mkt_ccode                                 object\n",
       "mkt_fl_no                                  int64\n",
       "dep_airport                               object\n",
       "cancel_code                               object\n",
       "arr_airport                               object\n",
       "date                                      object\n",
       "day_week                                   int64\n",
       "dep_delay_time_actual                      int64\n",
       "arr_delay_time_actual                      int64\n",
       "mins_late_delay_code_e_carrier             int64\n",
       "mins_late_delay_code_f_weather             int64\n",
       "mins_late_delay_code_g_nas                 int64\n",
       "mins_late_delay_code_h_security            int64\n",
       "mins_late_delay_code_i_late_arr_flight     int64\n",
       "dtype: object"
      ]
     },
     "execution_count": 21,
     "metadata": {},
     "output_type": "execute_result"
    }
   ],
   "source": [
    "# dtypes of dataframe column \n",
    "airline_data.dtypes"
   ]
  },
  {
   "cell_type": "code",
   "execution_count": 22,
   "id": "55c16838",
   "metadata": {},
   "outputs": [
    {
     "data": {
      "text/plain": [
       "int64     9\n",
       "object    5\n",
       "dtype: int64"
      ]
     },
     "execution_count": 22,
     "metadata": {},
     "output_type": "execute_result"
    }
   ],
   "source": [
    "# feature data types total number \n",
    "pd.value_counts(airline_data.dtypes)"
   ]
  },
  {
   "cell_type": "code",
   "execution_count": 23,
   "id": "e5addb99",
   "metadata": {},
   "outputs": [
    {
     "name": "stdout",
     "output_type": "stream",
     "text": [
      "You seem to have 0 duplicates in your database.\n"
     ]
    }
   ],
   "source": [
    "# Check number of duplicates \n",
    "n_duplicates = airline_data.duplicated().sum()\n",
    "\n",
    "print(f\"You seem to have {n_duplicates} duplicates in your database.\")"
   ]
  },
  {
   "cell_type": "markdown",
   "id": "644f6caa",
   "metadata": {},
   "source": [
    "## Handling Missing Data"
   ]
  },
  {
   "cell_type": "code",
   "execution_count": 24,
   "id": "20d8e713",
   "metadata": {},
   "outputs": [
    {
     "data": {
      "text/html": [
       "<div>\n",
       "<style scoped>\n",
       "    .dataframe tbody tr th:only-of-type {\n",
       "        vertical-align: middle;\n",
       "    }\n",
       "\n",
       "    .dataframe tbody tr th {\n",
       "        vertical-align: top;\n",
       "    }\n",
       "\n",
       "    .dataframe thead th {\n",
       "        text-align: right;\n",
       "    }\n",
       "</style>\n",
       "<table border=\"1\" class=\"dataframe\">\n",
       "  <thead>\n",
       "    <tr style=\"text-align: right;\">\n",
       "      <th></th>\n",
       "      <th>total_number_NA</th>\n",
       "    </tr>\n",
       "  </thead>\n",
       "  <tbody>\n",
       "    <tr>\n",
       "      <th>mkt_ccode</th>\n",
       "      <td>0</td>\n",
       "    </tr>\n",
       "    <tr>\n",
       "      <th>mkt_fl_no</th>\n",
       "      <td>0</td>\n",
       "    </tr>\n",
       "    <tr>\n",
       "      <th>dep_airport</th>\n",
       "      <td>0</td>\n",
       "    </tr>\n",
       "    <tr>\n",
       "      <th>cancel_code</th>\n",
       "      <td>5715269</td>\n",
       "    </tr>\n",
       "    <tr>\n",
       "      <th>arr_airport</th>\n",
       "      <td>0</td>\n",
       "    </tr>\n",
       "    <tr>\n",
       "      <th>date</th>\n",
       "      <td>0</td>\n",
       "    </tr>\n",
       "    <tr>\n",
       "      <th>day_week</th>\n",
       "      <td>0</td>\n",
       "    </tr>\n",
       "    <tr>\n",
       "      <th>dep_delay_time_actual</th>\n",
       "      <td>0</td>\n",
       "    </tr>\n",
       "    <tr>\n",
       "      <th>arr_delay_time_actual</th>\n",
       "      <td>0</td>\n",
       "    </tr>\n",
       "    <tr>\n",
       "      <th>mins_late_delay_code_e_carrier</th>\n",
       "      <td>0</td>\n",
       "    </tr>\n",
       "    <tr>\n",
       "      <th>mins_late_delay_code_f_weather</th>\n",
       "      <td>0</td>\n",
       "    </tr>\n",
       "    <tr>\n",
       "      <th>mins_late_delay_code_g_nas</th>\n",
       "      <td>0</td>\n",
       "    </tr>\n",
       "    <tr>\n",
       "      <th>mins_late_delay_code_h_security</th>\n",
       "      <td>0</td>\n",
       "    </tr>\n",
       "    <tr>\n",
       "      <th>mins_late_delay_code_i_late_arr_flight</th>\n",
       "      <td>0</td>\n",
       "    </tr>\n",
       "  </tbody>\n",
       "</table>\n",
       "</div>"
      ],
      "text/plain": [
       "                                        total_number_NA\n",
       "mkt_ccode                                             0\n",
       "mkt_fl_no                                             0\n",
       "dep_airport                                           0\n",
       "cancel_code                                     5715269\n",
       "arr_airport                                           0\n",
       "date                                                  0\n",
       "day_week                                              0\n",
       "dep_delay_time_actual                                 0\n",
       "arr_delay_time_actual                                 0\n",
       "mins_late_delay_code_e_carrier                        0\n",
       "mins_late_delay_code_f_weather                        0\n",
       "mins_late_delay_code_g_nas                            0\n",
       "mins_late_delay_code_h_security                       0\n",
       "mins_late_delay_code_i_late_arr_flight                0"
      ]
     },
     "execution_count": 24,
     "metadata": {},
     "output_type": "execute_result"
    }
   ],
   "source": [
    "# Determine the total number of missing data for each feature\n",
    "airline_data.isna().sum().to_frame().rename(columns={0:'total_number_NA'})"
   ]
  },
  {
   "cell_type": "markdown",
   "id": "2b124a5b",
   "metadata": {},
   "source": [
    "### The cancel code feature has a missing data rate of over 97%. Since this feature is not useful for predicting flight delays, we will not use it for modeling. We do not need to handle the missing values in this feature and will only use it for data visualization."
   ]
  },
  {
   "cell_type": "code",
   "execution_count": 25,
   "id": "e14e96ef",
   "metadata": {},
   "outputs": [
    {
     "data": {
      "text/plain": [
       "array(['BNA', 'STL', 'IAD', 'ALB', 'MSP', 'DTW', 'SCE', 'SYR', 'ORD',\n",
       "       'IND', 'LGA', 'XNA', 'JFK', 'MKE', 'ORF', 'ATL', 'HPN', 'ICT',\n",
       "       'VPS', 'CVG', 'BOS', 'EWR', 'TLH', 'TYS', 'MLI', 'MEM', 'BGR',\n",
       "       'CHO', 'BTV', 'ABE', 'BTR', 'BQK', 'RDU', 'SHV', 'CHS', 'MYR',\n",
       "       'AUS', 'ILM', 'LFT', 'SBN', 'FSD', 'LEX', 'DSM', 'DAY', 'GRB',\n",
       "       'CRW', 'SAV', 'BIS', 'BUF', 'CLT', 'GRR', 'JAN', 'CMH', 'TRI',\n",
       "       'ROC', 'OAJ', 'ECP', 'MOB', 'CID', 'MIA', 'RIC', 'MSN', 'DLH',\n",
       "       'EVV', 'AGS', 'PWM', 'MDW', 'PIT', 'DCA', 'ATW', 'LAN', 'CHA',\n",
       "       'HSV', 'CLE', 'GSO', 'PVD', 'GFK', 'GPT', 'PHL', 'GSP', 'AZO',\n",
       "       'ABY', 'DHN', 'MBS', 'MOT', 'SGF', 'CAE', 'VLD', 'MDT', 'EYW',\n",
       "       'GNV', 'AEX', 'SDF', 'MLU', 'TVC', 'BHM', 'RST', 'GTR', 'BWI',\n",
       "       'MGM', 'CWA', 'CSG', 'AVL', 'BMI', 'FWA', 'ROA', 'FAY', 'ITH',\n",
       "       'TUL', 'BGM', 'FAR', 'ORH', 'DFW', 'LAX', 'OGG', 'HNL', 'SFO',\n",
       "       'KOA', 'SJU', 'LIH', 'STT', 'PHX', 'SAN', 'AMA', 'IAH', 'BDL',\n",
       "       'MCO', 'SNA', 'JAX', 'DEN', 'ELP', 'ABQ', 'MSY', 'FLL', 'RSW',\n",
       "       'PBI', 'LAS', 'EUG', 'TPA', 'GEG', 'ONT', 'SEA', 'SMF', 'FAT',\n",
       "       'SRQ', 'JAC', 'SAT', 'MCI', 'SLC', 'SBA', 'RNO', 'PSP', 'PNS',\n",
       "       'TUS', 'BZN', 'MFE', 'SJC', 'EGE', 'MSO', 'MTJ', 'PDX', 'STX',\n",
       "       'OKC', 'COS', 'OMA', 'GUC', 'HDN', 'AVP', 'BUR', 'ADQ', 'ANC',\n",
       "       'BET', 'BRW', 'JNU', 'KTN', 'SIT', 'DAL', 'FAI', 'OTZ', 'ADK',\n",
       "       'OAK', 'BOI', 'YAK', 'CDV', 'WRG', 'PSG', 'OME', 'SCC', 'BQN',\n",
       "       'PSE', 'LRD', 'LCH', 'DIK', 'CRP', 'LIT', 'LNK', 'HRL', 'LBB',\n",
       "       'CPR', 'SAF', 'BRO', 'IDA', 'DRO', 'FLG', 'MAF', 'HLN', 'COD',\n",
       "       'GJT', 'CLL', 'DAB', 'BIL', 'FCA', 'MLB', 'HOU', 'LGB', 'TTN',\n",
       "       'ISP', 'SWF', 'ILG', 'SFB', 'FNT', 'USA', 'PGD', 'PIE', 'IAG',\n",
       "       'PIA', 'AZA', 'STC', 'PSM', 'MFR', 'SCK', 'SMX', 'TOL', 'PBG',\n",
       "       'GRI', 'RAP', 'BLV', 'RFD', 'HGR', 'ELM', 'PVU', 'SPI', 'PSC',\n",
       "       'LCK', 'BLI', 'GTF', 'MRY', 'OGD', 'OWB', 'HTS', 'CKB', 'RDM',\n",
       "       'HHH', 'PQI', 'MHT', 'ITO', 'PPG', 'GCK', 'GGG', 'SPS', 'CMI',\n",
       "       'ALO', 'FSM', 'LSE', 'LAW', 'ABI', 'TYR', 'GRK', 'DBQ', 'SJT',\n",
       "       'MHK', 'MQT', 'SWO', 'TXK', 'ACT', 'COU', 'SBP', 'BPT', 'DRT',\n",
       "       'ROW', 'ACY', 'LBE', 'CAK', 'PHF', 'LYH', 'ERI', 'EWN', 'ASE',\n",
       "       'YUM', 'BFL', 'ACV', 'SGU', 'SUN', 'LWS', 'ESC', 'INL', 'ABR',\n",
       "       'APN', 'CIU', 'TWF', 'HIB', 'XWA', 'RHI', 'IMT', 'BTM', 'PLN',\n",
       "       'BJI', 'BRD', 'CDC', 'EKO', 'PIH', 'OGS', 'DVL', 'JMS', 'MCW',\n",
       "       'SHD', 'PUB', 'LBL', 'PIB', 'SHR', 'PAH', 'VEL', 'PIR', 'PRC',\n",
       "       'DDC', 'FOD', 'CGI', 'HYS', 'RKS', 'CNY', 'ATY', 'SLN', 'DEC',\n",
       "       'CYS', 'ALS', 'VCT', 'RIW', 'SUX', 'MEI', 'GCC', 'JST', 'TBN',\n",
       "       'EAR', 'RDD', 'BIH', 'STS', 'OTH', 'HOB', 'LWB', 'BFF', 'LBF',\n",
       "       'CMX', 'JLN', 'EAU', 'MKG', 'LAR', 'PGV', 'ART', 'SBY', 'FLO',\n",
       "       'YKM', 'ALW', 'PUW', 'PAE', 'EAT', 'DLG', 'AKN', 'GUM', 'SPN',\n",
       "       'ACK', 'GST', 'HYA', 'MVY', 'BKG', 'WYS'], dtype=object)"
      ]
     },
     "execution_count": 25,
     "metadata": {},
     "output_type": "execute_result"
    }
   ],
   "source": [
    "# Create a csv file with dep_airport\n",
    "airline_data['dep_airport'].unique() "
   ]
  },
  {
   "cell_type": "code",
   "execution_count": 26,
   "id": "19c35315",
   "metadata": {},
   "outputs": [
    {
     "data": {
      "text/html": [
       "<div>\n",
       "<style scoped>\n",
       "    .dataframe tbody tr th:only-of-type {\n",
       "        vertical-align: middle;\n",
       "    }\n",
       "\n",
       "    .dataframe tbody tr th {\n",
       "        vertical-align: top;\n",
       "    }\n",
       "\n",
       "    .dataframe thead th {\n",
       "        text-align: right;\n",
       "    }\n",
       "</style>\n",
       "<table border=\"1\" class=\"dataframe\">\n",
       "  <thead>\n",
       "    <tr style=\"text-align: right;\">\n",
       "      <th></th>\n",
       "      <th>mkt_fl_no</th>\n",
       "      <th>day_week</th>\n",
       "      <th>dep_delay_time_actual</th>\n",
       "      <th>arr_delay_time_actual</th>\n",
       "      <th>mins_late_delay_code_e_carrier</th>\n",
       "      <th>mins_late_delay_code_f_weather</th>\n",
       "      <th>mins_late_delay_code_g_nas</th>\n",
       "      <th>mins_late_delay_code_h_security</th>\n",
       "      <th>mins_late_delay_code_i_late_arr_flight</th>\n",
       "    </tr>\n",
       "  </thead>\n",
       "  <tbody>\n",
       "    <tr>\n",
       "      <th>count</th>\n",
       "      <td>5.867108e+06</td>\n",
       "      <td>5.867108e+06</td>\n",
       "      <td>5.867108e+06</td>\n",
       "      <td>5.867108e+06</td>\n",
       "      <td>5.867108e+06</td>\n",
       "      <td>5.867108e+06</td>\n",
       "      <td>5.867108e+06</td>\n",
       "      <td>5.867108e+06</td>\n",
       "      <td>5.867108e+06</td>\n",
       "    </tr>\n",
       "    <tr>\n",
       "      <th>mean</th>\n",
       "      <td>2.529752e+03</td>\n",
       "      <td>3.986479e+00</td>\n",
       "      <td>1.186616e+01</td>\n",
       "      <td>6.924219e+00</td>\n",
       "      <td>5.361069e+00</td>\n",
       "      <td>7.365389e-01</td>\n",
       "      <td>2.299605e+00</td>\n",
       "      <td>2.862569e-02</td>\n",
       "      <td>5.060863e+00</td>\n",
       "    </tr>\n",
       "    <tr>\n",
       "      <th>std</th>\n",
       "      <td>1.730411e+03</td>\n",
       "      <td>2.009075e+00</td>\n",
       "      <td>5.145108e+01</td>\n",
       "      <td>5.552709e+01</td>\n",
       "      <td>3.523961e+01</td>\n",
       "      <td>1.337730e+01</td>\n",
       "      <td>1.411219e+01</td>\n",
       "      <td>1.722585e+00</td>\n",
       "      <td>2.668803e+01</td>\n",
       "    </tr>\n",
       "    <tr>\n",
       "      <th>min</th>\n",
       "      <td>1.000000e+00</td>\n",
       "      <td>1.000000e+00</td>\n",
       "      <td>-9.600000e+01</td>\n",
       "      <td>-1.000000e+02</td>\n",
       "      <td>0.000000e+00</td>\n",
       "      <td>0.000000e+00</td>\n",
       "      <td>0.000000e+00</td>\n",
       "      <td>0.000000e+00</td>\n",
       "      <td>0.000000e+00</td>\n",
       "    </tr>\n",
       "    <tr>\n",
       "      <th>25%</th>\n",
       "      <td>1.097000e+03</td>\n",
       "      <td>2.000000e+00</td>\n",
       "      <td>-5.000000e+00</td>\n",
       "      <td>-1.400000e+01</td>\n",
       "      <td>0.000000e+00</td>\n",
       "      <td>0.000000e+00</td>\n",
       "      <td>0.000000e+00</td>\n",
       "      <td>0.000000e+00</td>\n",
       "      <td>0.000000e+00</td>\n",
       "    </tr>\n",
       "    <tr>\n",
       "      <th>50%</th>\n",
       "      <td>2.202000e+03</td>\n",
       "      <td>4.000000e+00</td>\n",
       "      <td>-1.000000e+00</td>\n",
       "      <td>-5.000000e+00</td>\n",
       "      <td>0.000000e+00</td>\n",
       "      <td>0.000000e+00</td>\n",
       "      <td>0.000000e+00</td>\n",
       "      <td>0.000000e+00</td>\n",
       "      <td>0.000000e+00</td>\n",
       "    </tr>\n",
       "    <tr>\n",
       "      <th>75%</th>\n",
       "      <td>3.814000e+03</td>\n",
       "      <td>6.000000e+00</td>\n",
       "      <td>9.000000e+00</td>\n",
       "      <td>9.000000e+00</td>\n",
       "      <td>0.000000e+00</td>\n",
       "      <td>0.000000e+00</td>\n",
       "      <td>0.000000e+00</td>\n",
       "      <td>0.000000e+00</td>\n",
       "      <td>0.000000e+00</td>\n",
       "    </tr>\n",
       "    <tr>\n",
       "      <th>max</th>\n",
       "      <td>9.680000e+03</td>\n",
       "      <td>7.000000e+00</td>\n",
       "      <td>7.223000e+03</td>\n",
       "      <td>7.232000e+03</td>\n",
       "      <td>7.232000e+03</td>\n",
       "      <td>2.363000e+03</td>\n",
       "      <td>1.740000e+03</td>\n",
       "      <td>1.245000e+03</td>\n",
       "      <td>2.302000e+03</td>\n",
       "    </tr>\n",
       "  </tbody>\n",
       "</table>\n",
       "</div>"
      ],
      "text/plain": [
       "          mkt_fl_no      day_week  dep_delay_time_actual  \\\n",
       "count  5.867108e+06  5.867108e+06           5.867108e+06   \n",
       "mean   2.529752e+03  3.986479e+00           1.186616e+01   \n",
       "std    1.730411e+03  2.009075e+00           5.145108e+01   \n",
       "min    1.000000e+00  1.000000e+00          -9.600000e+01   \n",
       "25%    1.097000e+03  2.000000e+00          -5.000000e+00   \n",
       "50%    2.202000e+03  4.000000e+00          -1.000000e+00   \n",
       "75%    3.814000e+03  6.000000e+00           9.000000e+00   \n",
       "max    9.680000e+03  7.000000e+00           7.223000e+03   \n",
       "\n",
       "       arr_delay_time_actual  mins_late_delay_code_e_carrier  \\\n",
       "count           5.867108e+06                    5.867108e+06   \n",
       "mean            6.924219e+00                    5.361069e+00   \n",
       "std             5.552709e+01                    3.523961e+01   \n",
       "min            -1.000000e+02                    0.000000e+00   \n",
       "25%            -1.400000e+01                    0.000000e+00   \n",
       "50%            -5.000000e+00                    0.000000e+00   \n",
       "75%             9.000000e+00                    0.000000e+00   \n",
       "max             7.232000e+03                    7.232000e+03   \n",
       "\n",
       "       mins_late_delay_code_f_weather  mins_late_delay_code_g_nas  \\\n",
       "count                    5.867108e+06                5.867108e+06   \n",
       "mean                     7.365389e-01                2.299605e+00   \n",
       "std                      1.337730e+01                1.411219e+01   \n",
       "min                      0.000000e+00                0.000000e+00   \n",
       "25%                      0.000000e+00                0.000000e+00   \n",
       "50%                      0.000000e+00                0.000000e+00   \n",
       "75%                      0.000000e+00                0.000000e+00   \n",
       "max                      2.363000e+03                1.740000e+03   \n",
       "\n",
       "       mins_late_delay_code_h_security  mins_late_delay_code_i_late_arr_flight  \n",
       "count                     5.867108e+06                            5.867108e+06  \n",
       "mean                      2.862569e-02                            5.060863e+00  \n",
       "std                       1.722585e+00                            2.668803e+01  \n",
       "min                       0.000000e+00                            0.000000e+00  \n",
       "25%                       0.000000e+00                            0.000000e+00  \n",
       "50%                       0.000000e+00                            0.000000e+00  \n",
       "75%                       0.000000e+00                            0.000000e+00  \n",
       "max                       1.245000e+03                            2.302000e+03  "
      ]
     },
     "execution_count": 26,
     "metadata": {},
     "output_type": "execute_result"
    }
   ],
   "source": [
    "# Summary Statistics\n",
    "airline_data.describe() "
   ]
  },
  {
   "cell_type": "markdown",
   "id": "a88002d8",
   "metadata": {},
   "source": [
    "## Data Engeenering"
   ]
  },
  {
   "cell_type": "code",
   "execution_count": 27,
   "id": "f9c14d24",
   "metadata": {},
   "outputs": [],
   "source": [
    "# Convert yyyymmdd date format to yyyy-mm-dd  \n",
    "from datetime import datetime\n",
    "airline_data['date'] = airline_data.loc[:,'date'].astype(str) # convert date as object data type\n",
    "\n",
    "airline_data['date'] = airline_data.loc[:,'date'].apply(lambda x: f\"{x[:4]}-{x[4:6]}-{x[6:8]}\") # split yyyymmdd into yyyy-mm-dd"
   ]
  },
  {
   "cell_type": "code",
   "execution_count": 28,
   "id": "02adf9f9",
   "metadata": {},
   "outputs": [
    {
     "data": {
      "text/html": [
       "<div>\n",
       "<style scoped>\n",
       "    .dataframe tbody tr th:only-of-type {\n",
       "        vertical-align: middle;\n",
       "    }\n",
       "\n",
       "    .dataframe tbody tr th {\n",
       "        vertical-align: top;\n",
       "    }\n",
       "\n",
       "    .dataframe thead th {\n",
       "        text-align: right;\n",
       "    }\n",
       "</style>\n",
       "<table border=\"1\" class=\"dataframe\">\n",
       "  <thead>\n",
       "    <tr style=\"text-align: right;\">\n",
       "      <th></th>\n",
       "      <th>mkt_ccode</th>\n",
       "      <th>mkt_fl_no</th>\n",
       "      <th>dep_airport</th>\n",
       "      <th>cancel_code</th>\n",
       "      <th>arr_airport</th>\n",
       "      <th>date</th>\n",
       "      <th>day_week</th>\n",
       "      <th>dep_delay_time_actual</th>\n",
       "      <th>arr_delay_time_actual</th>\n",
       "      <th>mins_late_delay_code_e_carrier</th>\n",
       "      <th>mins_late_delay_code_f_weather</th>\n",
       "      <th>mins_late_delay_code_g_nas</th>\n",
       "      <th>mins_late_delay_code_h_security</th>\n",
       "      <th>mins_late_delay_code_i_late_arr_flight</th>\n",
       "    </tr>\n",
       "  </thead>\n",
       "  <tbody>\n",
       "    <tr>\n",
       "      <th>0</th>\n",
       "      <td>DL</td>\n",
       "      <td>3975</td>\n",
       "      <td>BNA</td>\n",
       "      <td>NaN</td>\n",
       "      <td>MSP</td>\n",
       "      <td>2022-01-24</td>\n",
       "      <td>1</td>\n",
       "      <td>36</td>\n",
       "      <td>50</td>\n",
       "      <td>36</td>\n",
       "      <td>0</td>\n",
       "      <td>14</td>\n",
       "      <td>0</td>\n",
       "      <td>0</td>\n",
       "    </tr>\n",
       "    <tr>\n",
       "      <th>1</th>\n",
       "      <td>DL</td>\n",
       "      <td>3714</td>\n",
       "      <td>STL</td>\n",
       "      <td>NaN</td>\n",
       "      <td>MSP</td>\n",
       "      <td>2022-01-23</td>\n",
       "      <td>7</td>\n",
       "      <td>32</td>\n",
       "      <td>42</td>\n",
       "      <td>0</td>\n",
       "      <td>0</td>\n",
       "      <td>10</td>\n",
       "      <td>0</td>\n",
       "      <td>32</td>\n",
       "    </tr>\n",
       "  </tbody>\n",
       "</table>\n",
       "</div>"
      ],
      "text/plain": [
       "  mkt_ccode  mkt_fl_no dep_airport cancel_code arr_airport        date  \\\n",
       "0        DL       3975         BNA         NaN         MSP  2022-01-24   \n",
       "1        DL       3714         STL         NaN         MSP  2022-01-23   \n",
       "\n",
       "   day_week  dep_delay_time_actual  arr_delay_time_actual  \\\n",
       "0         1                     36                     50   \n",
       "1         7                     32                     42   \n",
       "\n",
       "   mins_late_delay_code_e_carrier  mins_late_delay_code_f_weather  \\\n",
       "0                              36                               0   \n",
       "1                               0                               0   \n",
       "\n",
       "   mins_late_delay_code_g_nas  mins_late_delay_code_h_security  \\\n",
       "0                          14                                0   \n",
       "1                          10                                0   \n",
       "\n",
       "   mins_late_delay_code_i_late_arr_flight  \n",
       "0                                       0  \n",
       "1                                      32  "
      ]
     },
     "execution_count": 28,
     "metadata": {},
     "output_type": "execute_result"
    }
   ],
   "source": [
    "# display airline dataframe\n",
    "airline_data.head(2)"
   ]
  },
  {
   "cell_type": "code",
   "execution_count": 29,
   "id": "b20c105a",
   "metadata": {},
   "outputs": [
    {
     "data": {
      "text/html": [
       "<div>\n",
       "<style scoped>\n",
       "    .dataframe tbody tr th:only-of-type {\n",
       "        vertical-align: middle;\n",
       "    }\n",
       "\n",
       "    .dataframe tbody tr th {\n",
       "        vertical-align: top;\n",
       "    }\n",
       "\n",
       "    .dataframe thead th {\n",
       "        text-align: right;\n",
       "    }\n",
       "</style>\n",
       "<table border=\"1\" class=\"dataframe\">\n",
       "  <thead>\n",
       "    <tr style=\"text-align: right;\">\n",
       "      <th></th>\n",
       "      <th>mkt_ccode</th>\n",
       "      <th>mkt_fl_no</th>\n",
       "      <th>dep_airport</th>\n",
       "      <th>cancel_code</th>\n",
       "      <th>arr_airport</th>\n",
       "      <th>date</th>\n",
       "      <th>day_week</th>\n",
       "      <th>dep_delay_time_actual</th>\n",
       "      <th>arr_delay_time_actual</th>\n",
       "      <th>mins_late_delay_code_e_carrier</th>\n",
       "      <th>mins_late_delay_code_f_weather</th>\n",
       "      <th>mins_late_delay_code_g_nas</th>\n",
       "      <th>mins_late_delay_code_h_security</th>\n",
       "      <th>mins_late_delay_code_i_late_arr_flight</th>\n",
       "      <th>month</th>\n",
       "    </tr>\n",
       "  </thead>\n",
       "  <tbody>\n",
       "    <tr>\n",
       "      <th>0</th>\n",
       "      <td>DL</td>\n",
       "      <td>3975</td>\n",
       "      <td>BNA</td>\n",
       "      <td>NaN</td>\n",
       "      <td>MSP</td>\n",
       "      <td>2022-01-24</td>\n",
       "      <td>1</td>\n",
       "      <td>36</td>\n",
       "      <td>50</td>\n",
       "      <td>36</td>\n",
       "      <td>0</td>\n",
       "      <td>14</td>\n",
       "      <td>0</td>\n",
       "      <td>0</td>\n",
       "      <td>1</td>\n",
       "    </tr>\n",
       "    <tr>\n",
       "      <th>1</th>\n",
       "      <td>DL</td>\n",
       "      <td>3714</td>\n",
       "      <td>STL</td>\n",
       "      <td>NaN</td>\n",
       "      <td>MSP</td>\n",
       "      <td>2022-01-23</td>\n",
       "      <td>7</td>\n",
       "      <td>32</td>\n",
       "      <td>42</td>\n",
       "      <td>0</td>\n",
       "      <td>0</td>\n",
       "      <td>10</td>\n",
       "      <td>0</td>\n",
       "      <td>32</td>\n",
       "      <td>1</td>\n",
       "    </tr>\n",
       "    <tr>\n",
       "      <th>2</th>\n",
       "      <td>DL</td>\n",
       "      <td>3855</td>\n",
       "      <td>IAD</td>\n",
       "      <td>NaN</td>\n",
       "      <td>DTW</td>\n",
       "      <td>2022-01-21</td>\n",
       "      <td>5</td>\n",
       "      <td>-3</td>\n",
       "      <td>11</td>\n",
       "      <td>0</td>\n",
       "      <td>0</td>\n",
       "      <td>0</td>\n",
       "      <td>0</td>\n",
       "      <td>0</td>\n",
       "      <td>1</td>\n",
       "    </tr>\n",
       "  </tbody>\n",
       "</table>\n",
       "</div>"
      ],
      "text/plain": [
       "  mkt_ccode  mkt_fl_no dep_airport cancel_code arr_airport       date  \\\n",
       "0        DL       3975         BNA         NaN         MSP 2022-01-24   \n",
       "1        DL       3714         STL         NaN         MSP 2022-01-23   \n",
       "2        DL       3855         IAD         NaN         DTW 2022-01-21   \n",
       "\n",
       "   day_week  dep_delay_time_actual  arr_delay_time_actual  \\\n",
       "0         1                     36                     50   \n",
       "1         7                     32                     42   \n",
       "2         5                     -3                     11   \n",
       "\n",
       "   mins_late_delay_code_e_carrier  mins_late_delay_code_f_weather  \\\n",
       "0                              36                               0   \n",
       "1                               0                               0   \n",
       "2                               0                               0   \n",
       "\n",
       "   mins_late_delay_code_g_nas  mins_late_delay_code_h_security  \\\n",
       "0                          14                                0   \n",
       "1                          10                                0   \n",
       "2                           0                                0   \n",
       "\n",
       "   mins_late_delay_code_i_late_arr_flight  month  \n",
       "0                                       0      1  \n",
       "1                                      32      1  \n",
       "2                                       0      1  "
      ]
     },
     "execution_count": 29,
     "metadata": {},
     "output_type": "execute_result"
    }
   ],
   "source": [
    "\n",
    "# convert the date column to datetime format\n",
    "airline_data.loc[:,'date'] = pd.to_datetime(airline_data.loc[:,'date'])\n",
    "\n",
    "# extract the month and store it in a new column\n",
    "airline_data['month'] = airline_data.loc[:,'date'].dt.month\n",
    "\n",
    "# print dataframe \n",
    "airline_data.head(3)"
   ]
  },
  {
   "cell_type": "code",
   "execution_count": 30,
   "id": "2b13b239",
   "metadata": {},
   "outputs": [
    {
     "data": {
      "text/html": [
       "<div>\n",
       "<style scoped>\n",
       "    .dataframe tbody tr th:only-of-type {\n",
       "        vertical-align: middle;\n",
       "    }\n",
       "\n",
       "    .dataframe tbody tr th {\n",
       "        vertical-align: top;\n",
       "    }\n",
       "\n",
       "    .dataframe thead th {\n",
       "        text-align: right;\n",
       "    }\n",
       "</style>\n",
       "<table border=\"1\" class=\"dataframe\">\n",
       "  <thead>\n",
       "    <tr style=\"text-align: right;\">\n",
       "      <th></th>\n",
       "      <th>mkt_ccode</th>\n",
       "      <th>mkt_fl_no</th>\n",
       "      <th>dep_airport</th>\n",
       "      <th>cancel_code</th>\n",
       "      <th>arr_airport</th>\n",
       "      <th>date</th>\n",
       "      <th>day_week</th>\n",
       "      <th>dep_delay_time_actual</th>\n",
       "      <th>arr_delay_time_actual</th>\n",
       "      <th>mins_late_delay_code_e_carrier</th>\n",
       "      <th>mins_late_delay_code_f_weather</th>\n",
       "      <th>mins_late_delay_code_g_nas</th>\n",
       "      <th>mins_late_delay_code_h_security</th>\n",
       "      <th>mins_late_delay_code_i_late_arr_flight</th>\n",
       "      <th>month</th>\n",
       "      <th>day_week_name</th>\n",
       "    </tr>\n",
       "  </thead>\n",
       "  <tbody>\n",
       "    <tr>\n",
       "      <th>0</th>\n",
       "      <td>DL</td>\n",
       "      <td>3975</td>\n",
       "      <td>BNA</td>\n",
       "      <td>NaN</td>\n",
       "      <td>MSP</td>\n",
       "      <td>2022-01-24</td>\n",
       "      <td>1</td>\n",
       "      <td>36</td>\n",
       "      <td>50</td>\n",
       "      <td>36</td>\n",
       "      <td>0</td>\n",
       "      <td>14</td>\n",
       "      <td>0</td>\n",
       "      <td>0</td>\n",
       "      <td>1</td>\n",
       "      <td>Mon</td>\n",
       "    </tr>\n",
       "    <tr>\n",
       "      <th>1</th>\n",
       "      <td>DL</td>\n",
       "      <td>3714</td>\n",
       "      <td>STL</td>\n",
       "      <td>NaN</td>\n",
       "      <td>MSP</td>\n",
       "      <td>2022-01-23</td>\n",
       "      <td>7</td>\n",
       "      <td>32</td>\n",
       "      <td>42</td>\n",
       "      <td>0</td>\n",
       "      <td>0</td>\n",
       "      <td>10</td>\n",
       "      <td>0</td>\n",
       "      <td>32</td>\n",
       "      <td>1</td>\n",
       "      <td>Sun</td>\n",
       "    </tr>\n",
       "  </tbody>\n",
       "</table>\n",
       "</div>"
      ],
      "text/plain": [
       "  mkt_ccode  mkt_fl_no dep_airport cancel_code arr_airport       date  \\\n",
       "0        DL       3975         BNA         NaN         MSP 2022-01-24   \n",
       "1        DL       3714         STL         NaN         MSP 2022-01-23   \n",
       "\n",
       "   day_week  dep_delay_time_actual  arr_delay_time_actual  \\\n",
       "0         1                     36                     50   \n",
       "1         7                     32                     42   \n",
       "\n",
       "   mins_late_delay_code_e_carrier  mins_late_delay_code_f_weather  \\\n",
       "0                              36                               0   \n",
       "1                               0                               0   \n",
       "\n",
       "   mins_late_delay_code_g_nas  mins_late_delay_code_h_security  \\\n",
       "0                          14                                0   \n",
       "1                          10                                0   \n",
       "\n",
       "   mins_late_delay_code_i_late_arr_flight  month day_week_name  \n",
       "0                                       0      1           Mon  \n",
       "1                                      32      1           Sun  "
      ]
     },
     "execution_count": 30,
     "metadata": {},
     "output_type": "execute_result"
    }
   ],
   "source": [
    "# Use dt.strftime to format the date column as abbreviated day string\n",
    "airline_data['day_week_name'] = airline_data.loc[:,'date'].dt.strftime('%a')\n",
    "airline_data.head(2)"
   ]
  },
  {
   "cell_type": "code",
   "execution_count": 31,
   "id": "1788e27f",
   "metadata": {},
   "outputs": [
    {
     "data": {
      "text/html": [
       "<div>\n",
       "<style scoped>\n",
       "    .dataframe tbody tr th:only-of-type {\n",
       "        vertical-align: middle;\n",
       "    }\n",
       "\n",
       "    .dataframe tbody tr th {\n",
       "        vertical-align: top;\n",
       "    }\n",
       "\n",
       "    .dataframe thead th {\n",
       "        text-align: right;\n",
       "    }\n",
       "</style>\n",
       "<table border=\"1\" class=\"dataframe\">\n",
       "  <thead>\n",
       "    <tr style=\"text-align: right;\">\n",
       "      <th></th>\n",
       "      <th>mkt_ccode</th>\n",
       "      <th>mkt_fl_no</th>\n",
       "      <th>dep_airport</th>\n",
       "      <th>cancel_code</th>\n",
       "      <th>arr_airport</th>\n",
       "      <th>date</th>\n",
       "      <th>day_week</th>\n",
       "      <th>dep_delay_time_actual</th>\n",
       "      <th>arr_delay_time_actual</th>\n",
       "      <th>mins_late_delay_code_e_carrier</th>\n",
       "      <th>mins_late_delay_code_f_weather</th>\n",
       "      <th>mins_late_delay_code_g_nas</th>\n",
       "      <th>mins_late_delay_code_h_security</th>\n",
       "      <th>mins_late_delay_code_i_late_arr_flight</th>\n",
       "      <th>month</th>\n",
       "      <th>day_week_name</th>\n",
       "      <th>month__name</th>\n",
       "    </tr>\n",
       "  </thead>\n",
       "  <tbody>\n",
       "    <tr>\n",
       "      <th>0</th>\n",
       "      <td>DL</td>\n",
       "      <td>3975</td>\n",
       "      <td>BNA</td>\n",
       "      <td>NaN</td>\n",
       "      <td>MSP</td>\n",
       "      <td>2022-01-24</td>\n",
       "      <td>1</td>\n",
       "      <td>36</td>\n",
       "      <td>50</td>\n",
       "      <td>36</td>\n",
       "      <td>0</td>\n",
       "      <td>14</td>\n",
       "      <td>0</td>\n",
       "      <td>0</td>\n",
       "      <td>1</td>\n",
       "      <td>Mon</td>\n",
       "      <td>Jan</td>\n",
       "    </tr>\n",
       "    <tr>\n",
       "      <th>1</th>\n",
       "      <td>DL</td>\n",
       "      <td>3714</td>\n",
       "      <td>STL</td>\n",
       "      <td>NaN</td>\n",
       "      <td>MSP</td>\n",
       "      <td>2022-01-23</td>\n",
       "      <td>7</td>\n",
       "      <td>32</td>\n",
       "      <td>42</td>\n",
       "      <td>0</td>\n",
       "      <td>0</td>\n",
       "      <td>10</td>\n",
       "      <td>0</td>\n",
       "      <td>32</td>\n",
       "      <td>1</td>\n",
       "      <td>Sun</td>\n",
       "      <td>Jan</td>\n",
       "    </tr>\n",
       "  </tbody>\n",
       "</table>\n",
       "</div>"
      ],
      "text/plain": [
       "  mkt_ccode  mkt_fl_no dep_airport cancel_code arr_airport       date  \\\n",
       "0        DL       3975         BNA         NaN         MSP 2022-01-24   \n",
       "1        DL       3714         STL         NaN         MSP 2022-01-23   \n",
       "\n",
       "   day_week  dep_delay_time_actual  arr_delay_time_actual  \\\n",
       "0         1                     36                     50   \n",
       "1         7                     32                     42   \n",
       "\n",
       "   mins_late_delay_code_e_carrier  mins_late_delay_code_f_weather  \\\n",
       "0                              36                               0   \n",
       "1                               0                               0   \n",
       "\n",
       "   mins_late_delay_code_g_nas  mins_late_delay_code_h_security  \\\n",
       "0                          14                                0   \n",
       "1                          10                                0   \n",
       "\n",
       "   mins_late_delay_code_i_late_arr_flight  month day_week_name month__name  \n",
       "0                                       0      1           Mon         Jan  \n",
       "1                                      32      1           Sun         Jan  "
      ]
     },
     "execution_count": 31,
     "metadata": {},
     "output_type": "execute_result"
    }
   ],
   "source": [
    "# Use dt.strftime to format the date column as abbreviated month string\n",
    "airline_data['month__name'] = airline_data.loc[:,'date'].dt.strftime('%b')\n",
    "airline_data.head(2)"
   ]
  },
  {
   "cell_type": "code",
   "execution_count": 32,
   "id": "8d49cb11",
   "metadata": {},
   "outputs": [
    {
     "data": {
      "text/html": [
       "<div>\n",
       "<style scoped>\n",
       "    .dataframe tbody tr th:only-of-type {\n",
       "        vertical-align: middle;\n",
       "    }\n",
       "\n",
       "    .dataframe tbody tr th {\n",
       "        vertical-align: top;\n",
       "    }\n",
       "\n",
       "    .dataframe thead th {\n",
       "        text-align: right;\n",
       "    }\n",
       "</style>\n",
       "<table border=\"1\" class=\"dataframe\">\n",
       "  <thead>\n",
       "    <tr style=\"text-align: right;\">\n",
       "      <th></th>\n",
       "      <th>mkt_ccode</th>\n",
       "      <th>mkt_fl_no</th>\n",
       "      <th>dep_airport</th>\n",
       "      <th>cancel_code</th>\n",
       "      <th>arr_airport</th>\n",
       "      <th>date</th>\n",
       "      <th>dep_delay_time_actual</th>\n",
       "      <th>arr_delay_time_actual</th>\n",
       "      <th>mins_late_delay_code_e_carrier</th>\n",
       "      <th>mins_late_delay_code_f_weather</th>\n",
       "      <th>mins_late_delay_code_g_nas</th>\n",
       "      <th>mins_late_delay_code_h_security</th>\n",
       "      <th>mins_late_delay_code_i_late_arr_flight</th>\n",
       "      <th>day_week_name</th>\n",
       "      <th>month__name</th>\n",
       "    </tr>\n",
       "  </thead>\n",
       "  <tbody>\n",
       "    <tr>\n",
       "      <th>0</th>\n",
       "      <td>DL</td>\n",
       "      <td>3975</td>\n",
       "      <td>BNA</td>\n",
       "      <td>NaN</td>\n",
       "      <td>MSP</td>\n",
       "      <td>2022-01-24</td>\n",
       "      <td>36</td>\n",
       "      <td>50</td>\n",
       "      <td>36</td>\n",
       "      <td>0</td>\n",
       "      <td>14</td>\n",
       "      <td>0</td>\n",
       "      <td>0</td>\n",
       "      <td>Mon</td>\n",
       "      <td>Jan</td>\n",
       "    </tr>\n",
       "    <tr>\n",
       "      <th>1</th>\n",
       "      <td>DL</td>\n",
       "      <td>3714</td>\n",
       "      <td>STL</td>\n",
       "      <td>NaN</td>\n",
       "      <td>MSP</td>\n",
       "      <td>2022-01-23</td>\n",
       "      <td>32</td>\n",
       "      <td>42</td>\n",
       "      <td>0</td>\n",
       "      <td>0</td>\n",
       "      <td>10</td>\n",
       "      <td>0</td>\n",
       "      <td>32</td>\n",
       "      <td>Sun</td>\n",
       "      <td>Jan</td>\n",
       "    </tr>\n",
       "  </tbody>\n",
       "</table>\n",
       "</div>"
      ],
      "text/plain": [
       "  mkt_ccode  mkt_fl_no dep_airport cancel_code arr_airport       date  \\\n",
       "0        DL       3975         BNA         NaN         MSP 2022-01-24   \n",
       "1        DL       3714         STL         NaN         MSP 2022-01-23   \n",
       "\n",
       "   dep_delay_time_actual  arr_delay_time_actual  \\\n",
       "0                     36                     50   \n",
       "1                     32                     42   \n",
       "\n",
       "   mins_late_delay_code_e_carrier  mins_late_delay_code_f_weather  \\\n",
       "0                              36                               0   \n",
       "1                               0                               0   \n",
       "\n",
       "   mins_late_delay_code_g_nas  mins_late_delay_code_h_security  \\\n",
       "0                          14                                0   \n",
       "1                          10                                0   \n",
       "\n",
       "   mins_late_delay_code_i_late_arr_flight day_week_name month__name  \n",
       "0                                       0           Mon         Jan  \n",
       "1                                      32           Sun         Jan  "
      ]
     },
     "execution_count": 32,
     "metadata": {},
     "output_type": "execute_result"
    }
   ],
   "source": [
    "# drop month and day_week\n",
    "airline_data1 = airline_data.drop(['month','day_week'], axis=1)\n",
    "airline_data1.head(2)"
   ]
  },
  {
   "cell_type": "code",
   "execution_count": 33,
   "id": "80c18cdc",
   "metadata": {},
   "outputs": [
    {
     "data": {
      "text/plain": [
       "mkt_ccode                                         object\n",
       "mkt_fl_no                                          int64\n",
       "dep_airport                                       object\n",
       "cancel_code                                       object\n",
       "arr_airport                                       object\n",
       "date                                      datetime64[ns]\n",
       "dep_delay_time_actual                              int64\n",
       "arr_delay_time_actual                              int64\n",
       "mins_late_delay_code_e_carrier                     int64\n",
       "mins_late_delay_code_f_weather                     int64\n",
       "mins_late_delay_code_g_nas                         int64\n",
       "mins_late_delay_code_h_security                    int64\n",
       "mins_late_delay_code_i_late_arr_flight             int64\n",
       "day_week_name                                     object\n",
       "month__name                                       object\n",
       "dtype: object"
      ]
     },
     "execution_count": 33,
     "metadata": {},
     "output_type": "execute_result"
    }
   ],
   "source": [
    "# airline_data1 feature data type\n",
    "airline_data1.dtypes"
   ]
  },
  {
   "cell_type": "code",
   "execution_count": 34,
   "id": "bc6d3e29",
   "metadata": {},
   "outputs": [],
   "source": [
    "# drop missing data\n",
    "#airline_data2 = airline_data1.dropna()\n",
    "#print(f\"rows and columns: \\n\", airline_data2.shape)"
   ]
  },
  {
   "cell_type": "code",
   "execution_count": 35,
   "id": "2db53856",
   "metadata": {},
   "outputs": [
    {
     "data": {
      "text/plain": [
       "int64             8\n",
       "object            6\n",
       "datetime64[ns]    1\n",
       "dtype: int64"
      ]
     },
     "execution_count": 35,
     "metadata": {},
     "output_type": "execute_result"
    }
   ],
   "source": [
    "# total number of each feature data type\n",
    "#(airline_data1.dtypes).value_counts()\n",
    "pd.value_counts(airline_data1.dtypes)"
   ]
  },
  {
   "cell_type": "markdown",
   "id": "99689971",
   "metadata": {},
   "source": [
    "## Handling Outliers for Numerical Data"
   ]
  },
  {
   "cell_type": "code",
   "execution_count": 36,
   "id": "5d3885a1",
   "metadata": {},
   "outputs": [
    {
     "data": {
      "text/html": [
       "<div>\n",
       "<style scoped>\n",
       "    .dataframe tbody tr th:only-of-type {\n",
       "        vertical-align: middle;\n",
       "    }\n",
       "\n",
       "    .dataframe tbody tr th {\n",
       "        vertical-align: top;\n",
       "    }\n",
       "\n",
       "    .dataframe thead th {\n",
       "        text-align: right;\n",
       "    }\n",
       "</style>\n",
       "<table border=\"1\" class=\"dataframe\">\n",
       "  <thead>\n",
       "    <tr style=\"text-align: right;\">\n",
       "      <th></th>\n",
       "      <th>mkt_fl_no</th>\n",
       "      <th>date</th>\n",
       "      <th>dep_delay_time_actual</th>\n",
       "      <th>arr_delay_time_actual</th>\n",
       "      <th>mins_late_delay_code_e_carrier</th>\n",
       "      <th>mins_late_delay_code_f_weather</th>\n",
       "      <th>mins_late_delay_code_g_nas</th>\n",
       "      <th>mins_late_delay_code_h_security</th>\n",
       "      <th>mins_late_delay_code_i_late_arr_flight</th>\n",
       "    </tr>\n",
       "  </thead>\n",
       "  <tbody>\n",
       "    <tr>\n",
       "      <th>0</th>\n",
       "      <td>3975</td>\n",
       "      <td>2022-01-24</td>\n",
       "      <td>36</td>\n",
       "      <td>50</td>\n",
       "      <td>36</td>\n",
       "      <td>0</td>\n",
       "      <td>14</td>\n",
       "      <td>0</td>\n",
       "      <td>0</td>\n",
       "    </tr>\n",
       "    <tr>\n",
       "      <th>1</th>\n",
       "      <td>3714</td>\n",
       "      <td>2022-01-23</td>\n",
       "      <td>32</td>\n",
       "      <td>42</td>\n",
       "      <td>0</td>\n",
       "      <td>0</td>\n",
       "      <td>10</td>\n",
       "      <td>0</td>\n",
       "      <td>32</td>\n",
       "    </tr>\n",
       "    <tr>\n",
       "      <th>2</th>\n",
       "      <td>3855</td>\n",
       "      <td>2022-01-21</td>\n",
       "      <td>-3</td>\n",
       "      <td>11</td>\n",
       "      <td>0</td>\n",
       "      <td>0</td>\n",
       "      <td>0</td>\n",
       "      <td>0</td>\n",
       "      <td>0</td>\n",
       "    </tr>\n",
       "  </tbody>\n",
       "</table>\n",
       "</div>"
      ],
      "text/plain": [
       "   mkt_fl_no       date  dep_delay_time_actual  arr_delay_time_actual  \\\n",
       "0       3975 2022-01-24                     36                     50   \n",
       "1       3714 2022-01-23                     32                     42   \n",
       "2       3855 2022-01-21                     -3                     11   \n",
       "\n",
       "   mins_late_delay_code_e_carrier  mins_late_delay_code_f_weather  \\\n",
       "0                              36                               0   \n",
       "1                               0                               0   \n",
       "2                               0                               0   \n",
       "\n",
       "   mins_late_delay_code_g_nas  mins_late_delay_code_h_security  \\\n",
       "0                          14                                0   \n",
       "1                          10                                0   \n",
       "2                           0                                0   \n",
       "\n",
       "   mins_late_delay_code_i_late_arr_flight  \n",
       "0                                       0  \n",
       "1                                      32  \n",
       "2                                       0  "
      ]
     },
     "execution_count": 36,
     "metadata": {},
     "output_type": "execute_result"
    }
   ],
   "source": [
    "# Split airline_data into categorical and numerical data types\n",
    "\n",
    "Cat = ['object'] # columns that have categorical data type\n",
    "num_features = airline_data1.select_dtypes(exclude=Cat) # Dataframe with only numerical data\n",
    "num_features.head(3)"
   ]
  },
  {
   "cell_type": "code",
   "execution_count": 37,
   "id": "abe9a57e",
   "metadata": {},
   "outputs": [
    {
     "data": {
      "text/html": [
       "<div>\n",
       "<style scoped>\n",
       "    .dataframe tbody tr th:only-of-type {\n",
       "        vertical-align: middle;\n",
       "    }\n",
       "\n",
       "    .dataframe tbody tr th {\n",
       "        vertical-align: top;\n",
       "    }\n",
       "\n",
       "    .dataframe thead th {\n",
       "        text-align: right;\n",
       "    }\n",
       "</style>\n",
       "<table border=\"1\" class=\"dataframe\">\n",
       "  <thead>\n",
       "    <tr style=\"text-align: right;\">\n",
       "      <th></th>\n",
       "      <th>mkt_ccode</th>\n",
       "      <th>dep_airport</th>\n",
       "      <th>cancel_code</th>\n",
       "      <th>arr_airport</th>\n",
       "      <th>day_week_name</th>\n",
       "      <th>month__name</th>\n",
       "    </tr>\n",
       "  </thead>\n",
       "  <tbody>\n",
       "    <tr>\n",
       "      <th>0</th>\n",
       "      <td>DL</td>\n",
       "      <td>BNA</td>\n",
       "      <td>NaN</td>\n",
       "      <td>MSP</td>\n",
       "      <td>Mon</td>\n",
       "      <td>Jan</td>\n",
       "    </tr>\n",
       "    <tr>\n",
       "      <th>1</th>\n",
       "      <td>DL</td>\n",
       "      <td>STL</td>\n",
       "      <td>NaN</td>\n",
       "      <td>MSP</td>\n",
       "      <td>Sun</td>\n",
       "      <td>Jan</td>\n",
       "    </tr>\n",
       "    <tr>\n",
       "      <th>2</th>\n",
       "      <td>DL</td>\n",
       "      <td>IAD</td>\n",
       "      <td>NaN</td>\n",
       "      <td>DTW</td>\n",
       "      <td>Fri</td>\n",
       "      <td>Jan</td>\n",
       "    </tr>\n",
       "  </tbody>\n",
       "</table>\n",
       "</div>"
      ],
      "text/plain": [
       "  mkt_ccode dep_airport cancel_code arr_airport day_week_name month__name\n",
       "0        DL         BNA         NaN         MSP           Mon         Jan\n",
       "1        DL         STL         NaN         MSP           Sun         Jan\n",
       "2        DL         IAD         NaN         DTW           Fri         Jan"
      ]
     },
     "execution_count": 37,
     "metadata": {},
     "output_type": "execute_result"
    }
   ],
   "source": [
    "# categorical data type\n",
    "cat_features = airline_data1.select_dtypes(include=Cat) \n",
    "cat_features.head(3)"
   ]
  },
  {
   "cell_type": "code",
   "execution_count": 38,
   "id": "eb2ac61e",
   "metadata": {
    "scrolled": true
   },
   "outputs": [
    {
     "data": {
      "image/png": "[encoded data removed]",
      "text/plain": [
       "<Figure size 800x700 with 1 Axes>"
      ]
     },
     "metadata": {},
     "output_type": "display_data"
    },
    {
     "data": {
      "image/png": "[encoded data removed]",
      "text/plain": [
       "<Figure size 800x700 with 1 Axes>"
      ]
     },
     "metadata": {},
     "output_type": "display_data"
    }
   ],
   "source": [
    "# Detect outliers from numerical columns using boxplot \n",
    "new_feat = num_features[['dep_delay_time_actual','arr_delay_time_actual']]\n",
    "new_columns = new_feat.columns\n",
    "for column in new_columns:\n",
    "    plt.figure(figsize=(8,7))\n",
    "    ax = new_feat [column].plot(kind='box', title= f'Boxplot of {column}') "
   ]
  },
  {
   "cell_type": "code",
   "execution_count": 39,
   "id": "60fca310",
   "metadata": {},
   "outputs": [
    {
     "name": "stdout",
     "output_type": "stream",
     "text": [
      "The maximum value for dep_delay_time_actual is:166.21940354273391 \n",
      "\n",
      "The minimum value for dep_delay_time_actual is:-142.48708056521247 \n",
      "\n",
      "The maximum value for arr_delay_time_actual is:173.50549240938457 \n",
      "\n",
      "The minimum value for arr_delay_time_actual is:-159.65705464413466 \n",
      "\n"
     ]
    },
    {
     "data": {
      "text/plain": [
       "dep_delay_time_actual    81439\n",
       "arr_delay_time_actual    81439\n",
       "dtype: int64"
      ]
     },
     "execution_count": 39,
     "metadata": {},
     "output_type": "execute_result"
    }
   ],
   "source": [
    "# Discover the outliers in the data by using three standard deviations\n",
    "new_feat = num_features[['dep_delay_time_actual','arr_delay_time_actual']]\n",
    "columns = new_feat.columns\n",
    "for column in columns:\n",
    "    min_val = new_feat[column].mean() - (3 * new_feat[column].std()) # compute the minimum value\n",
    "    max_val = new_feat[column].mean() + (3 * new_feat[column].std()) # compute the maximum value\n",
    "    outliers = new_feat [(new_feat[column] > max_val) | (new_feat[column] < min_val)]\n",
    "    print(f'The maximum value for {column} is:{max_val} \\n')\n",
    "    print(f'The minimum value for {column} is:{min_val} \\n')\n",
    "outliers.count()"
   ]
  },
  {
   "cell_type": "markdown",
   "id": "5824d50d",
   "metadata": {},
   "source": [
    "### The data rate of outliers in the arr_delay_time_actual and dep_delay_time_actual features is less than 1.5% of the dataset. We will remove these outliers when predicting flight delay, but keep them for data visualization purposes. To minimize their effect, we will use RobustScaler to scale the dataset..  "
   ]
  },
  {
   "cell_type": "code",
   "execution_count": 40,
   "id": "96719264",
   "metadata": {
    "scrolled": true
   },
   "outputs": [
    {
     "data": {
      "text/html": [
       "<div>\n",
       "<style scoped>\n",
       "    .dataframe tbody tr th:only-of-type {\n",
       "        vertical-align: middle;\n",
       "    }\n",
       "\n",
       "    .dataframe tbody tr th {\n",
       "        vertical-align: top;\n",
       "    }\n",
       "\n",
       "    .dataframe thead th {\n",
       "        text-align: right;\n",
       "    }\n",
       "</style>\n",
       "<table border=\"1\" class=\"dataframe\">\n",
       "  <thead>\n",
       "    <tr style=\"text-align: right;\">\n",
       "      <th></th>\n",
       "      <th>mkt_ccode</th>\n",
       "      <th>dep_airport</th>\n",
       "      <th>cancel_code</th>\n",
       "      <th>arr_airport</th>\n",
       "      <th>day_week_name</th>\n",
       "      <th>month__name</th>\n",
       "      <th>route</th>\n",
       "    </tr>\n",
       "  </thead>\n",
       "  <tbody>\n",
       "    <tr>\n",
       "      <th>0</th>\n",
       "      <td>DL</td>\n",
       "      <td>BNA</td>\n",
       "      <td>NaN</td>\n",
       "      <td>MSP</td>\n",
       "      <td>Mon</td>\n",
       "      <td>Jan</td>\n",
       "      <td>BNA-MSP</td>\n",
       "    </tr>\n",
       "    <tr>\n",
       "      <th>1</th>\n",
       "      <td>DL</td>\n",
       "      <td>STL</td>\n",
       "      <td>NaN</td>\n",
       "      <td>MSP</td>\n",
       "      <td>Sun</td>\n",
       "      <td>Jan</td>\n",
       "      <td>STL-MSP</td>\n",
       "    </tr>\n",
       "    <tr>\n",
       "      <th>2</th>\n",
       "      <td>DL</td>\n",
       "      <td>IAD</td>\n",
       "      <td>NaN</td>\n",
       "      <td>DTW</td>\n",
       "      <td>Fri</td>\n",
       "      <td>Jan</td>\n",
       "      <td>IAD-DTW</td>\n",
       "    </tr>\n",
       "    <tr>\n",
       "      <th>3</th>\n",
       "      <td>DL</td>\n",
       "      <td>ALB</td>\n",
       "      <td>NaN</td>\n",
       "      <td>DTW</td>\n",
       "      <td>Tue</td>\n",
       "      <td>Jan</td>\n",
       "      <td>ALB-DTW</td>\n",
       "    </tr>\n",
       "  </tbody>\n",
       "</table>\n",
       "</div>"
      ],
      "text/plain": [
       "  mkt_ccode dep_airport cancel_code arr_airport day_week_name month__name  \\\n",
       "0        DL         BNA         NaN         MSP           Mon         Jan   \n",
       "1        DL         STL         NaN         MSP           Sun         Jan   \n",
       "2        DL         IAD         NaN         DTW           Fri         Jan   \n",
       "3        DL         ALB         NaN         DTW           Tue         Jan   \n",
       "\n",
       "     route  \n",
       "0  BNA-MSP  \n",
       "1  STL-MSP  \n",
       "2  IAD-DTW  \n",
       "3  ALB-DTW  "
      ]
     },
     "execution_count": 40,
     "metadata": {},
     "output_type": "execute_result"
    }
   ],
   "source": [
    "# Create road feature\n",
    "cat_features['route'] = cat_features['dep_airport']+'-'+cat_features['arr_airport']\n",
    "cat_features.head(4)"
   ]
  },
  {
   "cell_type": "code",
   "execution_count": 41,
   "id": "38682682",
   "metadata": {},
   "outputs": [
    {
     "data": {
      "text/html": [
       "<div>\n",
       "<style scoped>\n",
       "    .dataframe tbody tr th:only-of-type {\n",
       "        vertical-align: middle;\n",
       "    }\n",
       "\n",
       "    .dataframe tbody tr th {\n",
       "        vertical-align: top;\n",
       "    }\n",
       "\n",
       "    .dataframe thead th {\n",
       "        text-align: right;\n",
       "    }\n",
       "</style>\n",
       "<table border=\"1\" class=\"dataframe\">\n",
       "  <thead>\n",
       "    <tr style=\"text-align: right;\">\n",
       "      <th></th>\n",
       "      <th>dept_airport</th>\n",
       "      <th>latitude</th>\n",
       "      <th>longitude</th>\n",
       "    </tr>\n",
       "  </thead>\n",
       "  <tbody>\n",
       "    <tr>\n",
       "      <th>0</th>\n",
       "      <td>ABE</td>\n",
       "      <td>40.6521</td>\n",
       "      <td>-75.4408</td>\n",
       "    </tr>\n",
       "    <tr>\n",
       "      <th>1</th>\n",
       "      <td>ABI</td>\n",
       "      <td>32.4113</td>\n",
       "      <td>-99.6819</td>\n",
       "    </tr>\n",
       "    <tr>\n",
       "      <th>2</th>\n",
       "      <td>ABQ</td>\n",
       "      <td>35.0402</td>\n",
       "      <td>-106.6092</td>\n",
       "    </tr>\n",
       "  </tbody>\n",
       "</table>\n",
       "</div>"
      ],
      "text/plain": [
       "  dept_airport  latitude  longitude\n",
       "0          ABE   40.6521   -75.4408\n",
       "1          ABI   32.4113   -99.6819\n",
       "2          ABQ   35.0402  -106.6092"
      ]
     },
     "execution_count": 41,
     "metadata": {},
     "output_type": "execute_result"
    }
   ],
   "source": [
    "# read airport geographic data \n",
    "airport_geo_df = pd.read_csv('airline_geo_df.csv')\n",
    "airport_geo_df.head(3)"
   ]
  },
  {
   "cell_type": "code",
   "execution_count": 42,
   "id": "62742b1c",
   "metadata": {},
   "outputs": [
    {
     "data": {
      "text/html": [
       "<div>\n",
       "<style scoped>\n",
       "    .dataframe tbody tr th:only-of-type {\n",
       "        vertical-align: middle;\n",
       "    }\n",
       "\n",
       "    .dataframe tbody tr th {\n",
       "        vertical-align: top;\n",
       "    }\n",
       "\n",
       "    .dataframe thead th {\n",
       "        text-align: right;\n",
       "    }\n",
       "</style>\n",
       "<table border=\"1\" class=\"dataframe\">\n",
       "  <thead>\n",
       "    <tr style=\"text-align: right;\">\n",
       "      <th></th>\n",
       "      <th>mkt_fl_no</th>\n",
       "      <th>date</th>\n",
       "      <th>dep_delay_time_actual</th>\n",
       "      <th>arr_delay_time_actual</th>\n",
       "      <th>mins_late_delay_code_e_carrier</th>\n",
       "      <th>mins_late_delay_code_f_weather</th>\n",
       "      <th>mins_late_delay_code_g_nas</th>\n",
       "      <th>mins_late_delay_code_h_security</th>\n",
       "      <th>mins_late_delay_code_i_late_arr_flight</th>\n",
       "      <th>delay</th>\n",
       "    </tr>\n",
       "  </thead>\n",
       "  <tbody>\n",
       "    <tr>\n",
       "      <th>0</th>\n",
       "      <td>3975</td>\n",
       "      <td>2022-01-24</td>\n",
       "      <td>36</td>\n",
       "      <td>50</td>\n",
       "      <td>36</td>\n",
       "      <td>0</td>\n",
       "      <td>14</td>\n",
       "      <td>0</td>\n",
       "      <td>0</td>\n",
       "      <td>1</td>\n",
       "    </tr>\n",
       "    <tr>\n",
       "      <th>1</th>\n",
       "      <td>3714</td>\n",
       "      <td>2022-01-23</td>\n",
       "      <td>32</td>\n",
       "      <td>42</td>\n",
       "      <td>0</td>\n",
       "      <td>0</td>\n",
       "      <td>10</td>\n",
       "      <td>0</td>\n",
       "      <td>32</td>\n",
       "      <td>1</td>\n",
       "    </tr>\n",
       "    <tr>\n",
       "      <th>2</th>\n",
       "      <td>3855</td>\n",
       "      <td>2022-01-21</td>\n",
       "      <td>-3</td>\n",
       "      <td>11</td>\n",
       "      <td>0</td>\n",
       "      <td>0</td>\n",
       "      <td>0</td>\n",
       "      <td>0</td>\n",
       "      <td>0</td>\n",
       "      <td>1</td>\n",
       "    </tr>\n",
       "  </tbody>\n",
       "</table>\n",
       "</div>"
      ],
      "text/plain": [
       "   mkt_fl_no       date  dep_delay_time_actual  arr_delay_time_actual  \\\n",
       "0       3975 2022-01-24                     36                     50   \n",
       "1       3714 2022-01-23                     32                     42   \n",
       "2       3855 2022-01-21                     -3                     11   \n",
       "\n",
       "   mins_late_delay_code_e_carrier  mins_late_delay_code_f_weather  \\\n",
       "0                              36                               0   \n",
       "1                               0                               0   \n",
       "2                               0                               0   \n",
       "\n",
       "   mins_late_delay_code_g_nas  mins_late_delay_code_h_security  \\\n",
       "0                          14                                0   \n",
       "1                          10                                0   \n",
       "2                           0                                0   \n",
       "\n",
       "   mins_late_delay_code_i_late_arr_flight delay  \n",
       "0                                       0     1  \n",
       "1                                      32     1  \n",
       "2                                       0     1  "
      ]
     },
     "execution_count": 42,
     "metadata": {},
     "output_type": "execute_result"
    }
   ],
   "source": [
    "# Create delay column\n",
    "delay = [] # create a placeholder \n",
    "delay_values = num_features['arr_delay_time_actual'].to_list() # Create a list with delay values\n",
    "for i in delay_values:\n",
    "    if i <= 0:\n",
    "        delay.append('0')\n",
    "        \n",
    "    else:\n",
    "        delay.append('1')\n",
    "\n",
    "num_features['delay'] = delay       \n",
    "num_features.head(3)      "
   ]
  },
  {
   "cell_type": "code",
   "execution_count": 43,
   "id": "d7cb4c42",
   "metadata": {},
   "outputs": [],
   "source": [
    "# Convert delay column to numeric data type\n",
    "num_features['delay'] = pd.to_numeric(num_features['delay']) "
   ]
  },
  {
   "cell_type": "code",
   "execution_count": 44,
   "id": "ea2e3086",
   "metadata": {},
   "outputs": [
    {
     "data": {
      "text/plain": [
       "0    3770314\n",
       "1    2096794\n",
       "Name: delay, dtype: int64"
      ]
     },
     "execution_count": 44,
     "metadata": {},
     "output_type": "execute_result"
    }
   ],
   "source": [
    "# total number of delay, do not need to resample the dataset\n",
    "num_features['delay'].value_counts() "
   ]
  },
  {
   "cell_type": "code",
   "execution_count": 45,
   "id": "6afe1af4",
   "metadata": {
    "scrolled": true
   },
   "outputs": [
    {
     "data": {
      "text/html": [
       "<div>\n",
       "<style scoped>\n",
       "    .dataframe tbody tr th:only-of-type {\n",
       "        vertical-align: middle;\n",
       "    }\n",
       "\n",
       "    .dataframe tbody tr th {\n",
       "        vertical-align: top;\n",
       "    }\n",
       "\n",
       "    .dataframe thead th {\n",
       "        text-align: right;\n",
       "    }\n",
       "</style>\n",
       "<table border=\"1\" class=\"dataframe\">\n",
       "  <thead>\n",
       "    <tr style=\"text-align: right;\">\n",
       "      <th></th>\n",
       "      <th>mkt_ccode</th>\n",
       "      <th>dep_airport</th>\n",
       "      <th>cancel_code</th>\n",
       "      <th>arr_airport</th>\n",
       "      <th>day_week_name</th>\n",
       "      <th>month__name</th>\n",
       "      <th>route</th>\n",
       "      <th>mkt_fl_no</th>\n",
       "      <th>date</th>\n",
       "      <th>dep_delay_time_actual</th>\n",
       "      <th>arr_delay_time_actual</th>\n",
       "      <th>mins_late_delay_code_e_carrier</th>\n",
       "      <th>mins_late_delay_code_f_weather</th>\n",
       "      <th>mins_late_delay_code_g_nas</th>\n",
       "      <th>mins_late_delay_code_h_security</th>\n",
       "      <th>mins_late_delay_code_i_late_arr_flight</th>\n",
       "      <th>delay</th>\n",
       "    </tr>\n",
       "  </thead>\n",
       "  <tbody>\n",
       "    <tr>\n",
       "      <th>0</th>\n",
       "      <td>DL</td>\n",
       "      <td>BNA</td>\n",
       "      <td>NaN</td>\n",
       "      <td>MSP</td>\n",
       "      <td>Mon</td>\n",
       "      <td>Jan</td>\n",
       "      <td>BNA-MSP</td>\n",
       "      <td>3975</td>\n",
       "      <td>2022-01-24</td>\n",
       "      <td>36</td>\n",
       "      <td>50</td>\n",
       "      <td>36</td>\n",
       "      <td>0</td>\n",
       "      <td>14</td>\n",
       "      <td>0</td>\n",
       "      <td>0</td>\n",
       "      <td>1</td>\n",
       "    </tr>\n",
       "    <tr>\n",
       "      <th>1</th>\n",
       "      <td>DL</td>\n",
       "      <td>STL</td>\n",
       "      <td>NaN</td>\n",
       "      <td>MSP</td>\n",
       "      <td>Sun</td>\n",
       "      <td>Jan</td>\n",
       "      <td>STL-MSP</td>\n",
       "      <td>3714</td>\n",
       "      <td>2022-01-23</td>\n",
       "      <td>32</td>\n",
       "      <td>42</td>\n",
       "      <td>0</td>\n",
       "      <td>0</td>\n",
       "      <td>10</td>\n",
       "      <td>0</td>\n",
       "      <td>32</td>\n",
       "      <td>1</td>\n",
       "    </tr>\n",
       "    <tr>\n",
       "      <th>2</th>\n",
       "      <td>DL</td>\n",
       "      <td>IAD</td>\n",
       "      <td>NaN</td>\n",
       "      <td>DTW</td>\n",
       "      <td>Fri</td>\n",
       "      <td>Jan</td>\n",
       "      <td>IAD-DTW</td>\n",
       "      <td>3855</td>\n",
       "      <td>2022-01-21</td>\n",
       "      <td>-3</td>\n",
       "      <td>11</td>\n",
       "      <td>0</td>\n",
       "      <td>0</td>\n",
       "      <td>0</td>\n",
       "      <td>0</td>\n",
       "      <td>0</td>\n",
       "      <td>1</td>\n",
       "    </tr>\n",
       "  </tbody>\n",
       "</table>\n",
       "</div>"
      ],
      "text/plain": [
       "  mkt_ccode dep_airport cancel_code arr_airport day_week_name month__name  \\\n",
       "0        DL         BNA         NaN         MSP           Mon         Jan   \n",
       "1        DL         STL         NaN         MSP           Sun         Jan   \n",
       "2        DL         IAD         NaN         DTW           Fri         Jan   \n",
       "\n",
       "     route  mkt_fl_no       date  dep_delay_time_actual  \\\n",
       "0  BNA-MSP       3975 2022-01-24                     36   \n",
       "1  STL-MSP       3714 2022-01-23                     32   \n",
       "2  IAD-DTW       3855 2022-01-21                     -3   \n",
       "\n",
       "   arr_delay_time_actual  mins_late_delay_code_e_carrier  \\\n",
       "0                     50                              36   \n",
       "1                     42                               0   \n",
       "2                     11                               0   \n",
       "\n",
       "   mins_late_delay_code_f_weather  mins_late_delay_code_g_nas  \\\n",
       "0                               0                          14   \n",
       "1                               0                          10   \n",
       "2                               0                           0   \n",
       "\n",
       "   mins_late_delay_code_h_security  mins_late_delay_code_i_late_arr_flight  \\\n",
       "0                                0                                       0   \n",
       "1                                0                                      32   \n",
       "2                                0                                       0   \n",
       "\n",
       "   delay  \n",
       "0      1  \n",
       "1      1  \n",
       "2      1  "
      ]
     },
     "execution_count": 45,
     "metadata": {},
     "output_type": "execute_result"
    }
   ],
   "source": [
    "# Merge num_features cat_features\n",
    "airline_final = pd.concat([cat_features,num_features],axis=1)\n",
    "airline_final.head(3)"
   ]
  },
  {
   "cell_type": "code",
   "execution_count": 46,
   "id": "670c8a23",
   "metadata": {},
   "outputs": [
    {
     "data": {
      "text/plain": [
       "0    5715269\n",
       "B      83859\n",
       "A      53206\n",
       "C      14622\n",
       "D        152\n",
       "Name: cancel_code, dtype: int64"
      ]
     },
     "execution_count": 46,
     "metadata": {},
     "output_type": "execute_result"
    }
   ],
   "source": [
    "# Fill NaN value with 0 for cancel code feature\n",
    "airline_final['cancel_code'] = airline_final['cancel_code'].fillna(0)\n",
    "airline_final['cancel_code'].value_counts() # cancel code values"
   ]
  },
  {
   "cell_type": "code",
   "execution_count": 47,
   "id": "8e3e8915",
   "metadata": {},
   "outputs": [
    {
     "data": {
      "text/plain": [
       "array(['DL', 'AA', 'AS', 'B6', 'UA', 'F9', 'G4', 'HA', 'NK', 'WN'],\n",
       "      dtype=object)"
      ]
     },
     "execution_count": 47,
     "metadata": {},
     "output_type": "execute_result"
    }
   ],
   "source": [
    "# Display unique airlines\n",
    "airline_final['mkt_ccode'].unique() "
   ]
  },
  {
   "cell_type": "code",
   "execution_count": 48,
   "id": "c15a086f",
   "metadata": {},
   "outputs": [],
   "source": [
    "# Save airline_final as csv file\n",
    "airline_final.to_csv('airline_final')"
   ]
  },
  {
   "cell_type": "markdown",
   "id": "0fcbc4e3",
   "metadata": {},
   "source": [
    "# Data Vizualization "
   ]
  },
  {
   "cell_type": "markdown",
   "id": "d9726b35",
   "metadata": {},
   "source": [
    "### Which routes are most prone to delays?"
   ]
  },
  {
   "cell_type": "code",
   "execution_count": 49,
   "id": "69c9b6a6",
   "metadata": {
    "scrolled": true
   },
   "outputs": [
    {
     "data": {
      "application/vnd.plotly.v1+json": {
       "config": {
        "plotlyServerURL": "https://plot.ly"
       },
       "data": [
        {
         "alignmentgroup": "True",
         "hovertemplate": "route=%{x}<br>arr_delay_time_actual=%{y}<extra></extra>",
         "legendgroup": "CVG-CLE",
         "marker": {
          "color": "#636efa",
          "pattern": {
           "shape": ""
          }
         },
         "name": "CVG-CLE",
         "offsetgroup": "CVG-CLE",
         "orientation": "v",
         "showlegend": true,
         "textposition": "auto",
         "type": "bar",
         "x": [
          "CVG-CLE"
         ],
         "xaxis": "x",
         "y": [
          817
         ],
         "yaxis": "y"
        },
        {
         "alignmentgroup": "True",
         "hovertemplate": "route=%{x}<br>arr_delay_time_actual=%{y}<extra></extra>",
         "legendgroup": "ONT-BUR",
         "marker": {
          "color": "#EF553B",
          "pattern": {
           "shape": ""
          }
         },
         "name": "ONT-BUR",
         "offsetgroup": "ONT-BUR",
         "orientation": "v",
         "showlegend": true,
         "textposition": "auto",
         "type": "bar",
         "x": [
          "ONT-BUR"
         ],
         "xaxis": "x",
         "y": [
          675
         ],
         "yaxis": "y"
        },
        {
         "alignmentgroup": "True",
         "hovertemplate": "route=%{x}<br>arr_delay_time_actual=%{y}<extra></extra>",
         "legendgroup": "DAB-DTW",
         "marker": {
          "color": "#00cc96",
          "pattern": {
           "shape": ""
          }
         },
         "name": "DAB-DTW",
         "offsetgroup": "DAB-DTW",
         "orientation": "v",
         "showlegend": true,
         "textposition": "auto",
         "type": "bar",
         "x": [
          "DAB-DTW"
         ],
         "xaxis": "x",
         "y": [
          227
         ],
         "yaxis": "y"
        },
        {
         "alignmentgroup": "True",
         "hovertemplate": "route=%{x}<br>arr_delay_time_actual=%{y}<extra></extra>",
         "legendgroup": "BIL-IFP",
         "marker": {
          "color": "#ab63fa",
          "pattern": {
           "shape": ""
          }
         },
         "name": "BIL-IFP",
         "offsetgroup": "BIL-IFP",
         "orientation": "v",
         "showlegend": true,
         "textposition": "auto",
         "type": "bar",
         "x": [
          "BIL-IFP"
         ],
         "xaxis": "x",
         "y": [
          222
         ],
         "yaxis": "y"
        },
        {
         "alignmentgroup": "True",
         "hovertemplate": "route=%{x}<br>arr_delay_time_actual=%{y}<extra></extra>",
         "legendgroup": "PHL-EGE",
         "marker": {
          "color": "#FFA15A",
          "pattern": {
           "shape": ""
          }
         },
         "name": "PHL-EGE",
         "offsetgroup": "PHL-EGE",
         "orientation": "v",
         "showlegend": true,
         "textposition": "auto",
         "type": "bar",
         "x": [
          "PHL-EGE"
         ],
         "xaxis": "x",
         "y": [
          215
         ],
         "yaxis": "y"
        },
        {
         "alignmentgroup": "True",
         "hovertemplate": "route=%{x}<br>arr_delay_time_actual=%{y}<extra></extra>",
         "legendgroup": "EGE-PHL",
         "marker": {
          "color": "#19d3f3",
          "pattern": {
           "shape": ""
          }
         },
         "name": "EGE-PHL",
         "offsetgroup": "EGE-PHL",
         "orientation": "v",
         "showlegend": true,
         "textposition": "auto",
         "type": "bar",
         "x": [
          "EGE-PHL"
         ],
         "xaxis": "x",
         "y": [
          193
         ],
         "yaxis": "y"
        },
        {
         "alignmentgroup": "True",
         "hovertemplate": "route=%{x}<br>arr_delay_time_actual=%{y}<extra></extra>",
         "legendgroup": "MIA-HSV",
         "marker": {
          "color": "#FF6692",
          "pattern": {
           "shape": ""
          }
         },
         "name": "MIA-HSV",
         "offsetgroup": "MIA-HSV",
         "orientation": "v",
         "showlegend": true,
         "textposition": "auto",
         "type": "bar",
         "x": [
          "MIA-HSV"
         ],
         "xaxis": "x",
         "y": [
          122.867
         ],
         "yaxis": "y"
        },
        {
         "alignmentgroup": "True",
         "hovertemplate": "route=%{x}<br>arr_delay_time_actual=%{y}<extra></extra>",
         "legendgroup": "EGE-LGA",
         "marker": {
          "color": "#B6E880",
          "pattern": {
           "shape": ""
          }
         },
         "name": "EGE-LGA",
         "offsetgroup": "EGE-LGA",
         "orientation": "v",
         "showlegend": true,
         "textposition": "auto",
         "type": "bar",
         "x": [
          "EGE-LGA"
         ],
         "xaxis": "x",
         "y": [
          116.625
         ],
         "yaxis": "y"
        },
        {
         "alignmentgroup": "True",
         "hovertemplate": "route=%{x}<br>arr_delay_time_actual=%{y}<extra></extra>",
         "legendgroup": "HDN-FLL",
         "marker": {
          "color": "#FF97FF",
          "pattern": {
           "shape": ""
          }
         },
         "name": "HDN-FLL",
         "offsetgroup": "HDN-FLL",
         "orientation": "v",
         "showlegend": true,
         "textposition": "auto",
         "type": "bar",
         "x": [
          "HDN-FLL"
         ],
         "xaxis": "x",
         "y": [
          108.5
         ],
         "yaxis": "y"
        },
        {
         "alignmentgroup": "True",
         "hovertemplate": "route=%{x}<br>arr_delay_time_actual=%{y}<extra></extra>",
         "legendgroup": "MSP-RIC",
         "marker": {
          "color": "#FECB52",
          "pattern": {
           "shape": ""
          }
         },
         "name": "MSP-RIC",
         "offsetgroup": "MSP-RIC",
         "orientation": "v",
         "showlegend": true,
         "textposition": "auto",
         "type": "bar",
         "x": [
          "MSP-RIC"
         ],
         "xaxis": "x",
         "y": [
          107
         ],
         "yaxis": "y"
        }
       ],
       "layout": {
        "barmode": "relative",
        "legend": {
         "title": {
          "text": "route"
         },
         "tracegroupgap": 0
        },
        "template": {
         "data": {
          "bar": [
           {
            "error_x": {
             "color": "#2a3f5f"
            },
            "error_y": {
             "color": "#2a3f5f"
            },
            "marker": {
             "line": {
              "color": "#E5ECF6",
              "width": 0.5
             },
             "pattern": {
              "fillmode": "overlay",
              "size": 10,
              "solidity": 0.2
             }
            },
            "type": "bar"
           }
          ],
          "barpolar": [
           {
            "marker": {
             "line": {
              "color": "#E5ECF6",
              "width": 0.5
             },
             "pattern": {
              "fillmode": "overlay",
              "size": 10,
              "solidity": 0.2
             }
            },
            "type": "barpolar"
           }
          ],
          "carpet": [
           {
            "aaxis": {
             "endlinecolor": "#2a3f5f",
             "gridcolor": "white",
             "linecolor": "white",
             "minorgridcolor": "white",
             "startlinecolor": "#2a3f5f"
            },
            "baxis": {
             "endlinecolor": "#2a3f5f",
             "gridcolor": "white",
             "linecolor": "white",
             "minorgridcolor": "white",
             "startlinecolor": "#2a3f5f"
            },
            "type": "carpet"
           }
          ],
          "choropleth": [
           {
            "colorbar": {
             "outlinewidth": 0,
             "ticks": ""
            },
            "type": "choropleth"
           }
          ],
          "contour": [
           {
            "colorbar": {
             "outlinewidth": 0,
             "ticks": ""
            },
            "colorscale": [
             [
              0,
              "#0d0887"
             ],
             [
              0.1111111111111111,
              "#46039f"
             ],
             [
              0.2222222222222222,
              "#7201a8"
             ],
             [
              0.3333333333333333,
              "#9c179e"
             ],
             [
              0.4444444444444444,
              "#bd3786"
             ],
             [
              0.5555555555555556,
              "#d8576b"
             ],
             [
              0.6666666666666666,
              "#ed7953"
             ],
             [
              0.7777777777777778,
              "#fb9f3a"
             ],
             [
              0.8888888888888888,
              "#fdca26"
             ],
             [
              1,
              "#f0f921"
             ]
            ],
            "type": "contour"
           }
          ],
          "contourcarpet": [
           {
            "colorbar": {
             "outlinewidth": 0,
             "ticks": ""
            },
            "type": "contourcarpet"
           }
          ],
          "heatmap": [
           {
            "colorbar": {
             "outlinewidth": 0,
             "ticks": ""
            },
            "colorscale": [
             [
              0,
              "#0d0887"
             ],
             [
              0.1111111111111111,
              "#46039f"
             ],
             [
              0.2222222222222222,
              "#7201a8"
             ],
             [
              0.3333333333333333,
              "#9c179e"
             ],
             [
              0.4444444444444444,
              "#bd3786"
             ],
             [
              0.5555555555555556,
              "#d8576b"
             ],
             [
              0.6666666666666666,
              "#ed7953"
             ],
             [
              0.7777777777777778,
              "#fb9f3a"
             ],
             [
              0.8888888888888888,
              "#fdca26"
             ],
             [
              1,
              "#f0f921"
             ]
            ],
            "type": "heatmap"
           }
          ],
          "heatmapgl": [
           {
            "colorbar": {
             "outlinewidth": 0,
             "ticks": ""
            },
            "colorscale": [
             [
              0,
              "#0d0887"
             ],
             [
              0.1111111111111111,
              "#46039f"
             ],
             [
              0.2222222222222222,
              "#7201a8"
             ],
             [
              0.3333333333333333,
              "#9c179e"
             ],
             [
              0.4444444444444444,
              "#bd3786"
             ],
             [
              0.5555555555555556,
              "#d8576b"
             ],
             [
              0.6666666666666666,
              "#ed7953"
             ],
             [
              0.7777777777777778,
              "#fb9f3a"
             ],
             [
              0.8888888888888888,
              "#fdca26"
             ],
             [
              1,
              "#f0f921"
             ]
            ],
            "type": "heatmapgl"
           }
          ],
          "histogram": [
           {
            "marker": {
             "pattern": {
              "fillmode": "overlay",
              "size": 10,
              "solidity": 0.2
             }
            },
            "type": "histogram"
           }
          ],
          "histogram2d": [
           {
            "colorbar": {
             "outlinewidth": 0,
             "ticks": ""
            },
            "colorscale": [
             [
              0,
              "#0d0887"
             ],
             [
              0.1111111111111111,
              "#46039f"
             ],
             [
              0.2222222222222222,
              "#7201a8"
             ],
             [
              0.3333333333333333,
              "#9c179e"
             ],
             [
              0.4444444444444444,
              "#bd3786"
             ],
             [
              0.5555555555555556,
              "#d8576b"
             ],
             [
              0.6666666666666666,
              "#ed7953"
             ],
             [
              0.7777777777777778,
              "#fb9f3a"
             ],
             [
              0.8888888888888888,
              "#fdca26"
             ],
             [
              1,
              "#f0f921"
             ]
            ],
            "type": "histogram2d"
           }
          ],
          "histogram2dcontour": [
           {
            "colorbar": {
             "outlinewidth": 0,
             "ticks": ""
            },
            "colorscale": [
             [
              0,
              "#0d0887"
             ],
             [
              0.1111111111111111,
              "#46039f"
             ],
             [
              0.2222222222222222,
              "#7201a8"
             ],
             [
              0.3333333333333333,
              "#9c179e"
             ],
             [
              0.4444444444444444,
              "#bd3786"
             ],
             [
              0.5555555555555556,
              "#d8576b"
             ],
             [
              0.6666666666666666,
              "#ed7953"
             ],
             [
              0.7777777777777778,
              "#fb9f3a"
             ],
             [
              0.8888888888888888,
              "#fdca26"
             ],
             [
              1,
              "#f0f921"
             ]
            ],
            "type": "histogram2dcontour"
           }
          ],
          "mesh3d": [
           {
            "colorbar": {
             "outlinewidth": 0,
             "ticks": ""
            },
            "type": "mesh3d"
           }
          ],
          "parcoords": [
           {
            "line": {
             "colorbar": {
              "outlinewidth": 0,
              "ticks": ""
             }
            },
            "type": "parcoords"
           }
          ],
          "pie": [
           {
            "automargin": true,
            "type": "pie"
           }
          ],
          "scatter": [
           {
            "fillpattern": {
             "fillmode": "overlay",
             "size": 10,
             "solidity": 0.2
            },
            "type": "scatter"
           }
          ],
          "scatter3d": [
           {
            "line": {
             "colorbar": {
              "outlinewidth": 0,
              "ticks": ""
             }
            },
            "marker": {
             "colorbar": {
              "outlinewidth": 0,
              "ticks": ""
             }
            },
            "type": "scatter3d"
           }
          ],
          "scattercarpet": [
           {
            "marker": {
             "colorbar": {
              "outlinewidth": 0,
              "ticks": ""
             }
            },
            "type": "scattercarpet"
           }
          ],
          "scattergeo": [
           {
            "marker": {
             "colorbar": {
              "outlinewidth": 0,
              "ticks": ""
             }
            },
            "type": "scattergeo"
           }
          ],
          "scattergl": [
           {
            "marker": {
             "colorbar": {
              "outlinewidth": 0,
              "ticks": ""
             }
            },
            "type": "scattergl"
           }
          ],
          "scattermapbox": [
           {
            "marker": {
             "colorbar": {
              "outlinewidth": 0,
              "ticks": ""
             }
            },
            "type": "scattermapbox"
           }
          ],
          "scatterpolar": [
           {
            "marker": {
             "colorbar": {
              "outlinewidth": 0,
              "ticks": ""
             }
            },
            "type": "scatterpolar"
           }
          ],
          "scatterpolargl": [
           {
            "marker": {
             "colorbar": {
              "outlinewidth": 0,
              "ticks": ""
             }
            },
            "type": "scatterpolargl"
           }
          ],
          "scatterternary": [
           {
            "marker": {
             "colorbar": {
              "outlinewidth": 0,
              "ticks": ""
             }
            },
            "type": "scatterternary"
           }
          ],
          "surface": [
           {
            "colorbar": {
             "outlinewidth": 0,
             "ticks": ""
            },
            "colorscale": [
             [
              0,
              "#0d0887"
             ],
             [
              0.1111111111111111,
              "#46039f"
             ],
             [
              0.2222222222222222,
              "#7201a8"
             ],
             [
              0.3333333333333333,
              "#9c179e"
             ],
             [
              0.4444444444444444,
              "#bd3786"
             ],
             [
              0.5555555555555556,
              "#d8576b"
             ],
             [
              0.6666666666666666,
              "#ed7953"
             ],
             [
              0.7777777777777778,
              "#fb9f3a"
             ],
             [
              0.8888888888888888,
              "#fdca26"
             ],
             [
              1,
              "#f0f921"
             ]
            ],
            "type": "surface"
           }
          ],
          "table": [
           {
            "cells": {
             "fill": {
              "color": "#EBF0F8"
             },
             "line": {
              "color": "white"
             }
            },
            "header": {
             "fill": {
              "color": "#C8D4E3"
             },
             "line": {
              "color": "white"
             }
            },
            "type": "table"
           }
          ]
         },
         "layout": {
          "annotationdefaults": {
           "arrowcolor": "#2a3f5f",
           "arrowhead": 0,
           "arrowwidth": 1
          },
          "autotypenumbers": "strict",
          "coloraxis": {
           "colorbar": {
            "outlinewidth": 0,
            "ticks": ""
           }
          },
          "colorscale": {
           "diverging": [
            [
             0,
             "#8e0152"
            ],
            [
             0.1,
             "#c51b7d"
            ],
            [
             0.2,
             "#de77ae"
            ],
            [
             0.3,
             "#f1b6da"
            ],
            [
             0.4,
             "#fde0ef"
            ],
            [
             0.5,
             "#f7f7f7"
            ],
            [
             0.6,
             "#e6f5d0"
            ],
            [
             0.7,
             "#b8e186"
            ],
            [
             0.8,
             "#7fbc41"
            ],
            [
             0.9,
             "#4d9221"
            ],
            [
             1,
             "#276419"
            ]
           ],
           "sequential": [
            [
             0,
             "#0d0887"
            ],
            [
             0.1111111111111111,
             "#46039f"
            ],
            [
             0.2222222222222222,
             "#7201a8"
            ],
            [
             0.3333333333333333,
             "#9c179e"
            ],
            [
             0.4444444444444444,
             "#bd3786"
            ],
            [
             0.5555555555555556,
             "#d8576b"
            ],
            [
             0.6666666666666666,
             "#ed7953"
            ],
            [
             0.7777777777777778,
             "#fb9f3a"
            ],
            [
             0.8888888888888888,
             "#fdca26"
            ],
            [
             1,
             "#f0f921"
            ]
           ],
           "sequentialminus": [
            [
             0,
             "#0d0887"
            ],
            [
             0.1111111111111111,
             "#46039f"
            ],
            [
             0.2222222222222222,
             "#7201a8"
            ],
            [
             0.3333333333333333,
             "#9c179e"
            ],
            [
             0.4444444444444444,
             "#bd3786"
            ],
            [
             0.5555555555555556,
             "#d8576b"
            ],
            [
             0.6666666666666666,
             "#ed7953"
            ],
            [
             0.7777777777777778,
             "#fb9f3a"
            ],
            [
             0.8888888888888888,
             "#fdca26"
            ],
            [
             1,
             "#f0f921"
            ]
           ]
          },
          "colorway": [
           "#636efa",
           "#EF553B",
           "#00cc96",
           "#ab63fa",
           "#FFA15A",
           "#19d3f3",
           "#FF6692",
           "#B6E880",
           "#FF97FF",
           "#FECB52"
          ],
          "font": {
           "color": "#2a3f5f"
          },
          "geo": {
           "bgcolor": "white",
           "lakecolor": "white",
           "landcolor": "#E5ECF6",
           "showlakes": true,
           "showland": true,
           "subunitcolor": "white"
          },
          "hoverlabel": {
           "align": "left"
          },
          "hovermode": "closest",
          "mapbox": {
           "style": "light"
          },
          "paper_bgcolor": "white",
          "plot_bgcolor": "#E5ECF6",
          "polar": {
           "angularaxis": {
            "gridcolor": "white",
            "linecolor": "white",
            "ticks": ""
           },
           "bgcolor": "#E5ECF6",
           "radialaxis": {
            "gridcolor": "white",
            "linecolor": "white",
            "ticks": ""
           }
          },
          "scene": {
           "xaxis": {
            "backgroundcolor": "#E5ECF6",
            "gridcolor": "white",
            "gridwidth": 2,
            "linecolor": "white",
            "showbackground": true,
            "ticks": "",
            "zerolinecolor": "white"
           },
           "yaxis": {
            "backgroundcolor": "#E5ECF6",
            "gridcolor": "white",
            "gridwidth": 2,
            "linecolor": "white",
            "showbackground": true,
            "ticks": "",
            "zerolinecolor": "white"
           },
           "zaxis": {
            "backgroundcolor": "#E5ECF6",
            "gridcolor": "white",
            "gridwidth": 2,
            "linecolor": "white",
            "showbackground": true,
            "ticks": "",
            "zerolinecolor": "white"
           }
          },
          "shapedefaults": {
           "line": {
            "color": "#2a3f5f"
           }
          },
          "ternary": {
           "aaxis": {
            "gridcolor": "white",
            "linecolor": "white",
            "ticks": ""
           },
           "baxis": {
            "gridcolor": "white",
            "linecolor": "white",
            "ticks": ""
           },
           "bgcolor": "#E5ECF6",
           "caxis": {
            "gridcolor": "white",
            "linecolor": "white",
            "ticks": ""
           }
          },
          "title": {
           "x": 0.05
          },
          "xaxis": {
           "automargin": true,
           "gridcolor": "white",
           "linecolor": "white",
           "ticks": "",
           "title": {
            "standoff": 15
           },
           "zerolinecolor": "white",
           "zerolinewidth": 2
          },
          "yaxis": {
           "automargin": true,
           "gridcolor": "white",
           "linecolor": "white",
           "ticks": "",
           "title": {
            "standoff": 15
           },
           "zerolinecolor": "white",
           "zerolinewidth": 2
          }
         }
        },
        "title": {
         "text": "Top 10 Routes with Highest Mean Delays"
        },
        "xaxis": {
         "anchor": "y",
         "categoryarray": [
          "CVG-CLE",
          "ONT-BUR",
          "DAB-DTW",
          "BIL-IFP",
          "PHL-EGE",
          "EGE-PHL",
          "MIA-HSV",
          "EGE-LGA",
          "HDN-FLL",
          "MSP-RIC"
         ],
         "categoryorder": "array",
         "domain": [
          0,
          1
         ],
         "title": {
          "text": "Route"
         }
        },
        "yaxis": {
         "anchor": "x",
         "domain": [
          0,
          1
         ],
         "title": {
          "text": "Mean Delay (minutes)"
         }
        }
       }
      },
      "text/html": [
       "<div>                            <div id=\"d8e51124-bbdd-4c3b-9adf-7444e37bcf76\" class=\"plotly-graph-div\" style=\"height:525px; width:100%;\"></div>            <script type=\"text/javascript\">                require([\"plotly\"], function(Plotly) {                    window.PLOTLYENV=window.PLOTLYENV || {};                                    if (document.getElementById(\"d8e51124-bbdd-4c3b-9adf-7444e37bcf76\")) {                    Plotly.newPlot(                        \"d8e51124-bbdd-4c3b-9adf-7444e37bcf76\",                        [{\"alignmentgroup\":\"True\",\"hovertemplate\":\"route=%{x}<br>arr_delay_time_actual=%{y}<extra></extra>\",\"legendgroup\":\"CVG-CLE\",\"marker\":{\"color\":\"#636efa\",\"pattern\":{\"shape\":\"\"}},\"name\":\"CVG-CLE\",\"offsetgroup\":\"CVG-CLE\",\"orientation\":\"v\",\"showlegend\":true,\"textposition\":\"auto\",\"x\":[\"CVG-CLE\"],\"xaxis\":\"x\",\"y\":[817.0],\"yaxis\":\"y\",\"type\":\"bar\"},{\"alignmentgroup\":\"True\",\"hovertemplate\":\"route=%{x}<br>arr_delay_time_actual=%{y}<extra></extra>\",\"legendgroup\":\"ONT-BUR\",\"marker\":{\"color\":\"#EF553B\",\"pattern\":{\"shape\":\"\"}},\"name\":\"ONT-BUR\",\"offsetgroup\":\"ONT-BUR\",\"orientation\":\"v\",\"showlegend\":true,\"textposition\":\"auto\",\"x\":[\"ONT-BUR\"],\"xaxis\":\"x\",\"y\":[675.0],\"yaxis\":\"y\",\"type\":\"bar\"},{\"alignmentgroup\":\"True\",\"hovertemplate\":\"route=%{x}<br>arr_delay_time_actual=%{y}<extra></extra>\",\"legendgroup\":\"DAB-DTW\",\"marker\":{\"color\":\"#00cc96\",\"pattern\":{\"shape\":\"\"}},\"name\":\"DAB-DTW\",\"offsetgroup\":\"DAB-DTW\",\"orientation\":\"v\",\"showlegend\":true,\"textposition\":\"auto\",\"x\":[\"DAB-DTW\"],\"xaxis\":\"x\",\"y\":[227.0],\"yaxis\":\"y\",\"type\":\"bar\"},{\"alignmentgroup\":\"True\",\"hovertemplate\":\"route=%{x}<br>arr_delay_time_actual=%{y}<extra></extra>\",\"legendgroup\":\"BIL-IFP\",\"marker\":{\"color\":\"#ab63fa\",\"pattern\":{\"shape\":\"\"}},\"name\":\"BIL-IFP\",\"offsetgroup\":\"BIL-IFP\",\"orientation\":\"v\",\"showlegend\":true,\"textposition\":\"auto\",\"x\":[\"BIL-IFP\"],\"xaxis\":\"x\",\"y\":[222.0],\"yaxis\":\"y\",\"type\":\"bar\"},{\"alignmentgroup\":\"True\",\"hovertemplate\":\"route=%{x}<br>arr_delay_time_actual=%{y}<extra></extra>\",\"legendgroup\":\"PHL-EGE\",\"marker\":{\"color\":\"#FFA15A\",\"pattern\":{\"shape\":\"\"}},\"name\":\"PHL-EGE\",\"offsetgroup\":\"PHL-EGE\",\"orientation\":\"v\",\"showlegend\":true,\"textposition\":\"auto\",\"x\":[\"PHL-EGE\"],\"xaxis\":\"x\",\"y\":[215.0],\"yaxis\":\"y\",\"type\":\"bar\"},{\"alignmentgroup\":\"True\",\"hovertemplate\":\"route=%{x}<br>arr_delay_time_actual=%{y}<extra></extra>\",\"legendgroup\":\"EGE-PHL\",\"marker\":{\"color\":\"#19d3f3\",\"pattern\":{\"shape\":\"\"}},\"name\":\"EGE-PHL\",\"offsetgroup\":\"EGE-PHL\",\"orientation\":\"v\",\"showlegend\":true,\"textposition\":\"auto\",\"x\":[\"EGE-PHL\"],\"xaxis\":\"x\",\"y\":[193.0],\"yaxis\":\"y\",\"type\":\"bar\"},{\"alignmentgroup\":\"True\",\"hovertemplate\":\"route=%{x}<br>arr_delay_time_actual=%{y}<extra></extra>\",\"legendgroup\":\"MIA-HSV\",\"marker\":{\"color\":\"#FF6692\",\"pattern\":{\"shape\":\"\"}},\"name\":\"MIA-HSV\",\"offsetgroup\":\"MIA-HSV\",\"orientation\":\"v\",\"showlegend\":true,\"textposition\":\"auto\",\"x\":[\"MIA-HSV\"],\"xaxis\":\"x\",\"y\":[122.867],\"yaxis\":\"y\",\"type\":\"bar\"},{\"alignmentgroup\":\"True\",\"hovertemplate\":\"route=%{x}<br>arr_delay_time_actual=%{y}<extra></extra>\",\"legendgroup\":\"EGE-LGA\",\"marker\":{\"color\":\"#B6E880\",\"pattern\":{\"shape\":\"\"}},\"name\":\"EGE-LGA\",\"offsetgroup\":\"EGE-LGA\",\"orientation\":\"v\",\"showlegend\":true,\"textposition\":\"auto\",\"x\":[\"EGE-LGA\"],\"xaxis\":\"x\",\"y\":[116.625],\"yaxis\":\"y\",\"type\":\"bar\"},{\"alignmentgroup\":\"True\",\"hovertemplate\":\"route=%{x}<br>arr_delay_time_actual=%{y}<extra></extra>\",\"legendgroup\":\"HDN-FLL\",\"marker\":{\"color\":\"#FF97FF\",\"pattern\":{\"shape\":\"\"}},\"name\":\"HDN-FLL\",\"offsetgroup\":\"HDN-FLL\",\"orientation\":\"v\",\"showlegend\":true,\"textposition\":\"auto\",\"x\":[\"HDN-FLL\"],\"xaxis\":\"x\",\"y\":[108.5],\"yaxis\":\"y\",\"type\":\"bar\"},{\"alignmentgroup\":\"True\",\"hovertemplate\":\"route=%{x}<br>arr_delay_time_actual=%{y}<extra></extra>\",\"legendgroup\":\"MSP-RIC\",\"marker\":{\"color\":\"#FECB52\",\"pattern\":{\"shape\":\"\"}},\"name\":\"MSP-RIC\",\"offsetgroup\":\"MSP-RIC\",\"orientation\":\"v\",\"showlegend\":true,\"textposition\":\"auto\",\"x\":[\"MSP-RIC\"],\"xaxis\":\"x\",\"y\":[107.0],\"yaxis\":\"y\",\"type\":\"bar\"}],                        {\"template\":{\"data\":{\"histogram2dcontour\":[{\"type\":\"histogram2dcontour\",\"colorbar\":{\"outlinewidth\":0,\"ticks\":\"\"},\"colorscale\":[[0.0,\"#0d0887\"],[0.1111111111111111,\"#46039f\"],[0.2222222222222222,\"#7201a8\"],[0.3333333333333333,\"#9c179e\"],[0.4444444444444444,\"#bd3786\"],[0.5555555555555556,\"#d8576b\"],[0.6666666666666666,\"#ed7953\"],[0.7777777777777778,\"#fb9f3a\"],[0.8888888888888888,\"#fdca26\"],[1.0,\"#f0f921\"]]}],\"choropleth\":[{\"type\":\"choropleth\",\"colorbar\":{\"outlinewidth\":0,\"ticks\":\"\"}}],\"histogram2d\":[{\"type\":\"histogram2d\",\"colorbar\":{\"outlinewidth\":0,\"ticks\":\"\"},\"colorscale\":[[0.0,\"#0d0887\"],[0.1111111111111111,\"#46039f\"],[0.2222222222222222,\"#7201a8\"],[0.3333333333333333,\"#9c179e\"],[0.4444444444444444,\"#bd3786\"],[0.5555555555555556,\"#d8576b\"],[0.6666666666666666,\"#ed7953\"],[0.7777777777777778,\"#fb9f3a\"],[0.8888888888888888,\"#fdca26\"],[1.0,\"#f0f921\"]]}],\"heatmap\":[{\"type\":\"heatmap\",\"colorbar\":{\"outlinewidth\":0,\"ticks\":\"\"},\"colorscale\":[[0.0,\"#0d0887\"],[0.1111111111111111,\"#46039f\"],[0.2222222222222222,\"#7201a8\"],[0.3333333333333333,\"#9c179e\"],[0.4444444444444444,\"#bd3786\"],[0.5555555555555556,\"#d8576b\"],[0.6666666666666666,\"#ed7953\"],[0.7777777777777778,\"#fb9f3a\"],[0.8888888888888888,\"#fdca26\"],[1.0,\"#f0f921\"]]}],\"heatmapgl\":[{\"type\":\"heatmapgl\",\"colorbar\":{\"outlinewidth\":0,\"ticks\":\"\"},\"colorscale\":[[0.0,\"#0d0887\"],[0.1111111111111111,\"#46039f\"],[0.2222222222222222,\"#7201a8\"],[0.3333333333333333,\"#9c179e\"],[0.4444444444444444,\"#bd3786\"],[0.5555555555555556,\"#d8576b\"],[0.6666666666666666,\"#ed7953\"],[0.7777777777777778,\"#fb9f3a\"],[0.8888888888888888,\"#fdca26\"],[1.0,\"#f0f921\"]]}],\"contourcarpet\":[{\"type\":\"contourcarpet\",\"colorbar\":{\"outlinewidth\":0,\"ticks\":\"\"}}],\"contour\":[{\"type\":\"contour\",\"colorbar\":{\"outlinewidth\":0,\"ticks\":\"\"},\"colorscale\":[[0.0,\"#0d0887\"],[0.1111111111111111,\"#46039f\"],[0.2222222222222222,\"#7201a8\"],[0.3333333333333333,\"#9c179e\"],[0.4444444444444444,\"#bd3786\"],[0.5555555555555556,\"#d8576b\"],[0.6666666666666666,\"#ed7953\"],[0.7777777777777778,\"#fb9f3a\"],[0.8888888888888888,\"#fdca26\"],[1.0,\"#f0f921\"]]}],\"surface\":[{\"type\":\"surface\",\"colorbar\":{\"outlinewidth\":0,\"ticks\":\"\"},\"colorscale\":[[0.0,\"#0d0887\"],[0.1111111111111111,\"#46039f\"],[0.2222222222222222,\"#7201a8\"],[0.3333333333333333,\"#9c179e\"],[0.4444444444444444,\"#bd3786\"],[0.5555555555555556,\"#d8576b\"],[0.6666666666666666,\"#ed7953\"],[0.7777777777777778,\"#fb9f3a\"],[0.8888888888888888,\"#fdca26\"],[1.0,\"#f0f921\"]]}],\"mesh3d\":[{\"type\":\"mesh3d\",\"colorbar\":{\"outlinewidth\":0,\"ticks\":\"\"}}],\"scatter\":[{\"fillpattern\":{\"fillmode\":\"overlay\",\"size\":10,\"solidity\":0.2},\"type\":\"scatter\"}],\"parcoords\":[{\"type\":\"parcoords\",\"line\":{\"colorbar\":{\"outlinewidth\":0,\"ticks\":\"\"}}}],\"scatterpolargl\":[{\"type\":\"scatterpolargl\",\"marker\":{\"colorbar\":{\"outlinewidth\":0,\"ticks\":\"\"}}}],\"bar\":[{\"error_x\":{\"color\":\"#2a3f5f\"},\"error_y\":{\"color\":\"#2a3f5f\"},\"marker\":{\"line\":{\"color\":\"#E5ECF6\",\"width\":0.5},\"pattern\":{\"fillmode\":\"overlay\",\"size\":10,\"solidity\":0.2}},\"type\":\"bar\"}],\"scattergeo\":[{\"type\":\"scattergeo\",\"marker\":{\"colorbar\":{\"outlinewidth\":0,\"ticks\":\"\"}}}],\"scatterpolar\":[{\"type\":\"scatterpolar\",\"marker\":{\"colorbar\":{\"outlinewidth\":0,\"ticks\":\"\"}}}],\"histogram\":[{\"marker\":{\"pattern\":{\"fillmode\":\"overlay\",\"size\":10,\"solidity\":0.2}},\"type\":\"histogram\"}],\"scattergl\":[{\"type\":\"scattergl\",\"marker\":{\"colorbar\":{\"outlinewidth\":0,\"ticks\":\"\"}}}],\"scatter3d\":[{\"type\":\"scatter3d\",\"line\":{\"colorbar\":{\"outlinewidth\":0,\"ticks\":\"\"}},\"marker\":{\"colorbar\":{\"outlinewidth\":0,\"ticks\":\"\"}}}],\"scattermapbox\":[{\"type\":\"scattermapbox\",\"marker\":{\"colorbar\":{\"outlinewidth\":0,\"ticks\":\"\"}}}],\"scatterternary\":[{\"type\":\"scatterternary\",\"marker\":{\"colorbar\":{\"outlinewidth\":0,\"ticks\":\"\"}}}],\"scattercarpet\":[{\"type\":\"scattercarpet\",\"marker\":{\"colorbar\":{\"outlinewidth\":0,\"ticks\":\"\"}}}],\"carpet\":[{\"aaxis\":{\"endlinecolor\":\"#2a3f5f\",\"gridcolor\":\"white\",\"linecolor\":\"white\",\"minorgridcolor\":\"white\",\"startlinecolor\":\"#2a3f5f\"},\"baxis\":{\"endlinecolor\":\"#2a3f5f\",\"gridcolor\":\"white\",\"linecolor\":\"white\",\"minorgridcolor\":\"white\",\"startlinecolor\":\"#2a3f5f\"},\"type\":\"carpet\"}],\"table\":[{\"cells\":{\"fill\":{\"color\":\"#EBF0F8\"},\"line\":{\"color\":\"white\"}},\"header\":{\"fill\":{\"color\":\"#C8D4E3\"},\"line\":{\"color\":\"white\"}},\"type\":\"table\"}],\"barpolar\":[{\"marker\":{\"line\":{\"color\":\"#E5ECF6\",\"width\":0.5},\"pattern\":{\"fillmode\":\"overlay\",\"size\":10,\"solidity\":0.2}},\"type\":\"barpolar\"}],\"pie\":[{\"automargin\":true,\"type\":\"pie\"}]},\"layout\":{\"autotypenumbers\":\"strict\",\"colorway\":[\"#636efa\",\"#EF553B\",\"#00cc96\",\"#ab63fa\",\"#FFA15A\",\"#19d3f3\",\"#FF6692\",\"#B6E880\",\"#FF97FF\",\"#FECB52\"],\"font\":{\"color\":\"#2a3f5f\"},\"hovermode\":\"closest\",\"hoverlabel\":{\"align\":\"left\"},\"paper_bgcolor\":\"white\",\"plot_bgcolor\":\"#E5ECF6\",\"polar\":{\"bgcolor\":\"#E5ECF6\",\"angularaxis\":{\"gridcolor\":\"white\",\"linecolor\":\"white\",\"ticks\":\"\"},\"radialaxis\":{\"gridcolor\":\"white\",\"linecolor\":\"white\",\"ticks\":\"\"}},\"ternary\":{\"bgcolor\":\"#E5ECF6\",\"aaxis\":{\"gridcolor\":\"white\",\"linecolor\":\"white\",\"ticks\":\"\"},\"baxis\":{\"gridcolor\":\"white\",\"linecolor\":\"white\",\"ticks\":\"\"},\"caxis\":{\"gridcolor\":\"white\",\"linecolor\":\"white\",\"ticks\":\"\"}},\"coloraxis\":{\"colorbar\":{\"outlinewidth\":0,\"ticks\":\"\"}},\"colorscale\":{\"sequential\":[[0.0,\"#0d0887\"],[0.1111111111111111,\"#46039f\"],[0.2222222222222222,\"#7201a8\"],[0.3333333333333333,\"#9c179e\"],[0.4444444444444444,\"#bd3786\"],[0.5555555555555556,\"#d8576b\"],[0.6666666666666666,\"#ed7953\"],[0.7777777777777778,\"#fb9f3a\"],[0.8888888888888888,\"#fdca26\"],[1.0,\"#f0f921\"]],\"sequentialminus\":[[0.0,\"#0d0887\"],[0.1111111111111111,\"#46039f\"],[0.2222222222222222,\"#7201a8\"],[0.3333333333333333,\"#9c179e\"],[0.4444444444444444,\"#bd3786\"],[0.5555555555555556,\"#d8576b\"],[0.6666666666666666,\"#ed7953\"],[0.7777777777777778,\"#fb9f3a\"],[0.8888888888888888,\"#fdca26\"],[1.0,\"#f0f921\"]],\"diverging\":[[0,\"#8e0152\"],[0.1,\"#c51b7d\"],[0.2,\"#de77ae\"],[0.3,\"#f1b6da\"],[0.4,\"#fde0ef\"],[0.5,\"#f7f7f7\"],[0.6,\"#e6f5d0\"],[0.7,\"#b8e186\"],[0.8,\"#7fbc41\"],[0.9,\"#4d9221\"],[1,\"#276419\"]]},\"xaxis\":{\"gridcolor\":\"white\",\"linecolor\":\"white\",\"ticks\":\"\",\"title\":{\"standoff\":15},\"zerolinecolor\":\"white\",\"automargin\":true,\"zerolinewidth\":2},\"yaxis\":{\"gridcolor\":\"white\",\"linecolor\":\"white\",\"ticks\":\"\",\"title\":{\"standoff\":15},\"zerolinecolor\":\"white\",\"automargin\":true,\"zerolinewidth\":2},\"scene\":{\"xaxis\":{\"backgroundcolor\":\"#E5ECF6\",\"gridcolor\":\"white\",\"linecolor\":\"white\",\"showbackground\":true,\"ticks\":\"\",\"zerolinecolor\":\"white\",\"gridwidth\":2},\"yaxis\":{\"backgroundcolor\":\"#E5ECF6\",\"gridcolor\":\"white\",\"linecolor\":\"white\",\"showbackground\":true,\"ticks\":\"\",\"zerolinecolor\":\"white\",\"gridwidth\":2},\"zaxis\":{\"backgroundcolor\":\"#E5ECF6\",\"gridcolor\":\"white\",\"linecolor\":\"white\",\"showbackground\":true,\"ticks\":\"\",\"zerolinecolor\":\"white\",\"gridwidth\":2}},\"shapedefaults\":{\"line\":{\"color\":\"#2a3f5f\"}},\"annotationdefaults\":{\"arrowcolor\":\"#2a3f5f\",\"arrowhead\":0,\"arrowwidth\":1},\"geo\":{\"bgcolor\":\"white\",\"landcolor\":\"#E5ECF6\",\"subunitcolor\":\"white\",\"showland\":true,\"showlakes\":true,\"lakecolor\":\"white\"},\"title\":{\"x\":0.05},\"mapbox\":{\"style\":\"light\"}}},\"xaxis\":{\"anchor\":\"y\",\"domain\":[0.0,1.0],\"title\":{\"text\":\"Route\"},\"categoryorder\":\"array\",\"categoryarray\":[\"CVG-CLE\",\"ONT-BUR\",\"DAB-DTW\",\"BIL-IFP\",\"PHL-EGE\",\"EGE-PHL\",\"MIA-HSV\",\"EGE-LGA\",\"HDN-FLL\",\"MSP-RIC\"]},\"yaxis\":{\"anchor\":\"x\",\"domain\":[0.0,1.0],\"title\":{\"text\":\"Mean Delay (minutes)\"}},\"legend\":{\"title\":{\"text\":\"route\"},\"tracegroupgap\":0},\"title\":{\"text\":\"Top 10 Routes with Highest Mean Delays\"},\"barmode\":\"relative\"},                        {\"responsive\": true}                    ).then(function(){\n",
       "                            \n",
       "var gd = document.getElementById('d8e51124-bbdd-4c3b-9adf-7444e37bcf76');\n",
       "var x = new MutationObserver(function (mutations, observer) {{\n",
       "        var display = window.getComputedStyle(gd).display;\n",
       "        if (!display || display === 'none') {{\n",
       "            console.log([gd, 'removed!']);\n",
       "            Plotly.purge(gd);\n",
       "            observer.disconnect();\n",
       "        }}\n",
       "}});\n",
       "\n",
       "// Listen for the removal of the full notebook cells\n",
       "var notebookContainer = gd.closest('#notebook-container');\n",
       "if (notebookContainer) {{\n",
       "    x.observe(notebookContainer, {childList: true});\n",
       "}}\n",
       "\n",
       "// Listen for the clearing of the current output cell\n",
       "var outputEl = gd.closest('.output');\n",
       "if (outputEl) {{\n",
       "    x.observe(outputEl, {childList: true});\n",
       "}}\n",
       "\n",
       "                        })                };                });            </script>        </div>"
      ]
     },
     "metadata": {},
     "output_type": "display_data"
    }
   ],
   "source": [
    "import pandas as pd\n",
    "import plotly.express as px\n",
    "\n",
    "# Use your dataset as a DataFrame\n",
    "df = airline_final\n",
    "\n",
    "# Calculate the mean delay for each route\n",
    "mean_route_delays = df.groupby('route')['arr_delay_time_actual'].mean().reset_index().round(3)\n",
    "\n",
    "# Sort the routes by mean delay in descending order and select the top 10\n",
    "top_delayed_routes = mean_route_delays.sort_values(by='arr_delay_time_actual', ascending=False).head(10)\n",
    "\n",
    "# Create a bar chart using Plotly Express\n",
    "fig = px.bar(top_delayed_routes, x='route', y='arr_delay_time_actual',color = 'route',title='Top 10 Routes with Highest Mean Delays')\n",
    "fig.update_layout(xaxis_title='Route', yaxis_title='Mean Delay (minutes)')\n",
    "fig.show()\n"
   ]
  },
  {
   "cell_type": "markdown",
   "id": "710d22bb",
   "metadata": {},
   "source": [
    "### What are the primary causes of departure delay time?"
   ]
  },
  {
   "cell_type": "code",
   "execution_count": 50,
   "id": "5a32e14a",
   "metadata": {
    "scrolled": true
   },
   "outputs": [
    {
     "data": {
      "application/vnd.plotly.v1+json": {
       "config": {
        "plotlyServerURL": "https://plot.ly"
       },
       "data": [
        {
         "domain": {
          "x": [
           0,
           1
          ],
          "y": [
           0,
           1
          ]
         },
         "hovertemplate": "cause=%{label}<br>mean_delays=%{value}<extra></extra>",
         "labels": [
          "mins_late_delay_code_e_carrier",
          "mins_late_delay_code_i_late_arr_flight",
          "mins_late_delay_code_g_nas",
          "mins_late_delay_code_f_weather",
          "mins_late_delay_code_h_security"
         ],
         "legendgroup": "",
         "name": "",
         "showlegend": true,
         "type": "pie",
         "values": [
          4.47,
          3.828,
          1.698,
          0.482,
          0.02
         ]
        }
       ],
       "layout": {
        "legend": {
         "tracegroupgap": 0
        },
        "template": {
         "data": {
          "bar": [
           {
            "error_x": {
             "color": "#2a3f5f"
            },
            "error_y": {
             "color": "#2a3f5f"
            },
            "marker": {
             "line": {
              "color": "#E5ECF6",
              "width": 0.5
             },
             "pattern": {
              "fillmode": "overlay",
              "size": 10,
              "solidity": 0.2
             }
            },
            "type": "bar"
           }
          ],
          "barpolar": [
           {
            "marker": {
             "line": {
              "color": "#E5ECF6",
              "width": 0.5
             },
             "pattern": {
              "fillmode": "overlay",
              "size": 10,
              "solidity": 0.2
             }
            },
            "type": "barpolar"
           }
          ],
          "carpet": [
           {
            "aaxis": {
             "endlinecolor": "#2a3f5f",
             "gridcolor": "white",
             "linecolor": "white",
             "minorgridcolor": "white",
             "startlinecolor": "#2a3f5f"
            },
            "baxis": {
             "endlinecolor": "#2a3f5f",
             "gridcolor": "white",
             "linecolor": "white",
             "minorgridcolor": "white",
             "startlinecolor": "#2a3f5f"
            },
            "type": "carpet"
           }
          ],
          "choropleth": [
           {
            "colorbar": {
             "outlinewidth": 0,
             "ticks": ""
            },
            "type": "choropleth"
           }
          ],
          "contour": [
           {
            "colorbar": {
             "outlinewidth": 0,
             "ticks": ""
            },
            "colorscale": [
             [
              0,
              "#0d0887"
             ],
             [
              0.1111111111111111,
              "#46039f"
             ],
             [
              0.2222222222222222,
              "#7201a8"
             ],
             [
              0.3333333333333333,
              "#9c179e"
             ],
             [
              0.4444444444444444,
              "#bd3786"
             ],
             [
              0.5555555555555556,
              "#d8576b"
             ],
             [
              0.6666666666666666,
              "#ed7953"
             ],
             [
              0.7777777777777778,
              "#fb9f3a"
             ],
             [
              0.8888888888888888,
              "#fdca26"
             ],
             [
              1,
              "#f0f921"
             ]
            ],
            "type": "contour"
           }
          ],
          "contourcarpet": [
           {
            "colorbar": {
             "outlinewidth": 0,
             "ticks": ""
            },
            "type": "contourcarpet"
           }
          ],
          "heatmap": [
           {
            "colorbar": {
             "outlinewidth": 0,
             "ticks": ""
            },
            "colorscale": [
             [
              0,
              "#0d0887"
             ],
             [
              0.1111111111111111,
              "#46039f"
             ],
             [
              0.2222222222222222,
              "#7201a8"
             ],
             [
              0.3333333333333333,
              "#9c179e"
             ],
             [
              0.4444444444444444,
              "#bd3786"
             ],
             [
              0.5555555555555556,
              "#d8576b"
             ],
             [
              0.6666666666666666,
              "#ed7953"
             ],
             [
              0.7777777777777778,
              "#fb9f3a"
             ],
             [
              0.8888888888888888,
              "#fdca26"
             ],
             [
              1,
              "#f0f921"
             ]
            ],
            "type": "heatmap"
           }
          ],
          "heatmapgl": [
           {
            "colorbar": {
             "outlinewidth": 0,
             "ticks": ""
            },
            "colorscale": [
             [
              0,
              "#0d0887"
             ],
             [
              0.1111111111111111,
              "#46039f"
             ],
             [
              0.2222222222222222,
              "#7201a8"
             ],
             [
              0.3333333333333333,
              "#9c179e"
             ],
             [
              0.4444444444444444,
              "#bd3786"
             ],
             [
              0.5555555555555556,
              "#d8576b"
             ],
             [
              0.6666666666666666,
              "#ed7953"
             ],
             [
              0.7777777777777778,
              "#fb9f3a"
             ],
             [
              0.8888888888888888,
              "#fdca26"
             ],
             [
              1,
              "#f0f921"
             ]
            ],
            "type": "heatmapgl"
           }
          ],
          "histogram": [
           {
            "marker": {
             "pattern": {
              "fillmode": "overlay",
              "size": 10,
              "solidity": 0.2
             }
            },
            "type": "histogram"
           }
          ],
          "histogram2d": [
           {
            "colorbar": {
             "outlinewidth": 0,
             "ticks": ""
            },
            "colorscale": [
             [
              0,
              "#0d0887"
             ],
             [
              0.1111111111111111,
              "#46039f"
             ],
             [
              0.2222222222222222,
              "#7201a8"
             ],
             [
              0.3333333333333333,
              "#9c179e"
             ],
             [
              0.4444444444444444,
              "#bd3786"
             ],
             [
              0.5555555555555556,
              "#d8576b"
             ],
             [
              0.6666666666666666,
              "#ed7953"
             ],
             [
              0.7777777777777778,
              "#fb9f3a"
             ],
             [
              0.8888888888888888,
              "#fdca26"
             ],
             [
              1,
              "#f0f921"
             ]
            ],
            "type": "histogram2d"
           }
          ],
          "histogram2dcontour": [
           {
            "colorbar": {
             "outlinewidth": 0,
             "ticks": ""
            },
            "colorscale": [
             [
              0,
              "#0d0887"
             ],
             [
              0.1111111111111111,
              "#46039f"
             ],
             [
              0.2222222222222222,
              "#7201a8"
             ],
             [
              0.3333333333333333,
              "#9c179e"
             ],
             [
              0.4444444444444444,
              "#bd3786"
             ],
             [
              0.5555555555555556,
              "#d8576b"
             ],
             [
              0.6666666666666666,
              "#ed7953"
             ],
             [
              0.7777777777777778,
              "#fb9f3a"
             ],
             [
              0.8888888888888888,
              "#fdca26"
             ],
             [
              1,
              "#f0f921"
             ]
            ],
            "type": "histogram2dcontour"
           }
          ],
          "mesh3d": [
           {
            "colorbar": {
             "outlinewidth": 0,
             "ticks": ""
            },
            "type": "mesh3d"
           }
          ],
          "parcoords": [
           {
            "line": {
             "colorbar": {
              "outlinewidth": 0,
              "ticks": ""
             }
            },
            "type": "parcoords"
           }
          ],
          "pie": [
           {
            "automargin": true,
            "type": "pie"
           }
          ],
          "scatter": [
           {
            "fillpattern": {
             "fillmode": "overlay",
             "size": 10,
             "solidity": 0.2
            },
            "type": "scatter"
           }
          ],
          "scatter3d": [
           {
            "line": {
             "colorbar": {
              "outlinewidth": 0,
              "ticks": ""
             }
            },
            "marker": {
             "colorbar": {
              "outlinewidth": 0,
              "ticks": ""
             }
            },
            "type": "scatter3d"
           }
          ],
          "scattercarpet": [
           {
            "marker": {
             "colorbar": {
              "outlinewidth": 0,
              "ticks": ""
             }
            },
            "type": "scattercarpet"
           }
          ],
          "scattergeo": [
           {
            "marker": {
             "colorbar": {
              "outlinewidth": 0,
              "ticks": ""
             }
            },
            "type": "scattergeo"
           }
          ],
          "scattergl": [
           {
            "marker": {
             "colorbar": {
              "outlinewidth": 0,
              "ticks": ""
             }
            },
            "type": "scattergl"
           }
          ],
          "scattermapbox": [
           {
            "marker": {
             "colorbar": {
              "outlinewidth": 0,
              "ticks": ""
             }
            },
            "type": "scattermapbox"
           }
          ],
          "scatterpolar": [
           {
            "marker": {
             "colorbar": {
              "outlinewidth": 0,
              "ticks": ""
             }
            },
            "type": "scatterpolar"
           }
          ],
          "scatterpolargl": [
           {
            "marker": {
             "colorbar": {
              "outlinewidth": 0,
              "ticks": ""
             }
            },
            "type": "scatterpolargl"
           }
          ],
          "scatterternary": [
           {
            "marker": {
             "colorbar": {
              "outlinewidth": 0,
              "ticks": ""
             }
            },
            "type": "scatterternary"
           }
          ],
          "surface": [
           {
            "colorbar": {
             "outlinewidth": 0,
             "ticks": ""
            },
            "colorscale": [
             [
              0,
              "#0d0887"
             ],
             [
              0.1111111111111111,
              "#46039f"
             ],
             [
              0.2222222222222222,
              "#7201a8"
             ],
             [
              0.3333333333333333,
              "#9c179e"
             ],
             [
              0.4444444444444444,
              "#bd3786"
             ],
             [
              0.5555555555555556,
              "#d8576b"
             ],
             [
              0.6666666666666666,
              "#ed7953"
             ],
             [
              0.7777777777777778,
              "#fb9f3a"
             ],
             [
              0.8888888888888888,
              "#fdca26"
             ],
             [
              1,
              "#f0f921"
             ]
            ],
            "type": "surface"
           }
          ],
          "table": [
           {
            "cells": {
             "fill": {
              "color": "#EBF0F8"
             },
             "line": {
              "color": "white"
             }
            },
            "header": {
             "fill": {
              "color": "#C8D4E3"
             },
             "line": {
              "color": "white"
             }
            },
            "type": "table"
           }
          ]
         },
         "layout": {
          "annotationdefaults": {
           "arrowcolor": "#2a3f5f",
           "arrowhead": 0,
           "arrowwidth": 1
          },
          "autotypenumbers": "strict",
          "coloraxis": {
           "colorbar": {
            "outlinewidth": 0,
            "ticks": ""
           }
          },
          "colorscale": {
           "diverging": [
            [
             0,
             "#8e0152"
            ],
            [
             0.1,
             "#c51b7d"
            ],
            [
             0.2,
             "#de77ae"
            ],
            [
             0.3,
             "#f1b6da"
            ],
            [
             0.4,
             "#fde0ef"
            ],
            [
             0.5,
             "#f7f7f7"
            ],
            [
             0.6,
             "#e6f5d0"
            ],
            [
             0.7,
             "#b8e186"
            ],
            [
             0.8,
             "#7fbc41"
            ],
            [
             0.9,
             "#4d9221"
            ],
            [
             1,
             "#276419"
            ]
           ],
           "sequential": [
            [
             0,
             "#0d0887"
            ],
            [
             0.1111111111111111,
             "#46039f"
            ],
            [
             0.2222222222222222,
             "#7201a8"
            ],
            [
             0.3333333333333333,
             "#9c179e"
            ],
            [
             0.4444444444444444,
             "#bd3786"
            ],
            [
             0.5555555555555556,
             "#d8576b"
            ],
            [
             0.6666666666666666,
             "#ed7953"
            ],
            [
             0.7777777777777778,
             "#fb9f3a"
            ],
            [
             0.8888888888888888,
             "#fdca26"
            ],
            [
             1,
             "#f0f921"
            ]
           ],
           "sequentialminus": [
            [
             0,
             "#0d0887"
            ],
            [
             0.1111111111111111,
             "#46039f"
            ],
            [
             0.2222222222222222,
             "#7201a8"
            ],
            [
             0.3333333333333333,
             "#9c179e"
            ],
            [
             0.4444444444444444,
             "#bd3786"
            ],
            [
             0.5555555555555556,
             "#d8576b"
            ],
            [
             0.6666666666666666,
             "#ed7953"
            ],
            [
             0.7777777777777778,
             "#fb9f3a"
            ],
            [
             0.8888888888888888,
             "#fdca26"
            ],
            [
             1,
             "#f0f921"
            ]
           ]
          },
          "colorway": [
           "#636efa",
           "#EF553B",
           "#00cc96",
           "#ab63fa",
           "#FFA15A",
           "#19d3f3",
           "#FF6692",
           "#B6E880",
           "#FF97FF",
           "#FECB52"
          ],
          "font": {
           "color": "#2a3f5f"
          },
          "geo": {
           "bgcolor": "white",
           "lakecolor": "white",
           "landcolor": "#E5ECF6",
           "showlakes": true,
           "showland": true,
           "subunitcolor": "white"
          },
          "hoverlabel": {
           "align": "left"
          },
          "hovermode": "closest",
          "mapbox": {
           "style": "light"
          },
          "paper_bgcolor": "white",
          "plot_bgcolor": "#E5ECF6",
          "polar": {
           "angularaxis": {
            "gridcolor": "white",
            "linecolor": "white",
            "ticks": ""
           },
           "bgcolor": "#E5ECF6",
           "radialaxis": {
            "gridcolor": "white",
            "linecolor": "white",
            "ticks": ""
           }
          },
          "scene": {
           "xaxis": {
            "backgroundcolor": "#E5ECF6",
            "gridcolor": "white",
            "gridwidth": 2,
            "linecolor": "white",
            "showbackground": true,
            "ticks": "",
            "zerolinecolor": "white"
           },
           "yaxis": {
            "backgroundcolor": "#E5ECF6",
            "gridcolor": "white",
            "gridwidth": 2,
            "linecolor": "white",
            "showbackground": true,
            "ticks": "",
            "zerolinecolor": "white"
           },
           "zaxis": {
            "backgroundcolor": "#E5ECF6",
            "gridcolor": "white",
            "gridwidth": 2,
            "linecolor": "white",
            "showbackground": true,
            "ticks": "",
            "zerolinecolor": "white"
           }
          },
          "shapedefaults": {
           "line": {
            "color": "#2a3f5f"
           }
          },
          "ternary": {
           "aaxis": {
            "gridcolor": "white",
            "linecolor": "white",
            "ticks": ""
           },
           "baxis": {
            "gridcolor": "white",
            "linecolor": "white",
            "ticks": ""
           },
           "bgcolor": "#E5ECF6",
           "caxis": {
            "gridcolor": "white",
            "linecolor": "white",
            "ticks": ""
           }
          },
          "title": {
           "x": 0.05
          },
          "xaxis": {
           "automargin": true,
           "gridcolor": "white",
           "linecolor": "white",
           "ticks": "",
           "title": {
            "standoff": 15
           },
           "zerolinecolor": "white",
           "zerolinewidth": 2
          },
          "yaxis": {
           "automargin": true,
           "gridcolor": "white",
           "linecolor": "white",
           "ticks": "",
           "title": {
            "standoff": 15
           },
           "zerolinecolor": "white",
           "zerolinewidth": 2
          }
         }
        },
        "title": {
         "text": "Primary Causes of Flight Delays (Mean Delays) on Tue"
        }
       }
      },
      "text/html": [
       "<div>                            <div id=\"64b25db0-de5e-4781-93b7-8f9a122ed242\" class=\"plotly-graph-div\" style=\"height:525px; width:100%;\"></div>            <script type=\"text/javascript\">                require([\"plotly\"], function(Plotly) {                    window.PLOTLYENV=window.PLOTLYENV || {};                                    if (document.getElementById(\"64b25db0-de5e-4781-93b7-8f9a122ed242\")) {                    Plotly.newPlot(                        \"64b25db0-de5e-4781-93b7-8f9a122ed242\",                        [{\"domain\":{\"x\":[0.0,1.0],\"y\":[0.0,1.0]},\"hovertemplate\":\"cause=%{label}<br>mean_delays=%{value}<extra></extra>\",\"labels\":[\"mins_late_delay_code_e_carrier\",\"mins_late_delay_code_i_late_arr_flight\",\"mins_late_delay_code_g_nas\",\"mins_late_delay_code_f_weather\",\"mins_late_delay_code_h_security\"],\"legendgroup\":\"\",\"name\":\"\",\"showlegend\":true,\"values\":[4.47,3.828,1.698,0.482,0.02],\"type\":\"pie\"}],                        {\"template\":{\"data\":{\"histogram2dcontour\":[{\"type\":\"histogram2dcontour\",\"colorbar\":{\"outlinewidth\":0,\"ticks\":\"\"},\"colorscale\":[[0.0,\"#0d0887\"],[0.1111111111111111,\"#46039f\"],[0.2222222222222222,\"#7201a8\"],[0.3333333333333333,\"#9c179e\"],[0.4444444444444444,\"#bd3786\"],[0.5555555555555556,\"#d8576b\"],[0.6666666666666666,\"#ed7953\"],[0.7777777777777778,\"#fb9f3a\"],[0.8888888888888888,\"#fdca26\"],[1.0,\"#f0f921\"]]}],\"choropleth\":[{\"type\":\"choropleth\",\"colorbar\":{\"outlinewidth\":0,\"ticks\":\"\"}}],\"histogram2d\":[{\"type\":\"histogram2d\",\"colorbar\":{\"outlinewidth\":0,\"ticks\":\"\"},\"colorscale\":[[0.0,\"#0d0887\"],[0.1111111111111111,\"#46039f\"],[0.2222222222222222,\"#7201a8\"],[0.3333333333333333,\"#9c179e\"],[0.4444444444444444,\"#bd3786\"],[0.5555555555555556,\"#d8576b\"],[0.6666666666666666,\"#ed7953\"],[0.7777777777777778,\"#fb9f3a\"],[0.8888888888888888,\"#fdca26\"],[1.0,\"#f0f921\"]]}],\"heatmap\":[{\"type\":\"heatmap\",\"colorbar\":{\"outlinewidth\":0,\"ticks\":\"\"},\"colorscale\":[[0.0,\"#0d0887\"],[0.1111111111111111,\"#46039f\"],[0.2222222222222222,\"#7201a8\"],[0.3333333333333333,\"#9c179e\"],[0.4444444444444444,\"#bd3786\"],[0.5555555555555556,\"#d8576b\"],[0.6666666666666666,\"#ed7953\"],[0.7777777777777778,\"#fb9f3a\"],[0.8888888888888888,\"#fdca26\"],[1.0,\"#f0f921\"]]}],\"heatmapgl\":[{\"type\":\"heatmapgl\",\"colorbar\":{\"outlinewidth\":0,\"ticks\":\"\"},\"colorscale\":[[0.0,\"#0d0887\"],[0.1111111111111111,\"#46039f\"],[0.2222222222222222,\"#7201a8\"],[0.3333333333333333,\"#9c179e\"],[0.4444444444444444,\"#bd3786\"],[0.5555555555555556,\"#d8576b\"],[0.6666666666666666,\"#ed7953\"],[0.7777777777777778,\"#fb9f3a\"],[0.8888888888888888,\"#fdca26\"],[1.0,\"#f0f921\"]]}],\"contourcarpet\":[{\"type\":\"contourcarpet\",\"colorbar\":{\"outlinewidth\":0,\"ticks\":\"\"}}],\"contour\":[{\"type\":\"contour\",\"colorbar\":{\"outlinewidth\":0,\"ticks\":\"\"},\"colorscale\":[[0.0,\"#0d0887\"],[0.1111111111111111,\"#46039f\"],[0.2222222222222222,\"#7201a8\"],[0.3333333333333333,\"#9c179e\"],[0.4444444444444444,\"#bd3786\"],[0.5555555555555556,\"#d8576b\"],[0.6666666666666666,\"#ed7953\"],[0.7777777777777778,\"#fb9f3a\"],[0.8888888888888888,\"#fdca26\"],[1.0,\"#f0f921\"]]}],\"surface\":[{\"type\":\"surface\",\"colorbar\":{\"outlinewidth\":0,\"ticks\":\"\"},\"colorscale\":[[0.0,\"#0d0887\"],[0.1111111111111111,\"#46039f\"],[0.2222222222222222,\"#7201a8\"],[0.3333333333333333,\"#9c179e\"],[0.4444444444444444,\"#bd3786\"],[0.5555555555555556,\"#d8576b\"],[0.6666666666666666,\"#ed7953\"],[0.7777777777777778,\"#fb9f3a\"],[0.8888888888888888,\"#fdca26\"],[1.0,\"#f0f921\"]]}],\"mesh3d\":[{\"type\":\"mesh3d\",\"colorbar\":{\"outlinewidth\":0,\"ticks\":\"\"}}],\"scatter\":[{\"fillpattern\":{\"fillmode\":\"overlay\",\"size\":10,\"solidity\":0.2},\"type\":\"scatter\"}],\"parcoords\":[{\"type\":\"parcoords\",\"line\":{\"colorbar\":{\"outlinewidth\":0,\"ticks\":\"\"}}}],\"scatterpolargl\":[{\"type\":\"scatterpolargl\",\"marker\":{\"colorbar\":{\"outlinewidth\":0,\"ticks\":\"\"}}}],\"bar\":[{\"error_x\":{\"color\":\"#2a3f5f\"},\"error_y\":{\"color\":\"#2a3f5f\"},\"marker\":{\"line\":{\"color\":\"#E5ECF6\",\"width\":0.5},\"pattern\":{\"fillmode\":\"overlay\",\"size\":10,\"solidity\":0.2}},\"type\":\"bar\"}],\"scattergeo\":[{\"type\":\"scattergeo\",\"marker\":{\"colorbar\":{\"outlinewidth\":0,\"ticks\":\"\"}}}],\"scatterpolar\":[{\"type\":\"scatterpolar\",\"marker\":{\"colorbar\":{\"outlinewidth\":0,\"ticks\":\"\"}}}],\"histogram\":[{\"marker\":{\"pattern\":{\"fillmode\":\"overlay\",\"size\":10,\"solidity\":0.2}},\"type\":\"histogram\"}],\"scattergl\":[{\"type\":\"scattergl\",\"marker\":{\"colorbar\":{\"outlinewidth\":0,\"ticks\":\"\"}}}],\"scatter3d\":[{\"type\":\"scatter3d\",\"line\":{\"colorbar\":{\"outlinewidth\":0,\"ticks\":\"\"}},\"marker\":{\"colorbar\":{\"outlinewidth\":0,\"ticks\":\"\"}}}],\"scattermapbox\":[{\"type\":\"scattermapbox\",\"marker\":{\"colorbar\":{\"outlinewidth\":0,\"ticks\":\"\"}}}],\"scatterternary\":[{\"type\":\"scatterternary\",\"marker\":{\"colorbar\":{\"outlinewidth\":0,\"ticks\":\"\"}}}],\"scattercarpet\":[{\"type\":\"scattercarpet\",\"marker\":{\"colorbar\":{\"outlinewidth\":0,\"ticks\":\"\"}}}],\"carpet\":[{\"aaxis\":{\"endlinecolor\":\"#2a3f5f\",\"gridcolor\":\"white\",\"linecolor\":\"white\",\"minorgridcolor\":\"white\",\"startlinecolor\":\"#2a3f5f\"},\"baxis\":{\"endlinecolor\":\"#2a3f5f\",\"gridcolor\":\"white\",\"linecolor\":\"white\",\"minorgridcolor\":\"white\",\"startlinecolor\":\"#2a3f5f\"},\"type\":\"carpet\"}],\"table\":[{\"cells\":{\"fill\":{\"color\":\"#EBF0F8\"},\"line\":{\"color\":\"white\"}},\"header\":{\"fill\":{\"color\":\"#C8D4E3\"},\"line\":{\"color\":\"white\"}},\"type\":\"table\"}],\"barpolar\":[{\"marker\":{\"line\":{\"color\":\"#E5ECF6\",\"width\":0.5},\"pattern\":{\"fillmode\":\"overlay\",\"size\":10,\"solidity\":0.2}},\"type\":\"barpolar\"}],\"pie\":[{\"automargin\":true,\"type\":\"pie\"}]},\"layout\":{\"autotypenumbers\":\"strict\",\"colorway\":[\"#636efa\",\"#EF553B\",\"#00cc96\",\"#ab63fa\",\"#FFA15A\",\"#19d3f3\",\"#FF6692\",\"#B6E880\",\"#FF97FF\",\"#FECB52\"],\"font\":{\"color\":\"#2a3f5f\"},\"hovermode\":\"closest\",\"hoverlabel\":{\"align\":\"left\"},\"paper_bgcolor\":\"white\",\"plot_bgcolor\":\"#E5ECF6\",\"polar\":{\"bgcolor\":\"#E5ECF6\",\"angularaxis\":{\"gridcolor\":\"white\",\"linecolor\":\"white\",\"ticks\":\"\"},\"radialaxis\":{\"gridcolor\":\"white\",\"linecolor\":\"white\",\"ticks\":\"\"}},\"ternary\":{\"bgcolor\":\"#E5ECF6\",\"aaxis\":{\"gridcolor\":\"white\",\"linecolor\":\"white\",\"ticks\":\"\"},\"baxis\":{\"gridcolor\":\"white\",\"linecolor\":\"white\",\"ticks\":\"\"},\"caxis\":{\"gridcolor\":\"white\",\"linecolor\":\"white\",\"ticks\":\"\"}},\"coloraxis\":{\"colorbar\":{\"outlinewidth\":0,\"ticks\":\"\"}},\"colorscale\":{\"sequential\":[[0.0,\"#0d0887\"],[0.1111111111111111,\"#46039f\"],[0.2222222222222222,\"#7201a8\"],[0.3333333333333333,\"#9c179e\"],[0.4444444444444444,\"#bd3786\"],[0.5555555555555556,\"#d8576b\"],[0.6666666666666666,\"#ed7953\"],[0.7777777777777778,\"#fb9f3a\"],[0.8888888888888888,\"#fdca26\"],[1.0,\"#f0f921\"]],\"sequentialminus\":[[0.0,\"#0d0887\"],[0.1111111111111111,\"#46039f\"],[0.2222222222222222,\"#7201a8\"],[0.3333333333333333,\"#9c179e\"],[0.4444444444444444,\"#bd3786\"],[0.5555555555555556,\"#d8576b\"],[0.6666666666666666,\"#ed7953\"],[0.7777777777777778,\"#fb9f3a\"],[0.8888888888888888,\"#fdca26\"],[1.0,\"#f0f921\"]],\"diverging\":[[0,\"#8e0152\"],[0.1,\"#c51b7d\"],[0.2,\"#de77ae\"],[0.3,\"#f1b6da\"],[0.4,\"#fde0ef\"],[0.5,\"#f7f7f7\"],[0.6,\"#e6f5d0\"],[0.7,\"#b8e186\"],[0.8,\"#7fbc41\"],[0.9,\"#4d9221\"],[1,\"#276419\"]]},\"xaxis\":{\"gridcolor\":\"white\",\"linecolor\":\"white\",\"ticks\":\"\",\"title\":{\"standoff\":15},\"zerolinecolor\":\"white\",\"automargin\":true,\"zerolinewidth\":2},\"yaxis\":{\"gridcolor\":\"white\",\"linecolor\":\"white\",\"ticks\":\"\",\"title\":{\"standoff\":15},\"zerolinecolor\":\"white\",\"automargin\":true,\"zerolinewidth\":2},\"scene\":{\"xaxis\":{\"backgroundcolor\":\"#E5ECF6\",\"gridcolor\":\"white\",\"linecolor\":\"white\",\"showbackground\":true,\"ticks\":\"\",\"zerolinecolor\":\"white\",\"gridwidth\":2},\"yaxis\":{\"backgroundcolor\":\"#E5ECF6\",\"gridcolor\":\"white\",\"linecolor\":\"white\",\"showbackground\":true,\"ticks\":\"\",\"zerolinecolor\":\"white\",\"gridwidth\":2},\"zaxis\":{\"backgroundcolor\":\"#E5ECF6\",\"gridcolor\":\"white\",\"linecolor\":\"white\",\"showbackground\":true,\"ticks\":\"\",\"zerolinecolor\":\"white\",\"gridwidth\":2}},\"shapedefaults\":{\"line\":{\"color\":\"#2a3f5f\"}},\"annotationdefaults\":{\"arrowcolor\":\"#2a3f5f\",\"arrowhead\":0,\"arrowwidth\":1},\"geo\":{\"bgcolor\":\"white\",\"landcolor\":\"#E5ECF6\",\"subunitcolor\":\"white\",\"showland\":true,\"showlakes\":true,\"lakecolor\":\"white\"},\"title\":{\"x\":0.05},\"mapbox\":{\"style\":\"light\"}}},\"legend\":{\"tracegroupgap\":0},\"title\":{\"text\":\"Primary Causes of Flight Delays (Mean Delays) on Tue\"}},                        {\"responsive\": true}                    ).then(function(){\n",
       "                            \n",
       "var gd = document.getElementById('64b25db0-de5e-4781-93b7-8f9a122ed242');\n",
       "var x = new MutationObserver(function (mutations, observer) {{\n",
       "        var display = window.getComputedStyle(gd).display;\n",
       "        if (!display || display === 'none') {{\n",
       "            console.log([gd, 'removed!']);\n",
       "            Plotly.purge(gd);\n",
       "            observer.disconnect();\n",
       "        }}\n",
       "}});\n",
       "\n",
       "// Listen for the removal of the full notebook cells\n",
       "var notebookContainer = gd.closest('#notebook-container');\n",
       "if (notebookContainer) {{\n",
       "    x.observe(notebookContainer, {childList: true});\n",
       "}}\n",
       "\n",
       "// Listen for the clearing of the current output cell\n",
       "var outputEl = gd.closest('.output');\n",
       "if (outputEl) {{\n",
       "    x.observe(outputEl, {childList: true});\n",
       "}}\n",
       "\n",
       "                        })                };                });            </script>        </div>"
      ]
     },
     "metadata": {},
     "output_type": "display_data"
    }
   ],
   "source": [
    "import pandas as pd\n",
    "import plotly.express as px\n",
    "\n",
    "# Use your dataset as a DataFrame\n",
    "df = airline_final\n",
    "\n",
    "def generate_pie_chart(day):\n",
    "    # Filter the dataset based on the given day\n",
    "    filtered_df = df[df['day_week_name'] == day]\n",
    "\n",
    "    # Calculate the mean delays for each cause and round to three decimal places\n",
    "    causes = ['mins_late_delay_code_e_carrier', 'mins_late_delay_code_f_weather', 'mins_late_delay_code_g_nas', 'mins_late_delay_code_h_security', 'mins_late_delay_code_i_late_arr_flight']\n",
    "    mean_delays = filtered_df[causes].mean().round(3)\n",
    "\n",
    "    # Create a new DataFrame for the pie chart\n",
    "    delay_data = pd.DataFrame({'cause': causes, 'mean_delays': mean_delays}).sort_values(by='mean_delays', ascending=False)\n",
    "\n",
    "    # Create a pie chart using Plotly Express\n",
    "    fig = px.pie(delay_data, values='mean_delays', names='cause', title=f'Primary Causes of Flight Delays (Mean Delays) on {day}')\n",
    "    fig.show()\n",
    "\n",
    "# Generate the pie chart for a specific day, e.g., 'Mon' for Monday\n",
    "generate_pie_chart('Tue')\n"
   ]
  },
  {
   "cell_type": "markdown",
   "id": "de7a741d",
   "metadata": {},
   "source": [
    "### Airports with the Highest Average Delays"
   ]
  },
  {
   "cell_type": "code",
   "execution_count": 51,
   "id": "bac2cc38",
   "metadata": {},
   "outputs": [
    {
     "data": {
      "application/vnd.plotly.v1+json": {
       "config": {
        "plotlyServerURL": "https://plot.ly"
       },
       "data": [
        {
         "hovertemplate": "dept_airport=SGF<br>average_delay=%{marker.size}<br>latitude=%{lat}<br>longitude=%{lon}<extra></extra>",
         "lat": [
          37.2444
         ],
         "legendgroup": "SGF",
         "lon": [
          -93.3887
         ],
         "marker": {
          "color": "#636efa",
          "size": [
           401
          ],
          "sizemode": "area",
          "sizeref": 1.0025
         },
         "mode": "markers",
         "name": "SGF",
         "showlegend": true,
         "subplot": "mapbox",
         "type": "scattermapbox"
        },
        {
         "hovertemplate": "dept_airport=TUL<br>average_delay=%{marker.size}<br>latitude=%{lat}<br>longitude=%{lon}<extra></extra>",
         "lat": [
          36.1984
         ],
         "legendgroup": "TUL",
         "lon": [
          -95.8881
         ],
         "marker": {
          "color": "#EF553B",
          "size": [
           364
          ],
          "sizemode": "area",
          "sizeref": 1.0025
         },
         "mode": "markers",
         "name": "TUL",
         "showlegend": true,
         "subplot": "mapbox",
         "type": "scattermapbox"
        },
        {
         "hovertemplate": "dept_airport=RKS<br>average_delay=%{marker.size}<br>latitude=%{lat}<br>longitude=%{lon}<extra></extra>",
         "lat": [
          41.5942
         ],
         "legendgroup": "RKS",
         "lon": [
          -109.0659
         ],
         "marker": {
          "color": "#00cc96",
          "size": [
           338
          ],
          "sizemode": "area",
          "sizeref": 1.0025
         },
         "mode": "markers",
         "name": "RKS",
         "showlegend": true,
         "subplot": "mapbox",
         "type": "scattermapbox"
        },
        {
         "hovertemplate": "dept_airport=AGS<br>average_delay=%{marker.size}<br>latitude=%{lat}<br>longitude=%{lon}<extra></extra>",
         "lat": [
          33.369
         ],
         "legendgroup": "AGS",
         "lon": [
          -81.9644
         ],
         "marker": {
          "color": "#ab63fa",
          "size": [
           312
          ],
          "sizemode": "area",
          "sizeref": 1.0025
         },
         "mode": "markers",
         "name": "AGS",
         "showlegend": true,
         "subplot": "mapbox",
         "type": "scattermapbox"
        },
        {
         "hovertemplate": "dept_airport=AEX<br>average_delay=%{marker.size}<br>latitude=%{lat}<br>longitude=%{lon}<extra></extra>",
         "lat": [
          31.3274
         ],
         "legendgroup": "AEX",
         "lon": [
          -92.5486
         ],
         "marker": {
          "color": "#FFA15A",
          "size": [
           266
          ],
          "sizemode": "area",
          "sizeref": 1.0025
         },
         "mode": "markers",
         "name": "AEX",
         "showlegend": true,
         "subplot": "mapbox",
         "type": "scattermapbox"
        },
        {
         "hovertemplate": "dept_airport=STT<br>average_delay=%{marker.size}<br>latitude=%{lat}<br>longitude=%{lon}<extra></extra>",
         "lat": [
          18.3373
         ],
         "legendgroup": "STT",
         "lon": [
          -64.9734
         ],
         "marker": {
          "color": "#19d3f3",
          "size": [
           227
          ],
          "sizemode": "area",
          "sizeref": 1.0025
         },
         "mode": "markers",
         "name": "STT",
         "showlegend": true,
         "subplot": "mapbox",
         "type": "scattermapbox"
        },
        {
         "hovertemplate": "dept_airport=CLT<br>average_delay=%{marker.size}<br>latitude=%{lat}<br>longitude=%{lon}<extra></extra>",
         "lat": [
          35.2144
         ],
         "legendgroup": "CLT",
         "lon": [
          80.9473
         ],
         "marker": {
          "color": "#FF6692",
          "size": [
           223
          ],
          "sizemode": "area",
          "sizeref": 1.0025
         },
         "mode": "markers",
         "name": "CLT",
         "showlegend": true,
         "subplot": "mapbox",
         "type": "scattermapbox"
        },
        {
         "hovertemplate": "dept_airport=ALO<br>average_delay=%{marker.size}<br>latitude=%{lat}<br>longitude=%{lon}<extra></extra>",
         "lat": [
          42.5571
         ],
         "legendgroup": "ALO",
         "lon": [
          -92.4003
         ],
         "marker": {
          "color": "#B6E880",
          "size": [
           192
          ],
          "sizemode": "area",
          "sizeref": 1.0025
         },
         "mode": "markers",
         "name": "ALO",
         "showlegend": true,
         "subplot": "mapbox",
         "type": "scattermapbox"
        },
        {
         "hovertemplate": "dept_airport=DSM<br>average_delay=%{marker.size}<br>latitude=%{lat}<br>longitude=%{lon}<extra></extra>",
         "lat": [
          41.5339
         ],
         "legendgroup": "DSM",
         "lon": [
          93.6586
         ],
         "marker": {
          "color": "#FF97FF",
          "size": [
           185
          ],
          "sizemode": "area",
          "sizeref": 1.0025
         },
         "mode": "markers",
         "name": "DSM",
         "showlegend": true,
         "subplot": "mapbox",
         "type": "scattermapbox"
        },
        {
         "hovertemplate": "dept_airport=SDF<br>average_delay=%{marker.size}<br>latitude=%{lat}<br>longitude=%{lon}<extra></extra>",
         "lat": [
          38.1744
         ],
         "legendgroup": "SDF",
         "lon": [
          -85.736
         ],
         "marker": {
          "color": "#FECB52",
          "size": [
           178
          ],
          "sizemode": "area",
          "sizeref": 1.0025
         },
         "mode": "markers",
         "name": "SDF",
         "showlegend": true,
         "subplot": "mapbox",
         "type": "scattermapbox"
        },
        {
         "hovertemplate": "dept_airport=SFB<br>average_delay=%{marker.size}<br>latitude=%{lat}<br>longitude=%{lon}<extra></extra>",
         "lat": [
          28.7776
         ],
         "legendgroup": "SFB",
         "lon": [
          -81.2378
         ],
         "marker": {
          "color": "#636efa",
          "size": [
           135
          ],
          "sizemode": "area",
          "sizeref": 1.0025
         },
         "mode": "markers",
         "name": "SFB",
         "showlegend": true,
         "subplot": "mapbox",
         "type": "scattermapbox"
        },
        {
         "hovertemplate": "dept_airport=ECP<br>average_delay=%{marker.size}<br>latitude=%{lat}<br>longitude=%{lon}<extra></extra>",
         "lat": [
          30.3583
         ],
         "legendgroup": "ECP",
         "lon": [
          85.7956
         ],
         "marker": {
          "color": "#EF553B",
          "size": [
           134
          ],
          "sizemode": "area",
          "sizeref": 1.0025
         },
         "mode": "markers",
         "name": "ECP",
         "showlegend": true,
         "subplot": "mapbox",
         "type": "scattermapbox"
        },
        {
         "hovertemplate": "dept_airport=MKE<br>average_delay=%{marker.size}<br>latitude=%{lat}<br>longitude=%{lon}<extra></extra>",
         "lat": [
          42.9476
         ],
         "legendgroup": "MKE",
         "lon": [
          -87.8966
         ],
         "marker": {
          "color": "#00cc96",
          "size": [
           120
          ],
          "sizemode": "area",
          "sizeref": 1.0025
         },
         "mode": "markers",
         "name": "MKE",
         "showlegend": true,
         "subplot": "mapbox",
         "type": "scattermapbox"
        },
        {
         "hovertemplate": "dept_airport=DAB<br>average_delay=%{marker.size}<br>latitude=%{lat}<br>longitude=%{lon}<extra></extra>",
         "lat": [
          29.1821
         ],
         "legendgroup": "DAB",
         "lon": [
          81.0556
         ],
         "marker": {
          "color": "#ab63fa",
          "size": [
           112
          ],
          "sizemode": "area",
          "sizeref": 1.0025
         },
         "mode": "markers",
         "name": "DAB",
         "showlegend": true,
         "subplot": "mapbox",
         "type": "scattermapbox"
        },
        {
         "hovertemplate": "dept_airport=MVY<br>average_delay=%{marker.size}<br>latitude=%{lat}<br>longitude=%{lon}<extra></extra>",
         "lat": [
          41.3931
         ],
         "legendgroup": "MVY",
         "lon": [
          -70.6143
         ],
         "marker": {
          "color": "#FFA15A",
          "size": [
           94
          ],
          "sizemode": "area",
          "sizeref": 1.0025
         },
         "mode": "markers",
         "name": "MVY",
         "showlegend": true,
         "subplot": "mapbox",
         "type": "scattermapbox"
        },
        {
         "hovertemplate": "dept_airport=EWN<br>average_delay=%{marker.size}<br>latitude=%{lat}<br>longitude=%{lon}<extra></extra>",
         "lat": [
          35.0731
         ],
         "legendgroup": "EWN",
         "lon": [
          77.0439
         ],
         "marker": {
          "color": "#19d3f3",
          "size": [
           92
          ],
          "sizemode": "area",
          "sizeref": 1.0025
         },
         "mode": "markers",
         "name": "EWN",
         "showlegend": true,
         "subplot": "mapbox",
         "type": "scattermapbox"
        },
        {
         "hovertemplate": "dept_airport=ALW<br>average_delay=%{marker.size}<br>latitude=%{lat}<br>longitude=%{lon}<extra></extra>",
         "lat": [
          46.0949
         ],
         "legendgroup": "ALW",
         "lon": [
          -118.288
         ],
         "marker": {
          "color": "#FF6692",
          "size": [
           90
          ],
          "sizemode": "area",
          "sizeref": 1.0025
         },
         "mode": "markers",
         "name": "ALW",
         "showlegend": true,
         "subplot": "mapbox",
         "type": "scattermapbox"
        },
        {
         "hovertemplate": "dept_airport=STX<br>average_delay=%{marker.size}<br>latitude=%{lat}<br>longitude=%{lon}<extra></extra>",
         "lat": [
          17.7019
         ],
         "legendgroup": "STX",
         "lon": [
          -64.7986
         ],
         "marker": {
          "color": "#B6E880",
          "size": [
           89
          ],
          "sizemode": "area",
          "sizeref": 1.0025
         },
         "mode": "markers",
         "name": "STX",
         "showlegend": true,
         "subplot": "mapbox",
         "type": "scattermapbox"
        },
        {
         "hovertemplate": "dept_airport=MQT<br>average_delay=%{marker.size}<br>latitude=%{lat}<br>longitude=%{lon}<extra></extra>",
         "lat": [
          46.3536
         ],
         "legendgroup": "MQT",
         "lon": [
          -87.3954
         ],
         "marker": {
          "color": "#FF97FF",
          "size": [
           87
          ],
          "sizemode": "area",
          "sizeref": 1.0025
         },
         "mode": "markers",
         "name": "MQT",
         "showlegend": true,
         "subplot": "mapbox",
         "type": "scattermapbox"
        },
        {
         "hovertemplate": "dept_airport=LBL<br>average_delay=%{marker.size}<br>latitude=%{lat}<br>longitude=%{lon}<extra></extra>",
         "lat": [
          37.0442
         ],
         "legendgroup": "LBL",
         "lon": [
          -100.959
         ],
         "marker": {
          "color": "#FECB52",
          "size": [
           84
          ],
          "sizemode": "area",
          "sizeref": 1.0025
         },
         "mode": "markers",
         "name": "LBL",
         "showlegend": true,
         "subplot": "mapbox",
         "type": "scattermapbox"
        },
        {
         "hovertemplate": "dept_airport=BUR<br>average_delay=%{marker.size}<br>latitude=%{lat}<br>longitude=%{lon}<extra></extra>",
         "lat": [
          34.2007
         ],
         "legendgroup": "BUR",
         "lon": [
          -118.359
         ],
         "marker": {
          "color": "#636efa",
          "size": [
           80
          ],
          "sizemode": "area",
          "sizeref": 1.0025
         },
         "mode": "markers",
         "name": "BUR",
         "showlegend": true,
         "subplot": "mapbox",
         "type": "scattermapbox"
        },
        {
         "hovertemplate": "dept_airport=SBA<br>average_delay=%{marker.size}<br>latitude=%{lat}<br>longitude=%{lon}<extra></extra>",
         "lat": [
          34.4252
         ],
         "legendgroup": "SBA",
         "lon": [
          -119.8403
         ],
         "marker": {
          "color": "#EF553B",
          "size": [
           79
          ],
          "sizemode": "area",
          "sizeref": 1.0025
         },
         "mode": "markers",
         "name": "SBA",
         "showlegend": true,
         "subplot": "mapbox",
         "type": "scattermapbox"
        },
        {
         "hovertemplate": "dept_airport=HOU<br>average_delay=%{marker.size}<br>latitude=%{lat}<br>longitude=%{lon}<extra></extra>",
         "lat": [
          29.6454
         ],
         "legendgroup": "HOU",
         "lon": [
          95.2789
         ],
         "marker": {
          "color": "#00cc96",
          "size": [
           78
          ],
          "sizemode": "area",
          "sizeref": 1.0025
         },
         "mode": "markers",
         "name": "HOU",
         "showlegend": true,
         "subplot": "mapbox",
         "type": "scattermapbox"
        },
        {
         "hovertemplate": "dept_airport=MGM<br>average_delay=%{marker.size}<br>latitude=%{lat}<br>longitude=%{lon}<extra></extra>",
         "lat": [
          32.3006
         ],
         "legendgroup": "MGM",
         "lon": [
          -86.3939
         ],
         "marker": {
          "color": "#ab63fa",
          "size": [
           72
          ],
          "sizemode": "area",
          "sizeref": 1.0025
         },
         "mode": "markers",
         "name": "MGM",
         "showlegend": true,
         "subplot": "mapbox",
         "type": "scattermapbox"
        },
        {
         "hovertemplate": "dept_airport=CIU<br>average_delay=%{marker.size}<br>latitude=%{lat}<br>longitude=%{lon}<extra></extra>",
         "lat": [
          46.2508
         ],
         "legendgroup": "CIU",
         "lon": [
          84.4724
         ],
         "marker": {
          "color": "#FFA15A",
          "size": [
           71
          ],
          "sizemode": "area",
          "sizeref": 1.0025
         },
         "mode": "markers",
         "name": "CIU",
         "showlegend": true,
         "subplot": "mapbox",
         "type": "scattermapbox"
        }
       ],
       "layout": {
        "legend": {
         "itemsizing": "constant",
         "title": {
          "text": "dept_airport"
         },
         "tracegroupgap": 0
        },
        "mapbox": {
         "center": {
          "lat": 35.49198400000001,
          "lon": -42.139839999999985
         },
         "domain": {
          "x": [
           0,
           1
          ],
          "y": [
           0,
           1
          ]
         },
         "style": "open-street-map",
         "zoom": 1
        },
        "margin": {
         "b": 10,
         "l": 0,
         "r": 0,
         "t": 50
        },
        "template": {
         "data": {
          "bar": [
           {
            "error_x": {
             "color": "#2a3f5f"
            },
            "error_y": {
             "color": "#2a3f5f"
            },
            "marker": {
             "line": {
              "color": "#E5ECF6",
              "width": 0.5
             },
             "pattern": {
              "fillmode": "overlay",
              "size": 10,
              "solidity": 0.2
             }
            },
            "type": "bar"
           }
          ],
          "barpolar": [
           {
            "marker": {
             "line": {
              "color": "#E5ECF6",
              "width": 0.5
             },
             "pattern": {
              "fillmode": "overlay",
              "size": 10,
              "solidity": 0.2
             }
            },
            "type": "barpolar"
           }
          ],
          "carpet": [
           {
            "aaxis": {
             "endlinecolor": "#2a3f5f",
             "gridcolor": "white",
             "linecolor": "white",
             "minorgridcolor": "white",
             "startlinecolor": "#2a3f5f"
            },
            "baxis": {
             "endlinecolor": "#2a3f5f",
             "gridcolor": "white",
             "linecolor": "white",
             "minorgridcolor": "white",
             "startlinecolor": "#2a3f5f"
            },
            "type": "carpet"
           }
          ],
          "choropleth": [
           {
            "colorbar": {
             "outlinewidth": 0,
             "ticks": ""
            },
            "type": "choropleth"
           }
          ],
          "contour": [
           {
            "colorbar": {
             "outlinewidth": 0,
             "ticks": ""
            },
            "colorscale": [
             [
              0,
              "#0d0887"
             ],
             [
              0.1111111111111111,
              "#46039f"
             ],
             [
              0.2222222222222222,
              "#7201a8"
             ],
             [
              0.3333333333333333,
              "#9c179e"
             ],
             [
              0.4444444444444444,
              "#bd3786"
             ],
             [
              0.5555555555555556,
              "#d8576b"
             ],
             [
              0.6666666666666666,
              "#ed7953"
             ],
             [
              0.7777777777777778,
              "#fb9f3a"
             ],
             [
              0.8888888888888888,
              "#fdca26"
             ],
             [
              1,
              "#f0f921"
             ]
            ],
            "type": "contour"
           }
          ],
          "contourcarpet": [
           {
            "colorbar": {
             "outlinewidth": 0,
             "ticks": ""
            },
            "type": "contourcarpet"
           }
          ],
          "heatmap": [
           {
            "colorbar": {
             "outlinewidth": 0,
             "ticks": ""
            },
            "colorscale": [
             [
              0,
              "#0d0887"
             ],
             [
              0.1111111111111111,
              "#46039f"
             ],
             [
              0.2222222222222222,
              "#7201a8"
             ],
             [
              0.3333333333333333,
              "#9c179e"
             ],
             [
              0.4444444444444444,
              "#bd3786"
             ],
             [
              0.5555555555555556,
              "#d8576b"
             ],
             [
              0.6666666666666666,
              "#ed7953"
             ],
             [
              0.7777777777777778,
              "#fb9f3a"
             ],
             [
              0.8888888888888888,
              "#fdca26"
             ],
             [
              1,
              "#f0f921"
             ]
            ],
            "type": "heatmap"
           }
          ],
          "heatmapgl": [
           {
            "colorbar": {
             "outlinewidth": 0,
             "ticks": ""
            },
            "colorscale": [
             [
              0,
              "#0d0887"
             ],
             [
              0.1111111111111111,
              "#46039f"
             ],
             [
              0.2222222222222222,
              "#7201a8"
             ],
             [
              0.3333333333333333,
              "#9c179e"
             ],
             [
              0.4444444444444444,
              "#bd3786"
             ],
             [
              0.5555555555555556,
              "#d8576b"
             ],
             [
              0.6666666666666666,
              "#ed7953"
             ],
             [
              0.7777777777777778,
              "#fb9f3a"
             ],
             [
              0.8888888888888888,
              "#fdca26"
             ],
             [
              1,
              "#f0f921"
             ]
            ],
            "type": "heatmapgl"
           }
          ],
          "histogram": [
           {
            "marker": {
             "pattern": {
              "fillmode": "overlay",
              "size": 10,
              "solidity": 0.2
             }
            },
            "type": "histogram"
           }
          ],
          "histogram2d": [
           {
            "colorbar": {
             "outlinewidth": 0,
             "ticks": ""
            },
            "colorscale": [
             [
              0,
              "#0d0887"
             ],
             [
              0.1111111111111111,
              "#46039f"
             ],
             [
              0.2222222222222222,
              "#7201a8"
             ],
             [
              0.3333333333333333,
              "#9c179e"
             ],
             [
              0.4444444444444444,
              "#bd3786"
             ],
             [
              0.5555555555555556,
              "#d8576b"
             ],
             [
              0.6666666666666666,
              "#ed7953"
             ],
             [
              0.7777777777777778,
              "#fb9f3a"
             ],
             [
              0.8888888888888888,
              "#fdca26"
             ],
             [
              1,
              "#f0f921"
             ]
            ],
            "type": "histogram2d"
           }
          ],
          "histogram2dcontour": [
           {
            "colorbar": {
             "outlinewidth": 0,
             "ticks": ""
            },
            "colorscale": [
             [
              0,
              "#0d0887"
             ],
             [
              0.1111111111111111,
              "#46039f"
             ],
             [
              0.2222222222222222,
              "#7201a8"
             ],
             [
              0.3333333333333333,
              "#9c179e"
             ],
             [
              0.4444444444444444,
              "#bd3786"
             ],
             [
              0.5555555555555556,
              "#d8576b"
             ],
             [
              0.6666666666666666,
              "#ed7953"
             ],
             [
              0.7777777777777778,
              "#fb9f3a"
             ],
             [
              0.8888888888888888,
              "#fdca26"
             ],
             [
              1,
              "#f0f921"
             ]
            ],
            "type": "histogram2dcontour"
           }
          ],
          "mesh3d": [
           {
            "colorbar": {
             "outlinewidth": 0,
             "ticks": ""
            },
            "type": "mesh3d"
           }
          ],
          "parcoords": [
           {
            "line": {
             "colorbar": {
              "outlinewidth": 0,
              "ticks": ""
             }
            },
            "type": "parcoords"
           }
          ],
          "pie": [
           {
            "automargin": true,
            "type": "pie"
           }
          ],
          "scatter": [
           {
            "fillpattern": {
             "fillmode": "overlay",
             "size": 10,
             "solidity": 0.2
            },
            "type": "scatter"
           }
          ],
          "scatter3d": [
           {
            "line": {
             "colorbar": {
              "outlinewidth": 0,
              "ticks": ""
             }
            },
            "marker": {
             "colorbar": {
              "outlinewidth": 0,
              "ticks": ""
             }
            },
            "type": "scatter3d"
           }
          ],
          "scattercarpet": [
           {
            "marker": {
             "colorbar": {
              "outlinewidth": 0,
              "ticks": ""
             }
            },
            "type": "scattercarpet"
           }
          ],
          "scattergeo": [
           {
            "marker": {
             "colorbar": {
              "outlinewidth": 0,
              "ticks": ""
             }
            },
            "type": "scattergeo"
           }
          ],
          "scattergl": [
           {
            "marker": {
             "colorbar": {
              "outlinewidth": 0,
              "ticks": ""
             }
            },
            "type": "scattergl"
           }
          ],
          "scattermapbox": [
           {
            "marker": {
             "colorbar": {
              "outlinewidth": 0,
              "ticks": ""
             }
            },
            "type": "scattermapbox"
           }
          ],
          "scatterpolar": [
           {
            "marker": {
             "colorbar": {
              "outlinewidth": 0,
              "ticks": ""
             }
            },
            "type": "scatterpolar"
           }
          ],
          "scatterpolargl": [
           {
            "marker": {
             "colorbar": {
              "outlinewidth": 0,
              "ticks": ""
             }
            },
            "type": "scatterpolargl"
           }
          ],
          "scatterternary": [
           {
            "marker": {
             "colorbar": {
              "outlinewidth": 0,
              "ticks": ""
             }
            },
            "type": "scatterternary"
           }
          ],
          "surface": [
           {
            "colorbar": {
             "outlinewidth": 0,
             "ticks": ""
            },
            "colorscale": [
             [
              0,
              "#0d0887"
             ],
             [
              0.1111111111111111,
              "#46039f"
             ],
             [
              0.2222222222222222,
              "#7201a8"
             ],
             [
              0.3333333333333333,
              "#9c179e"
             ],
             [
              0.4444444444444444,
              "#bd3786"
             ],
             [
              0.5555555555555556,
              "#d8576b"
             ],
             [
              0.6666666666666666,
              "#ed7953"
             ],
             [
              0.7777777777777778,
              "#fb9f3a"
             ],
             [
              0.8888888888888888,
              "#fdca26"
             ],
             [
              1,
              "#f0f921"
             ]
            ],
            "type": "surface"
           }
          ],
          "table": [
           {
            "cells": {
             "fill": {
              "color": "#EBF0F8"
             },
             "line": {
              "color": "white"
             }
            },
            "header": {
             "fill": {
              "color": "#C8D4E3"
             },
             "line": {
              "color": "white"
             }
            },
            "type": "table"
           }
          ]
         },
         "layout": {
          "annotationdefaults": {
           "arrowcolor": "#2a3f5f",
           "arrowhead": 0,
           "arrowwidth": 1
          },
          "autotypenumbers": "strict",
          "coloraxis": {
           "colorbar": {
            "outlinewidth": 0,
            "ticks": ""
           }
          },
          "colorscale": {
           "diverging": [
            [
             0,
             "#8e0152"
            ],
            [
             0.1,
             "#c51b7d"
            ],
            [
             0.2,
             "#de77ae"
            ],
            [
             0.3,
             "#f1b6da"
            ],
            [
             0.4,
             "#fde0ef"
            ],
            [
             0.5,
             "#f7f7f7"
            ],
            [
             0.6,
             "#e6f5d0"
            ],
            [
             0.7,
             "#b8e186"
            ],
            [
             0.8,
             "#7fbc41"
            ],
            [
             0.9,
             "#4d9221"
            ],
            [
             1,
             "#276419"
            ]
           ],
           "sequential": [
            [
             0,
             "#0d0887"
            ],
            [
             0.1111111111111111,
             "#46039f"
            ],
            [
             0.2222222222222222,
             "#7201a8"
            ],
            [
             0.3333333333333333,
             "#9c179e"
            ],
            [
             0.4444444444444444,
             "#bd3786"
            ],
            [
             0.5555555555555556,
             "#d8576b"
            ],
            [
             0.6666666666666666,
             "#ed7953"
            ],
            [
             0.7777777777777778,
             "#fb9f3a"
            ],
            [
             0.8888888888888888,
             "#fdca26"
            ],
            [
             1,
             "#f0f921"
            ]
           ],
           "sequentialminus": [
            [
             0,
             "#0d0887"
            ],
            [
             0.1111111111111111,
             "#46039f"
            ],
            [
             0.2222222222222222,
             "#7201a8"
            ],
            [
             0.3333333333333333,
             "#9c179e"
            ],
            [
             0.4444444444444444,
             "#bd3786"
            ],
            [
             0.5555555555555556,
             "#d8576b"
            ],
            [
             0.6666666666666666,
             "#ed7953"
            ],
            [
             0.7777777777777778,
             "#fb9f3a"
            ],
            [
             0.8888888888888888,
             "#fdca26"
            ],
            [
             1,
             "#f0f921"
            ]
           ]
          },
          "colorway": [
           "#636efa",
           "#EF553B",
           "#00cc96",
           "#ab63fa",
           "#FFA15A",
           "#19d3f3",
           "#FF6692",
           "#B6E880",
           "#FF97FF",
           "#FECB52"
          ],
          "font": {
           "color": "#2a3f5f"
          },
          "geo": {
           "bgcolor": "white",
           "lakecolor": "white",
           "landcolor": "#E5ECF6",
           "showlakes": true,
           "showland": true,
           "subunitcolor": "white"
          },
          "hoverlabel": {
           "align": "left"
          },
          "hovermode": "closest",
          "mapbox": {
           "style": "light"
          },
          "paper_bgcolor": "white",
          "plot_bgcolor": "#E5ECF6",
          "polar": {
           "angularaxis": {
            "gridcolor": "white",
            "linecolor": "white",
            "ticks": ""
           },
           "bgcolor": "#E5ECF6",
           "radialaxis": {
            "gridcolor": "white",
            "linecolor": "white",
            "ticks": ""
           }
          },
          "scene": {
           "xaxis": {
            "backgroundcolor": "#E5ECF6",
            "gridcolor": "white",
            "gridwidth": 2,
            "linecolor": "white",
            "showbackground": true,
            "ticks": "",
            "zerolinecolor": "white"
           },
           "yaxis": {
            "backgroundcolor": "#E5ECF6",
            "gridcolor": "white",
            "gridwidth": 2,
            "linecolor": "white",
            "showbackground": true,
            "ticks": "",
            "zerolinecolor": "white"
           },
           "zaxis": {
            "backgroundcolor": "#E5ECF6",
            "gridcolor": "white",
            "gridwidth": 2,
            "linecolor": "white",
            "showbackground": true,
            "ticks": "",
            "zerolinecolor": "white"
           }
          },
          "shapedefaults": {
           "line": {
            "color": "#2a3f5f"
           }
          },
          "ternary": {
           "aaxis": {
            "gridcolor": "white",
            "linecolor": "white",
            "ticks": ""
           },
           "baxis": {
            "gridcolor": "white",
            "linecolor": "white",
            "ticks": ""
           },
           "bgcolor": "#E5ECF6",
           "caxis": {
            "gridcolor": "white",
            "linecolor": "white",
            "ticks": ""
           }
          },
          "title": {
           "x": 0.05
          },
          "xaxis": {
           "automargin": true,
           "gridcolor": "white",
           "linecolor": "white",
           "ticks": "",
           "title": {
            "standoff": 15
           },
           "zerolinecolor": "white",
           "zerolinewidth": 2
          },
          "yaxis": {
           "automargin": true,
           "gridcolor": "white",
           "linecolor": "white",
           "ticks": "",
           "title": {
            "standoff": 15
           },
           "zerolinecolor": "white",
           "zerolinewidth": 2
          }
         }
        },
        "title": {
         "text": "Top 25 Airports with the Highest Average Delays"
        }
       }
      },
      "text/html": [
       "<div>                            <div id=\"113d0f58-1aeb-431c-88d4-d6e559c7fac6\" class=\"plotly-graph-div\" style=\"height:525px; width:100%;\"></div>            <script type=\"text/javascript\">                require([\"plotly\"], function(Plotly) {                    window.PLOTLYENV=window.PLOTLYENV || {};                                    if (document.getElementById(\"113d0f58-1aeb-431c-88d4-d6e559c7fac6\")) {                    Plotly.newPlot(                        \"113d0f58-1aeb-431c-88d4-d6e559c7fac6\",                        [{\"hovertemplate\":\"dept_airport=SGF<br>average_delay=%{marker.size}<br>latitude=%{lat}<br>longitude=%{lon}<extra></extra>\",\"lat\":[37.2444],\"legendgroup\":\"SGF\",\"lon\":[-93.3887],\"marker\":{\"color\":\"#636efa\",\"size\":[401],\"sizemode\":\"area\",\"sizeref\":1.0025},\"mode\":\"markers\",\"name\":\"SGF\",\"showlegend\":true,\"subplot\":\"mapbox\",\"type\":\"scattermapbox\"},{\"hovertemplate\":\"dept_airport=TUL<br>average_delay=%{marker.size}<br>latitude=%{lat}<br>longitude=%{lon}<extra></extra>\",\"lat\":[36.1984],\"legendgroup\":\"TUL\",\"lon\":[-95.8881],\"marker\":{\"color\":\"#EF553B\",\"size\":[364],\"sizemode\":\"area\",\"sizeref\":1.0025},\"mode\":\"markers\",\"name\":\"TUL\",\"showlegend\":true,\"subplot\":\"mapbox\",\"type\":\"scattermapbox\"},{\"hovertemplate\":\"dept_airport=RKS<br>average_delay=%{marker.size}<br>latitude=%{lat}<br>longitude=%{lon}<extra></extra>\",\"lat\":[41.5942],\"legendgroup\":\"RKS\",\"lon\":[-109.0659],\"marker\":{\"color\":\"#00cc96\",\"size\":[338],\"sizemode\":\"area\",\"sizeref\":1.0025},\"mode\":\"markers\",\"name\":\"RKS\",\"showlegend\":true,\"subplot\":\"mapbox\",\"type\":\"scattermapbox\"},{\"hovertemplate\":\"dept_airport=AGS<br>average_delay=%{marker.size}<br>latitude=%{lat}<br>longitude=%{lon}<extra></extra>\",\"lat\":[33.369],\"legendgroup\":\"AGS\",\"lon\":[-81.9644],\"marker\":{\"color\":\"#ab63fa\",\"size\":[312],\"sizemode\":\"area\",\"sizeref\":1.0025},\"mode\":\"markers\",\"name\":\"AGS\",\"showlegend\":true,\"subplot\":\"mapbox\",\"type\":\"scattermapbox\"},{\"hovertemplate\":\"dept_airport=AEX<br>average_delay=%{marker.size}<br>latitude=%{lat}<br>longitude=%{lon}<extra></extra>\",\"lat\":[31.3274],\"legendgroup\":\"AEX\",\"lon\":[-92.5486],\"marker\":{\"color\":\"#FFA15A\",\"size\":[266],\"sizemode\":\"area\",\"sizeref\":1.0025},\"mode\":\"markers\",\"name\":\"AEX\",\"showlegend\":true,\"subplot\":\"mapbox\",\"type\":\"scattermapbox\"},{\"hovertemplate\":\"dept_airport=STT<br>average_delay=%{marker.size}<br>latitude=%{lat}<br>longitude=%{lon}<extra></extra>\",\"lat\":[18.3373],\"legendgroup\":\"STT\",\"lon\":[-64.9734],\"marker\":{\"color\":\"#19d3f3\",\"size\":[227],\"sizemode\":\"area\",\"sizeref\":1.0025},\"mode\":\"markers\",\"name\":\"STT\",\"showlegend\":true,\"subplot\":\"mapbox\",\"type\":\"scattermapbox\"},{\"hovertemplate\":\"dept_airport=CLT<br>average_delay=%{marker.size}<br>latitude=%{lat}<br>longitude=%{lon}<extra></extra>\",\"lat\":[35.2144],\"legendgroup\":\"CLT\",\"lon\":[80.9473],\"marker\":{\"color\":\"#FF6692\",\"size\":[223],\"sizemode\":\"area\",\"sizeref\":1.0025},\"mode\":\"markers\",\"name\":\"CLT\",\"showlegend\":true,\"subplot\":\"mapbox\",\"type\":\"scattermapbox\"},{\"hovertemplate\":\"dept_airport=ALO<br>average_delay=%{marker.size}<br>latitude=%{lat}<br>longitude=%{lon}<extra></extra>\",\"lat\":[42.5571],\"legendgroup\":\"ALO\",\"lon\":[-92.4003],\"marker\":{\"color\":\"#B6E880\",\"size\":[192],\"sizemode\":\"area\",\"sizeref\":1.0025},\"mode\":\"markers\",\"name\":\"ALO\",\"showlegend\":true,\"subplot\":\"mapbox\",\"type\":\"scattermapbox\"},{\"hovertemplate\":\"dept_airport=DSM<br>average_delay=%{marker.size}<br>latitude=%{lat}<br>longitude=%{lon}<extra></extra>\",\"lat\":[41.5339],\"legendgroup\":\"DSM\",\"lon\":[93.6586],\"marker\":{\"color\":\"#FF97FF\",\"size\":[185],\"sizemode\":\"area\",\"sizeref\":1.0025},\"mode\":\"markers\",\"name\":\"DSM\",\"showlegend\":true,\"subplot\":\"mapbox\",\"type\":\"scattermapbox\"},{\"hovertemplate\":\"dept_airport=SDF<br>average_delay=%{marker.size}<br>latitude=%{lat}<br>longitude=%{lon}<extra></extra>\",\"lat\":[38.1744],\"legendgroup\":\"SDF\",\"lon\":[-85.736],\"marker\":{\"color\":\"#FECB52\",\"size\":[178],\"sizemode\":\"area\",\"sizeref\":1.0025},\"mode\":\"markers\",\"name\":\"SDF\",\"showlegend\":true,\"subplot\":\"mapbox\",\"type\":\"scattermapbox\"},{\"hovertemplate\":\"dept_airport=SFB<br>average_delay=%{marker.size}<br>latitude=%{lat}<br>longitude=%{lon}<extra></extra>\",\"lat\":[28.7776],\"legendgroup\":\"SFB\",\"lon\":[-81.2378],\"marker\":{\"color\":\"#636efa\",\"size\":[135],\"sizemode\":\"area\",\"sizeref\":1.0025},\"mode\":\"markers\",\"name\":\"SFB\",\"showlegend\":true,\"subplot\":\"mapbox\",\"type\":\"scattermapbox\"},{\"hovertemplate\":\"dept_airport=ECP<br>average_delay=%{marker.size}<br>latitude=%{lat}<br>longitude=%{lon}<extra></extra>\",\"lat\":[30.3583],\"legendgroup\":\"ECP\",\"lon\":[85.7956],\"marker\":{\"color\":\"#EF553B\",\"size\":[134],\"sizemode\":\"area\",\"sizeref\":1.0025},\"mode\":\"markers\",\"name\":\"ECP\",\"showlegend\":true,\"subplot\":\"mapbox\",\"type\":\"scattermapbox\"},{\"hovertemplate\":\"dept_airport=MKE<br>average_delay=%{marker.size}<br>latitude=%{lat}<br>longitude=%{lon}<extra></extra>\",\"lat\":[42.9476],\"legendgroup\":\"MKE\",\"lon\":[-87.8966],\"marker\":{\"color\":\"#00cc96\",\"size\":[120],\"sizemode\":\"area\",\"sizeref\":1.0025},\"mode\":\"markers\",\"name\":\"MKE\",\"showlegend\":true,\"subplot\":\"mapbox\",\"type\":\"scattermapbox\"},{\"hovertemplate\":\"dept_airport=DAB<br>average_delay=%{marker.size}<br>latitude=%{lat}<br>longitude=%{lon}<extra></extra>\",\"lat\":[29.1821],\"legendgroup\":\"DAB\",\"lon\":[81.0556],\"marker\":{\"color\":\"#ab63fa\",\"size\":[112],\"sizemode\":\"area\",\"sizeref\":1.0025},\"mode\":\"markers\",\"name\":\"DAB\",\"showlegend\":true,\"subplot\":\"mapbox\",\"type\":\"scattermapbox\"},{\"hovertemplate\":\"dept_airport=MVY<br>average_delay=%{marker.size}<br>latitude=%{lat}<br>longitude=%{lon}<extra></extra>\",\"lat\":[41.3931],\"legendgroup\":\"MVY\",\"lon\":[-70.6143],\"marker\":{\"color\":\"#FFA15A\",\"size\":[94],\"sizemode\":\"area\",\"sizeref\":1.0025},\"mode\":\"markers\",\"name\":\"MVY\",\"showlegend\":true,\"subplot\":\"mapbox\",\"type\":\"scattermapbox\"},{\"hovertemplate\":\"dept_airport=EWN<br>average_delay=%{marker.size}<br>latitude=%{lat}<br>longitude=%{lon}<extra></extra>\",\"lat\":[35.0731],\"legendgroup\":\"EWN\",\"lon\":[77.0439],\"marker\":{\"color\":\"#19d3f3\",\"size\":[92],\"sizemode\":\"area\",\"sizeref\":1.0025},\"mode\":\"markers\",\"name\":\"EWN\",\"showlegend\":true,\"subplot\":\"mapbox\",\"type\":\"scattermapbox\"},{\"hovertemplate\":\"dept_airport=ALW<br>average_delay=%{marker.size}<br>latitude=%{lat}<br>longitude=%{lon}<extra></extra>\",\"lat\":[46.0949],\"legendgroup\":\"ALW\",\"lon\":[-118.288],\"marker\":{\"color\":\"#FF6692\",\"size\":[90],\"sizemode\":\"area\",\"sizeref\":1.0025},\"mode\":\"markers\",\"name\":\"ALW\",\"showlegend\":true,\"subplot\":\"mapbox\",\"type\":\"scattermapbox\"},{\"hovertemplate\":\"dept_airport=STX<br>average_delay=%{marker.size}<br>latitude=%{lat}<br>longitude=%{lon}<extra></extra>\",\"lat\":[17.7019],\"legendgroup\":\"STX\",\"lon\":[-64.7986],\"marker\":{\"color\":\"#B6E880\",\"size\":[89],\"sizemode\":\"area\",\"sizeref\":1.0025},\"mode\":\"markers\",\"name\":\"STX\",\"showlegend\":true,\"subplot\":\"mapbox\",\"type\":\"scattermapbox\"},{\"hovertemplate\":\"dept_airport=MQT<br>average_delay=%{marker.size}<br>latitude=%{lat}<br>longitude=%{lon}<extra></extra>\",\"lat\":[46.3536],\"legendgroup\":\"MQT\",\"lon\":[-87.3954],\"marker\":{\"color\":\"#FF97FF\",\"size\":[87],\"sizemode\":\"area\",\"sizeref\":1.0025},\"mode\":\"markers\",\"name\":\"MQT\",\"showlegend\":true,\"subplot\":\"mapbox\",\"type\":\"scattermapbox\"},{\"hovertemplate\":\"dept_airport=LBL<br>average_delay=%{marker.size}<br>latitude=%{lat}<br>longitude=%{lon}<extra></extra>\",\"lat\":[37.0442],\"legendgroup\":\"LBL\",\"lon\":[-100.959],\"marker\":{\"color\":\"#FECB52\",\"size\":[84],\"sizemode\":\"area\",\"sizeref\":1.0025},\"mode\":\"markers\",\"name\":\"LBL\",\"showlegend\":true,\"subplot\":\"mapbox\",\"type\":\"scattermapbox\"},{\"hovertemplate\":\"dept_airport=BUR<br>average_delay=%{marker.size}<br>latitude=%{lat}<br>longitude=%{lon}<extra></extra>\",\"lat\":[34.2007],\"legendgroup\":\"BUR\",\"lon\":[-118.359],\"marker\":{\"color\":\"#636efa\",\"size\":[80],\"sizemode\":\"area\",\"sizeref\":1.0025},\"mode\":\"markers\",\"name\":\"BUR\",\"showlegend\":true,\"subplot\":\"mapbox\",\"type\":\"scattermapbox\"},{\"hovertemplate\":\"dept_airport=SBA<br>average_delay=%{marker.size}<br>latitude=%{lat}<br>longitude=%{lon}<extra></extra>\",\"lat\":[34.4252],\"legendgroup\":\"SBA\",\"lon\":[-119.8403],\"marker\":{\"color\":\"#EF553B\",\"size\":[79],\"sizemode\":\"area\",\"sizeref\":1.0025},\"mode\":\"markers\",\"name\":\"SBA\",\"showlegend\":true,\"subplot\":\"mapbox\",\"type\":\"scattermapbox\"},{\"hovertemplate\":\"dept_airport=HOU<br>average_delay=%{marker.size}<br>latitude=%{lat}<br>longitude=%{lon}<extra></extra>\",\"lat\":[29.6454],\"legendgroup\":\"HOU\",\"lon\":[95.2789],\"marker\":{\"color\":\"#00cc96\",\"size\":[78],\"sizemode\":\"area\",\"sizeref\":1.0025},\"mode\":\"markers\",\"name\":\"HOU\",\"showlegend\":true,\"subplot\":\"mapbox\",\"type\":\"scattermapbox\"},{\"hovertemplate\":\"dept_airport=MGM<br>average_delay=%{marker.size}<br>latitude=%{lat}<br>longitude=%{lon}<extra></extra>\",\"lat\":[32.3006],\"legendgroup\":\"MGM\",\"lon\":[-86.3939],\"marker\":{\"color\":\"#ab63fa\",\"size\":[72],\"sizemode\":\"area\",\"sizeref\":1.0025},\"mode\":\"markers\",\"name\":\"MGM\",\"showlegend\":true,\"subplot\":\"mapbox\",\"type\":\"scattermapbox\"},{\"hovertemplate\":\"dept_airport=CIU<br>average_delay=%{marker.size}<br>latitude=%{lat}<br>longitude=%{lon}<extra></extra>\",\"lat\":[46.2508],\"legendgroup\":\"CIU\",\"lon\":[84.4724],\"marker\":{\"color\":\"#FFA15A\",\"size\":[71],\"sizemode\":\"area\",\"sizeref\":1.0025},\"mode\":\"markers\",\"name\":\"CIU\",\"showlegend\":true,\"subplot\":\"mapbox\",\"type\":\"scattermapbox\"}],                        {\"template\":{\"data\":{\"histogram2dcontour\":[{\"type\":\"histogram2dcontour\",\"colorbar\":{\"outlinewidth\":0,\"ticks\":\"\"},\"colorscale\":[[0.0,\"#0d0887\"],[0.1111111111111111,\"#46039f\"],[0.2222222222222222,\"#7201a8\"],[0.3333333333333333,\"#9c179e\"],[0.4444444444444444,\"#bd3786\"],[0.5555555555555556,\"#d8576b\"],[0.6666666666666666,\"#ed7953\"],[0.7777777777777778,\"#fb9f3a\"],[0.8888888888888888,\"#fdca26\"],[1.0,\"#f0f921\"]]}],\"choropleth\":[{\"type\":\"choropleth\",\"colorbar\":{\"outlinewidth\":0,\"ticks\":\"\"}}],\"histogram2d\":[{\"type\":\"histogram2d\",\"colorbar\":{\"outlinewidth\":0,\"ticks\":\"\"},\"colorscale\":[[0.0,\"#0d0887\"],[0.1111111111111111,\"#46039f\"],[0.2222222222222222,\"#7201a8\"],[0.3333333333333333,\"#9c179e\"],[0.4444444444444444,\"#bd3786\"],[0.5555555555555556,\"#d8576b\"],[0.6666666666666666,\"#ed7953\"],[0.7777777777777778,\"#fb9f3a\"],[0.8888888888888888,\"#fdca26\"],[1.0,\"#f0f921\"]]}],\"heatmap\":[{\"type\":\"heatmap\",\"colorbar\":{\"outlinewidth\":0,\"ticks\":\"\"},\"colorscale\":[[0.0,\"#0d0887\"],[0.1111111111111111,\"#46039f\"],[0.2222222222222222,\"#7201a8\"],[0.3333333333333333,\"#9c179e\"],[0.4444444444444444,\"#bd3786\"],[0.5555555555555556,\"#d8576b\"],[0.6666666666666666,\"#ed7953\"],[0.7777777777777778,\"#fb9f3a\"],[0.8888888888888888,\"#fdca26\"],[1.0,\"#f0f921\"]]}],\"heatmapgl\":[{\"type\":\"heatmapgl\",\"colorbar\":{\"outlinewidth\":0,\"ticks\":\"\"},\"colorscale\":[[0.0,\"#0d0887\"],[0.1111111111111111,\"#46039f\"],[0.2222222222222222,\"#7201a8\"],[0.3333333333333333,\"#9c179e\"],[0.4444444444444444,\"#bd3786\"],[0.5555555555555556,\"#d8576b\"],[0.6666666666666666,\"#ed7953\"],[0.7777777777777778,\"#fb9f3a\"],[0.8888888888888888,\"#fdca26\"],[1.0,\"#f0f921\"]]}],\"contourcarpet\":[{\"type\":\"contourcarpet\",\"colorbar\":{\"outlinewidth\":0,\"ticks\":\"\"}}],\"contour\":[{\"type\":\"contour\",\"colorbar\":{\"outlinewidth\":0,\"ticks\":\"\"},\"colorscale\":[[0.0,\"#0d0887\"],[0.1111111111111111,\"#46039f\"],[0.2222222222222222,\"#7201a8\"],[0.3333333333333333,\"#9c179e\"],[0.4444444444444444,\"#bd3786\"],[0.5555555555555556,\"#d8576b\"],[0.6666666666666666,\"#ed7953\"],[0.7777777777777778,\"#fb9f3a\"],[0.8888888888888888,\"#fdca26\"],[1.0,\"#f0f921\"]]}],\"surface\":[{\"type\":\"surface\",\"colorbar\":{\"outlinewidth\":0,\"ticks\":\"\"},\"colorscale\":[[0.0,\"#0d0887\"],[0.1111111111111111,\"#46039f\"],[0.2222222222222222,\"#7201a8\"],[0.3333333333333333,\"#9c179e\"],[0.4444444444444444,\"#bd3786\"],[0.5555555555555556,\"#d8576b\"],[0.6666666666666666,\"#ed7953\"],[0.7777777777777778,\"#fb9f3a\"],[0.8888888888888888,\"#fdca26\"],[1.0,\"#f0f921\"]]}],\"mesh3d\":[{\"type\":\"mesh3d\",\"colorbar\":{\"outlinewidth\":0,\"ticks\":\"\"}}],\"scatter\":[{\"fillpattern\":{\"fillmode\":\"overlay\",\"size\":10,\"solidity\":0.2},\"type\":\"scatter\"}],\"parcoords\":[{\"type\":\"parcoords\",\"line\":{\"colorbar\":{\"outlinewidth\":0,\"ticks\":\"\"}}}],\"scatterpolargl\":[{\"type\":\"scatterpolargl\",\"marker\":{\"colorbar\":{\"outlinewidth\":0,\"ticks\":\"\"}}}],\"bar\":[{\"error_x\":{\"color\":\"#2a3f5f\"},\"error_y\":{\"color\":\"#2a3f5f\"},\"marker\":{\"line\":{\"color\":\"#E5ECF6\",\"width\":0.5},\"pattern\":{\"fillmode\":\"overlay\",\"size\":10,\"solidity\":0.2}},\"type\":\"bar\"}],\"scattergeo\":[{\"type\":\"scattergeo\",\"marker\":{\"colorbar\":{\"outlinewidth\":0,\"ticks\":\"\"}}}],\"scatterpolar\":[{\"type\":\"scatterpolar\",\"marker\":{\"colorbar\":{\"outlinewidth\":0,\"ticks\":\"\"}}}],\"histogram\":[{\"marker\":{\"pattern\":{\"fillmode\":\"overlay\",\"size\":10,\"solidity\":0.2}},\"type\":\"histogram\"}],\"scattergl\":[{\"type\":\"scattergl\",\"marker\":{\"colorbar\":{\"outlinewidth\":0,\"ticks\":\"\"}}}],\"scatter3d\":[{\"type\":\"scatter3d\",\"line\":{\"colorbar\":{\"outlinewidth\":0,\"ticks\":\"\"}},\"marker\":{\"colorbar\":{\"outlinewidth\":0,\"ticks\":\"\"}}}],\"scattermapbox\":[{\"type\":\"scattermapbox\",\"marker\":{\"colorbar\":{\"outlinewidth\":0,\"ticks\":\"\"}}}],\"scatterternary\":[{\"type\":\"scatterternary\",\"marker\":{\"colorbar\":{\"outlinewidth\":0,\"ticks\":\"\"}}}],\"scattercarpet\":[{\"type\":\"scattercarpet\",\"marker\":{\"colorbar\":{\"outlinewidth\":0,\"ticks\":\"\"}}}],\"carpet\":[{\"aaxis\":{\"endlinecolor\":\"#2a3f5f\",\"gridcolor\":\"white\",\"linecolor\":\"white\",\"minorgridcolor\":\"white\",\"startlinecolor\":\"#2a3f5f\"},\"baxis\":{\"endlinecolor\":\"#2a3f5f\",\"gridcolor\":\"white\",\"linecolor\":\"white\",\"minorgridcolor\":\"white\",\"startlinecolor\":\"#2a3f5f\"},\"type\":\"carpet\"}],\"table\":[{\"cells\":{\"fill\":{\"color\":\"#EBF0F8\"},\"line\":{\"color\":\"white\"}},\"header\":{\"fill\":{\"color\":\"#C8D4E3\"},\"line\":{\"color\":\"white\"}},\"type\":\"table\"}],\"barpolar\":[{\"marker\":{\"line\":{\"color\":\"#E5ECF6\",\"width\":0.5},\"pattern\":{\"fillmode\":\"overlay\",\"size\":10,\"solidity\":0.2}},\"type\":\"barpolar\"}],\"pie\":[{\"automargin\":true,\"type\":\"pie\"}]},\"layout\":{\"autotypenumbers\":\"strict\",\"colorway\":[\"#636efa\",\"#EF553B\",\"#00cc96\",\"#ab63fa\",\"#FFA15A\",\"#19d3f3\",\"#FF6692\",\"#B6E880\",\"#FF97FF\",\"#FECB52\"],\"font\":{\"color\":\"#2a3f5f\"},\"hovermode\":\"closest\",\"hoverlabel\":{\"align\":\"left\"},\"paper_bgcolor\":\"white\",\"plot_bgcolor\":\"#E5ECF6\",\"polar\":{\"bgcolor\":\"#E5ECF6\",\"angularaxis\":{\"gridcolor\":\"white\",\"linecolor\":\"white\",\"ticks\":\"\"},\"radialaxis\":{\"gridcolor\":\"white\",\"linecolor\":\"white\",\"ticks\":\"\"}},\"ternary\":{\"bgcolor\":\"#E5ECF6\",\"aaxis\":{\"gridcolor\":\"white\",\"linecolor\":\"white\",\"ticks\":\"\"},\"baxis\":{\"gridcolor\":\"white\",\"linecolor\":\"white\",\"ticks\":\"\"},\"caxis\":{\"gridcolor\":\"white\",\"linecolor\":\"white\",\"ticks\":\"\"}},\"coloraxis\":{\"colorbar\":{\"outlinewidth\":0,\"ticks\":\"\"}},\"colorscale\":{\"sequential\":[[0.0,\"#0d0887\"],[0.1111111111111111,\"#46039f\"],[0.2222222222222222,\"#7201a8\"],[0.3333333333333333,\"#9c179e\"],[0.4444444444444444,\"#bd3786\"],[0.5555555555555556,\"#d8576b\"],[0.6666666666666666,\"#ed7953\"],[0.7777777777777778,\"#fb9f3a\"],[0.8888888888888888,\"#fdca26\"],[1.0,\"#f0f921\"]],\"sequentialminus\":[[0.0,\"#0d0887\"],[0.1111111111111111,\"#46039f\"],[0.2222222222222222,\"#7201a8\"],[0.3333333333333333,\"#9c179e\"],[0.4444444444444444,\"#bd3786\"],[0.5555555555555556,\"#d8576b\"],[0.6666666666666666,\"#ed7953\"],[0.7777777777777778,\"#fb9f3a\"],[0.8888888888888888,\"#fdca26\"],[1.0,\"#f0f921\"]],\"diverging\":[[0,\"#8e0152\"],[0.1,\"#c51b7d\"],[0.2,\"#de77ae\"],[0.3,\"#f1b6da\"],[0.4,\"#fde0ef\"],[0.5,\"#f7f7f7\"],[0.6,\"#e6f5d0\"],[0.7,\"#b8e186\"],[0.8,\"#7fbc41\"],[0.9,\"#4d9221\"],[1,\"#276419\"]]},\"xaxis\":{\"gridcolor\":\"white\",\"linecolor\":\"white\",\"ticks\":\"\",\"title\":{\"standoff\":15},\"zerolinecolor\":\"white\",\"automargin\":true,\"zerolinewidth\":2},\"yaxis\":{\"gridcolor\":\"white\",\"linecolor\":\"white\",\"ticks\":\"\",\"title\":{\"standoff\":15},\"zerolinecolor\":\"white\",\"automargin\":true,\"zerolinewidth\":2},\"scene\":{\"xaxis\":{\"backgroundcolor\":\"#E5ECF6\",\"gridcolor\":\"white\",\"linecolor\":\"white\",\"showbackground\":true,\"ticks\":\"\",\"zerolinecolor\":\"white\",\"gridwidth\":2},\"yaxis\":{\"backgroundcolor\":\"#E5ECF6\",\"gridcolor\":\"white\",\"linecolor\":\"white\",\"showbackground\":true,\"ticks\":\"\",\"zerolinecolor\":\"white\",\"gridwidth\":2},\"zaxis\":{\"backgroundcolor\":\"#E5ECF6\",\"gridcolor\":\"white\",\"linecolor\":\"white\",\"showbackground\":true,\"ticks\":\"\",\"zerolinecolor\":\"white\",\"gridwidth\":2}},\"shapedefaults\":{\"line\":{\"color\":\"#2a3f5f\"}},\"annotationdefaults\":{\"arrowcolor\":\"#2a3f5f\",\"arrowhead\":0,\"arrowwidth\":1},\"geo\":{\"bgcolor\":\"white\",\"landcolor\":\"#E5ECF6\",\"subunitcolor\":\"white\",\"showland\":true,\"showlakes\":true,\"lakecolor\":\"white\"},\"title\":{\"x\":0.05},\"mapbox\":{\"style\":\"light\"}}},\"mapbox\":{\"domain\":{\"x\":[0.0,1.0],\"y\":[0.0,1.0]},\"center\":{\"lat\":35.49198400000001,\"lon\":-42.139839999999985},\"zoom\":1,\"style\":\"open-street-map\"},\"legend\":{\"title\":{\"text\":\"dept_airport\"},\"tracegroupgap\":0,\"itemsizing\":\"constant\"},\"title\":{\"text\":\"Top 25 Airports with the Highest Average Delays\"},\"margin\":{\"r\":0,\"t\":50,\"l\":0,\"b\":10}},                        {\"responsive\": true}                    ).then(function(){\n",
       "                            \n",
       "var gd = document.getElementById('113d0f58-1aeb-431c-88d4-d6e559c7fac6');\n",
       "var x = new MutationObserver(function (mutations, observer) {{\n",
       "        var display = window.getComputedStyle(gd).display;\n",
       "        if (!display || display === 'none') {{\n",
       "            console.log([gd, 'removed!']);\n",
       "            Plotly.purge(gd);\n",
       "            observer.disconnect();\n",
       "        }}\n",
       "}});\n",
       "\n",
       "// Listen for the removal of the full notebook cells\n",
       "var notebookContainer = gd.closest('#notebook-container');\n",
       "if (notebookContainer) {{\n",
       "    x.observe(notebookContainer, {childList: true});\n",
       "}}\n",
       "\n",
       "// Listen for the clearing of the current output cell\n",
       "var outputEl = gd.closest('.output');\n",
       "if (outputEl) {{\n",
       "    x.observe(outputEl, {childList: true});\n",
       "}}\n",
       "\n",
       "                        })                };                });            </script>        </div>"
      ]
     },
     "metadata": {},
     "output_type": "display_data"
    }
   ],
   "source": [
    "import pandas as pd\n",
    "import plotly.express as px\n",
    "\n",
    "# Read the CSV file\n",
    "df = pd.read_csv('airline_geo_df.csv')\n",
    "\n",
    "# Add the 'average_delay' column to the DataFrame\n",
    "df['average_delay'] = airline_final['arr_delay_time_actual']\n",
    "\n",
    "# Sort the DataFrame by the 'average_delay' column\n",
    "df1 = df.sort_values(by='average_delay', ascending=False).head(25)\n",
    "\n",
    "# Create the map\n",
    "fig = px.scatter_mapbox(df1,\n",
    "                        lon=df1['longitude'],\n",
    "                        lat=df1['latitude'],\n",
    "                        zoom=1,\n",
    "                        color=df1['dept_airport'],\n",
    "                        size=df1['average_delay'],\n",
    "                        title='Top 25 Airports with the Highest Average Delays')\n",
    "fig.update_layout(mapbox_style='open-street-map')\n",
    "fig.update_layout(margin={'r': 0, 't': 50, 'l': 0, 'b': 10})\n",
    "fig.show()\n"
   ]
  },
  {
   "cell_type": "markdown",
   "id": "707f2afd",
   "metadata": {},
   "source": [
    "### Arrival Delay Time by Airline Across the Months"
   ]
  },
  {
   "cell_type": "code",
   "execution_count": 52,
   "id": "d150cda9",
   "metadata": {},
   "outputs": [
    {
     "data": {
      "application/vnd.plotly.v1+json": {
       "config": {
        "plotlyServerURL": "https://plot.ly"
       },
       "data": [
        {
         "hovertemplate": "mkt_ccode=AA<br>month=%{x}<br>mean_arr_delay=%{y}<extra></extra>",
         "legendgroup": "AA",
         "line": {
          "color": "rgb(102, 197, 204)",
          "dash": "solid"
         },
         "marker": {
          "symbol": "circle"
         },
         "mode": "lines",
         "name": "AA",
         "orientation": "v",
         "showlegend": true,
         "type": "scatter",
         "x": [
          "January",
          "February",
          "March",
          "April",
          "May",
          "June",
          "July",
          "August",
          "September",
          "October"
         ],
         "xaxis": "x",
         "y": [
          2.2786990564143745,
          7.086162923348568,
          4.723707004853278,
          6.364336492890995,
          8.822027197975965,
          14.864651110980061,
          13.538090633578424,
          11.066884005315632,
          4.184592317276625,
          4.798891273736449
         ],
         "yaxis": "y"
        },
        {
         "hovertemplate": "mkt_ccode=AS<br>month=%{x}<br>mean_arr_delay=%{y}<extra></extra>",
         "legendgroup": "AS",
         "line": {
          "color": "rgb(246, 207, 113)",
          "dash": "solid"
         },
         "marker": {
          "symbol": "circle"
         },
         "mode": "lines",
         "name": "AS",
         "orientation": "v",
         "showlegend": true,
         "type": "scatter",
         "x": [
          "January",
          "February",
          "March",
          "April",
          "May",
          "June",
          "July",
          "August",
          "September",
          "October"
         ],
         "xaxis": "x",
         "y": [
          6.575545145091167,
          0.6017646841658361,
          1.7995412259462216,
          5.550683161004431,
          3.7093175074183975,
          5.900685033065449,
          2.784124460595049,
          2.9149758177603524,
          2.2071549647604605,
          -0.9551076054143539
         ],
         "yaxis": "y"
        },
        {
         "hovertemplate": "mkt_ccode=B6<br>month=%{x}<br>mean_arr_delay=%{y}<extra></extra>",
         "legendgroup": "B6",
         "line": {
          "color": "rgb(248, 156, 116)",
          "dash": "solid"
         },
         "marker": {
          "symbol": "circle"
         },
         "mode": "lines",
         "name": "B6",
         "orientation": "v",
         "showlegend": true,
         "type": "scatter",
         "x": [
          "January",
          "February",
          "March",
          "April",
          "May",
          "June",
          "July",
          "August",
          "September",
          "October"
         ],
         "xaxis": "x",
         "y": [
          17.30836302268892,
          20.09159823120657,
          18.16279576452133,
          28.06085083467959,
          13.005889331412591,
          23.873610655161094,
          17.370315301526215,
          18.10692640692641,
          12.928390226534336,
          9.579411638761615
         ],
         "yaxis": "y"
        },
        {
         "hovertemplate": "mkt_ccode=DL<br>month=%{x}<br>mean_arr_delay=%{y}<extra></extra>",
         "legendgroup": "DL",
         "line": {
          "color": "rgb(220, 176, 242)",
          "dash": "solid"
         },
         "marker": {
          "symbol": "circle"
         },
         "mode": "lines",
         "name": "DL",
         "orientation": "v",
         "showlegend": true,
         "type": "scatter",
         "x": [
          "January",
          "February",
          "March",
          "April",
          "May",
          "June",
          "July",
          "August",
          "September",
          "October"
         ],
         "xaxis": "x",
         "y": [
          2.8314849097301247,
          1.78898753305629,
          5.419073279339163,
          5.451214298633606,
          5.853504943931945,
          6.732924839851988,
          6.306819517469969,
          3.859145390685294,
          -2.376121066906271,
          -1.4341460171843579
         ],
         "yaxis": "y"
        },
        {
         "hovertemplate": "mkt_ccode=F9<br>month=%{x}<br>mean_arr_delay=%{y}<extra></extra>",
         "legendgroup": "F9",
         "line": {
          "color": "rgb(135, 197, 95)",
          "dash": "solid"
         },
         "marker": {
          "symbol": "circle"
         },
         "mode": "lines",
         "name": "F9",
         "orientation": "v",
         "showlegend": true,
         "type": "scatter",
         "x": [
          "January",
          "February",
          "March",
          "April",
          "May",
          "June",
          "July",
          "August",
          "September",
          "October"
         ],
         "xaxis": "x",
         "y": [
          10.752886452363153,
          13.322432845207079,
          24.060847996279357,
          24.620011472588708,
          19.22621864647421,
          14.245856798069187,
          12.31324478178368,
          15.872460073479793,
          12.662226169330966,
          13.945117752375706
         ],
         "yaxis": "y"
        },
        {
         "hovertemplate": "mkt_ccode=G4<br>month=%{x}<br>mean_arr_delay=%{y}<extra></extra>",
         "legendgroup": "G4",
         "line": {
          "color": "rgb(158, 185, 243)",
          "dash": "solid"
         },
         "marker": {
          "symbol": "circle"
         },
         "mode": "lines",
         "name": "G4",
         "orientation": "v",
         "showlegend": true,
         "type": "scatter",
         "x": [
          "January",
          "February",
          "March",
          "April",
          "May",
          "June",
          "July",
          "August",
          "September",
          "October"
         ],
         "xaxis": "x",
         "y": [
          11.496786779894423,
          12.94880073800738,
          22.14796872344042,
          22.547239612976664,
          17.579710144927535,
          23.27923544743701,
          25.999758706667738,
          19.238310708898943,
          10.127547384922332,
          11.42316258351893
         ],
         "yaxis": "y"
        },
        {
         "hovertemplate": "mkt_ccode=HA<br>month=%{x}<br>mean_arr_delay=%{y}<extra></extra>",
         "legendgroup": "HA",
         "line": {
          "color": "rgb(254, 136, 177)",
          "dash": "solid"
         },
         "marker": {
          "symbol": "circle"
         },
         "mode": "lines",
         "name": "HA",
         "orientation": "v",
         "showlegend": true,
         "type": "scatter",
         "x": [
          "January",
          "February",
          "March",
          "April",
          "May",
          "June",
          "July",
          "August",
          "September",
          "October"
         ],
         "xaxis": "x",
         "y": [
          7.02202868852459,
          1.2646468699839486,
          2.8272591113330003,
          4.896328293736501,
          2.3949459631277814,
          6.782691695832008,
          7.012437074326325,
          8.779091188210009,
          4.0966677664137245,
          18.867689357622243
         ],
         "yaxis": "y"
        },
        {
         "hovertemplate": "mkt_ccode=NK<br>month=%{x}<br>mean_arr_delay=%{y}<extra></extra>",
         "legendgroup": "NK",
         "line": {
          "color": "rgb(201, 219, 116)",
          "dash": "solid"
         },
         "marker": {
          "symbol": "circle"
         },
         "mode": "lines",
         "name": "NK",
         "orientation": "v",
         "showlegend": true,
         "type": "scatter",
         "x": [
          "January",
          "February",
          "March",
          "April",
          "May",
          "June",
          "July",
          "August",
          "September",
          "October"
         ],
         "xaxis": "x",
         "y": [
          8.450666514754472,
          11.669914519696336,
          15.846277812435018,
          19.856484211654962,
          13.698779401749698,
          9.461977903530046,
          6.151660478547854,
          3.5497165619733413,
          4.263280822938926,
          3.135056527653985
         ],
         "yaxis": "y"
        },
        {
         "hovertemplate": "mkt_ccode=UA<br>month=%{x}<br>mean_arr_delay=%{y}<extra></extra>",
         "legendgroup": "UA",
         "line": {
          "color": "rgb(139, 224, 164)",
          "dash": "solid"
         },
         "marker": {
          "symbol": "circle"
         },
         "mode": "lines",
         "name": "UA",
         "orientation": "v",
         "showlegend": true,
         "type": "scatter",
         "x": [
          "January",
          "February",
          "March",
          "April",
          "May",
          "June",
          "July",
          "August",
          "September",
          "October"
         ],
         "xaxis": "x",
         "y": [
          7.144530491828734,
          5.5363093693226055,
          6.723155268400767,
          4.942176578844485,
          8.03658383082788,
          9.021376539019064,
          6.94307048329312,
          7.103821503112244,
          -0.5901464248261934,
          -0.9125851987038623
         ],
         "yaxis": "y"
        },
        {
         "hovertemplate": "mkt_ccode=WN<br>month=%{x}<br>mean_arr_delay=%{y}<extra></extra>",
         "legendgroup": "WN",
         "line": {
          "color": "rgb(180, 151, 231)",
          "dash": "solid"
         },
         "marker": {
          "symbol": "circle"
         },
         "mode": "lines",
         "name": "WN",
         "orientation": "v",
         "showlegend": true,
         "type": "scatter",
         "x": [
          "January",
          "February",
          "March",
          "April",
          "May",
          "June",
          "July",
          "August",
          "September",
          "October"
         ],
         "xaxis": "x",
         "y": [
          1.1487335276489183,
          0.0970153355686253,
          9.063970304666409,
          10.773605619298365,
          5.453460708896849,
          10.016639339831714,
          12.576898272292183,
          13.257668918066432,
          5.12255137443288,
          2.7459921043597664
         ],
         "yaxis": "y"
        }
       ],
       "layout": {
        "legend": {
         "title": {
          "text": "mkt_ccode"
         },
         "tracegroupgap": 0
        },
        "template": {
         "data": {
          "bar": [
           {
            "error_x": {
             "color": "#2a3f5f"
            },
            "error_y": {
             "color": "#2a3f5f"
            },
            "marker": {
             "line": {
              "color": "#E5ECF6",
              "width": 0.5
             },
             "pattern": {
              "fillmode": "overlay",
              "size": 10,
              "solidity": 0.2
             }
            },
            "type": "bar"
           }
          ],
          "barpolar": [
           {
            "marker": {
             "line": {
              "color": "#E5ECF6",
              "width": 0.5
             },
             "pattern": {
              "fillmode": "overlay",
              "size": 10,
              "solidity": 0.2
             }
            },
            "type": "barpolar"
           }
          ],
          "carpet": [
           {
            "aaxis": {
             "endlinecolor": "#2a3f5f",
             "gridcolor": "white",
             "linecolor": "white",
             "minorgridcolor": "white",
             "startlinecolor": "#2a3f5f"
            },
            "baxis": {
             "endlinecolor": "#2a3f5f",
             "gridcolor": "white",
             "linecolor": "white",
             "minorgridcolor": "white",
             "startlinecolor": "#2a3f5f"
            },
            "type": "carpet"
           }
          ],
          "choropleth": [
           {
            "colorbar": {
             "outlinewidth": 0,
             "ticks": ""
            },
            "type": "choropleth"
           }
          ],
          "contour": [
           {
            "colorbar": {
             "outlinewidth": 0,
             "ticks": ""
            },
            "colorscale": [
             [
              0,
              "#0d0887"
             ],
             [
              0.1111111111111111,
              "#46039f"
             ],
             [
              0.2222222222222222,
              "#7201a8"
             ],
             [
              0.3333333333333333,
              "#9c179e"
             ],
             [
              0.4444444444444444,
              "#bd3786"
             ],
             [
              0.5555555555555556,
              "#d8576b"
             ],
             [
              0.6666666666666666,
              "#ed7953"
             ],
             [
              0.7777777777777778,
              "#fb9f3a"
             ],
             [
              0.8888888888888888,
              "#fdca26"
             ],
             [
              1,
              "#f0f921"
             ]
            ],
            "type": "contour"
           }
          ],
          "contourcarpet": [
           {
            "colorbar": {
             "outlinewidth": 0,
             "ticks": ""
            },
            "type": "contourcarpet"
           }
          ],
          "heatmap": [
           {
            "colorbar": {
             "outlinewidth": 0,
             "ticks": ""
            },
            "colorscale": [
             [
              0,
              "#0d0887"
             ],
             [
              0.1111111111111111,
              "#46039f"
             ],
             [
              0.2222222222222222,
              "#7201a8"
             ],
             [
              0.3333333333333333,
              "#9c179e"
             ],
             [
              0.4444444444444444,
              "#bd3786"
             ],
             [
              0.5555555555555556,
              "#d8576b"
             ],
             [
              0.6666666666666666,
              "#ed7953"
             ],
             [
              0.7777777777777778,
              "#fb9f3a"
             ],
             [
              0.8888888888888888,
              "#fdca26"
             ],
             [
              1,
              "#f0f921"
             ]
            ],
            "type": "heatmap"
           }
          ],
          "heatmapgl": [
           {
            "colorbar": {
             "outlinewidth": 0,
             "ticks": ""
            },
            "colorscale": [
             [
              0,
              "#0d0887"
             ],
             [
              0.1111111111111111,
              "#46039f"
             ],
             [
              0.2222222222222222,
              "#7201a8"
             ],
             [
              0.3333333333333333,
              "#9c179e"
             ],
             [
              0.4444444444444444,
              "#bd3786"
             ],
             [
              0.5555555555555556,
              "#d8576b"
             ],
             [
              0.6666666666666666,
              "#ed7953"
             ],
             [
              0.7777777777777778,
              "#fb9f3a"
             ],
             [
              0.8888888888888888,
              "#fdca26"
             ],
             [
              1,
              "#f0f921"
             ]
            ],
            "type": "heatmapgl"
           }
          ],
          "histogram": [
           {
            "marker": {
             "pattern": {
              "fillmode": "overlay",
              "size": 10,
              "solidity": 0.2
             }
            },
            "type": "histogram"
           }
          ],
          "histogram2d": [
           {
            "colorbar": {
             "outlinewidth": 0,
             "ticks": ""
            },
            "colorscale": [
             [
              0,
              "#0d0887"
             ],
             [
              0.1111111111111111,
              "#46039f"
             ],
             [
              0.2222222222222222,
              "#7201a8"
             ],
             [
              0.3333333333333333,
              "#9c179e"
             ],
             [
              0.4444444444444444,
              "#bd3786"
             ],
             [
              0.5555555555555556,
              "#d8576b"
             ],
             [
              0.6666666666666666,
              "#ed7953"
             ],
             [
              0.7777777777777778,
              "#fb9f3a"
             ],
             [
              0.8888888888888888,
              "#fdca26"
             ],
             [
              1,
              "#f0f921"
             ]
            ],
            "type": "histogram2d"
           }
          ],
          "histogram2dcontour": [
           {
            "colorbar": {
             "outlinewidth": 0,
             "ticks": ""
            },
            "colorscale": [
             [
              0,
              "#0d0887"
             ],
             [
              0.1111111111111111,
              "#46039f"
             ],
             [
              0.2222222222222222,
              "#7201a8"
             ],
             [
              0.3333333333333333,
              "#9c179e"
             ],
             [
              0.4444444444444444,
              "#bd3786"
             ],
             [
              0.5555555555555556,
              "#d8576b"
             ],
             [
              0.6666666666666666,
              "#ed7953"
             ],
             [
              0.7777777777777778,
              "#fb9f3a"
             ],
             [
              0.8888888888888888,
              "#fdca26"
             ],
             [
              1,
              "#f0f921"
             ]
            ],
            "type": "histogram2dcontour"
           }
          ],
          "mesh3d": [
           {
            "colorbar": {
             "outlinewidth": 0,
             "ticks": ""
            },
            "type": "mesh3d"
           }
          ],
          "parcoords": [
           {
            "line": {
             "colorbar": {
              "outlinewidth": 0,
              "ticks": ""
             }
            },
            "type": "parcoords"
           }
          ],
          "pie": [
           {
            "automargin": true,
            "type": "pie"
           }
          ],
          "scatter": [
           {
            "fillpattern": {
             "fillmode": "overlay",
             "size": 10,
             "solidity": 0.2
            },
            "type": "scatter"
           }
          ],
          "scatter3d": [
           {
            "line": {
             "colorbar": {
              "outlinewidth": 0,
              "ticks": ""
             }
            },
            "marker": {
             "colorbar": {
              "outlinewidth": 0,
              "ticks": ""
             }
            },
            "type": "scatter3d"
           }
          ],
          "scattercarpet": [
           {
            "marker": {
             "colorbar": {
              "outlinewidth": 0,
              "ticks": ""
             }
            },
            "type": "scattercarpet"
           }
          ],
          "scattergeo": [
           {
            "marker": {
             "colorbar": {
              "outlinewidth": 0,
              "ticks": ""
             }
            },
            "type": "scattergeo"
           }
          ],
          "scattergl": [
           {
            "marker": {
             "colorbar": {
              "outlinewidth": 0,
              "ticks": ""
             }
            },
            "type": "scattergl"
           }
          ],
          "scattermapbox": [
           {
            "marker": {
             "colorbar": {
              "outlinewidth": 0,
              "ticks": ""
             }
            },
            "type": "scattermapbox"
           }
          ],
          "scatterpolar": [
           {
            "marker": {
             "colorbar": {
              "outlinewidth": 0,
              "ticks": ""
             }
            },
            "type": "scatterpolar"
           }
          ],
          "scatterpolargl": [
           {
            "marker": {
             "colorbar": {
              "outlinewidth": 0,
              "ticks": ""
             }
            },
            "type": "scatterpolargl"
           }
          ],
          "scatterternary": [
           {
            "marker": {
             "colorbar": {
              "outlinewidth": 0,
              "ticks": ""
             }
            },
            "type": "scatterternary"
           }
          ],
          "surface": [
           {
            "colorbar": {
             "outlinewidth": 0,
             "ticks": ""
            },
            "colorscale": [
             [
              0,
              "#0d0887"
             ],
             [
              0.1111111111111111,
              "#46039f"
             ],
             [
              0.2222222222222222,
              "#7201a8"
             ],
             [
              0.3333333333333333,
              "#9c179e"
             ],
             [
              0.4444444444444444,
              "#bd3786"
             ],
             [
              0.5555555555555556,
              "#d8576b"
             ],
             [
              0.6666666666666666,
              "#ed7953"
             ],
             [
              0.7777777777777778,
              "#fb9f3a"
             ],
             [
              0.8888888888888888,
              "#fdca26"
             ],
             [
              1,
              "#f0f921"
             ]
            ],
            "type": "surface"
           }
          ],
          "table": [
           {
            "cells": {
             "fill": {
              "color": "#EBF0F8"
             },
             "line": {
              "color": "white"
             }
            },
            "header": {
             "fill": {
              "color": "#C8D4E3"
             },
             "line": {
              "color": "white"
             }
            },
            "type": "table"
           }
          ]
         },
         "layout": {
          "annotationdefaults": {
           "arrowcolor": "#2a3f5f",
           "arrowhead": 0,
           "arrowwidth": 1
          },
          "autotypenumbers": "strict",
          "coloraxis": {
           "colorbar": {
            "outlinewidth": 0,
            "ticks": ""
           }
          },
          "colorscale": {
           "diverging": [
            [
             0,
             "#8e0152"
            ],
            [
             0.1,
             "#c51b7d"
            ],
            [
             0.2,
             "#de77ae"
            ],
            [
             0.3,
             "#f1b6da"
            ],
            [
             0.4,
             "#fde0ef"
            ],
            [
             0.5,
             "#f7f7f7"
            ],
            [
             0.6,
             "#e6f5d0"
            ],
            [
             0.7,
             "#b8e186"
            ],
            [
             0.8,
             "#7fbc41"
            ],
            [
             0.9,
             "#4d9221"
            ],
            [
             1,
             "#276419"
            ]
           ],
           "sequential": [
            [
             0,
             "#0d0887"
            ],
            [
             0.1111111111111111,
             "#46039f"
            ],
            [
             0.2222222222222222,
             "#7201a8"
            ],
            [
             0.3333333333333333,
             "#9c179e"
            ],
            [
             0.4444444444444444,
             "#bd3786"
            ],
            [
             0.5555555555555556,
             "#d8576b"
            ],
            [
             0.6666666666666666,
             "#ed7953"
            ],
            [
             0.7777777777777778,
             "#fb9f3a"
            ],
            [
             0.8888888888888888,
             "#fdca26"
            ],
            [
             1,
             "#f0f921"
            ]
           ],
           "sequentialminus": [
            [
             0,
             "#0d0887"
            ],
            [
             0.1111111111111111,
             "#46039f"
            ],
            [
             0.2222222222222222,
             "#7201a8"
            ],
            [
             0.3333333333333333,
             "#9c179e"
            ],
            [
             0.4444444444444444,
             "#bd3786"
            ],
            [
             0.5555555555555556,
             "#d8576b"
            ],
            [
             0.6666666666666666,
             "#ed7953"
            ],
            [
             0.7777777777777778,
             "#fb9f3a"
            ],
            [
             0.8888888888888888,
             "#fdca26"
            ],
            [
             1,
             "#f0f921"
            ]
           ]
          },
          "colorway": [
           "#636efa",
           "#EF553B",
           "#00cc96",
           "#ab63fa",
           "#FFA15A",
           "#19d3f3",
           "#FF6692",
           "#B6E880",
           "#FF97FF",
           "#FECB52"
          ],
          "font": {
           "color": "#2a3f5f"
          },
          "geo": {
           "bgcolor": "white",
           "lakecolor": "white",
           "landcolor": "#E5ECF6",
           "showlakes": true,
           "showland": true,
           "subunitcolor": "white"
          },
          "hoverlabel": {
           "align": "left"
          },
          "hovermode": "closest",
          "mapbox": {
           "style": "light"
          },
          "paper_bgcolor": "white",
          "plot_bgcolor": "#E5ECF6",
          "polar": {
           "angularaxis": {
            "gridcolor": "white",
            "linecolor": "white",
            "ticks": ""
           },
           "bgcolor": "#E5ECF6",
           "radialaxis": {
            "gridcolor": "white",
            "linecolor": "white",
            "ticks": ""
           }
          },
          "scene": {
           "xaxis": {
            "backgroundcolor": "#E5ECF6",
            "gridcolor": "white",
            "gridwidth": 2,
            "linecolor": "white",
            "showbackground": true,
            "ticks": "",
            "zerolinecolor": "white"
           },
           "yaxis": {
            "backgroundcolor": "#E5ECF6",
            "gridcolor": "white",
            "gridwidth": 2,
            "linecolor": "white",
            "showbackground": true,
            "ticks": "",
            "zerolinecolor": "white"
           },
           "zaxis": {
            "backgroundcolor": "#E5ECF6",
            "gridcolor": "white",
            "gridwidth": 2,
            "linecolor": "white",
            "showbackground": true,
            "ticks": "",
            "zerolinecolor": "white"
           }
          },
          "shapedefaults": {
           "line": {
            "color": "#2a3f5f"
           }
          },
          "ternary": {
           "aaxis": {
            "gridcolor": "white",
            "linecolor": "white",
            "ticks": ""
           },
           "baxis": {
            "gridcolor": "white",
            "linecolor": "white",
            "ticks": ""
           },
           "bgcolor": "#E5ECF6",
           "caxis": {
            "gridcolor": "white",
            "linecolor": "white",
            "ticks": ""
           }
          },
          "title": {
           "x": 0.05
          },
          "xaxis": {
           "automargin": true,
           "gridcolor": "white",
           "linecolor": "white",
           "ticks": "",
           "title": {
            "standoff": 15
           },
           "zerolinecolor": "white",
           "zerolinewidth": 2
          },
          "yaxis": {
           "automargin": true,
           "gridcolor": "white",
           "linecolor": "white",
           "ticks": "",
           "title": {
            "standoff": 15
           },
           "zerolinecolor": "white",
           "zerolinewidth": 2
          }
         }
        },
        "title": {
         "text": "Arrival Delay Time by Month and Airline"
        },
        "xaxis": {
         "anchor": "y",
         "domain": [
          0,
          1
         ],
         "title": {
          "text": "Month"
         }
        },
        "yaxis": {
         "anchor": "x",
         "domain": [
          0,
          1
         ],
         "title": {
          "text": "Mean Arrival Delay Time (minutes)"
         }
        }
       }
      },
      "text/html": [
       "<div>                            <div id=\"160a0523-780d-4b17-ad03-0916f0f4ffbe\" class=\"plotly-graph-div\" style=\"height:525px; width:100%;\"></div>            <script type=\"text/javascript\">                require([\"plotly\"], function(Plotly) {                    window.PLOTLYENV=window.PLOTLYENV || {};                                    if (document.getElementById(\"160a0523-780d-4b17-ad03-0916f0f4ffbe\")) {                    Plotly.newPlot(                        \"160a0523-780d-4b17-ad03-0916f0f4ffbe\",                        [{\"hovertemplate\":\"mkt_ccode=AA<br>month=%{x}<br>mean_arr_delay=%{y}<extra></extra>\",\"legendgroup\":\"AA\",\"line\":{\"color\":\"rgb(102, 197, 204)\",\"dash\":\"solid\"},\"marker\":{\"symbol\":\"circle\"},\"mode\":\"lines\",\"name\":\"AA\",\"orientation\":\"v\",\"showlegend\":true,\"x\":[\"January\",\"February\",\"March\",\"April\",\"May\",\"June\",\"July\",\"August\",\"September\",\"October\"],\"xaxis\":\"x\",\"y\":[2.2786990564143745,7.086162923348568,4.723707004853278,6.364336492890995,8.822027197975965,14.864651110980061,13.538090633578424,11.066884005315632,4.184592317276625,4.798891273736449],\"yaxis\":\"y\",\"type\":\"scatter\"},{\"hovertemplate\":\"mkt_ccode=AS<br>month=%{x}<br>mean_arr_delay=%{y}<extra></extra>\",\"legendgroup\":\"AS\",\"line\":{\"color\":\"rgb(246, 207, 113)\",\"dash\":\"solid\"},\"marker\":{\"symbol\":\"circle\"},\"mode\":\"lines\",\"name\":\"AS\",\"orientation\":\"v\",\"showlegend\":true,\"x\":[\"January\",\"February\",\"March\",\"April\",\"May\",\"June\",\"July\",\"August\",\"September\",\"October\"],\"xaxis\":\"x\",\"y\":[6.575545145091167,0.6017646841658361,1.7995412259462216,5.550683161004431,3.7093175074183975,5.900685033065449,2.784124460595049,2.9149758177603524,2.2071549647604605,-0.9551076054143539],\"yaxis\":\"y\",\"type\":\"scatter\"},{\"hovertemplate\":\"mkt_ccode=B6<br>month=%{x}<br>mean_arr_delay=%{y}<extra></extra>\",\"legendgroup\":\"B6\",\"line\":{\"color\":\"rgb(248, 156, 116)\",\"dash\":\"solid\"},\"marker\":{\"symbol\":\"circle\"},\"mode\":\"lines\",\"name\":\"B6\",\"orientation\":\"v\",\"showlegend\":true,\"x\":[\"January\",\"February\",\"March\",\"April\",\"May\",\"June\",\"July\",\"August\",\"September\",\"October\"],\"xaxis\":\"x\",\"y\":[17.30836302268892,20.09159823120657,18.16279576452133,28.06085083467959,13.005889331412591,23.873610655161094,17.370315301526215,18.10692640692641,12.928390226534336,9.579411638761615],\"yaxis\":\"y\",\"type\":\"scatter\"},{\"hovertemplate\":\"mkt_ccode=DL<br>month=%{x}<br>mean_arr_delay=%{y}<extra></extra>\",\"legendgroup\":\"DL\",\"line\":{\"color\":\"rgb(220, 176, 242)\",\"dash\":\"solid\"},\"marker\":{\"symbol\":\"circle\"},\"mode\":\"lines\",\"name\":\"DL\",\"orientation\":\"v\",\"showlegend\":true,\"x\":[\"January\",\"February\",\"March\",\"April\",\"May\",\"June\",\"July\",\"August\",\"September\",\"October\"],\"xaxis\":\"x\",\"y\":[2.8314849097301247,1.78898753305629,5.419073279339163,5.451214298633606,5.853504943931945,6.732924839851988,6.306819517469969,3.859145390685294,-2.376121066906271,-1.4341460171843579],\"yaxis\":\"y\",\"type\":\"scatter\"},{\"hovertemplate\":\"mkt_ccode=F9<br>month=%{x}<br>mean_arr_delay=%{y}<extra></extra>\",\"legendgroup\":\"F9\",\"line\":{\"color\":\"rgb(135, 197, 95)\",\"dash\":\"solid\"},\"marker\":{\"symbol\":\"circle\"},\"mode\":\"lines\",\"name\":\"F9\",\"orientation\":\"v\",\"showlegend\":true,\"x\":[\"January\",\"February\",\"March\",\"April\",\"May\",\"June\",\"July\",\"August\",\"September\",\"October\"],\"xaxis\":\"x\",\"y\":[10.752886452363153,13.322432845207079,24.060847996279357,24.620011472588708,19.22621864647421,14.245856798069187,12.31324478178368,15.872460073479793,12.662226169330966,13.945117752375706],\"yaxis\":\"y\",\"type\":\"scatter\"},{\"hovertemplate\":\"mkt_ccode=G4<br>month=%{x}<br>mean_arr_delay=%{y}<extra></extra>\",\"legendgroup\":\"G4\",\"line\":{\"color\":\"rgb(158, 185, 243)\",\"dash\":\"solid\"},\"marker\":{\"symbol\":\"circle\"},\"mode\":\"lines\",\"name\":\"G4\",\"orientation\":\"v\",\"showlegend\":true,\"x\":[\"January\",\"February\",\"March\",\"April\",\"May\",\"June\",\"July\",\"August\",\"September\",\"October\"],\"xaxis\":\"x\",\"y\":[11.496786779894423,12.94880073800738,22.14796872344042,22.547239612976664,17.579710144927535,23.27923544743701,25.999758706667738,19.238310708898943,10.127547384922332,11.42316258351893],\"yaxis\":\"y\",\"type\":\"scatter\"},{\"hovertemplate\":\"mkt_ccode=HA<br>month=%{x}<br>mean_arr_delay=%{y}<extra></extra>\",\"legendgroup\":\"HA\",\"line\":{\"color\":\"rgb(254, 136, 177)\",\"dash\":\"solid\"},\"marker\":{\"symbol\":\"circle\"},\"mode\":\"lines\",\"name\":\"HA\",\"orientation\":\"v\",\"showlegend\":true,\"x\":[\"January\",\"February\",\"March\",\"April\",\"May\",\"June\",\"July\",\"August\",\"September\",\"October\"],\"xaxis\":\"x\",\"y\":[7.02202868852459,1.2646468699839486,2.8272591113330003,4.896328293736501,2.3949459631277814,6.782691695832008,7.012437074326325,8.779091188210009,4.0966677664137245,18.867689357622243],\"yaxis\":\"y\",\"type\":\"scatter\"},{\"hovertemplate\":\"mkt_ccode=NK<br>month=%{x}<br>mean_arr_delay=%{y}<extra></extra>\",\"legendgroup\":\"NK\",\"line\":{\"color\":\"rgb(201, 219, 116)\",\"dash\":\"solid\"},\"marker\":{\"symbol\":\"circle\"},\"mode\":\"lines\",\"name\":\"NK\",\"orientation\":\"v\",\"showlegend\":true,\"x\":[\"January\",\"February\",\"March\",\"April\",\"May\",\"June\",\"July\",\"August\",\"September\",\"October\"],\"xaxis\":\"x\",\"y\":[8.450666514754472,11.669914519696336,15.846277812435018,19.856484211654962,13.698779401749698,9.461977903530046,6.151660478547854,3.5497165619733413,4.263280822938926,3.135056527653985],\"yaxis\":\"y\",\"type\":\"scatter\"},{\"hovertemplate\":\"mkt_ccode=UA<br>month=%{x}<br>mean_arr_delay=%{y}<extra></extra>\",\"legendgroup\":\"UA\",\"line\":{\"color\":\"rgb(139, 224, 164)\",\"dash\":\"solid\"},\"marker\":{\"symbol\":\"circle\"},\"mode\":\"lines\",\"name\":\"UA\",\"orientation\":\"v\",\"showlegend\":true,\"x\":[\"January\",\"February\",\"March\",\"April\",\"May\",\"June\",\"July\",\"August\",\"September\",\"October\"],\"xaxis\":\"x\",\"y\":[7.144530491828734,5.5363093693226055,6.723155268400767,4.942176578844485,8.03658383082788,9.021376539019064,6.94307048329312,7.103821503112244,-0.5901464248261934,-0.9125851987038623],\"yaxis\":\"y\",\"type\":\"scatter\"},{\"hovertemplate\":\"mkt_ccode=WN<br>month=%{x}<br>mean_arr_delay=%{y}<extra></extra>\",\"legendgroup\":\"WN\",\"line\":{\"color\":\"rgb(180, 151, 231)\",\"dash\":\"solid\"},\"marker\":{\"symbol\":\"circle\"},\"mode\":\"lines\",\"name\":\"WN\",\"orientation\":\"v\",\"showlegend\":true,\"x\":[\"January\",\"February\",\"March\",\"April\",\"May\",\"June\",\"July\",\"August\",\"September\",\"October\"],\"xaxis\":\"x\",\"y\":[1.1487335276489183,0.0970153355686253,9.063970304666409,10.773605619298365,5.453460708896849,10.016639339831714,12.576898272292183,13.257668918066432,5.12255137443288,2.7459921043597664],\"yaxis\":\"y\",\"type\":\"scatter\"}],                        {\"template\":{\"data\":{\"histogram2dcontour\":[{\"type\":\"histogram2dcontour\",\"colorbar\":{\"outlinewidth\":0,\"ticks\":\"\"},\"colorscale\":[[0.0,\"#0d0887\"],[0.1111111111111111,\"#46039f\"],[0.2222222222222222,\"#7201a8\"],[0.3333333333333333,\"#9c179e\"],[0.4444444444444444,\"#bd3786\"],[0.5555555555555556,\"#d8576b\"],[0.6666666666666666,\"#ed7953\"],[0.7777777777777778,\"#fb9f3a\"],[0.8888888888888888,\"#fdca26\"],[1.0,\"#f0f921\"]]}],\"choropleth\":[{\"type\":\"choropleth\",\"colorbar\":{\"outlinewidth\":0,\"ticks\":\"\"}}],\"histogram2d\":[{\"type\":\"histogram2d\",\"colorbar\":{\"outlinewidth\":0,\"ticks\":\"\"},\"colorscale\":[[0.0,\"#0d0887\"],[0.1111111111111111,\"#46039f\"],[0.2222222222222222,\"#7201a8\"],[0.3333333333333333,\"#9c179e\"],[0.4444444444444444,\"#bd3786\"],[0.5555555555555556,\"#d8576b\"],[0.6666666666666666,\"#ed7953\"],[0.7777777777777778,\"#fb9f3a\"],[0.8888888888888888,\"#fdca26\"],[1.0,\"#f0f921\"]]}],\"heatmap\":[{\"type\":\"heatmap\",\"colorbar\":{\"outlinewidth\":0,\"ticks\":\"\"},\"colorscale\":[[0.0,\"#0d0887\"],[0.1111111111111111,\"#46039f\"],[0.2222222222222222,\"#7201a8\"],[0.3333333333333333,\"#9c179e\"],[0.4444444444444444,\"#bd3786\"],[0.5555555555555556,\"#d8576b\"],[0.6666666666666666,\"#ed7953\"],[0.7777777777777778,\"#fb9f3a\"],[0.8888888888888888,\"#fdca26\"],[1.0,\"#f0f921\"]]}],\"heatmapgl\":[{\"type\":\"heatmapgl\",\"colorbar\":{\"outlinewidth\":0,\"ticks\":\"\"},\"colorscale\":[[0.0,\"#0d0887\"],[0.1111111111111111,\"#46039f\"],[0.2222222222222222,\"#7201a8\"],[0.3333333333333333,\"#9c179e\"],[0.4444444444444444,\"#bd3786\"],[0.5555555555555556,\"#d8576b\"],[0.6666666666666666,\"#ed7953\"],[0.7777777777777778,\"#fb9f3a\"],[0.8888888888888888,\"#fdca26\"],[1.0,\"#f0f921\"]]}],\"contourcarpet\":[{\"type\":\"contourcarpet\",\"colorbar\":{\"outlinewidth\":0,\"ticks\":\"\"}}],\"contour\":[{\"type\":\"contour\",\"colorbar\":{\"outlinewidth\":0,\"ticks\":\"\"},\"colorscale\":[[0.0,\"#0d0887\"],[0.1111111111111111,\"#46039f\"],[0.2222222222222222,\"#7201a8\"],[0.3333333333333333,\"#9c179e\"],[0.4444444444444444,\"#bd3786\"],[0.5555555555555556,\"#d8576b\"],[0.6666666666666666,\"#ed7953\"],[0.7777777777777778,\"#fb9f3a\"],[0.8888888888888888,\"#fdca26\"],[1.0,\"#f0f921\"]]}],\"surface\":[{\"type\":\"surface\",\"colorbar\":{\"outlinewidth\":0,\"ticks\":\"\"},\"colorscale\":[[0.0,\"#0d0887\"],[0.1111111111111111,\"#46039f\"],[0.2222222222222222,\"#7201a8\"],[0.3333333333333333,\"#9c179e\"],[0.4444444444444444,\"#bd3786\"],[0.5555555555555556,\"#d8576b\"],[0.6666666666666666,\"#ed7953\"],[0.7777777777777778,\"#fb9f3a\"],[0.8888888888888888,\"#fdca26\"],[1.0,\"#f0f921\"]]}],\"mesh3d\":[{\"type\":\"mesh3d\",\"colorbar\":{\"outlinewidth\":0,\"ticks\":\"\"}}],\"scatter\":[{\"fillpattern\":{\"fillmode\":\"overlay\",\"size\":10,\"solidity\":0.2},\"type\":\"scatter\"}],\"parcoords\":[{\"type\":\"parcoords\",\"line\":{\"colorbar\":{\"outlinewidth\":0,\"ticks\":\"\"}}}],\"scatterpolargl\":[{\"type\":\"scatterpolargl\",\"marker\":{\"colorbar\":{\"outlinewidth\":0,\"ticks\":\"\"}}}],\"bar\":[{\"error_x\":{\"color\":\"#2a3f5f\"},\"error_y\":{\"color\":\"#2a3f5f\"},\"marker\":{\"line\":{\"color\":\"#E5ECF6\",\"width\":0.5},\"pattern\":{\"fillmode\":\"overlay\",\"size\":10,\"solidity\":0.2}},\"type\":\"bar\"}],\"scattergeo\":[{\"type\":\"scattergeo\",\"marker\":{\"colorbar\":{\"outlinewidth\":0,\"ticks\":\"\"}}}],\"scatterpolar\":[{\"type\":\"scatterpolar\",\"marker\":{\"colorbar\":{\"outlinewidth\":0,\"ticks\":\"\"}}}],\"histogram\":[{\"marker\":{\"pattern\":{\"fillmode\":\"overlay\",\"size\":10,\"solidity\":0.2}},\"type\":\"histogram\"}],\"scattergl\":[{\"type\":\"scattergl\",\"marker\":{\"colorbar\":{\"outlinewidth\":0,\"ticks\":\"\"}}}],\"scatter3d\":[{\"type\":\"scatter3d\",\"line\":{\"colorbar\":{\"outlinewidth\":0,\"ticks\":\"\"}},\"marker\":{\"colorbar\":{\"outlinewidth\":0,\"ticks\":\"\"}}}],\"scattermapbox\":[{\"type\":\"scattermapbox\",\"marker\":{\"colorbar\":{\"outlinewidth\":0,\"ticks\":\"\"}}}],\"scatterternary\":[{\"type\":\"scatterternary\",\"marker\":{\"colorbar\":{\"outlinewidth\":0,\"ticks\":\"\"}}}],\"scattercarpet\":[{\"type\":\"scattercarpet\",\"marker\":{\"colorbar\":{\"outlinewidth\":0,\"ticks\":\"\"}}}],\"carpet\":[{\"aaxis\":{\"endlinecolor\":\"#2a3f5f\",\"gridcolor\":\"white\",\"linecolor\":\"white\",\"minorgridcolor\":\"white\",\"startlinecolor\":\"#2a3f5f\"},\"baxis\":{\"endlinecolor\":\"#2a3f5f\",\"gridcolor\":\"white\",\"linecolor\":\"white\",\"minorgridcolor\":\"white\",\"startlinecolor\":\"#2a3f5f\"},\"type\":\"carpet\"}],\"table\":[{\"cells\":{\"fill\":{\"color\":\"#EBF0F8\"},\"line\":{\"color\":\"white\"}},\"header\":{\"fill\":{\"color\":\"#C8D4E3\"},\"line\":{\"color\":\"white\"}},\"type\":\"table\"}],\"barpolar\":[{\"marker\":{\"line\":{\"color\":\"#E5ECF6\",\"width\":0.5},\"pattern\":{\"fillmode\":\"overlay\",\"size\":10,\"solidity\":0.2}},\"type\":\"barpolar\"}],\"pie\":[{\"automargin\":true,\"type\":\"pie\"}]},\"layout\":{\"autotypenumbers\":\"strict\",\"colorway\":[\"#636efa\",\"#EF553B\",\"#00cc96\",\"#ab63fa\",\"#FFA15A\",\"#19d3f3\",\"#FF6692\",\"#B6E880\",\"#FF97FF\",\"#FECB52\"],\"font\":{\"color\":\"#2a3f5f\"},\"hovermode\":\"closest\",\"hoverlabel\":{\"align\":\"left\"},\"paper_bgcolor\":\"white\",\"plot_bgcolor\":\"#E5ECF6\",\"polar\":{\"bgcolor\":\"#E5ECF6\",\"angularaxis\":{\"gridcolor\":\"white\",\"linecolor\":\"white\",\"ticks\":\"\"},\"radialaxis\":{\"gridcolor\":\"white\",\"linecolor\":\"white\",\"ticks\":\"\"}},\"ternary\":{\"bgcolor\":\"#E5ECF6\",\"aaxis\":{\"gridcolor\":\"white\",\"linecolor\":\"white\",\"ticks\":\"\"},\"baxis\":{\"gridcolor\":\"white\",\"linecolor\":\"white\",\"ticks\":\"\"},\"caxis\":{\"gridcolor\":\"white\",\"linecolor\":\"white\",\"ticks\":\"\"}},\"coloraxis\":{\"colorbar\":{\"outlinewidth\":0,\"ticks\":\"\"}},\"colorscale\":{\"sequential\":[[0.0,\"#0d0887\"],[0.1111111111111111,\"#46039f\"],[0.2222222222222222,\"#7201a8\"],[0.3333333333333333,\"#9c179e\"],[0.4444444444444444,\"#bd3786\"],[0.5555555555555556,\"#d8576b\"],[0.6666666666666666,\"#ed7953\"],[0.7777777777777778,\"#fb9f3a\"],[0.8888888888888888,\"#fdca26\"],[1.0,\"#f0f921\"]],\"sequentialminus\":[[0.0,\"#0d0887\"],[0.1111111111111111,\"#46039f\"],[0.2222222222222222,\"#7201a8\"],[0.3333333333333333,\"#9c179e\"],[0.4444444444444444,\"#bd3786\"],[0.5555555555555556,\"#d8576b\"],[0.6666666666666666,\"#ed7953\"],[0.7777777777777778,\"#fb9f3a\"],[0.8888888888888888,\"#fdca26\"],[1.0,\"#f0f921\"]],\"diverging\":[[0,\"#8e0152\"],[0.1,\"#c51b7d\"],[0.2,\"#de77ae\"],[0.3,\"#f1b6da\"],[0.4,\"#fde0ef\"],[0.5,\"#f7f7f7\"],[0.6,\"#e6f5d0\"],[0.7,\"#b8e186\"],[0.8,\"#7fbc41\"],[0.9,\"#4d9221\"],[1,\"#276419\"]]},\"xaxis\":{\"gridcolor\":\"white\",\"linecolor\":\"white\",\"ticks\":\"\",\"title\":{\"standoff\":15},\"zerolinecolor\":\"white\",\"automargin\":true,\"zerolinewidth\":2},\"yaxis\":{\"gridcolor\":\"white\",\"linecolor\":\"white\",\"ticks\":\"\",\"title\":{\"standoff\":15},\"zerolinecolor\":\"white\",\"automargin\":true,\"zerolinewidth\":2},\"scene\":{\"xaxis\":{\"backgroundcolor\":\"#E5ECF6\",\"gridcolor\":\"white\",\"linecolor\":\"white\",\"showbackground\":true,\"ticks\":\"\",\"zerolinecolor\":\"white\",\"gridwidth\":2},\"yaxis\":{\"backgroundcolor\":\"#E5ECF6\",\"gridcolor\":\"white\",\"linecolor\":\"white\",\"showbackground\":true,\"ticks\":\"\",\"zerolinecolor\":\"white\",\"gridwidth\":2},\"zaxis\":{\"backgroundcolor\":\"#E5ECF6\",\"gridcolor\":\"white\",\"linecolor\":\"white\",\"showbackground\":true,\"ticks\":\"\",\"zerolinecolor\":\"white\",\"gridwidth\":2}},\"shapedefaults\":{\"line\":{\"color\":\"#2a3f5f\"}},\"annotationdefaults\":{\"arrowcolor\":\"#2a3f5f\",\"arrowhead\":0,\"arrowwidth\":1},\"geo\":{\"bgcolor\":\"white\",\"landcolor\":\"#E5ECF6\",\"subunitcolor\":\"white\",\"showland\":true,\"showlakes\":true,\"lakecolor\":\"white\"},\"title\":{\"x\":0.05},\"mapbox\":{\"style\":\"light\"}}},\"xaxis\":{\"anchor\":\"y\",\"domain\":[0.0,1.0],\"title\":{\"text\":\"Month\"}},\"yaxis\":{\"anchor\":\"x\",\"domain\":[0.0,1.0],\"title\":{\"text\":\"Mean Arrival Delay Time (minutes)\"}},\"legend\":{\"title\":{\"text\":\"mkt_ccode\"},\"tracegroupgap\":0},\"title\":{\"text\":\"Arrival Delay Time by Month and Airline\"}},                        {\"responsive\": true}                    ).then(function(){\n",
       "                            \n",
       "var gd = document.getElementById('160a0523-780d-4b17-ad03-0916f0f4ffbe');\n",
       "var x = new MutationObserver(function (mutations, observer) {{\n",
       "        var display = window.getComputedStyle(gd).display;\n",
       "        if (!display || display === 'none') {{\n",
       "            console.log([gd, 'removed!']);\n",
       "            Plotly.purge(gd);\n",
       "            observer.disconnect();\n",
       "        }}\n",
       "}});\n",
       "\n",
       "// Listen for the removal of the full notebook cells\n",
       "var notebookContainer = gd.closest('#notebook-container');\n",
       "if (notebookContainer) {{\n",
       "    x.observe(notebookContainer, {childList: true});\n",
       "}}\n",
       "\n",
       "// Listen for the clearing of the current output cell\n",
       "var outputEl = gd.closest('.output');\n",
       "if (outputEl) {{\n",
       "    x.observe(outputEl, {childList: true});\n",
       "}}\n",
       "\n",
       "                        })                };                });            </script>        </div>"
      ]
     },
     "metadata": {},
     "output_type": "display_data"
    }
   ],
   "source": [
    "import pandas as pd\n",
    "import plotly.express as px\n",
    "\n",
    "# Use the provided dataset as a DataFrame\n",
    "df = airline_final\n",
    "\n",
    "# Convert the 'date' column to a datetime object\n",
    "df['date'] = pd.to_datetime(df['date'])\n",
    "\n",
    "# Group the dataset by month and mkt_ccode, and calculate the mean of arr_delay_time_actual\n",
    "monthly_mean_delays = df.groupby([df['date'].dt.month_name(), 'mkt_ccode'])['arr_delay_time_actual'].mean().reset_index()\n",
    "\n",
    "# Rename the columns for clarity\n",
    "monthly_mean_delays.columns = ['month', 'mkt_ccode', 'mean_arr_delay']\n",
    "\n",
    "# Create a custom mapping for the month names\n",
    "month_order = {'January': 1, 'February': 2, 'March': 3, 'April': 4, 'May': 5, 'June': 6,\n",
    "               'July': 7, 'August': 8, 'September': 9, 'October': 10, 'November': 11, 'December': 12}\n",
    "\n",
    "# Sort the DataFrame according to the custom month mapping\n",
    "monthly_mean_delays['month_order'] = monthly_mean_delays['month'].map(month_order)\n",
    "monthly_mean_delays = monthly_mean_delays.sort_values(['month_order', 'mkt_ccode']).drop('month_order', axis=1)\n",
    "\n",
    "# Define a custom color sequence\n",
    "color_sequence = px.colors.qualitative.Pastel\n",
    "\n",
    "# Create a line chart using Plotly Express with the custom color sequence\n",
    "fig = px.line(monthly_mean_delays, x='month', y='mean_arr_delay', color='mkt_ccode', title='Arrival Delay Time by Month and Airline', color_discrete_sequence=color_sequence)\n",
    "fig.update_layout(xaxis_title='Month', yaxis_title='Mean Arrival Delay Time (minutes)')\n",
    "fig.show()\n"
   ]
  },
  {
   "cell_type": "markdown",
   "id": "2e05191f",
   "metadata": {},
   "source": [
    "# Machine Learning Model"
   ]
  },
  {
   "cell_type": "code",
   "execution_count": null,
   "id": "a9212aae",
   "metadata": {},
   "outputs": [],
   "source": [
    "import pandas as pd\n",
    "import numpy as np\n",
    "from sklearn.preprocessing import LabelEncoder, StandardScaler\n",
    "from sklearn.model_selection import train_test_split\n",
    "import tensorflow as tf\n",
    "from tensorflow.keras.models import Sequential\n",
    "from tensorflow.keras.layers import Dense\n",
    "\n",
    "# Load the dataset\n",
    "data = airline_final\n",
    "\n",
    "df = pd.DataFrame(data)\n",
    "\n",
    "# Preprocess the data\n",
    "le = LabelEncoder()\n",
    "df['mkt_ccode'] = le.fit_transform(df['mkt_ccode'])\n",
    "df['dep_airport'] = le.fit_transform(df['dep_airport'])\n",
    "df['month__name'] = le.fit_transform(df['month__name'])\n",
    "df['day_week_name'] = le.fit_transform(df['day_week_name'])\n",
    "\n",
    "# Split the data into training and testing sets\n",
    "X = df.drop('delay', axis=1)\n",
    "y = df['delay']\n",
    "X_train, X_test, y_train, y_test = train_test_split(X, y, test_size=0.2, random_state=42)\n",
    "\n",
    "# Scale the data\n",
    "scaler = StandardScaler()\n",
    "X_train = scaler.fit_transform(X_train)\n",
    "X_test = scaler.transform(X_test)\n",
    "\n",
    "# Create and train the neural network model\n",
    "model = Sequential()\n",
    "model.add(Dense(64, activation='relu', input_shape=(X_train.shape[1],)))\n",
    "model.add(Dense(32, activation='relu'))\n",
    "model.add(Dense(1, activation='sigmoid'))\n",
    "\n",
    "model.compile(optimizer='adam', loss='binary_crossentropy', metrics=['accuracy'])\n",
    "model.fit(X_train, y_train, epochs=50, batch_size=32, verbose=1)\n",
    "\n",
    "# Evaluate the model\n",
    "test_loss, test_acc = model.evaluate(X_test, y_test)\n",
    "print(\"Test accuracy: \", test_acc)\n"
   ]
  },
  {
   "cell_type": "code",
   "execution_count": null,
   "id": "5b14883d",
   "metadata": {},
   "outputs": [],
   "source": []
  },
  {
   "cell_type": "code",
   "execution_count": null,
   "id": "f410a97e",
   "metadata": {},
   "outputs": [],
   "source": []
  }
 ],
 "metadata": {
  "kernelspec": {
   "display_name": "Python 3 (ipykernel)",
   "language": "python",
   "name": "python3"
  },
  "language_info": {
   "codemirror_mode": {
    "name": "ipython",
    "version": 3
   },
   "file_extension": ".py",
   "mimetype": "text/x-python",
   "name": "python",
   "nbconvert_exporter": "python",
   "pygments_lexer": "ipython3",
   "version": "3.9.13"
  }
 },
 "nbformat": 4,
 "nbformat_minor": 5
}
