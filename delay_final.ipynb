{
 "cells": [
  {
   "cell_type": "markdown",
   "id": "02a66103",
   "metadata": {},
   "source": [
    "# Libraries and Fly Data"
   ]
  },
  {
   "cell_type": "code",
   "execution_count": 1,
   "id": "c4728111",
   "metadata": {},
   "outputs": [],
   "source": [
    "# import required librairies and dependencies\n",
    "import pandas as pd\n",
    "from os import listdir\n",
    "from os import getcwd\n",
    "import datetime as dt\n",
    "import plotly.express as px\n",
    "import plotly.graph_objs as go\n",
    "from os.path import isfile, join\n",
    "import numpy as np\n",
    "import matplotlib.pyplot as plt\n",
    "from PIL import Image\n",
    "import seaborn as sns\n",
    "import glob\n",
    "pd.set_option('display.max_columns',100)\n",
    "%matplotlib inline"
   ]
  },
  {
   "cell_type": "code",
   "execution_count": 9,
   "id": "d69a079d",
   "metadata": {},
   "outputs": [],
   "source": [
    "data = pd.read_csv('airline_final')"
   ]
  },
  {
   "cell_type": "code",
   "execution_count": 10,
   "id": "7dc27cb7",
   "metadata": {},
   "outputs": [],
   "source": [
    "df = pd.DataFrame(data)"
   ]
  },
  {
   "cell_type": "code",
   "execution_count": 11,
   "id": "60a5617e",
   "metadata": {},
   "outputs": [
    {
     "data": {
      "text/html": [
       "<div>\n",
       "<style scoped>\n",
       "    .dataframe tbody tr th:only-of-type {\n",
       "        vertical-align: middle;\n",
       "    }\n",
       "\n",
       "    .dataframe tbody tr th {\n",
       "        vertical-align: top;\n",
       "    }\n",
       "\n",
       "    .dataframe thead th {\n",
       "        text-align: right;\n",
       "    }\n",
       "</style>\n",
       "<table border=\"1\" class=\"dataframe\">\n",
       "  <thead>\n",
       "    <tr style=\"text-align: right;\">\n",
       "      <th></th>\n",
       "      <th>mkt_ccode</th>\n",
       "      <th>dep_airport</th>\n",
       "      <th>cancel_code</th>\n",
       "      <th>arr_airport</th>\n",
       "      <th>day_week_name</th>\n",
       "      <th>month__name</th>\n",
       "      <th>route</th>\n",
       "      <th>mkt_fl_no</th>\n",
       "      <th>date</th>\n",
       "      <th>dep_delay_time_actual</th>\n",
       "      <th>arr_delay_time_actual</th>\n",
       "      <th>mins_late_delay_code_e_carrier</th>\n",
       "      <th>mins_late_delay_code_f_weather</th>\n",
       "      <th>mins_late_delay_code_g_nas</th>\n",
       "      <th>mins_late_delay_code_h_security</th>\n",
       "      <th>mins_late_delay_code_i_late_arr_flight</th>\n",
       "      <th>delay</th>\n",
       "    </tr>\n",
       "  </thead>\n",
       "  <tbody>\n",
       "    <tr>\n",
       "      <th>0</th>\n",
       "      <td>DL</td>\n",
       "      <td>BNA</td>\n",
       "      <td>0</td>\n",
       "      <td>MSP</td>\n",
       "      <td>Mon</td>\n",
       "      <td>Jan</td>\n",
       "      <td>BNA-MSP</td>\n",
       "      <td>3975</td>\n",
       "      <td>2022-01-24</td>\n",
       "      <td>36</td>\n",
       "      <td>50</td>\n",
       "      <td>36</td>\n",
       "      <td>0</td>\n",
       "      <td>14</td>\n",
       "      <td>0</td>\n",
       "      <td>0</td>\n",
       "      <td>1</td>\n",
       "    </tr>\n",
       "  </tbody>\n",
       "</table>\n",
       "</div>"
      ],
      "text/plain": [
       "  mkt_ccode dep_airport cancel_code arr_airport day_week_name month__name  \\\n",
       "0        DL         BNA           0         MSP           Mon         Jan   \n",
       "\n",
       "     route  mkt_fl_no        date  dep_delay_time_actual  \\\n",
       "0  BNA-MSP       3975  2022-01-24                     36   \n",
       "\n",
       "   arr_delay_time_actual  mins_late_delay_code_e_carrier  \\\n",
       "0                     50                              36   \n",
       "\n",
       "   mins_late_delay_code_f_weather  mins_late_delay_code_g_nas  \\\n",
       "0                               0                          14   \n",
       "\n",
       "   mins_late_delay_code_h_security  mins_late_delay_code_i_late_arr_flight  \\\n",
       "0                                0                                       0   \n",
       "\n",
       "   delay  \n",
       "0      1  "
      ]
     },
     "execution_count": 11,
     "metadata": {},
     "output_type": "execute_result"
    }
   ],
   "source": [
    "df1 = df.drop('Unnamed: 0', axis=1)\n",
    "df1.head(1)"
   ]
  },
  {
   "cell_type": "code",
   "execution_count": null,
   "id": "5833a813",
   "metadata": {},
   "outputs": [],
   "source": []
  }
 ],
 "metadata": {
  "kernelspec": {
   "display_name": "Python 3 (ipykernel)",
   "language": "python",
   "name": "python3"
  },
  "language_info": {
   "codemirror_mode": {
    "name": "ipython",
    "version": 3
   },
   "file_extension": ".py",
   "mimetype": "text/x-python",
   "name": "python",
   "nbconvert_exporter": "python",
   "pygments_lexer": "ipython3",
   "version": "3.9.13"
  }
 },
 "nbformat": 4,
 "nbformat_minor": 5
}
